{
 "cells": [
  {
   "cell_type": "markdown",
   "metadata": {},
   "source": [
    "##### Thông tin cá nhân\n",
    "\n",
    "**MSSV**: Điền mssv tại đây\n",
    "\n",
    "**Họ và tên**: Điền họ và tên tại đây"
   ]
  },
  {
   "cell_type": "markdown",
   "metadata": {},
   "source": [
    "##### Bài làm"
   ]
  },
  {
   "cell_type": "code",
   "execution_count": null,
   "metadata": {},
   "outputs": [],
   "source": [
    "# 0 - Import thu vien can thiet tai day\n",
    "\n",
    "# Enter your code here!\n"
   ]
  },
  {
   "cell_type": "code",
   "execution_count": null,
   "metadata": {},
   "outputs": [],
   "source": [
    "# 1 - Sử dụng SparkSession để khởi tạo một phiên Spark\n",
    "\n",
    "# Enter your code here!"
   ]
  },
  {
   "cell_type": "code",
   "execution_count": null,
   "metadata": {},
   "outputs": [],
   "source": [
    "# 2 - Đọc dữ liệu vào DataFrame từ một tệp CSV\n",
    "\n",
    "# Enter your code here!\n"
   ]
  },
  {
   "cell_type": "code",
   "execution_count": null,
   "metadata": {},
   "outputs": [],
   "source": [
    "# 3 - Chuẩn bị dữ liệu\n",
    "# (Ví dụ: dữ liệu được chuẩn bị và biến đổi bằng cách sử dụng\n",
    "# VectorAssembler để tạo một vector chứa các đặc trưng.)\n",
    "\n",
    "# Enter your code here!"
   ]
  },
  {
   "cell_type": "code",
   "execution_count": null,
   "metadata": {},
   "outputs": [],
   "source": [
    "# 4 - Chia tập dữ liệu thành tập huấn luyện và tập kiểm tra\n",
    "\n",
    "# Enter your code here!"
   ]
  },
  {
   "cell_type": "code",
   "execution_count": null,
   "metadata": {},
   "outputs": [],
   "source": [
    "# 5 - Lựa chọn một mô hình để huấn luyện\n",
    "# (Ví dụ: lựa chọn mô hình hồi quy tuyến tính được xây dựng trên tập huấn luyện.)\n",
    "\n",
    "# Enter your code here!"
   ]
  },
  {
   "cell_type": "code",
   "execution_count": null,
   "metadata": {},
   "outputs": [],
   "source": [
    "# 6 - Đánh giá mô hình trên tập kiểm tra và dự đoán kết quả\n",
    "\n",
    "# Enter your code here!"
   ]
  },
  {
   "cell_type": "markdown",
   "metadata": {},
   "source": [
    "##### Hoàn thành\n",
    "\n",
    "Sau khi đã hoàn thành 7 block code trên:\n",
    "\n",
    "Lưu file này với định dạng tên mới `<msvv>_lab2.ipynb` và submit kết quả lên trên hệ thống."
   ]
  }
 ],
 "metadata": {
  "language_info": {
   "name": "python"
  }
 },
 "nbformat": 4,
 "nbformat_minor": 2
}
