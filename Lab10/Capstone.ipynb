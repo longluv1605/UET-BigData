{
 "cells": [
  {
   "cell_type": "markdown",
   "metadata": {},
   "source": [
    "# **Loading Hive Tables and Data Preparation for Analysis**"
   ]
  },
  {
   "cell_type": "code",
   "execution_count": 1,
   "metadata": {},
   "outputs": [
    {
     "data": {
      "text/html": [
       "\n",
       "            <div>\n",
       "                <p><b>SparkSession - hive</b></p>\n",
       "                \n",
       "        <div>\n",
       "            <p><b>SparkContext</b></p>\n",
       "\n",
       "            <p><a href=\"http://ip-10-1-1-204.ap-south-1.compute.internal:43002\">Spark UI</a></p>\n",
       "\n",
       "            <dl>\n",
       "              <dt>Version</dt>\n",
       "                <dd><code>v2.4.0</code></dd>\n",
       "              <dt>Master</dt>\n",
       "                <dd><code>local[*]</code></dd>\n",
       "              <dt>AppName</dt>\n",
       "                <dd><code>Subham_Capstone</code></dd>\n",
       "            </dl>\n",
       "        </div>\n",
       "        \n",
       "            </div>\n",
       "        "
      ],
      "text/plain": [
       "<pyspark.sql.session.SparkSession at 0x7fa2f087c1d0>"
      ]
     },
     "execution_count": 1,
     "metadata": {},
     "output_type": "execute_result"
    }
   ],
   "source": [
    "from pyspark.sql import SparkSession\n",
    "\n",
    "spark = SparkSession.builder.appName(\"Subham_Capstone\")\\\n",
    "    .config(\"hive.metastore.uris\",\"thrift://ip-10-1-2-24.ap-south-1.compute.internal:9083\")\\\n",
    "    .config(\"spark.sql.catalogImplementation=hive\")\\\n",
    "    .config(\"spark.sql.warehouse.dir\", \"hdfs://nameservice1/user/anabig114212/hive/Capstone\")\\\n",
    "    .config(\"spark.serializer\", \"org.apache.spark.serializer.KryoSerializer\")\\\n",
    "    .enableHiveSupport().getOrCreate()\n",
    "spark"
   ]
  },
  {
   "cell_type": "code",
   "execution_count": 2,
   "metadata": {},
   "outputs": [],
   "source": [
    "# Importing Libraraies for Analysis\n",
    "\n",
    "import pandas as pd\n",
    "import numpy as np\n",
    "import matplotlib.pyplot as plt\n",
    "import datetime as dt\n",
    "import seaborn as sns\n",
    "import re\n",
    "from itertools import combinations as cm\n",
    "\n",
    "#import matplotlib.ticker as ticker\n",
    "import matplotlib.dates as mdates\n",
    "\n",
    "# set the graphs to show in the jupyter notebook\n",
    "%matplotlib inline\n",
    "\n",
    "# set seabor graphs to a better style\n",
    "sns.set(style='ticks')\n",
    "\n",
    "from pyspark.sql.functions import *\n",
    "import pyspark.sql.functions as F\n",
    "\n",
    "pd.set_option('display.max_columns', None)"
   ]
  },
  {
   "cell_type": "code",
   "execution_count": 3,
   "metadata": {},
   "outputs": [],
   "source": [
    "# Creating Local Views and Spark Dataframes to call these objects from memory.\n",
    "\n",
    "departments = spark.table('anabig114212_cap.departments')\n",
    "departments.createOrReplaceTempView('departments')\n",
    "\n",
    "titles = spark.table('anabig114212_cap.titles')\n",
    "titles.createOrReplaceTempView('titles')\n",
    "\n",
    "employees = spark.table('anabig114212_cap.employees')\n",
    "employees = employees.withColumn('birth_date', to_date(col('birth_date'),'yyyy-MM-dd'))\\\n",
    "                .withColumn('hire_date', to_date(col('hire_date'),'yyyy-MM-dd'))\\\n",
    "                .withColumn('last_date', to_date(col('last_date'),'yyyy-MM-dd')) #Converting to Proper date formats\n",
    "employees.createOrReplaceTempView('employees')\n",
    "\n",
    "dept_emp_raw = spark.table('anabig114212_cap.dept_emp')\n",
    "dept_emp = spark.table('anabig114212_cap.dept_emp1')\n",
    "dept_emp.createOrReplaceTempView('dept_emp')\n",
    "\n",
    "dept_manager = spark.table('anabig114212_cap.dept_manager')\n",
    "dept_manager.createOrReplaceTempView('dept_manager')\n",
    "\n",
    "salaries = spark.table('anabig114212_cap.salaries')\n",
    "salaries.createOrReplaceTempView('salaries')"
   ]
  },
  {
   "cell_type": "markdown",
   "metadata": {},
   "source": [
    "## **Validating Data**"
   ]
  },
  {
   "cell_type": "code",
   "execution_count": 4,
   "metadata": {},
   "outputs": [
    {
     "name": "stdout",
     "output_type": "stream",
     "text": [
      "+-------+------------------+\n",
      "|dept_no|         dept_name|\n",
      "+-------+------------------+\n",
      "|   d001|         Marketing|\n",
      "|   d002|           Finance|\n",
      "|   d003|   Human Resources|\n",
      "|   d004|        Production|\n",
      "|   d005|       development|\n",
      "|   d006|Quality Management|\n",
      "|   d007|             Sales|\n",
      "|   d008|          Research|\n",
      "|   d009|  Customer Service|\n",
      "+-------+------------------+\n",
      "\n",
      "root\n",
      " |-- dept_no: string (nullable = true)\n",
      " |-- dept_name: string (nullable = true)\n",
      "\n"
     ]
    },
    {
     "data": {
      "text/plain": [
       "9"
      ]
     },
     "execution_count": 4,
     "metadata": {},
     "output_type": "execute_result"
    }
   ],
   "source": [
    "departments.show()\n",
    "departments.printSchema()\n",
    "departments.count()"
   ]
  },
  {
   "cell_type": "code",
   "execution_count": 5,
   "metadata": {},
   "outputs": [
    {
     "name": "stdout",
     "output_type": "stream",
     "text": [
      "+--------+------------------+\n",
      "|title_id|             title|\n",
      "+--------+------------------+\n",
      "|   e0001|Assistant Engineer|\n",
      "|   e0002|          Engineer|\n",
      "|   e0003|   Senior Engineer|\n",
      "|   e0004|  Technique Leader|\n",
      "|   m0001|           Manager|\n",
      "|   s0001|             Staff|\n",
      "|   s0002|      Senior Staff|\n",
      "+--------+------------------+\n",
      "\n",
      "root\n",
      " |-- title_id: string (nullable = true)\n",
      " |-- title: string (nullable = true)\n",
      "\n"
     ]
    },
    {
     "data": {
      "text/plain": [
       "7"
      ]
     },
     "execution_count": 5,
     "metadata": {},
     "output_type": "execute_result"
    }
   ],
   "source": [
    "titles.show()\n",
    "titles.printSchema()\n",
    "titles.count()"
   ]
  },
  {
   "cell_type": "code",
   "execution_count": 6,
   "metadata": {},
   "outputs": [
    {
     "name": "stdout",
     "output_type": "stream",
     "text": [
      "root\n",
      " |-- emp_no: integer (nullable = true)\n",
      " |-- emp_title_id: string (nullable = true)\n",
      " |-- birth_date: date (nullable = true)\n",
      " |-- first_name: string (nullable = true)\n",
      " |-- last_name: string (nullable = true)\n",
      " |-- sex: string (nullable = true)\n",
      " |-- hire_date: date (nullable = true)\n",
      " |-- no_of_projects: integer (nullable = true)\n",
      " |-- last_performance_rating: string (nullable = true)\n",
      " |-- left2: integer (nullable = true)\n",
      " |-- last_date: date (nullable = true)\n",
      "\n"
     ]
    },
    {
     "data": {
      "text/plain": [
       "300024"
      ]
     },
     "execution_count": 6,
     "metadata": {},
     "output_type": "execute_result"
    }
   ],
   "source": [
    "employees.printSchema()\n",
    "employees.count()"
   ]
  },
  {
   "cell_type": "code",
   "execution_count": 7,
   "metadata": {},
   "outputs": [
    {
     "data": {
      "text/html": [
       "<div>\n",
       "<style scoped>\n",
       "    .dataframe tbody tr th:only-of-type {\n",
       "        vertical-align: middle;\n",
       "    }\n",
       "\n",
       "    .dataframe tbody tr th {\n",
       "        vertical-align: top;\n",
       "    }\n",
       "\n",
       "    .dataframe thead th {\n",
       "        text-align: right;\n",
       "    }\n",
       "</style>\n",
       "<table border=\"1\" class=\"dataframe\">\n",
       "  <thead>\n",
       "    <tr style=\"text-align: right;\">\n",
       "      <th></th>\n",
       "      <th>emp_no</th>\n",
       "      <th>emp_title_id</th>\n",
       "      <th>birth_date</th>\n",
       "      <th>first_name</th>\n",
       "      <th>last_name</th>\n",
       "      <th>sex</th>\n",
       "      <th>hire_date</th>\n",
       "      <th>no_of_projects</th>\n",
       "      <th>last_performance_rating</th>\n",
       "      <th>left2</th>\n",
       "      <th>last_date</th>\n",
       "    </tr>\n",
       "  </thead>\n",
       "  <tbody>\n",
       "    <tr>\n",
       "      <th>0</th>\n",
       "      <td>10001</td>\n",
       "      <td>e0003</td>\n",
       "      <td>1953-09-02</td>\n",
       "      <td>Georgi</td>\n",
       "      <td>Facello</td>\n",
       "      <td>M</td>\n",
       "      <td>1986-06-26</td>\n",
       "      <td>9</td>\n",
       "      <td>C</td>\n",
       "      <td>1</td>\n",
       "      <td>1994-07-30</td>\n",
       "    </tr>\n",
       "    <tr>\n",
       "      <th>1</th>\n",
       "      <td>10002</td>\n",
       "      <td>s0001</td>\n",
       "      <td>1964-06-02</td>\n",
       "      <td>Bezalel</td>\n",
       "      <td>Simmel</td>\n",
       "      <td>F</td>\n",
       "      <td>1985-11-21</td>\n",
       "      <td>8</td>\n",
       "      <td>B</td>\n",
       "      <td>0</td>\n",
       "      <td>None</td>\n",
       "    </tr>\n",
       "    <tr>\n",
       "      <th>2</th>\n",
       "      <td>10003</td>\n",
       "      <td>e0003</td>\n",
       "      <td>1959-12-03</td>\n",
       "      <td>Parto</td>\n",
       "      <td>Bamford</td>\n",
       "      <td>M</td>\n",
       "      <td>1986-08-28</td>\n",
       "      <td>1</td>\n",
       "      <td>C</td>\n",
       "      <td>0</td>\n",
       "      <td>None</td>\n",
       "    </tr>\n",
       "    <tr>\n",
       "      <th>3</th>\n",
       "      <td>10004</td>\n",
       "      <td>e0003</td>\n",
       "      <td>1954-05-01</td>\n",
       "      <td>Chirstian</td>\n",
       "      <td>Koblick</td>\n",
       "      <td>M</td>\n",
       "      <td>1986-12-01</td>\n",
       "      <td>5</td>\n",
       "      <td>A</td>\n",
       "      <td>0</td>\n",
       "      <td>None</td>\n",
       "    </tr>\n",
       "    <tr>\n",
       "      <th>4</th>\n",
       "      <td>10005</td>\n",
       "      <td>s0001</td>\n",
       "      <td>1955-01-21</td>\n",
       "      <td>Kyoichi</td>\n",
       "      <td>Maliniak</td>\n",
       "      <td>M</td>\n",
       "      <td>1989-09-12</td>\n",
       "      <td>6</td>\n",
       "      <td>A</td>\n",
       "      <td>0</td>\n",
       "      <td>None</td>\n",
       "    </tr>\n",
       "    <tr>\n",
       "      <th>5</th>\n",
       "      <td>10006</td>\n",
       "      <td>e0003</td>\n",
       "      <td>1953-04-20</td>\n",
       "      <td>Anneke</td>\n",
       "      <td>Preusig</td>\n",
       "      <td>F</td>\n",
       "      <td>1989-06-02</td>\n",
       "      <td>10</td>\n",
       "      <td>B</td>\n",
       "      <td>0</td>\n",
       "      <td>None</td>\n",
       "    </tr>\n",
       "    <tr>\n",
       "      <th>6</th>\n",
       "      <td>10007</td>\n",
       "      <td>s0001</td>\n",
       "      <td>1957-05-23</td>\n",
       "      <td>Tzvetan</td>\n",
       "      <td>Zielinski</td>\n",
       "      <td>F</td>\n",
       "      <td>1989-02-10</td>\n",
       "      <td>6</td>\n",
       "      <td>B</td>\n",
       "      <td>1</td>\n",
       "      <td>2002-09-18</td>\n",
       "    </tr>\n",
       "    <tr>\n",
       "      <th>7</th>\n",
       "      <td>10008</td>\n",
       "      <td>e0001</td>\n",
       "      <td>1958-02-19</td>\n",
       "      <td>Saniya</td>\n",
       "      <td>Kalloufi</td>\n",
       "      <td>M</td>\n",
       "      <td>1994-09-15</td>\n",
       "      <td>9</td>\n",
       "      <td>C</td>\n",
       "      <td>0</td>\n",
       "      <td>None</td>\n",
       "    </tr>\n",
       "    <tr>\n",
       "      <th>8</th>\n",
       "      <td>10009</td>\n",
       "      <td>e0003</td>\n",
       "      <td>1952-04-19</td>\n",
       "      <td>Sumant</td>\n",
       "      <td>Peac</td>\n",
       "      <td>F</td>\n",
       "      <td>1985-02-18</td>\n",
       "      <td>8</td>\n",
       "      <td>B</td>\n",
       "      <td>0</td>\n",
       "      <td>None</td>\n",
       "    </tr>\n",
       "    <tr>\n",
       "      <th>9</th>\n",
       "      <td>10010</td>\n",
       "      <td>e0002</td>\n",
       "      <td>1963-06-01</td>\n",
       "      <td>Duangkaew</td>\n",
       "      <td>Piveteau</td>\n",
       "      <td>F</td>\n",
       "      <td>1989-08-24</td>\n",
       "      <td>4</td>\n",
       "      <td>A</td>\n",
       "      <td>0</td>\n",
       "      <td>None</td>\n",
       "    </tr>\n",
       "    <tr>\n",
       "      <th>10</th>\n",
       "      <td>10011</td>\n",
       "      <td>s0001</td>\n",
       "      <td>1953-11-07</td>\n",
       "      <td>Mary</td>\n",
       "      <td>Sluis</td>\n",
       "      <td>F</td>\n",
       "      <td>1990-01-22</td>\n",
       "      <td>6</td>\n",
       "      <td>C</td>\n",
       "      <td>0</td>\n",
       "      <td>None</td>\n",
       "    </tr>\n",
       "    <tr>\n",
       "      <th>11</th>\n",
       "      <td>10012</td>\n",
       "      <td>e0003</td>\n",
       "      <td>1960-10-04</td>\n",
       "      <td>Patricio</td>\n",
       "      <td>Bridgland</td>\n",
       "      <td>M</td>\n",
       "      <td>1992-12-18</td>\n",
       "      <td>3</td>\n",
       "      <td>A</td>\n",
       "      <td>0</td>\n",
       "      <td>None</td>\n",
       "    </tr>\n",
       "    <tr>\n",
       "      <th>12</th>\n",
       "      <td>10013</td>\n",
       "      <td>s0002</td>\n",
       "      <td>1963-06-07</td>\n",
       "      <td>Eberhardt</td>\n",
       "      <td>Terkki</td>\n",
       "      <td>M</td>\n",
       "      <td>1985-10-20</td>\n",
       "      <td>6</td>\n",
       "      <td>C</td>\n",
       "      <td>0</td>\n",
       "      <td>None</td>\n",
       "    </tr>\n",
       "    <tr>\n",
       "      <th>13</th>\n",
       "      <td>10014</td>\n",
       "      <td>e0002</td>\n",
       "      <td>1956-02-12</td>\n",
       "      <td>Berni</td>\n",
       "      <td>Genin</td>\n",
       "      <td>M</td>\n",
       "      <td>1987-03-11</td>\n",
       "      <td>9</td>\n",
       "      <td>B</td>\n",
       "      <td>0</td>\n",
       "      <td>None</td>\n",
       "    </tr>\n",
       "    <tr>\n",
       "      <th>14</th>\n",
       "      <td>10015</td>\n",
       "      <td>s0002</td>\n",
       "      <td>1959-08-19</td>\n",
       "      <td>Guoxiang</td>\n",
       "      <td>Nooteboom</td>\n",
       "      <td>M</td>\n",
       "      <td>1987-07-02</td>\n",
       "      <td>4</td>\n",
       "      <td>B</td>\n",
       "      <td>0</td>\n",
       "      <td>None</td>\n",
       "    </tr>\n",
       "    <tr>\n",
       "      <th>15</th>\n",
       "      <td>10016</td>\n",
       "      <td>s0001</td>\n",
       "      <td>1961-05-02</td>\n",
       "      <td>Kazuhito</td>\n",
       "      <td>Cappelletti</td>\n",
       "      <td>M</td>\n",
       "      <td>1995-01-27</td>\n",
       "      <td>5</td>\n",
       "      <td>C</td>\n",
       "      <td>0</td>\n",
       "      <td>None</td>\n",
       "    </tr>\n",
       "    <tr>\n",
       "      <th>16</th>\n",
       "      <td>10017</td>\n",
       "      <td>s0001</td>\n",
       "      <td>1958-07-06</td>\n",
       "      <td>Cristinel</td>\n",
       "      <td>Bouloucos</td>\n",
       "      <td>F</td>\n",
       "      <td>1993-08-03</td>\n",
       "      <td>10</td>\n",
       "      <td>A</td>\n",
       "      <td>0</td>\n",
       "      <td>None</td>\n",
       "    </tr>\n",
       "    <tr>\n",
       "      <th>17</th>\n",
       "      <td>10018</td>\n",
       "      <td>e0003</td>\n",
       "      <td>1954-06-19</td>\n",
       "      <td>Kazuhide</td>\n",
       "      <td>Peha</td>\n",
       "      <td>F</td>\n",
       "      <td>1987-04-03</td>\n",
       "      <td>4</td>\n",
       "      <td>B</td>\n",
       "      <td>0</td>\n",
       "      <td>None</td>\n",
       "    </tr>\n",
       "    <tr>\n",
       "      <th>18</th>\n",
       "      <td>10019</td>\n",
       "      <td>s0001</td>\n",
       "      <td>1953-01-23</td>\n",
       "      <td>Lillian</td>\n",
       "      <td>Haddadi</td>\n",
       "      <td>M</td>\n",
       "      <td>1999-04-30</td>\n",
       "      <td>4</td>\n",
       "      <td>B</td>\n",
       "      <td>0</td>\n",
       "      <td>None</td>\n",
       "    </tr>\n",
       "    <tr>\n",
       "      <th>19</th>\n",
       "      <td>10020</td>\n",
       "      <td>e0002</td>\n",
       "      <td>1952-12-24</td>\n",
       "      <td>Mayuko</td>\n",
       "      <td>Warwick</td>\n",
       "      <td>M</td>\n",
       "      <td>1991-01-26</td>\n",
       "      <td>7</td>\n",
       "      <td>B</td>\n",
       "      <td>0</td>\n",
       "      <td>None</td>\n",
       "    </tr>\n",
       "  </tbody>\n",
       "</table>\n",
       "</div>"
      ],
      "text/plain": [
       "    emp_no emp_title_id  birth_date first_name    last_name sex   hire_date  \\\n",
       "0    10001        e0003  1953-09-02     Georgi      Facello   M  1986-06-26   \n",
       "1    10002        s0001  1964-06-02    Bezalel       Simmel   F  1985-11-21   \n",
       "2    10003        e0003  1959-12-03      Parto      Bamford   M  1986-08-28   \n",
       "3    10004        e0003  1954-05-01  Chirstian      Koblick   M  1986-12-01   \n",
       "4    10005        s0001  1955-01-21    Kyoichi     Maliniak   M  1989-09-12   \n",
       "5    10006        e0003  1953-04-20     Anneke      Preusig   F  1989-06-02   \n",
       "6    10007        s0001  1957-05-23    Tzvetan    Zielinski   F  1989-02-10   \n",
       "7    10008        e0001  1958-02-19     Saniya     Kalloufi   M  1994-09-15   \n",
       "8    10009        e0003  1952-04-19     Sumant         Peac   F  1985-02-18   \n",
       "9    10010        e0002  1963-06-01  Duangkaew     Piveteau   F  1989-08-24   \n",
       "10   10011        s0001  1953-11-07       Mary        Sluis   F  1990-01-22   \n",
       "11   10012        e0003  1960-10-04   Patricio    Bridgland   M  1992-12-18   \n",
       "12   10013        s0002  1963-06-07  Eberhardt       Terkki   M  1985-10-20   \n",
       "13   10014        e0002  1956-02-12      Berni        Genin   M  1987-03-11   \n",
       "14   10015        s0002  1959-08-19   Guoxiang    Nooteboom   M  1987-07-02   \n",
       "15   10016        s0001  1961-05-02   Kazuhito  Cappelletti   M  1995-01-27   \n",
       "16   10017        s0001  1958-07-06  Cristinel    Bouloucos   F  1993-08-03   \n",
       "17   10018        e0003  1954-06-19   Kazuhide         Peha   F  1987-04-03   \n",
       "18   10019        s0001  1953-01-23    Lillian      Haddadi   M  1999-04-30   \n",
       "19   10020        e0002  1952-12-24     Mayuko      Warwick   M  1991-01-26   \n",
       "\n",
       "    no_of_projects last_performance_rating  left2   last_date  \n",
       "0                9                       C      1  1994-07-30  \n",
       "1                8                       B      0        None  \n",
       "2                1                       C      0        None  \n",
       "3                5                       A      0        None  \n",
       "4                6                       A      0        None  \n",
       "5               10                       B      0        None  \n",
       "6                6                       B      1  2002-09-18  \n",
       "7                9                       C      0        None  \n",
       "8                8                       B      0        None  \n",
       "9                4                       A      0        None  \n",
       "10               6                       C      0        None  \n",
       "11               3                       A      0        None  \n",
       "12               6                       C      0        None  \n",
       "13               9                       B      0        None  \n",
       "14               4                       B      0        None  \n",
       "15               5                       C      0        None  \n",
       "16              10                       A      0        None  \n",
       "17               4                       B      0        None  \n",
       "18               4                       B      0        None  \n",
       "19               7                       B      0        None  "
      ]
     },
     "execution_count": 7,
     "metadata": {},
     "output_type": "execute_result"
    }
   ],
   "source": [
    "employees.toPandas().head(20)"
   ]
  },
  {
   "cell_type": "code",
   "execution_count": 8,
   "metadata": {},
   "outputs": [
    {
     "name": "stdout",
     "output_type": "stream",
     "text": [
      "+------+-------+\n",
      "|emp_no|dept_no|\n",
      "+------+-------+\n",
      "| 10001|   d005|\n",
      "| 10002|   d007|\n",
      "| 10003|   d004|\n",
      "| 10004|   d004|\n",
      "| 10005|   d003|\n",
      "| 10006|   d005|\n",
      "| 10007|   d008|\n",
      "| 10008|   d005|\n",
      "| 10009|   d006|\n",
      "| 10010|   d004|\n",
      "| 10010|   d006|\n",
      "| 10011|   d009|\n",
      "| 10012|   d005|\n",
      "| 10013|   d003|\n",
      "| 10014|   d005|\n",
      "| 10015|   d008|\n",
      "| 10016|   d007|\n",
      "| 10017|   d001|\n",
      "| 10018|   d004|\n",
      "| 10018|   d005|\n",
      "+------+-------+\n",
      "only showing top 20 rows\n",
      "\n",
      "root\n",
      " |-- emp_no: integer (nullable = true)\n",
      " |-- dept_no: string (nullable = true)\n",
      "\n"
     ]
    },
    {
     "data": {
      "text/plain": [
       "331603"
      ]
     },
     "execution_count": 8,
     "metadata": {},
     "output_type": "execute_result"
    }
   ],
   "source": [
    "dept_emp_raw.show()\n",
    "dept_emp_raw.printSchema()\n",
    "dept_emp_raw.count()"
   ]
  },
  {
   "cell_type": "markdown",
   "metadata": {},
   "source": [
    "#### dept_emp table was created by removing duplicate emp_no, to keep only the last the department for each employee\n",
    "[Created in Hive]"
   ]
  },
  {
   "cell_type": "code",
   "execution_count": 9,
   "metadata": {
    "scrolled": false
   },
   "outputs": [
    {
     "name": "stdout",
     "output_type": "stream",
     "text": [
      "+------+-------+\n",
      "|emp_no|dept_no|\n",
      "+------+-------+\n",
      "| 10001|   d005|\n",
      "| 10002|   d007|\n",
      "| 10003|   d004|\n",
      "| 10004|   d004|\n",
      "| 10005|   d003|\n",
      "| 10006|   d005|\n",
      "| 10007|   d008|\n",
      "| 10008|   d005|\n",
      "| 10009|   d006|\n",
      "| 10010|   d006|\n",
      "| 10011|   d009|\n",
      "| 10012|   d005|\n",
      "| 10013|   d003|\n",
      "| 10014|   d005|\n",
      "| 10015|   d008|\n",
      "| 10016|   d007|\n",
      "| 10017|   d001|\n",
      "| 10018|   d005|\n",
      "| 10019|   d008|\n",
      "| 10020|   d004|\n",
      "+------+-------+\n",
      "only showing top 20 rows\n",
      "\n",
      "root\n",
      " |-- emp_no: integer (nullable = true)\n",
      " |-- dept_no: string (nullable = true)\n",
      "\n"
     ]
    },
    {
     "data": {
      "text/plain": [
       "300024"
      ]
     },
     "execution_count": 9,
     "metadata": {},
     "output_type": "execute_result"
    }
   ],
   "source": [
    "dept_emp.show()\n",
    "dept_emp.printSchema()\n",
    "dept_emp.count()"
   ]
  },
  {
   "cell_type": "code",
   "execution_count": 10,
   "metadata": {},
   "outputs": [
    {
     "name": "stdout",
     "output_type": "stream",
     "text": [
      "+-------+------+\n",
      "|dept_no|emp_no|\n",
      "+-------+------+\n",
      "|   d001|110022|\n",
      "|   d001|110039|\n",
      "|   d002|110085|\n",
      "|   d002|110114|\n",
      "|   d003|110183|\n",
      "|   d003|110228|\n",
      "|   d004|110303|\n",
      "|   d004|110344|\n",
      "|   d004|110386|\n",
      "|   d004|110420|\n",
      "|   d005|110511|\n",
      "|   d005|110567|\n",
      "|   d006|110725|\n",
      "|   d006|110765|\n",
      "|   d006|110800|\n",
      "|   d006|110854|\n",
      "|   d007|111035|\n",
      "|   d007|111133|\n",
      "|   d008|111400|\n",
      "|   d008|111534|\n",
      "+-------+------+\n",
      "only showing top 20 rows\n",
      "\n",
      "root\n",
      " |-- dept_no: string (nullable = true)\n",
      " |-- emp_no: integer (nullable = true)\n",
      "\n"
     ]
    },
    {
     "data": {
      "text/plain": [
       "24"
      ]
     },
     "execution_count": 10,
     "metadata": {},
     "output_type": "execute_result"
    }
   ],
   "source": [
    "dept_manager.show()\n",
    "dept_manager.printSchema()\n",
    "dept_manager.count()"
   ]
  },
  {
   "cell_type": "code",
   "execution_count": 11,
   "metadata": {},
   "outputs": [
    {
     "name": "stdout",
     "output_type": "stream",
     "text": [
      "+------+------+\n",
      "|emp_no|salary|\n",
      "+------+------+\n",
      "| 10001| 60117|\n",
      "| 10002| 65828|\n",
      "| 10003| 40006|\n",
      "| 10004| 40054|\n",
      "| 10005| 78228|\n",
      "| 10006| 40000|\n",
      "| 10007| 56724|\n",
      "| 10008| 46671|\n",
      "| 10009| 60929|\n",
      "| 10010| 72488|\n",
      "| 10011| 42365|\n",
      "| 10012| 40000|\n",
      "| 10013| 40000|\n",
      "| 10014| 46168|\n",
      "| 10015| 40000|\n",
      "| 10016| 70889|\n",
      "| 10017| 71380|\n",
      "| 10018| 55881|\n",
      "| 10019| 44276|\n",
      "| 10020| 40000|\n",
      "+------+------+\n",
      "only showing top 20 rows\n",
      "\n",
      "root\n",
      " |-- emp_no: integer (nullable = true)\n",
      " |-- salary: integer (nullable = true)\n",
      "\n"
     ]
    },
    {
     "data": {
      "text/plain": [
       "300024"
      ]
     },
     "execution_count": 11,
     "metadata": {},
     "output_type": "execute_result"
    }
   ],
   "source": [
    "salaries.show()\n",
    "salaries.printSchema()\n",
    "salaries.count()"
   ]
  },
  {
   "cell_type": "markdown",
   "metadata": {},
   "source": [
    "### Preparing Employees Table for EDA"
   ]
  },
  {
   "cell_type": "markdown",
   "metadata": {},
   "source": [
    "#### Maximum date availiable in the Dataset"
   ]
  },
  {
   "cell_type": "code",
   "execution_count": 12,
   "metadata": {},
   "outputs": [
    {
     "name": "stdout",
     "output_type": "stream",
     "text": [
      "+----------------------------------------+\n",
      "|greatest(max(last_date), max(hire_date))|\n",
      "+----------------------------------------+\n",
      "|                              2013-03-10|\n",
      "+----------------------------------------+\n",
      "\n"
     ]
    }
   ],
   "source": [
    "maxDateInDataset = employees.select(greatest(max(col('last_date')),max(col('hire_date'))))\n",
    "maxDateInDataset.show()"
   ]
  },
  {
   "cell_type": "code",
   "execution_count": 13,
   "metadata": {},
   "outputs": [
    {
     "data": {
      "text/html": [
       "<div>\n",
       "<style scoped>\n",
       "    .dataframe tbody tr th:only-of-type {\n",
       "        vertical-align: middle;\n",
       "    }\n",
       "\n",
       "    .dataframe tbody tr th {\n",
       "        vertical-align: top;\n",
       "    }\n",
       "\n",
       "    .dataframe thead th {\n",
       "        text-align: right;\n",
       "    }\n",
       "</style>\n",
       "<table border=\"1\" class=\"dataframe\">\n",
       "  <thead>\n",
       "    <tr style=\"text-align: right;\">\n",
       "      <th></th>\n",
       "      <th>emp_no</th>\n",
       "      <th>emp_title_id</th>\n",
       "      <th>birth_date</th>\n",
       "      <th>first_name</th>\n",
       "      <th>last_name</th>\n",
       "      <th>sex</th>\n",
       "      <th>hire_date</th>\n",
       "      <th>no_of_projects</th>\n",
       "      <th>last_performance_rating</th>\n",
       "      <th>left2</th>\n",
       "      <th>last_date</th>\n",
       "      <th>Age</th>\n",
       "      <th>Tenure_Years</th>\n",
       "    </tr>\n",
       "  </thead>\n",
       "  <tbody>\n",
       "    <tr>\n",
       "      <th>0</th>\n",
       "      <td>10001</td>\n",
       "      <td>e0003</td>\n",
       "      <td>1953-09-02</td>\n",
       "      <td>Georgi</td>\n",
       "      <td>Facello</td>\n",
       "      <td>M</td>\n",
       "      <td>1986-06-26</td>\n",
       "      <td>9</td>\n",
       "      <td>C</td>\n",
       "      <td>1</td>\n",
       "      <td>1994-07-30</td>\n",
       "      <td>60</td>\n",
       "      <td>8</td>\n",
       "    </tr>\n",
       "    <tr>\n",
       "      <th>1</th>\n",
       "      <td>10002</td>\n",
       "      <td>s0001</td>\n",
       "      <td>1964-06-02</td>\n",
       "      <td>Bezalel</td>\n",
       "      <td>Simmel</td>\n",
       "      <td>F</td>\n",
       "      <td>1985-11-21</td>\n",
       "      <td>8</td>\n",
       "      <td>B</td>\n",
       "      <td>0</td>\n",
       "      <td>None</td>\n",
       "      <td>49</td>\n",
       "      <td>28</td>\n",
       "    </tr>\n",
       "    <tr>\n",
       "      <th>2</th>\n",
       "      <td>10003</td>\n",
       "      <td>e0003</td>\n",
       "      <td>1959-12-03</td>\n",
       "      <td>Parto</td>\n",
       "      <td>Bamford</td>\n",
       "      <td>M</td>\n",
       "      <td>1986-08-28</td>\n",
       "      <td>1</td>\n",
       "      <td>C</td>\n",
       "      <td>0</td>\n",
       "      <td>None</td>\n",
       "      <td>54</td>\n",
       "      <td>27</td>\n",
       "    </tr>\n",
       "    <tr>\n",
       "      <th>3</th>\n",
       "      <td>10004</td>\n",
       "      <td>e0003</td>\n",
       "      <td>1954-05-01</td>\n",
       "      <td>Chirstian</td>\n",
       "      <td>Koblick</td>\n",
       "      <td>M</td>\n",
       "      <td>1986-12-01</td>\n",
       "      <td>5</td>\n",
       "      <td>A</td>\n",
       "      <td>0</td>\n",
       "      <td>None</td>\n",
       "      <td>59</td>\n",
       "      <td>27</td>\n",
       "    </tr>\n",
       "    <tr>\n",
       "      <th>4</th>\n",
       "      <td>10005</td>\n",
       "      <td>s0001</td>\n",
       "      <td>1955-01-21</td>\n",
       "      <td>Kyoichi</td>\n",
       "      <td>Maliniak</td>\n",
       "      <td>M</td>\n",
       "      <td>1989-09-12</td>\n",
       "      <td>6</td>\n",
       "      <td>A</td>\n",
       "      <td>0</td>\n",
       "      <td>None</td>\n",
       "      <td>58</td>\n",
       "      <td>24</td>\n",
       "    </tr>\n",
       "    <tr>\n",
       "      <th>5</th>\n",
       "      <td>10006</td>\n",
       "      <td>e0003</td>\n",
       "      <td>1953-04-20</td>\n",
       "      <td>Anneke</td>\n",
       "      <td>Preusig</td>\n",
       "      <td>F</td>\n",
       "      <td>1989-06-02</td>\n",
       "      <td>10</td>\n",
       "      <td>B</td>\n",
       "      <td>0</td>\n",
       "      <td>None</td>\n",
       "      <td>60</td>\n",
       "      <td>24</td>\n",
       "    </tr>\n",
       "    <tr>\n",
       "      <th>6</th>\n",
       "      <td>10007</td>\n",
       "      <td>s0001</td>\n",
       "      <td>1957-05-23</td>\n",
       "      <td>Tzvetan</td>\n",
       "      <td>Zielinski</td>\n",
       "      <td>F</td>\n",
       "      <td>1989-02-10</td>\n",
       "      <td>6</td>\n",
       "      <td>B</td>\n",
       "      <td>1</td>\n",
       "      <td>2002-09-18</td>\n",
       "      <td>56</td>\n",
       "      <td>13</td>\n",
       "    </tr>\n",
       "    <tr>\n",
       "      <th>7</th>\n",
       "      <td>10008</td>\n",
       "      <td>e0001</td>\n",
       "      <td>1958-02-19</td>\n",
       "      <td>Saniya</td>\n",
       "      <td>Kalloufi</td>\n",
       "      <td>M</td>\n",
       "      <td>1994-09-15</td>\n",
       "      <td>9</td>\n",
       "      <td>C</td>\n",
       "      <td>0</td>\n",
       "      <td>None</td>\n",
       "      <td>55</td>\n",
       "      <td>19</td>\n",
       "    </tr>\n",
       "    <tr>\n",
       "      <th>8</th>\n",
       "      <td>10009</td>\n",
       "      <td>e0003</td>\n",
       "      <td>1952-04-19</td>\n",
       "      <td>Sumant</td>\n",
       "      <td>Peac</td>\n",
       "      <td>F</td>\n",
       "      <td>1985-02-18</td>\n",
       "      <td>8</td>\n",
       "      <td>B</td>\n",
       "      <td>0</td>\n",
       "      <td>None</td>\n",
       "      <td>61</td>\n",
       "      <td>28</td>\n",
       "    </tr>\n",
       "    <tr>\n",
       "      <th>9</th>\n",
       "      <td>10010</td>\n",
       "      <td>e0002</td>\n",
       "      <td>1963-06-01</td>\n",
       "      <td>Duangkaew</td>\n",
       "      <td>Piveteau</td>\n",
       "      <td>F</td>\n",
       "      <td>1989-08-24</td>\n",
       "      <td>4</td>\n",
       "      <td>A</td>\n",
       "      <td>0</td>\n",
       "      <td>None</td>\n",
       "      <td>50</td>\n",
       "      <td>24</td>\n",
       "    </tr>\n",
       "    <tr>\n",
       "      <th>10</th>\n",
       "      <td>10011</td>\n",
       "      <td>s0001</td>\n",
       "      <td>1953-11-07</td>\n",
       "      <td>Mary</td>\n",
       "      <td>Sluis</td>\n",
       "      <td>F</td>\n",
       "      <td>1990-01-22</td>\n",
       "      <td>6</td>\n",
       "      <td>C</td>\n",
       "      <td>0</td>\n",
       "      <td>None</td>\n",
       "      <td>60</td>\n",
       "      <td>23</td>\n",
       "    </tr>\n",
       "    <tr>\n",
       "      <th>11</th>\n",
       "      <td>10012</td>\n",
       "      <td>e0003</td>\n",
       "      <td>1960-10-04</td>\n",
       "      <td>Patricio</td>\n",
       "      <td>Bridgland</td>\n",
       "      <td>M</td>\n",
       "      <td>1992-12-18</td>\n",
       "      <td>3</td>\n",
       "      <td>A</td>\n",
       "      <td>0</td>\n",
       "      <td>None</td>\n",
       "      <td>53</td>\n",
       "      <td>21</td>\n",
       "    </tr>\n",
       "    <tr>\n",
       "      <th>12</th>\n",
       "      <td>10013</td>\n",
       "      <td>s0002</td>\n",
       "      <td>1963-06-07</td>\n",
       "      <td>Eberhardt</td>\n",
       "      <td>Terkki</td>\n",
       "      <td>M</td>\n",
       "      <td>1985-10-20</td>\n",
       "      <td>6</td>\n",
       "      <td>C</td>\n",
       "      <td>0</td>\n",
       "      <td>None</td>\n",
       "      <td>50</td>\n",
       "      <td>28</td>\n",
       "    </tr>\n",
       "    <tr>\n",
       "      <th>13</th>\n",
       "      <td>10014</td>\n",
       "      <td>e0002</td>\n",
       "      <td>1956-02-12</td>\n",
       "      <td>Berni</td>\n",
       "      <td>Genin</td>\n",
       "      <td>M</td>\n",
       "      <td>1987-03-11</td>\n",
       "      <td>9</td>\n",
       "      <td>B</td>\n",
       "      <td>0</td>\n",
       "      <td>None</td>\n",
       "      <td>57</td>\n",
       "      <td>26</td>\n",
       "    </tr>\n",
       "    <tr>\n",
       "      <th>14</th>\n",
       "      <td>10015</td>\n",
       "      <td>s0002</td>\n",
       "      <td>1959-08-19</td>\n",
       "      <td>Guoxiang</td>\n",
       "      <td>Nooteboom</td>\n",
       "      <td>M</td>\n",
       "      <td>1987-07-02</td>\n",
       "      <td>4</td>\n",
       "      <td>B</td>\n",
       "      <td>0</td>\n",
       "      <td>None</td>\n",
       "      <td>54</td>\n",
       "      <td>26</td>\n",
       "    </tr>\n",
       "    <tr>\n",
       "      <th>15</th>\n",
       "      <td>10016</td>\n",
       "      <td>s0001</td>\n",
       "      <td>1961-05-02</td>\n",
       "      <td>Kazuhito</td>\n",
       "      <td>Cappelletti</td>\n",
       "      <td>M</td>\n",
       "      <td>1995-01-27</td>\n",
       "      <td>5</td>\n",
       "      <td>C</td>\n",
       "      <td>0</td>\n",
       "      <td>None</td>\n",
       "      <td>52</td>\n",
       "      <td>18</td>\n",
       "    </tr>\n",
       "    <tr>\n",
       "      <th>16</th>\n",
       "      <td>10017</td>\n",
       "      <td>s0001</td>\n",
       "      <td>1958-07-06</td>\n",
       "      <td>Cristinel</td>\n",
       "      <td>Bouloucos</td>\n",
       "      <td>F</td>\n",
       "      <td>1993-08-03</td>\n",
       "      <td>10</td>\n",
       "      <td>A</td>\n",
       "      <td>0</td>\n",
       "      <td>None</td>\n",
       "      <td>55</td>\n",
       "      <td>20</td>\n",
       "    </tr>\n",
       "    <tr>\n",
       "      <th>17</th>\n",
       "      <td>10018</td>\n",
       "      <td>e0003</td>\n",
       "      <td>1954-06-19</td>\n",
       "      <td>Kazuhide</td>\n",
       "      <td>Peha</td>\n",
       "      <td>F</td>\n",
       "      <td>1987-04-03</td>\n",
       "      <td>4</td>\n",
       "      <td>B</td>\n",
       "      <td>0</td>\n",
       "      <td>None</td>\n",
       "      <td>59</td>\n",
       "      <td>26</td>\n",
       "    </tr>\n",
       "    <tr>\n",
       "      <th>18</th>\n",
       "      <td>10019</td>\n",
       "      <td>s0001</td>\n",
       "      <td>1953-01-23</td>\n",
       "      <td>Lillian</td>\n",
       "      <td>Haddadi</td>\n",
       "      <td>M</td>\n",
       "      <td>1999-04-30</td>\n",
       "      <td>4</td>\n",
       "      <td>B</td>\n",
       "      <td>0</td>\n",
       "      <td>None</td>\n",
       "      <td>60</td>\n",
       "      <td>14</td>\n",
       "    </tr>\n",
       "    <tr>\n",
       "      <th>19</th>\n",
       "      <td>10020</td>\n",
       "      <td>e0002</td>\n",
       "      <td>1952-12-24</td>\n",
       "      <td>Mayuko</td>\n",
       "      <td>Warwick</td>\n",
       "      <td>M</td>\n",
       "      <td>1991-01-26</td>\n",
       "      <td>7</td>\n",
       "      <td>B</td>\n",
       "      <td>0</td>\n",
       "      <td>None</td>\n",
       "      <td>61</td>\n",
       "      <td>22</td>\n",
       "    </tr>\n",
       "  </tbody>\n",
       "</table>\n",
       "</div>"
      ],
      "text/plain": [
       "    emp_no emp_title_id  birth_date first_name    last_name sex   hire_date  \\\n",
       "0    10001        e0003  1953-09-02     Georgi      Facello   M  1986-06-26   \n",
       "1    10002        s0001  1964-06-02    Bezalel       Simmel   F  1985-11-21   \n",
       "2    10003        e0003  1959-12-03      Parto      Bamford   M  1986-08-28   \n",
       "3    10004        e0003  1954-05-01  Chirstian      Koblick   M  1986-12-01   \n",
       "4    10005        s0001  1955-01-21    Kyoichi     Maliniak   M  1989-09-12   \n",
       "5    10006        e0003  1953-04-20     Anneke      Preusig   F  1989-06-02   \n",
       "6    10007        s0001  1957-05-23    Tzvetan    Zielinski   F  1989-02-10   \n",
       "7    10008        e0001  1958-02-19     Saniya     Kalloufi   M  1994-09-15   \n",
       "8    10009        e0003  1952-04-19     Sumant         Peac   F  1985-02-18   \n",
       "9    10010        e0002  1963-06-01  Duangkaew     Piveteau   F  1989-08-24   \n",
       "10   10011        s0001  1953-11-07       Mary        Sluis   F  1990-01-22   \n",
       "11   10012        e0003  1960-10-04   Patricio    Bridgland   M  1992-12-18   \n",
       "12   10013        s0002  1963-06-07  Eberhardt       Terkki   M  1985-10-20   \n",
       "13   10014        e0002  1956-02-12      Berni        Genin   M  1987-03-11   \n",
       "14   10015        s0002  1959-08-19   Guoxiang    Nooteboom   M  1987-07-02   \n",
       "15   10016        s0001  1961-05-02   Kazuhito  Cappelletti   M  1995-01-27   \n",
       "16   10017        s0001  1958-07-06  Cristinel    Bouloucos   F  1993-08-03   \n",
       "17   10018        e0003  1954-06-19   Kazuhide         Peha   F  1987-04-03   \n",
       "18   10019        s0001  1953-01-23    Lillian      Haddadi   M  1999-04-30   \n",
       "19   10020        e0002  1952-12-24     Mayuko      Warwick   M  1991-01-26   \n",
       "\n",
       "    no_of_projects last_performance_rating  left2   last_date  Age  \\\n",
       "0                9                       C      1  1994-07-30   60   \n",
       "1                8                       B      0        None   49   \n",
       "2                1                       C      0        None   54   \n",
       "3                5                       A      0        None   59   \n",
       "4                6                       A      0        None   58   \n",
       "5               10                       B      0        None   60   \n",
       "6                6                       B      1  2002-09-18   56   \n",
       "7                9                       C      0        None   55   \n",
       "8                8                       B      0        None   61   \n",
       "9                4                       A      0        None   50   \n",
       "10               6                       C      0        None   60   \n",
       "11               3                       A      0        None   53   \n",
       "12               6                       C      0        None   50   \n",
       "13               9                       B      0        None   57   \n",
       "14               4                       B      0        None   54   \n",
       "15               5                       C      0        None   52   \n",
       "16              10                       A      0        None   55   \n",
       "17               4                       B      0        None   59   \n",
       "18               4                       B      0        None   60   \n",
       "19               7                       B      0        None   61   \n",
       "\n",
       "    Tenure_Years  \n",
       "0              8  \n",
       "1             28  \n",
       "2             27  \n",
       "3             27  \n",
       "4             24  \n",
       "5             24  \n",
       "6             13  \n",
       "7             19  \n",
       "8             28  \n",
       "9             24  \n",
       "10            23  \n",
       "11            21  \n",
       "12            28  \n",
       "13            26  \n",
       "14            26  \n",
       "15            18  \n",
       "16            20  \n",
       "17            26  \n",
       "18            14  \n",
       "19            22  "
      ]
     },
     "execution_count": 13,
     "metadata": {},
     "output_type": "execute_result"
    }
   ],
   "source": [
    "maxDateInDataset = employees.select(greatest(max(col('last_date')),max(col('hire_date')))).toPandas().loc[0][0]\n",
    "employees =  employees.withColumn('Age', maxDateInDataset.year-year(employees.birth_date))\\\n",
    "                .withColumn('Tenure_Years', F.when(col('left2')==1, year(employees.last_date)-year(employees.hire_date))\\\n",
    "                                                  .otherwise(maxDateInDataset.year-year(employees.hire_date)))\n",
    "employees.createOrReplaceTempView('employees_at')\n",
    "employees.toPandas().head(20)"
   ]
  },
  {
   "cell_type": "markdown",
   "metadata": {},
   "source": [
    "# **Exploratory Data Analysis**"
   ]
  },
  {
   "cell_type": "markdown",
   "metadata": {},
   "source": [
    "## **1. A list showing employee number, last name, first name, sex, and salary for each employee**"
   ]
  },
  {
   "cell_type": "code",
   "execution_count": 14,
   "metadata": {},
   "outputs": [
    {
     "name": "stdout",
     "output_type": "stream",
     "text": [
      "+------+-----------+----------+---+------+\n",
      "|emp_no|  last_name|first_name|sex|salary|\n",
      "+------+-----------+----------+---+------+\n",
      "| 10001|    Facello|    Georgi|  M| 60117|\n",
      "| 10002|     Simmel|   Bezalel|  F| 65828|\n",
      "| 10003|    Bamford|     Parto|  M| 40006|\n",
      "| 10004|    Koblick| Chirstian|  M| 40054|\n",
      "| 10005|   Maliniak|   Kyoichi|  M| 78228|\n",
      "| 10006|    Preusig|    Anneke|  F| 40000|\n",
      "| 10007|  Zielinski|   Tzvetan|  F| 56724|\n",
      "| 10008|   Kalloufi|    Saniya|  M| 46671|\n",
      "| 10009|       Peac|    Sumant|  F| 60929|\n",
      "| 10010|   Piveteau| Duangkaew|  F| 72488|\n",
      "| 10011|      Sluis|      Mary|  F| 42365|\n",
      "| 10012|  Bridgland|  Patricio|  M| 40000|\n",
      "| 10013|     Terkki| Eberhardt|  M| 40000|\n",
      "| 10014|      Genin|     Berni|  M| 46168|\n",
      "| 10015|  Nooteboom|  Guoxiang|  M| 40000|\n",
      "| 10016|Cappelletti|  Kazuhito|  M| 70889|\n",
      "| 10017|  Bouloucos| Cristinel|  F| 71380|\n",
      "| 10018|       Peha|  Kazuhide|  F| 55881|\n",
      "| 10019|    Haddadi|   Lillian|  M| 44276|\n",
      "| 10020|    Warwick|    Mayuko|  M| 40000|\n",
      "+------+-----------+----------+---+------+\n",
      "only showing top 20 rows\n",
      "\n"
     ]
    }
   ],
   "source": [
    "spark.sql(\"\"\"\n",
    "            SELECT e.emp_no, last_name, first_name, sex, salary \n",
    "            FROM employees e\n",
    "            JOIN salaries s  ON e.emp_no = s.emp_no\n",
    "         \"\"\").show()"
   ]
  },
  {
   "cell_type": "code",
   "execution_count": 15,
   "metadata": {},
   "outputs": [
    {
     "name": "stdout",
     "output_type": "stream",
     "text": [
      "+------+-----------+----------+---+------+\n",
      "|emp_no|  last_name|first_name|sex|salary|\n",
      "+------+-----------+----------+---+------+\n",
      "| 10001|    Facello|    Georgi|  M| 60117|\n",
      "| 10002|     Simmel|   Bezalel|  F| 65828|\n",
      "| 10003|    Bamford|     Parto|  M| 40006|\n",
      "| 10004|    Koblick| Chirstian|  M| 40054|\n",
      "| 10005|   Maliniak|   Kyoichi|  M| 78228|\n",
      "| 10006|    Preusig|    Anneke|  F| 40000|\n",
      "| 10007|  Zielinski|   Tzvetan|  F| 56724|\n",
      "| 10008|   Kalloufi|    Saniya|  M| 46671|\n",
      "| 10009|       Peac|    Sumant|  F| 60929|\n",
      "| 10010|   Piveteau| Duangkaew|  F| 72488|\n",
      "| 10011|      Sluis|      Mary|  F| 42365|\n",
      "| 10012|  Bridgland|  Patricio|  M| 40000|\n",
      "| 10013|     Terkki| Eberhardt|  M| 40000|\n",
      "| 10014|      Genin|     Berni|  M| 46168|\n",
      "| 10015|  Nooteboom|  Guoxiang|  M| 40000|\n",
      "| 10016|Cappelletti|  Kazuhito|  M| 70889|\n",
      "| 10017|  Bouloucos| Cristinel|  F| 71380|\n",
      "| 10018|       Peha|  Kazuhide|  F| 55881|\n",
      "| 10019|    Haddadi|   Lillian|  M| 44276|\n",
      "| 10020|    Warwick|    Mayuko|  M| 40000|\n",
      "+------+-----------+----------+---+------+\n",
      "only showing top 20 rows\n",
      "\n"
     ]
    }
   ],
   "source": [
    "employees.join(salaries, on='emp_no').select('emp_no','last_name','first_name','sex','salary').show()"
   ]
  },
  {
   "cell_type": "markdown",
   "metadata": {},
   "source": [
    "## **2. A list showing first name, last name, and hire date for employees who were hired in 1986.**"
   ]
  },
  {
   "cell_type": "code",
   "execution_count": 16,
   "metadata": {},
   "outputs": [
    {
     "name": "stdout",
     "output_type": "stream",
     "text": [
      "+----------+------------+----------+\n",
      "|first_name|   last_name| hire_date|\n",
      "+----------+------------+----------+\n",
      "|    Georgi|     Facello|1986-06-26|\n",
      "|     Parto|     Bamford|1986-08-28|\n",
      "| Chirstian|     Koblick|1986-12-01|\n",
      "|    Sanjiv|    Zschoche|1986-02-04|\n",
      "|      Kwee|    Schusler|1986-02-26|\n",
      "|   Kshitij|        Gils|1986-03-27|\n",
      "|  Zhongwei|       Rosen|1986-10-30|\n",
      "|   Xinglin|     Eugenio|1986-09-08|\n",
      "| Sudharsan|Flasterstein|1986-08-12|\n",
      "|    Kendra|     Hofting|1986-03-14|\n",
      "|    Hilari|      Morton|1986-07-15|\n",
      "|     Akemi|       Birch|1986-12-02|\n",
      "|    Lunjin|      Giveon|1986-10-02|\n",
      "|    Xuejia|      Ullian|1986-08-22|\n",
      "|   Chikara|    Rissland|1986-01-23|\n",
      "|  Domenick|    Peltason|1986-03-14|\n",
      "|    Zissis|    Pintelas|1986-02-11|\n",
      "|     Perry|   Shimshoni|1986-09-18|\n",
      "|  Kazuhito| Encarnacion|1986-08-21|\n",
      "|   Xiadong|       Perry|1986-11-05|\n",
      "+----------+------------+----------+\n",
      "only showing top 20 rows\n",
      "\n"
     ]
    }
   ],
   "source": [
    "spark.sql(\"\"\"\n",
    "            SELECT first_name, last_name, hire_date\n",
    "            FROM employees\n",
    "            WHERE year(hire_date) = 1986\n",
    "         \"\"\").show()"
   ]
  },
  {
   "cell_type": "code",
   "execution_count": 17,
   "metadata": {},
   "outputs": [
    {
     "name": "stdout",
     "output_type": "stream",
     "text": [
      "+----------+------------+----------+\n",
      "|first_name|   last_name| hire_date|\n",
      "+----------+------------+----------+\n",
      "|    Georgi|     Facello|1986-06-26|\n",
      "|     Parto|     Bamford|1986-08-28|\n",
      "| Chirstian|     Koblick|1986-12-01|\n",
      "|    Sanjiv|    Zschoche|1986-02-04|\n",
      "|      Kwee|    Schusler|1986-02-26|\n",
      "|   Kshitij|        Gils|1986-03-27|\n",
      "|  Zhongwei|       Rosen|1986-10-30|\n",
      "|   Xinglin|     Eugenio|1986-09-08|\n",
      "| Sudharsan|Flasterstein|1986-08-12|\n",
      "|    Kendra|     Hofting|1986-03-14|\n",
      "|    Hilari|      Morton|1986-07-15|\n",
      "|     Akemi|       Birch|1986-12-02|\n",
      "|    Lunjin|      Giveon|1986-10-02|\n",
      "|    Xuejia|      Ullian|1986-08-22|\n",
      "|   Chikara|    Rissland|1986-01-23|\n",
      "|  Domenick|    Peltason|1986-03-14|\n",
      "|    Zissis|    Pintelas|1986-02-11|\n",
      "|     Perry|   Shimshoni|1986-09-18|\n",
      "|  Kazuhito| Encarnacion|1986-08-21|\n",
      "|   Xiadong|       Perry|1986-11-05|\n",
      "+----------+------------+----------+\n",
      "only showing top 20 rows\n",
      "\n"
     ]
    }
   ],
   "source": [
    "employees[year(col('hire_date'))==1986].select('first_name','last_name','hire_date').show()"
   ]
  },
  {
   "cell_type": "markdown",
   "metadata": {},
   "source": [
    "## **3. A list showing the manager of each department with the following information: department number, department name, the manager's employee number, last name, first name.**"
   ]
  },
  {
   "cell_type": "code",
   "execution_count": 18,
   "metadata": {},
   "outputs": [
    {
     "name": "stdout",
     "output_type": "stream",
     "text": [
      "+-------+------------------+------+------------+-----------+-------+\n",
      "|dept_no|         dept_name|emp_no|   last_name| first_name|  title|\n",
      "+-------+------------------+------+------------+-----------+-------+\n",
      "|   d001|         Marketing|110022|  Markovitch|  Margareta|Manager|\n",
      "|   d001|         Marketing|110039|    Minakawa|   Vishwani|Manager|\n",
      "|   d002|           Finance|110085|       Alpin|       Ebru|Manager|\n",
      "|   d002|           Finance|110114|  Legleitner|      Isamu|Manager|\n",
      "|   d003|   Human Resources|110183|Ossenbruggen|    Shirish|Manager|\n",
      "|   d003|   Human Resources|110228|     Sigstam|    Karsten|Manager|\n",
      "|   d004|        Production|110303|     Wegerle|  Krassimir|Manager|\n",
      "|   d004|        Production|110344|       Cools|     Rosine|Manager|\n",
      "|   d004|        Production|110386|      Kieras|       Shem|Manager|\n",
      "|   d004|        Production|110420|    Ghazalie|      Oscar|Manager|\n",
      "|   d005|       development|110511|    Hagimont|   DeForest|Manager|\n",
      "|   d005|       development|110567|    DasSarma|       Leon|Manager|\n",
      "|   d006|Quality Management|110725|     Onuegbe|  Peternela|Manager|\n",
      "|   d006|Quality Management|110765|     Hofmeyr|     Rutger|Manager|\n",
      "|   d006|Quality Management|110800|     Quadeer|     Sanjoy|Manager|\n",
      "|   d006|Quality Management|110854|       Pesch|       Dung|Manager|\n",
      "|   d007|             Sales|111035|   Kaelbling|Przemyslawa|Manager|\n",
      "|   d007|             Sales|111133|       Zhang|      Hauke|Manager|\n",
      "|   d008|          Research|111400|     Staelin|       Arie|Manager|\n",
      "|   d008|          Research|111534|      Kambil|     Hilary|Manager|\n",
      "+-------+------------------+------+------------+-----------+-------+\n",
      "only showing top 20 rows\n",
      "\n"
     ]
    }
   ],
   "source": [
    "spark.sql(\"\"\"\n",
    "            SELECT dm.dept_no, d.dept_name, e.emp_no, e.last_name, e.first_name, t.title\n",
    "            FROM dept_manager dm \n",
    "            JOIN departments d ON dm.dept_no = d.dept_no\n",
    "            JOIN employees e ON dm.emp_no = e.emp_no\n",
    "            JOIN titles t ON e.emp_title_id = t.title_id AND t.title = 'Manager'\n",
    "         \"\"\").show()"
   ]
  },
  {
   "cell_type": "code",
   "execution_count": 19,
   "metadata": {},
   "outputs": [
    {
     "name": "stdout",
     "output_type": "stream",
     "text": [
      "+-------+------------------+------+------------+-----------+-------+\n",
      "|dept_no|         dept_name|emp_no|   last_name| first_name|  title|\n",
      "+-------+------------------+------+------------+-----------+-------+\n",
      "|   d001|         Marketing|110022|  Markovitch|  Margareta|Manager|\n",
      "|   d001|         Marketing|110039|    Minakawa|   Vishwani|Manager|\n",
      "|   d002|           Finance|110085|       Alpin|       Ebru|Manager|\n",
      "|   d002|           Finance|110114|  Legleitner|      Isamu|Manager|\n",
      "|   d003|   Human Resources|110183|Ossenbruggen|    Shirish|Manager|\n",
      "|   d003|   Human Resources|110228|     Sigstam|    Karsten|Manager|\n",
      "|   d004|        Production|110303|     Wegerle|  Krassimir|Manager|\n",
      "|   d004|        Production|110344|       Cools|     Rosine|Manager|\n",
      "|   d004|        Production|110386|      Kieras|       Shem|Manager|\n",
      "|   d004|        Production|110420|    Ghazalie|      Oscar|Manager|\n",
      "|   d005|       development|110511|    Hagimont|   DeForest|Manager|\n",
      "|   d005|       development|110567|    DasSarma|       Leon|Manager|\n",
      "|   d006|Quality Management|110725|     Onuegbe|  Peternela|Manager|\n",
      "|   d006|Quality Management|110765|     Hofmeyr|     Rutger|Manager|\n",
      "|   d006|Quality Management|110800|     Quadeer|     Sanjoy|Manager|\n",
      "|   d006|Quality Management|110854|       Pesch|       Dung|Manager|\n",
      "|   d007|             Sales|111035|   Kaelbling|Przemyslawa|Manager|\n",
      "|   d007|             Sales|111133|       Zhang|      Hauke|Manager|\n",
      "|   d008|          Research|111400|     Staelin|       Arie|Manager|\n",
      "|   d008|          Research|111534|      Kambil|     Hilary|Manager|\n",
      "+-------+------------------+------+------------+-----------+-------+\n",
      "only showing top 20 rows\n",
      "\n"
     ]
    }
   ],
   "source": [
    "dept_manager.join(departments, on='dept_no')\\\n",
    "    .join(employees, on='emp_no')\\\n",
    "    .join(titles, employees.emp_title_id == titles.title_id)\\\n",
    "    .select('dept_no','dept_name','emp_no','last_name','first_name','title').show()"
   ]
  },
  {
   "cell_type": "markdown",
   "metadata": {},
   "source": [
    "## **4. A list showing the department of each employee with the following information: employee number, last name, first name, and department name.**"
   ]
  },
  {
   "cell_type": "code",
   "execution_count": 20,
   "metadata": {},
   "outputs": [
    {
     "name": "stdout",
     "output_type": "stream",
     "text": [
      "+------+-----------+----------+------------------+\n",
      "|emp_no|  last_name|first_name|         dept_name|\n",
      "+------+-----------+----------+------------------+\n",
      "| 10001|    Facello|    Georgi|       development|\n",
      "| 10002|     Simmel|   Bezalel|             Sales|\n",
      "| 10003|    Bamford|     Parto|        Production|\n",
      "| 10004|    Koblick| Chirstian|        Production|\n",
      "| 10005|   Maliniak|   Kyoichi|   Human Resources|\n",
      "| 10006|    Preusig|    Anneke|       development|\n",
      "| 10007|  Zielinski|   Tzvetan|          Research|\n",
      "| 10008|   Kalloufi|    Saniya|       development|\n",
      "| 10009|       Peac|    Sumant|Quality Management|\n",
      "| 10010|   Piveteau| Duangkaew|Quality Management|\n",
      "| 10011|      Sluis|      Mary|  Customer Service|\n",
      "| 10012|  Bridgland|  Patricio|       development|\n",
      "| 10013|     Terkki| Eberhardt|   Human Resources|\n",
      "| 10014|      Genin|     Berni|       development|\n",
      "| 10015|  Nooteboom|  Guoxiang|          Research|\n",
      "| 10016|Cappelletti|  Kazuhito|             Sales|\n",
      "| 10017|  Bouloucos| Cristinel|         Marketing|\n",
      "| 10018|       Peha|  Kazuhide|       development|\n",
      "| 10019|    Haddadi|   Lillian|          Research|\n",
      "| 10020|    Warwick|    Mayuko|        Production|\n",
      "+------+-----------+----------+------------------+\n",
      "only showing top 20 rows\n",
      "\n"
     ]
    }
   ],
   "source": [
    "spark.sql(\"\"\"\n",
    "            SELECT e.emp_no, last_name, first_name, d.dept_name \n",
    "            FROM employees e \n",
    "            JOIN dept_emp de ON e.emp_no = de.emp_no \n",
    "            JOIN departments d ON de.dept_no = d.dept_no\n",
    "         \"\"\").show()"
   ]
  },
  {
   "cell_type": "code",
   "execution_count": 21,
   "metadata": {},
   "outputs": [
    {
     "name": "stdout",
     "output_type": "stream",
     "text": [
      "+------+-----------+----------+------------------+\n",
      "|emp_no|  last_name|first_name|         dept_name|\n",
      "+------+-----------+----------+------------------+\n",
      "| 10001|    Facello|    Georgi|       development|\n",
      "| 10002|     Simmel|   Bezalel|             Sales|\n",
      "| 10003|    Bamford|     Parto|        Production|\n",
      "| 10004|    Koblick| Chirstian|        Production|\n",
      "| 10005|   Maliniak|   Kyoichi|   Human Resources|\n",
      "| 10006|    Preusig|    Anneke|       development|\n",
      "| 10007|  Zielinski|   Tzvetan|          Research|\n",
      "| 10008|   Kalloufi|    Saniya|       development|\n",
      "| 10009|       Peac|    Sumant|Quality Management|\n",
      "| 10010|   Piveteau| Duangkaew|Quality Management|\n",
      "| 10011|      Sluis|      Mary|  Customer Service|\n",
      "| 10012|  Bridgland|  Patricio|       development|\n",
      "| 10013|     Terkki| Eberhardt|   Human Resources|\n",
      "| 10014|      Genin|     Berni|       development|\n",
      "| 10015|  Nooteboom|  Guoxiang|          Research|\n",
      "| 10016|Cappelletti|  Kazuhito|             Sales|\n",
      "| 10017|  Bouloucos| Cristinel|         Marketing|\n",
      "| 10018|       Peha|  Kazuhide|       development|\n",
      "| 10019|    Haddadi|   Lillian|          Research|\n",
      "| 10020|    Warwick|    Mayuko|        Production|\n",
      "+------+-----------+----------+------------------+\n",
      "only showing top 20 rows\n",
      "\n"
     ]
    }
   ],
   "source": [
    "employees.join(dept_emp, on='emp_no')\\\n",
    "    .join(departments, on='dept_no')\\\n",
    "    .select('emp_no','last_name','first_name','dept_name').show()"
   ]
  },
  {
   "cell_type": "markdown",
   "metadata": {},
   "source": [
    "## **5. A list showing first name, last name, and sex for employees whose first name is \"Hercules\" and last names begin with \"B\"**"
   ]
  },
  {
   "cell_type": "code",
   "execution_count": 22,
   "metadata": {},
   "outputs": [
    {
     "name": "stdout",
     "output_type": "stream",
     "text": [
      "+----------+-------------+---+\n",
      "|first_name|    last_name|sex|\n",
      "+----------+-------------+---+\n",
      "|  Hercules|   Benzmuller|  M|\n",
      "|  Hercules|      Brendel|  F|\n",
      "|  Hercules|   Baranowski|  M|\n",
      "|  Hercules|     Barreiro|  M|\n",
      "|  Hercules|         Baer|  M|\n",
      "|  Hercules|Bernardinello|  F|\n",
      "|  Hercules|      Basagni|  M|\n",
      "|  Hercules|        Biran|  F|\n",
      "|  Hercules|    Bernatsky|  M|\n",
      "|  Hercules|         Bail|  F|\n",
      "|  Hercules|        Birge|  F|\n",
      "|  Hercules|      Bisiani|  F|\n",
      "|  Hercules|       Bodoff|  M|\n",
      "|  Hercules|        Biron|  F|\n",
      "|  Hercules|      Buchter|  M|\n",
      "|  Hercules|         Bain|  F|\n",
      "|  Hercules|         Bahr|  M|\n",
      "|  Hercules|         Baak|  M|\n",
      "|  Hercules|     Benantar|  F|\n",
      "|  Hercules|      Berstel|  F|\n",
      "+----------+-------------+---+\n",
      "\n"
     ]
    }
   ],
   "source": [
    "spark.sql(\"\"\"\n",
    "            SELECT first_name, last_name, sex \n",
    "            FROM employees \n",
    "            WHERE first_name = 'Hercules' AND last_name LIKE 'B%'\n",
    "         \"\"\").show()"
   ]
  },
  {
   "cell_type": "code",
   "execution_count": 23,
   "metadata": {},
   "outputs": [
    {
     "name": "stdout",
     "output_type": "stream",
     "text": [
      "+----------+-------------+---+\n",
      "|first_name|    last_name|sex|\n",
      "+----------+-------------+---+\n",
      "|  Hercules|   Benzmuller|  M|\n",
      "|  Hercules|      Brendel|  F|\n",
      "|  Hercules|   Baranowski|  M|\n",
      "|  Hercules|     Barreiro|  M|\n",
      "|  Hercules|         Baer|  M|\n",
      "|  Hercules|Bernardinello|  F|\n",
      "|  Hercules|      Basagni|  M|\n",
      "|  Hercules|        Biran|  F|\n",
      "|  Hercules|    Bernatsky|  M|\n",
      "|  Hercules|         Bail|  F|\n",
      "|  Hercules|        Birge|  F|\n",
      "|  Hercules|      Bisiani|  F|\n",
      "|  Hercules|       Bodoff|  M|\n",
      "|  Hercules|        Biron|  F|\n",
      "|  Hercules|      Buchter|  M|\n",
      "|  Hercules|         Bain|  F|\n",
      "|  Hercules|         Bahr|  M|\n",
      "|  Hercules|         Baak|  M|\n",
      "|  Hercules|     Benantar|  F|\n",
      "|  Hercules|      Berstel|  F|\n",
      "+----------+-------------+---+\n",
      "\n"
     ]
    }
   ],
   "source": [
    "employees[(col('first_name') == 'Hercules') & (col('last_name').like('B%'))]\\\n",
    "    .select('first_name','last_name','sex').show()"
   ]
  },
  {
   "cell_type": "markdown",
   "metadata": {},
   "source": [
    "## **6. A list showing all employees in the Sales department, including their employee number, last name, first name, and department name.**"
   ]
  },
  {
   "cell_type": "code",
   "execution_count": 24,
   "metadata": {},
   "outputs": [
    {
     "name": "stdout",
     "output_type": "stream",
     "text": [
      "+------+------------+----------+---------+\n",
      "|emp_no|   last_name|first_name|dept_name|\n",
      "+------+------------+----------+---------+\n",
      "| 10002|      Simmel|   Bezalel|    Sales|\n",
      "| 10016| Cappelletti|  Kazuhito|    Sales|\n",
      "| 10034|        Swan|     Bader|    Sales|\n",
      "| 10041|      Lenart|       Uri|    Sales|\n",
      "| 10050|      Dredge|   Yinghua|    Sales|\n",
      "| 10053|    Zschoche|    Sanjiv|    Sales|\n",
      "| 10061|      Herber|       Tse|    Sales|\n",
      "| 10068|     Brattka|  Charlene|    Sales|\n",
      "| 10087|     Eugenio|   Xinglin|    Sales|\n",
      "| 10089|Flasterstein| Sudharsan|    Sales|\n",
      "| 10093|     Desikan|   Sailaja|    Sales|\n",
      "| 10095|      Morton|    Hilari|    Sales|\n",
      "| 10099|     Sullins|    Valter|    Sales|\n",
      "| 10101|      Heyers|     Perla|    Sales|\n",
      "| 10107|        Baca|      Dung|    Sales|\n",
      "| 10125|     Hiltgen|     Syozo|    Sales|\n",
      "| 10136|    Pintelas|    Zissis|    Sales|\n",
      "| 10148|       Azumi|    Douadi|    Sales|\n",
      "| 10149|       Perry|   Xiadong|    Sales|\n",
      "| 10151|    Lichtner|   Itzchak|    Sales|\n",
      "+------+------------+----------+---------+\n",
      "only showing top 20 rows\n",
      "\n"
     ]
    }
   ],
   "source": [
    "spark.sql(\"\"\"\n",
    "            SELECT e.emp_no, e.last_name, e.first_name, d.dept_name\n",
    "            FROM employees e \n",
    "            JOIN dept_emp de ON e.emp_no = de.emp_no \n",
    "            JOIN departments d ON de.dept_no = d.dept_no AND d.dept_name = 'Sales'\n",
    "         \"\"\").show()"
   ]
  },
  {
   "cell_type": "code",
   "execution_count": 25,
   "metadata": {},
   "outputs": [
    {
     "name": "stdout",
     "output_type": "stream",
     "text": [
      "+------+------------+----------+---------+\n",
      "|emp_no|   last_name|first_name|dept_name|\n",
      "+------+------------+----------+---------+\n",
      "| 10002|      Simmel|   Bezalel|    Sales|\n",
      "| 10016| Cappelletti|  Kazuhito|    Sales|\n",
      "| 10034|        Swan|     Bader|    Sales|\n",
      "| 10041|      Lenart|       Uri|    Sales|\n",
      "| 10050|      Dredge|   Yinghua|    Sales|\n",
      "| 10053|    Zschoche|    Sanjiv|    Sales|\n",
      "| 10061|      Herber|       Tse|    Sales|\n",
      "| 10068|     Brattka|  Charlene|    Sales|\n",
      "| 10087|     Eugenio|   Xinglin|    Sales|\n",
      "| 10089|Flasterstein| Sudharsan|    Sales|\n",
      "| 10093|     Desikan|   Sailaja|    Sales|\n",
      "| 10095|      Morton|    Hilari|    Sales|\n",
      "| 10099|     Sullins|    Valter|    Sales|\n",
      "| 10101|      Heyers|     Perla|    Sales|\n",
      "| 10107|        Baca|      Dung|    Sales|\n",
      "| 10125|     Hiltgen|     Syozo|    Sales|\n",
      "| 10136|    Pintelas|    Zissis|    Sales|\n",
      "| 10148|       Azumi|    Douadi|    Sales|\n",
      "| 10149|       Perry|   Xiadong|    Sales|\n",
      "| 10151|    Lichtner|   Itzchak|    Sales|\n",
      "+------+------------+----------+---------+\n",
      "only showing top 20 rows\n",
      "\n"
     ]
    }
   ],
   "source": [
    "employees.join(dept_emp, on='emp_no')\\\n",
    "    .join(departments[col('dept_name')=='Sales'], on='dept_no')\\\n",
    "    .select('emp_no','last_name','first_name','dept_name').show()"
   ]
  },
  {
   "cell_type": "markdown",
   "metadata": {},
   "source": [
    "## **7. A list showing all employees in the Sales and Development departments, including their employee number, last name, first name, and department name.**"
   ]
  },
  {
   "cell_type": "code",
   "execution_count": 26,
   "metadata": {},
   "outputs": [
    {
     "name": "stdout",
     "output_type": "stream",
     "text": [
      "+------+-----------+----------+-----------+\n",
      "|emp_no|  last_name|first_name|  dept_name|\n",
      "+------+-----------+----------+-----------+\n",
      "| 10001|    Facello|    Georgi|development|\n",
      "| 10002|     Simmel|   Bezalel|      Sales|\n",
      "| 10006|    Preusig|    Anneke|development|\n",
      "| 10008|   Kalloufi|    Saniya|development|\n",
      "| 10012|  Bridgland|  Patricio|development|\n",
      "| 10014|      Genin|     Berni|development|\n",
      "| 10016|Cappelletti|  Kazuhito|      Sales|\n",
      "| 10018|       Peha|  Kazuhide|development|\n",
      "| 10021|       Erde|     Ramzi|development|\n",
      "| 10022|     Famili|    Shahaf|development|\n",
      "| 10023| Montemayor|     Bojan|development|\n",
      "| 10025|     Heyers| Prasadram|development|\n",
      "| 10027|    Reistad|    Divier|development|\n",
      "| 10028|   Tempesti|  Domenick|development|\n",
      "| 10031|     Joslin|   Karsten|development|\n",
      "| 10034|       Swan|     Bader|      Sales|\n",
      "| 10037|   Makrucki|   Pradeep|development|\n",
      "| 10041|     Lenart|       Uri|      Sales|\n",
      "| 10043|    Tzvieli|    Yishay|development|\n",
      "| 10048|   Syrotiuk|   Florian|development|\n",
      "+------+-----------+----------+-----------+\n",
      "only showing top 20 rows\n",
      "\n"
     ]
    }
   ],
   "source": [
    "spark.sql(\"\"\"\n",
    "            SELECT e.emp_no, e.last_name, e.first_name, d.dept_name\n",
    "            FROM employees e \n",
    "            JOIN dept_emp de ON e.emp_no = de.emp_no \n",
    "            JOIN departments d ON de.dept_no = d.dept_no AND d.dept_name IN ('Sales','development')\n",
    "         \"\"\").show()"
   ]
  },
  {
   "cell_type": "code",
   "execution_count": 27,
   "metadata": {},
   "outputs": [
    {
     "name": "stdout",
     "output_type": "stream",
     "text": [
      "+------+-----------+----------+-----------+\n",
      "|emp_no|  last_name|first_name|  dept_name|\n",
      "+------+-----------+----------+-----------+\n",
      "| 10001|    Facello|    Georgi|development|\n",
      "| 10002|     Simmel|   Bezalel|      Sales|\n",
      "| 10006|    Preusig|    Anneke|development|\n",
      "| 10008|   Kalloufi|    Saniya|development|\n",
      "| 10012|  Bridgland|  Patricio|development|\n",
      "| 10014|      Genin|     Berni|development|\n",
      "| 10016|Cappelletti|  Kazuhito|      Sales|\n",
      "| 10018|       Peha|  Kazuhide|development|\n",
      "| 10021|       Erde|     Ramzi|development|\n",
      "| 10022|     Famili|    Shahaf|development|\n",
      "| 10023| Montemayor|     Bojan|development|\n",
      "| 10025|     Heyers| Prasadram|development|\n",
      "| 10027|    Reistad|    Divier|development|\n",
      "| 10028|   Tempesti|  Domenick|development|\n",
      "| 10031|     Joslin|   Karsten|development|\n",
      "| 10034|       Swan|     Bader|      Sales|\n",
      "| 10037|   Makrucki|   Pradeep|development|\n",
      "| 10041|     Lenart|       Uri|      Sales|\n",
      "| 10043|    Tzvieli|    Yishay|development|\n",
      "| 10048|   Syrotiuk|   Florian|development|\n",
      "+------+-----------+----------+-----------+\n",
      "only showing top 20 rows\n",
      "\n"
     ]
    }
   ],
   "source": [
    "employees.join(dept_emp, on='emp_no')\\\n",
    "    .join(departments[col('dept_name').isin('Sales','development')], on='dept_no')\\\n",
    "    .select('emp_no','last_name','first_name','dept_name').show()"
   ]
  },
  {
   "cell_type": "markdown",
   "metadata": {},
   "source": [
    "## **8. A list showing the frequency count of employee last names, in descending order. ( i.e., how many employees share each last name**"
   ]
  },
  {
   "cell_type": "code",
   "execution_count": 28,
   "metadata": {},
   "outputs": [
    {
     "name": "stdout",
     "output_type": "stream",
     "text": [
      "+-----------+-------------+\n",
      "|  last_name|Last_name_cnt|\n",
      "+-----------+-------------+\n",
      "|       Baba|          226|\n",
      "|     Gelosh|          223|\n",
      "|      Coorg|          223|\n",
      "|     Farris|          222|\n",
      "|    Sudbeck|          222|\n",
      "|     Adachi|          221|\n",
      "|     Osgood|          220|\n",
      "|     Neiman|          218|\n",
      "|    Mandell|          218|\n",
      "|     Masada|          218|\n",
      "|Boudaillier|          217|\n",
      "|    Wendorf|          217|\n",
      "|   Cummings|          216|\n",
      "|     Pettis|          216|\n",
      "|    Solares|          216|\n",
      "|     Mahnke|          216|\n",
      "|     Emmart|          215|\n",
      "|    Kulisch|          215|\n",
      "|   Birjandi|          215|\n",
      "| Maksimenko|          215|\n",
      "+-----------+-------------+\n",
      "only showing top 20 rows\n",
      "\n"
     ]
    }
   ],
   "source": [
    "spark.sql(\"\"\"\n",
    "            SELECT last_name, count(*) AS Last_name_cnt\n",
    "            FROM employees\n",
    "            GROUP BY last_name\n",
    "            ORDER BY Last_name_cnt DESC\n",
    "         \"\"\").show()"
   ]
  },
  {
   "cell_type": "code",
   "execution_count": 29,
   "metadata": {},
   "outputs": [
    {
     "name": "stdout",
     "output_type": "stream",
     "text": [
      "+-----------+-------------+\n",
      "|  last_name|Last_name_cnt|\n",
      "+-----------+-------------+\n",
      "|       Baba|          226|\n",
      "|     Gelosh|          223|\n",
      "|      Coorg|          223|\n",
      "|    Sudbeck|          222|\n",
      "|     Farris|          222|\n",
      "|     Adachi|          221|\n",
      "|     Osgood|          220|\n",
      "|     Masada|          218|\n",
      "|     Neiman|          218|\n",
      "|    Mandell|          218|\n",
      "|Boudaillier|          217|\n",
      "|    Wendorf|          217|\n",
      "|    Solares|          216|\n",
      "|   Cummings|          216|\n",
      "|     Pettis|          216|\n",
      "|     Mahnke|          216|\n",
      "|   Collette|          215|\n",
      "|     Emmart|          215|\n",
      "|   Birjandi|          215|\n",
      "|    Kulisch|          215|\n",
      "+-----------+-------------+\n",
      "only showing top 20 rows\n",
      "\n"
     ]
    }
   ],
   "source": [
    "employees.groupBy('last_name').agg(count('emp_no').alias('Last_name_cnt'))\\\n",
    "    .orderBy(col('Last_name_cnt').desc()).show()"
   ]
  },
  {
   "cell_type": "markdown",
   "metadata": {},
   "source": [
    "## **9. Histogram to show the salary distribution among the employees**"
   ]
  },
  {
   "cell_type": "code",
   "execution_count": 30,
   "metadata": {},
   "outputs": [
    {
     "data": {
      "image/png": "[encoded data removed]",
      "text/plain": [
       "<Figure size 720x432 with 1 Axes>"
      ]
     },
     "metadata": {},
     "output_type": "display_data"
    }
   ],
   "source": [
    "sns.set(rc={\"figure.figsize\": (10, 6)})\n",
    "sns.distplot(salaries.select('salary').toPandas(), norm_hist=True)\n",
    "plt.show()"
   ]
  },
  {
   "cell_type": "code",
   "execution_count": 31,
   "metadata": {},
   "outputs": [
    {
     "data": {
      "image/png": "[encoded data removed]",
      "text/plain": [
       "<Figure size 720x432 with 1 Axes>"
      ]
     },
     "metadata": {},
     "output_type": "display_data"
    }
   ],
   "source": [
    "plt.hist(salaries.select('salary').toPandas().values)\n",
    "plt.xlabel('Salaries')\n",
    "plt.ylabel('Counts of Employess')\n",
    "plt.show()"
   ]
  },
  {
   "cell_type": "markdown",
   "metadata": {},
   "source": [
    "## **10. Bar graph to show the Average salary per title (designation)**"
   ]
  },
  {
   "cell_type": "code",
   "execution_count": 32,
   "metadata": {},
   "outputs": [
    {
     "data": {
      "text/html": [
       "<div>\n",
       "<style scoped>\n",
       "    .dataframe tbody tr th:only-of-type {\n",
       "        vertical-align: middle;\n",
       "    }\n",
       "\n",
       "    .dataframe tbody tr th {\n",
       "        vertical-align: top;\n",
       "    }\n",
       "\n",
       "    .dataframe thead th {\n",
       "        text-align: right;\n",
       "    }\n",
       "</style>\n",
       "<table border=\"1\" class=\"dataframe\">\n",
       "  <thead>\n",
       "    <tr style=\"text-align: right;\">\n",
       "      <th></th>\n",
       "      <th>title</th>\n",
       "      <th>Avg_Salary</th>\n",
       "      <th>Max_Salary</th>\n",
       "      <th>Min_Salary</th>\n",
       "    </tr>\n",
       "  </thead>\n",
       "  <tbody>\n",
       "    <tr>\n",
       "      <th>0</th>\n",
       "      <td>Staff</td>\n",
       "      <td>58465.382850</td>\n",
       "      <td>129492</td>\n",
       "      <td>40000</td>\n",
       "    </tr>\n",
       "    <tr>\n",
       "      <th>1</th>\n",
       "      <td>Assistant Engineer</td>\n",
       "      <td>48564.434447</td>\n",
       "      <td>99683</td>\n",
       "      <td>40000</td>\n",
       "    </tr>\n",
       "    <tr>\n",
       "      <th>2</th>\n",
       "      <td>Senior Staff</td>\n",
       "      <td>58550.172704</td>\n",
       "      <td>127238</td>\n",
       "      <td>40000</td>\n",
       "    </tr>\n",
       "    <tr>\n",
       "      <th>3</th>\n",
       "      <td>Senior Engineer</td>\n",
       "      <td>48506.799871</td>\n",
       "      <td>110449</td>\n",
       "      <td>40000</td>\n",
       "    </tr>\n",
       "    <tr>\n",
       "      <th>4</th>\n",
       "      <td>Engineer</td>\n",
       "      <td>48535.336511</td>\n",
       "      <td>100683</td>\n",
       "      <td>40000</td>\n",
       "    </tr>\n",
       "    <tr>\n",
       "      <th>5</th>\n",
       "      <td>Manager</td>\n",
       "      <td>51531.041667</td>\n",
       "      <td>72446</td>\n",
       "      <td>40000</td>\n",
       "    </tr>\n",
       "    <tr>\n",
       "      <th>6</th>\n",
       "      <td>Technique Leader</td>\n",
       "      <td>48582.896092</td>\n",
       "      <td>104065</td>\n",
       "      <td>40000</td>\n",
       "    </tr>\n",
       "  </tbody>\n",
       "</table>\n",
       "</div>"
      ],
      "text/plain": [
       "                title    Avg_Salary  Max_Salary  Min_Salary\n",
       "0               Staff  58465.382850      129492       40000\n",
       "1  Assistant Engineer  48564.434447       99683       40000\n",
       "2        Senior Staff  58550.172704      127238       40000\n",
       "3     Senior Engineer  48506.799871      110449       40000\n",
       "4            Engineer  48535.336511      100683       40000\n",
       "5             Manager  51531.041667       72446       40000\n",
       "6    Technique Leader  48582.896092      104065       40000"
      ]
     },
     "execution_count": 32,
     "metadata": {},
     "output_type": "execute_result"
    }
   ],
   "source": [
    "q10 = spark.sql(\"\"\"\n",
    "            SELECT \n",
    "                t.title, \n",
    "                avg(Salary) Avg_Salary, \n",
    "                max(Salary) Max_Salary, \n",
    "                min(Salary) Min_Salary\n",
    "            FROM salaries s\n",
    "            JOIN employees e ON s.emp_no = e.emp_no\n",
    "            JOIN titles t ON e.emp_title_id = t.title_id\n",
    "            GROUP BY t.title\n",
    "         \"\"\").toPandas()\n",
    "q10.head(10)"
   ]
  },
  {
   "cell_type": "code",
   "execution_count": 33,
   "metadata": {},
   "outputs": [
    {
     "data": {
      "image/png": "[encoded data removed]",
      "text/plain": [
       "<Figure size 1080x432 with 1 Axes>"
      ]
     },
     "metadata": {},
     "output_type": "display_data"
    }
   ],
   "source": [
    "sns.set(rc={\"figure.figsize\": (15, 6)})\n",
    "sns.barplot(data=q10, x='title', y='Avg_Salary')\n",
    "plt.show()"
   ]
  },
  {
   "cell_type": "markdown",
   "metadata": {},
   "source": [
    "## **11. Calculate employee tenure & show the tenure distribution among the employees**"
   ]
  },
  {
   "cell_type": "code",
   "execution_count": 34,
   "metadata": {},
   "outputs": [
    {
     "data": {
      "text/html": [
       "<div>\n",
       "<style scoped>\n",
       "    .dataframe tbody tr th:only-of-type {\n",
       "        vertical-align: middle;\n",
       "    }\n",
       "\n",
       "    .dataframe tbody tr th {\n",
       "        vertical-align: top;\n",
       "    }\n",
       "\n",
       "    .dataframe thead th {\n",
       "        text-align: right;\n",
       "    }\n",
       "</style>\n",
       "<table border=\"1\" class=\"dataframe\">\n",
       "  <thead>\n",
       "    <tr style=\"text-align: right;\">\n",
       "      <th></th>\n",
       "      <th>Tenure_Years</th>\n",
       "      <th>Tenure_cnt</th>\n",
       "    </tr>\n",
       "  </thead>\n",
       "  <tbody>\n",
       "    <tr>\n",
       "      <th>0</th>\n",
       "      <td>27</td>\n",
       "      <td>32530</td>\n",
       "    </tr>\n",
       "    <tr>\n",
       "      <th>1</th>\n",
       "      <td>28</td>\n",
       "      <td>31832</td>\n",
       "    </tr>\n",
       "    <tr>\n",
       "      <th>2</th>\n",
       "      <td>26</td>\n",
       "      <td>30175</td>\n",
       "    </tr>\n",
       "    <tr>\n",
       "      <th>3</th>\n",
       "      <td>25</td>\n",
       "      <td>28210</td>\n",
       "    </tr>\n",
       "    <tr>\n",
       "      <th>4</th>\n",
       "      <td>24</td>\n",
       "      <td>25607</td>\n",
       "    </tr>\n",
       "  </tbody>\n",
       "</table>\n",
       "</div>"
      ],
      "text/plain": [
       "   Tenure_Years  Tenure_cnt\n",
       "0            27       32530\n",
       "1            28       31832\n",
       "2            26       30175\n",
       "3            25       28210\n",
       "4            24       25607"
      ]
     },
     "execution_count": 34,
     "metadata": {},
     "output_type": "execute_result"
    }
   ],
   "source": [
    "q11 = spark.sql(\"\"\"\n",
    "           SELECT \n",
    "                CASE WHEN last_date IS NULL \n",
    "                     THEN (SELECT year(greatest(max(last_date), max(hire_date))) FROM employees)-year(hire_date)\n",
    "                ELSE year(last_date)-year(hire_date) END AS Tenure_Years, \n",
    "                count(*) AS Tenure_cnt\n",
    "            FROM employees\n",
    "            GROUP BY Tenure_Years\n",
    "            ORDER BY Tenure_cnt DESC\n",
    "         \"\"\").toPandas()\n",
    "q11.head()"
   ]
  },
  {
   "cell_type": "code",
   "execution_count": 35,
   "metadata": {},
   "outputs": [
    {
     "data": {
      "text/html": [
       "<div>\n",
       "<style scoped>\n",
       "    .dataframe tbody tr th:only-of-type {\n",
       "        vertical-align: middle;\n",
       "    }\n",
       "\n",
       "    .dataframe tbody tr th {\n",
       "        vertical-align: top;\n",
       "    }\n",
       "\n",
       "    .dataframe thead th {\n",
       "        text-align: right;\n",
       "    }\n",
       "</style>\n",
       "<table border=\"1\" class=\"dataframe\">\n",
       "  <thead>\n",
       "    <tr style=\"text-align: right;\">\n",
       "      <th></th>\n",
       "      <th>Tenure_Years</th>\n",
       "      <th>Tenure_cnt</th>\n",
       "    </tr>\n",
       "  </thead>\n",
       "  <tbody>\n",
       "    <tr>\n",
       "      <th>0</th>\n",
       "      <td>27</td>\n",
       "      <td>32530</td>\n",
       "    </tr>\n",
       "    <tr>\n",
       "      <th>1</th>\n",
       "      <td>28</td>\n",
       "      <td>31832</td>\n",
       "    </tr>\n",
       "    <tr>\n",
       "      <th>2</th>\n",
       "      <td>26</td>\n",
       "      <td>30175</td>\n",
       "    </tr>\n",
       "    <tr>\n",
       "      <th>3</th>\n",
       "      <td>25</td>\n",
       "      <td>28210</td>\n",
       "    </tr>\n",
       "    <tr>\n",
       "      <th>4</th>\n",
       "      <td>24</td>\n",
       "      <td>25607</td>\n",
       "    </tr>\n",
       "  </tbody>\n",
       "</table>\n",
       "</div>"
      ],
      "text/plain": [
       "   Tenure_Years  Tenure_cnt\n",
       "0            27       32530\n",
       "1            28       31832\n",
       "2            26       30175\n",
       "3            25       28210\n",
       "4            24       25607"
      ]
     },
     "execution_count": 35,
     "metadata": {},
     "output_type": "execute_result"
    }
   ],
   "source": [
    "employees.groupBy('Tenure_Years').agg(count('emp_no').alias('Tenure_cnt'))\\\n",
    "    .orderBy(col('Tenure_cnt').desc()).toPandas().head()"
   ]
  },
  {
   "cell_type": "code",
   "execution_count": 36,
   "metadata": {},
   "outputs": [
    {
     "data": {
      "image/png": "[encoded data removed]",
      "text/plain": [
       "<Figure size 1080x432 with 1 Axes>"
      ]
     },
     "metadata": {},
     "output_type": "display_data"
    }
   ],
   "source": [
    "sns.set(rc={\"figure.figsize\": (15, 6)})\n",
    "sns.barplot(data=q11, x='Tenure_Years', y='Tenure_cnt',\\\n",
    "           order=q11.sort_values('Tenure_cnt',ascending = False).Tenure_Years)\n",
    "plt.show()"
   ]
  },
  {
   "cell_type": "markdown",
   "metadata": {},
   "source": [
    "## **12. Count of Employee Status (Currently working or Left) in different departments grouped by gender**"
   ]
  },
  {
   "cell_type": "code",
   "execution_count": 37,
   "metadata": {},
   "outputs": [
    {
     "name": "stdout",
     "output_type": "stream",
     "text": [
      "+------------------+---+-----------+-------------+----------+\n",
      "|         dept_name|sex|Total_Count|Working_Count|Left_Count|\n",
      "+------------------+---+-----------+-------------+----------+\n",
      "|Quality Management|  M|      12039|        10839|      1200|\n",
      "|           Finance|  F|       5961|         5388|       573|\n",
      "|   Human Resources|  M|      10711|         9635|      1076|\n",
      "|Quality Management|  F|       8078|         7260|       818|\n",
      "|   Human Resources|  F|       7075|         6354|       721|\n",
      "|             Sales|  M|      29810|        26755|      3055|\n",
      "|  Customer Service|  M|      14132|        12713|      1419|\n",
      "|       development|  M|      47277|        42512|      4765|\n",
      "|         Marketing|  F|       5850|         5304|       546|\n",
      "|          Research|  F|       8439|         7601|       838|\n",
      "|        Production|  F|      23912|        21460|      2452|\n",
      "|          Research|  M|      12687|        11427|      1260|\n",
      "|           Finance|  M|       8756|         7929|       827|\n",
      "|             Sales|  F|      19851|        17954|      1897|\n",
      "|  Customer Service|  F|       9448|         8453|       995|\n",
      "|       development|  F|      31437|        28370|      3067|\n",
      "|        Production|  M|      35577|        32069|      3508|\n",
      "|         Marketing|  M|       8984|         8134|       850|\n",
      "+------------------+---+-----------+-------------+----------+\n",
      "\n"
     ]
    }
   ],
   "source": [
    "spark.sql(\"\"\"\n",
    "            SELECT\n",
    "                dept_name, sex,\n",
    "                count(Left2) Total_Count,\n",
    "                sum(CASE WHEN Left2 = 0 THEN 1 ELSE 0 END) Working_Count,\n",
    "                sum(Left2) Left_Count\n",
    "            FROM Employees e\n",
    "            JOIN dept_emp de ON e.emp_no = de.emp_no\n",
    "            JOIN departments d ON de.dept_no = d.dept_no\n",
    "            GROUP BY dept_name, sex\n",
    "         \"\"\").show()"
   ]
  },
  {
   "cell_type": "markdown",
   "metadata": {},
   "source": [
    "# 13. Max, Min and Avg age of Employees in diffrent departments"
   ]
  },
  {
   "cell_type": "code",
   "execution_count": 38,
   "metadata": {},
   "outputs": [
    {
     "name": "stdout",
     "output_type": "stream",
     "text": [
      "+------------------+--------+--------+------------------+\n",
      "|         dept_name|min(Age)|max(Age)|          avg(Age)|\n",
      "+------------------+--------+--------+------------------+\n",
      "|             Sales|      48|      61| 54.91617164374459|\n",
      "|Quality Management|      48|      61| 54.94397773027787|\n",
      "|           Finance|      48|      61|  54.9266154786981|\n",
      "|        Production|      48|      61| 54.93388693708081|\n",
      "|          Research|      48|      61|54.902821168228726|\n",
      "|  Customer Service|      48|      61| 54.91675148430873|\n",
      "|         Marketing|      48|      61| 54.92153161655656|\n",
      "|       development|      48|      61|  54.8962446324669|\n",
      "|   Human Resources|      48|      61| 54.94900483526369|\n",
      "+------------------+--------+--------+------------------+\n",
      "\n"
     ]
    }
   ],
   "source": [
    "spark.sql(\"\"\"\n",
    "           SELECT dept_name, min(Age), max(Age), avg(Age)\n",
    "           FROM (\n",
    "            SELECT\n",
    "                dept_name, e.emp_no,\n",
    "                    (SELECT year(greatest(max(last_date), max(hire_date))) FROM Employees)-year(birth_date) Age\n",
    "            FROM employees e\n",
    "            JOIN dept_emp de ON e.emp_no = de.emp_no\n",
    "            JOIN departments d ON de.dept_no = d.dept_no \n",
    "            )a\n",
    "          GROUP BY dept_name\n",
    "         \"\"\").show()"
   ]
  },
  {
   "cell_type": "markdown",
   "metadata": {},
   "source": [
    "The Age group distribution is very uniform accross all the departments. "
   ]
  },
  {
   "cell_type": "markdown",
   "metadata": {},
   "source": [
    "# 14. Count of Employees in various titles"
   ]
  },
  {
   "cell_type": "code",
   "execution_count": 39,
   "metadata": {},
   "outputs": [
    {
     "data": {
      "text/html": [
       "<div>\n",
       "<style scoped>\n",
       "    .dataframe tbody tr th:only-of-type {\n",
       "        vertical-align: middle;\n",
       "    }\n",
       "\n",
       "    .dataframe tbody tr th {\n",
       "        vertical-align: top;\n",
       "    }\n",
       "\n",
       "    .dataframe thead th {\n",
       "        text-align: right;\n",
       "    }\n",
       "</style>\n",
       "<table border=\"1\" class=\"dataframe\">\n",
       "  <thead>\n",
       "    <tr style=\"text-align: right;\">\n",
       "      <th></th>\n",
       "      <th>title</th>\n",
       "      <th>Emp_Count</th>\n",
       "    </tr>\n",
       "  </thead>\n",
       "  <tbody>\n",
       "    <tr>\n",
       "      <th>0</th>\n",
       "      <td>Staff</td>\n",
       "      <td>107384</td>\n",
       "    </tr>\n",
       "    <tr>\n",
       "      <th>1</th>\n",
       "      <td>Senior Engineer</td>\n",
       "      <td>97747</td>\n",
       "    </tr>\n",
       "    <tr>\n",
       "      <th>2</th>\n",
       "      <td>Engineer</td>\n",
       "      <td>47303</td>\n",
       "    </tr>\n",
       "    <tr>\n",
       "      <th>3</th>\n",
       "      <td>Senior Staff</td>\n",
       "      <td>26583</td>\n",
       "    </tr>\n",
       "    <tr>\n",
       "      <th>4</th>\n",
       "      <td>Technique Leader</td>\n",
       "      <td>15148</td>\n",
       "    </tr>\n",
       "    <tr>\n",
       "      <th>5</th>\n",
       "      <td>Assistant Engineer</td>\n",
       "      <td>5835</td>\n",
       "    </tr>\n",
       "    <tr>\n",
       "      <th>6</th>\n",
       "      <td>Manager</td>\n",
       "      <td>24</td>\n",
       "    </tr>\n",
       "  </tbody>\n",
       "</table>\n",
       "</div>"
      ],
      "text/plain": [
       "                title  Emp_Count\n",
       "0               Staff     107384\n",
       "1     Senior Engineer      97747\n",
       "2            Engineer      47303\n",
       "3        Senior Staff      26583\n",
       "4    Technique Leader      15148\n",
       "5  Assistant Engineer       5835\n",
       "6             Manager         24"
      ]
     },
     "execution_count": 39,
     "metadata": {},
     "output_type": "execute_result"
    }
   ],
   "source": [
    "q14 = spark.sql(\"\"\"\n",
    "            SELECT \n",
    "                t.title, \n",
    "                count(Salary) Emp_Count\n",
    "            FROM salaries s\n",
    "            JOIN employees e ON s.emp_no = e.emp_no\n",
    "            JOIN titles t ON e.emp_title_id = t.title_id\n",
    "            GROUP BY t.title\n",
    "            ORDER BY Emp_Count DESC\n",
    "         \"\"\").toPandas()\n",
    "q14.head(10)"
   ]
  },
  {
   "cell_type": "code",
   "execution_count": 40,
   "metadata": {},
   "outputs": [
    {
     "data": {
      "image/png": "[encoded data removed]",
      "text/plain": [
       "<Figure size 1080x432 with 1 Axes>"
      ]
     },
     "metadata": {},
     "output_type": "display_data"
    }
   ],
   "source": [
    "sns.set(rc={\"figure.figsize\": (15, 6)})\n",
    "sns.barplot(data=q14, x='title', y='Emp_Count')\n",
    "plt.show()"
   ]
  },
  {
   "cell_type": "markdown",
   "metadata": {},
   "source": [
    "# 15 Average Tenure Distribution accross Departments"
   ]
  },
  {
   "cell_type": "code",
   "execution_count": 41,
   "metadata": {},
   "outputs": [
    {
     "data": {
      "text/html": [
       "<div>\n",
       "<style scoped>\n",
       "    .dataframe tbody tr th:only-of-type {\n",
       "        vertical-align: middle;\n",
       "    }\n",
       "\n",
       "    .dataframe tbody tr th {\n",
       "        vertical-align: top;\n",
       "    }\n",
       "\n",
       "    .dataframe thead th {\n",
       "        text-align: right;\n",
       "    }\n",
       "</style>\n",
       "<table border=\"1\" class=\"dataframe\">\n",
       "  <thead>\n",
       "    <tr style=\"text-align: right;\">\n",
       "      <th></th>\n",
       "      <th>dept_name</th>\n",
       "      <th>Tenure</th>\n",
       "    </tr>\n",
       "  </thead>\n",
       "  <tbody>\n",
       "    <tr>\n",
       "      <th>0</th>\n",
       "      <td>Finance</td>\n",
       "      <td>21.911123</td>\n",
       "    </tr>\n",
       "    <tr>\n",
       "      <th>1</th>\n",
       "      <td>Marketing</td>\n",
       "      <td>21.899285</td>\n",
       "    </tr>\n",
       "    <tr>\n",
       "      <th>2</th>\n",
       "      <td>Research</td>\n",
       "      <td>21.864480</td>\n",
       "    </tr>\n",
       "    <tr>\n",
       "      <th>3</th>\n",
       "      <td>Production</td>\n",
       "      <td>21.835213</td>\n",
       "    </tr>\n",
       "    <tr>\n",
       "      <th>4</th>\n",
       "      <td>Sales</td>\n",
       "      <td>21.832484</td>\n",
       "    </tr>\n",
       "    <tr>\n",
       "      <th>5</th>\n",
       "      <td>development</td>\n",
       "      <td>21.829598</td>\n",
       "    </tr>\n",
       "    <tr>\n",
       "      <th>6</th>\n",
       "      <td>Quality Management</td>\n",
       "      <td>21.800517</td>\n",
       "    </tr>\n",
       "    <tr>\n",
       "      <th>7</th>\n",
       "      <td>Customer Service</td>\n",
       "      <td>21.790967</td>\n",
       "    </tr>\n",
       "    <tr>\n",
       "      <th>8</th>\n",
       "      <td>Human Resources</td>\n",
       "      <td>21.787473</td>\n",
       "    </tr>\n",
       "  </tbody>\n",
       "</table>\n",
       "</div>"
      ],
      "text/plain": [
       "            dept_name     Tenure\n",
       "0             Finance  21.911123\n",
       "1           Marketing  21.899285\n",
       "2            Research  21.864480\n",
       "3          Production  21.835213\n",
       "4               Sales  21.832484\n",
       "5         development  21.829598\n",
       "6  Quality Management  21.800517\n",
       "7    Customer Service  21.790967\n",
       "8     Human Resources  21.787473"
      ]
     },
     "execution_count": 41,
     "metadata": {},
     "output_type": "execute_result"
    }
   ],
   "source": [
    "q15 = spark.sql(\"\"\"\n",
    "            SELECT \n",
    "                dept_name, \n",
    "                avg(Tenure_Years) Tenure\n",
    "            FROM employees_at e\n",
    "            JOIN dept_emp de ON e.emp_no = de.emp_no\n",
    "            JOIN departments d ON de.dept_no = d.dept_no\n",
    "            GROUP BY dept_name\n",
    "            ORDER BY Tenure DESC\n",
    "         \"\"\").toPandas()\n",
    "q15.head(10)"
   ]
  },
  {
   "cell_type": "code",
   "execution_count": 42,
   "metadata": {},
   "outputs": [
    {
     "data": {
      "image/png": "[encoded data removed]",
      "text/plain": [
       "<Figure size 1080x432 with 1 Axes>"
      ]
     },
     "metadata": {},
     "output_type": "display_data"
    }
   ],
   "source": [
    "sns.set(rc={\"figure.figsize\": (15, 6)})\n",
    "sns.barplot(data=q15, x='dept_name', y='Tenure')\n",
    "plt.show()"
   ]
  },
  {
   "cell_type": "markdown",
   "metadata": {},
   "source": [
    "# 16 Average Tenure Distribution accross Titles"
   ]
  },
  {
   "cell_type": "code",
   "execution_count": 43,
   "metadata": {},
   "outputs": [
    {
     "data": {
      "text/html": [
       "<div>\n",
       "<style scoped>\n",
       "    .dataframe tbody tr th:only-of-type {\n",
       "        vertical-align: middle;\n",
       "    }\n",
       "\n",
       "    .dataframe tbody tr th {\n",
       "        vertical-align: top;\n",
       "    }\n",
       "\n",
       "    .dataframe thead th {\n",
       "        text-align: right;\n",
       "    }\n",
       "</style>\n",
       "<table border=\"1\" class=\"dataframe\">\n",
       "  <thead>\n",
       "    <tr style=\"text-align: right;\">\n",
       "      <th></th>\n",
       "      <th>title</th>\n",
       "      <th>Tenure</th>\n",
       "    </tr>\n",
       "  </thead>\n",
       "  <tbody>\n",
       "    <tr>\n",
       "      <th>0</th>\n",
       "      <td>Manager</td>\n",
       "      <td>24.666667</td>\n",
       "    </tr>\n",
       "    <tr>\n",
       "      <th>1</th>\n",
       "      <td>Senior Engineer</td>\n",
       "      <td>22.490163</td>\n",
       "    </tr>\n",
       "    <tr>\n",
       "      <th>2</th>\n",
       "      <td>Senior Staff</td>\n",
       "      <td>21.867961</td>\n",
       "    </tr>\n",
       "    <tr>\n",
       "      <th>3</th>\n",
       "      <td>Staff</td>\n",
       "      <td>21.830664</td>\n",
       "    </tr>\n",
       "    <tr>\n",
       "      <th>4</th>\n",
       "      <td>Technique Leader</td>\n",
       "      <td>21.810536</td>\n",
       "    </tr>\n",
       "    <tr>\n",
       "      <th>5</th>\n",
       "      <td>Engineer</td>\n",
       "      <td>20.638416</td>\n",
       "    </tr>\n",
       "    <tr>\n",
       "      <th>6</th>\n",
       "      <td>Assistant Engineer</td>\n",
       "      <td>20.470094</td>\n",
       "    </tr>\n",
       "  </tbody>\n",
       "</table>\n",
       "</div>"
      ],
      "text/plain": [
       "                title     Tenure\n",
       "0             Manager  24.666667\n",
       "1     Senior Engineer  22.490163\n",
       "2        Senior Staff  21.867961\n",
       "3               Staff  21.830664\n",
       "4    Technique Leader  21.810536\n",
       "5            Engineer  20.638416\n",
       "6  Assistant Engineer  20.470094"
      ]
     },
     "execution_count": 43,
     "metadata": {},
     "output_type": "execute_result"
    }
   ],
   "source": [
    "q16 = spark.sql(\"\"\"\n",
    "            SELECT \n",
    "                title, \n",
    "                avg(Tenure_Years) Tenure\n",
    "            FROM employees_at e\n",
    "            JOIN titles t ON e.emp_title_id = t.title_id\n",
    "            GROUP BY title\n",
    "            ORDER BY Tenure DESC\n",
    "         \"\"\").toPandas()\n",
    "q16.head(10)"
   ]
  },
  {
   "cell_type": "code",
   "execution_count": 44,
   "metadata": {},
   "outputs": [
    {
     "data": {
      "image/png": "[encoded data removed]",
      "text/plain": [
       "<Figure size 1080x432 with 1 Axes>"
      ]
     },
     "metadata": {},
     "output_type": "display_data"
    }
   ],
   "source": [
    "sns.set(rc={\"figure.figsize\": (15, 6)})\n",
    "sns.barplot(data=q16, x='title', y='Tenure')\n",
    "plt.show()"
   ]
  },
  {
   "cell_type": "markdown",
   "metadata": {},
   "source": [
    "# **Building Spark ML Model and Pipeline**"
   ]
  },
  {
   "cell_type": "markdown",
   "metadata": {},
   "source": [
    "## **Creating Final Dataframe**"
   ]
  },
  {
   "cell_type": "code",
   "execution_count": 45,
   "metadata": {},
   "outputs": [
    {
     "data": {
      "text/html": [
       "<div>\n",
       "<style scoped>\n",
       "    .dataframe tbody tr th:only-of-type {\n",
       "        vertical-align: middle;\n",
       "    }\n",
       "\n",
       "    .dataframe tbody tr th {\n",
       "        vertical-align: top;\n",
       "    }\n",
       "\n",
       "    .dataframe thead th {\n",
       "        text-align: right;\n",
       "    }\n",
       "</style>\n",
       "<table border=\"1\" class=\"dataframe\">\n",
       "  <thead>\n",
       "    <tr style=\"text-align: right;\">\n",
       "      <th></th>\n",
       "      <th>dept_no</th>\n",
       "      <th>emp_no</th>\n",
       "      <th>emp_title_id</th>\n",
       "      <th>birth_date</th>\n",
       "      <th>first_name</th>\n",
       "      <th>last_name</th>\n",
       "      <th>sex</th>\n",
       "      <th>hire_date</th>\n",
       "      <th>no_of_projects</th>\n",
       "      <th>last_performance_rating</th>\n",
       "      <th>left</th>\n",
       "      <th>last_date</th>\n",
       "      <th>Age</th>\n",
       "      <th>Tenure_Years</th>\n",
       "      <th>title_id</th>\n",
       "      <th>title</th>\n",
       "      <th>salary</th>\n",
       "      <th>dept_name</th>\n",
       "    </tr>\n",
       "  </thead>\n",
       "  <tbody>\n",
       "    <tr>\n",
       "      <th>0</th>\n",
       "      <td>d005</td>\n",
       "      <td>10001</td>\n",
       "      <td>e0003</td>\n",
       "      <td>1953-09-02</td>\n",
       "      <td>Georgi</td>\n",
       "      <td>Facello</td>\n",
       "      <td>M</td>\n",
       "      <td>1986-06-26</td>\n",
       "      <td>9</td>\n",
       "      <td>C</td>\n",
       "      <td>1</td>\n",
       "      <td>1994-07-30</td>\n",
       "      <td>60</td>\n",
       "      <td>8</td>\n",
       "      <td>e0003</td>\n",
       "      <td>Senior Engineer</td>\n",
       "      <td>60117</td>\n",
       "      <td>development</td>\n",
       "    </tr>\n",
       "    <tr>\n",
       "      <th>1</th>\n",
       "      <td>d007</td>\n",
       "      <td>10002</td>\n",
       "      <td>s0001</td>\n",
       "      <td>1964-06-02</td>\n",
       "      <td>Bezalel</td>\n",
       "      <td>Simmel</td>\n",
       "      <td>F</td>\n",
       "      <td>1985-11-21</td>\n",
       "      <td>8</td>\n",
       "      <td>B</td>\n",
       "      <td>0</td>\n",
       "      <td>None</td>\n",
       "      <td>49</td>\n",
       "      <td>28</td>\n",
       "      <td>s0001</td>\n",
       "      <td>Staff</td>\n",
       "      <td>65828</td>\n",
       "      <td>Sales</td>\n",
       "    </tr>\n",
       "    <tr>\n",
       "      <th>2</th>\n",
       "      <td>d004</td>\n",
       "      <td>10003</td>\n",
       "      <td>e0003</td>\n",
       "      <td>1959-12-03</td>\n",
       "      <td>Parto</td>\n",
       "      <td>Bamford</td>\n",
       "      <td>M</td>\n",
       "      <td>1986-08-28</td>\n",
       "      <td>1</td>\n",
       "      <td>C</td>\n",
       "      <td>0</td>\n",
       "      <td>None</td>\n",
       "      <td>54</td>\n",
       "      <td>27</td>\n",
       "      <td>e0003</td>\n",
       "      <td>Senior Engineer</td>\n",
       "      <td>40006</td>\n",
       "      <td>Production</td>\n",
       "    </tr>\n",
       "    <tr>\n",
       "      <th>3</th>\n",
       "      <td>d004</td>\n",
       "      <td>10004</td>\n",
       "      <td>e0003</td>\n",
       "      <td>1954-05-01</td>\n",
       "      <td>Chirstian</td>\n",
       "      <td>Koblick</td>\n",
       "      <td>M</td>\n",
       "      <td>1986-12-01</td>\n",
       "      <td>5</td>\n",
       "      <td>A</td>\n",
       "      <td>0</td>\n",
       "      <td>None</td>\n",
       "      <td>59</td>\n",
       "      <td>27</td>\n",
       "      <td>e0003</td>\n",
       "      <td>Senior Engineer</td>\n",
       "      <td>40054</td>\n",
       "      <td>Production</td>\n",
       "    </tr>\n",
       "    <tr>\n",
       "      <th>4</th>\n",
       "      <td>d003</td>\n",
       "      <td>10005</td>\n",
       "      <td>s0001</td>\n",
       "      <td>1955-01-21</td>\n",
       "      <td>Kyoichi</td>\n",
       "      <td>Maliniak</td>\n",
       "      <td>M</td>\n",
       "      <td>1989-09-12</td>\n",
       "      <td>6</td>\n",
       "      <td>A</td>\n",
       "      <td>0</td>\n",
       "      <td>None</td>\n",
       "      <td>58</td>\n",
       "      <td>24</td>\n",
       "      <td>s0001</td>\n",
       "      <td>Staff</td>\n",
       "      <td>78228</td>\n",
       "      <td>Human Resources</td>\n",
       "    </tr>\n",
       "    <tr>\n",
       "      <th>5</th>\n",
       "      <td>d005</td>\n",
       "      <td>10006</td>\n",
       "      <td>e0003</td>\n",
       "      <td>1953-04-20</td>\n",
       "      <td>Anneke</td>\n",
       "      <td>Preusig</td>\n",
       "      <td>F</td>\n",
       "      <td>1989-06-02</td>\n",
       "      <td>10</td>\n",
       "      <td>B</td>\n",
       "      <td>0</td>\n",
       "      <td>None</td>\n",
       "      <td>60</td>\n",
       "      <td>24</td>\n",
       "      <td>e0003</td>\n",
       "      <td>Senior Engineer</td>\n",
       "      <td>40000</td>\n",
       "      <td>development</td>\n",
       "    </tr>\n",
       "    <tr>\n",
       "      <th>6</th>\n",
       "      <td>d008</td>\n",
       "      <td>10007</td>\n",
       "      <td>s0001</td>\n",
       "      <td>1957-05-23</td>\n",
       "      <td>Tzvetan</td>\n",
       "      <td>Zielinski</td>\n",
       "      <td>F</td>\n",
       "      <td>1989-02-10</td>\n",
       "      <td>6</td>\n",
       "      <td>B</td>\n",
       "      <td>1</td>\n",
       "      <td>2002-09-18</td>\n",
       "      <td>56</td>\n",
       "      <td>13</td>\n",
       "      <td>s0001</td>\n",
       "      <td>Staff</td>\n",
       "      <td>56724</td>\n",
       "      <td>Research</td>\n",
       "    </tr>\n",
       "    <tr>\n",
       "      <th>7</th>\n",
       "      <td>d005</td>\n",
       "      <td>10008</td>\n",
       "      <td>e0001</td>\n",
       "      <td>1958-02-19</td>\n",
       "      <td>Saniya</td>\n",
       "      <td>Kalloufi</td>\n",
       "      <td>M</td>\n",
       "      <td>1994-09-15</td>\n",
       "      <td>9</td>\n",
       "      <td>C</td>\n",
       "      <td>0</td>\n",
       "      <td>None</td>\n",
       "      <td>55</td>\n",
       "      <td>19</td>\n",
       "      <td>e0001</td>\n",
       "      <td>Assistant Engineer</td>\n",
       "      <td>46671</td>\n",
       "      <td>development</td>\n",
       "    </tr>\n",
       "    <tr>\n",
       "      <th>8</th>\n",
       "      <td>d006</td>\n",
       "      <td>10009</td>\n",
       "      <td>e0003</td>\n",
       "      <td>1952-04-19</td>\n",
       "      <td>Sumant</td>\n",
       "      <td>Peac</td>\n",
       "      <td>F</td>\n",
       "      <td>1985-02-18</td>\n",
       "      <td>8</td>\n",
       "      <td>B</td>\n",
       "      <td>0</td>\n",
       "      <td>None</td>\n",
       "      <td>61</td>\n",
       "      <td>28</td>\n",
       "      <td>e0003</td>\n",
       "      <td>Senior Engineer</td>\n",
       "      <td>60929</td>\n",
       "      <td>Quality Management</td>\n",
       "    </tr>\n",
       "    <tr>\n",
       "      <th>9</th>\n",
       "      <td>d006</td>\n",
       "      <td>10010</td>\n",
       "      <td>e0002</td>\n",
       "      <td>1963-06-01</td>\n",
       "      <td>Duangkaew</td>\n",
       "      <td>Piveteau</td>\n",
       "      <td>F</td>\n",
       "      <td>1989-08-24</td>\n",
       "      <td>4</td>\n",
       "      <td>A</td>\n",
       "      <td>0</td>\n",
       "      <td>None</td>\n",
       "      <td>50</td>\n",
       "      <td>24</td>\n",
       "      <td>e0002</td>\n",
       "      <td>Engineer</td>\n",
       "      <td>72488</td>\n",
       "      <td>Quality Management</td>\n",
       "    </tr>\n",
       "  </tbody>\n",
       "</table>\n",
       "</div>"
      ],
      "text/plain": [
       "  dept_no  emp_no emp_title_id  birth_date first_name  last_name sex  \\\n",
       "0    d005   10001        e0003  1953-09-02     Georgi    Facello   M   \n",
       "1    d007   10002        s0001  1964-06-02    Bezalel     Simmel   F   \n",
       "2    d004   10003        e0003  1959-12-03      Parto    Bamford   M   \n",
       "3    d004   10004        e0003  1954-05-01  Chirstian    Koblick   M   \n",
       "4    d003   10005        s0001  1955-01-21    Kyoichi   Maliniak   M   \n",
       "5    d005   10006        e0003  1953-04-20     Anneke    Preusig   F   \n",
       "6    d008   10007        s0001  1957-05-23    Tzvetan  Zielinski   F   \n",
       "7    d005   10008        e0001  1958-02-19     Saniya   Kalloufi   M   \n",
       "8    d006   10009        e0003  1952-04-19     Sumant       Peac   F   \n",
       "9    d006   10010        e0002  1963-06-01  Duangkaew   Piveteau   F   \n",
       "\n",
       "    hire_date  no_of_projects last_performance_rating  left   last_date  Age  \\\n",
       "0  1986-06-26               9                       C     1  1994-07-30   60   \n",
       "1  1985-11-21               8                       B     0        None   49   \n",
       "2  1986-08-28               1                       C     0        None   54   \n",
       "3  1986-12-01               5                       A     0        None   59   \n",
       "4  1989-09-12               6                       A     0        None   58   \n",
       "5  1989-06-02              10                       B     0        None   60   \n",
       "6  1989-02-10               6                       B     1  2002-09-18   56   \n",
       "7  1994-09-15               9                       C     0        None   55   \n",
       "8  1985-02-18               8                       B     0        None   61   \n",
       "9  1989-08-24               4                       A     0        None   50   \n",
       "\n",
       "   Tenure_Years title_id               title  salary           dept_name  \n",
       "0             8    e0003     Senior Engineer   60117         development  \n",
       "1            28    s0001               Staff   65828               Sales  \n",
       "2            27    e0003     Senior Engineer   40006          Production  \n",
       "3            27    e0003     Senior Engineer   40054          Production  \n",
       "4            24    s0001               Staff   78228     Human Resources  \n",
       "5            24    e0003     Senior Engineer   40000         development  \n",
       "6            13    s0001               Staff   56724            Research  \n",
       "7            19    e0001  Assistant Engineer   46671         development  \n",
       "8            28    e0003     Senior Engineer   60929  Quality Management  \n",
       "9            24    e0002            Engineer   72488  Quality Management  "
      ]
     },
     "execution_count": 45,
     "metadata": {},
     "output_type": "execute_result"
    }
   ],
   "source": [
    "# Joining employees, salaries, departments, titles\n",
    "emp_tsd = employees.join(titles, employees.emp_title_id == titles.title_id)\\\n",
    "    .join(salaries, on='emp_no')\\\n",
    "    .join(dept_emp, on='emp_no')\\\n",
    "    .join(departments, on='dept_no')\\\n",
    "    .withColumnRenamed('left2', 'left')\n",
    "emp_tsd.toPandas().head(10)"
   ]
  },
  {
   "cell_type": "code",
   "execution_count": 46,
   "metadata": {},
   "outputs": [
    {
     "data": {
      "text/plain": [
       "300024"
      ]
     },
     "execution_count": 46,
     "metadata": {},
     "output_type": "execute_result"
    }
   ],
   "source": [
    "emp_tsd.count()"
   ]
  },
  {
   "cell_type": "code",
   "execution_count": 47,
   "metadata": {},
   "outputs": [
    {
     "data": {
      "text/plain": [
       "dept_no                    object\n",
       "emp_no                      int32\n",
       "emp_title_id               object\n",
       "birth_date                 object\n",
       "first_name                 object\n",
       "last_name                  object\n",
       "sex                        object\n",
       "hire_date                  object\n",
       "no_of_projects              int32\n",
       "last_performance_rating    object\n",
       "left                        int32\n",
       "last_date                  object\n",
       "Age                         int32\n",
       "Tenure_Years                int32\n",
       "title_id                   object\n",
       "title                      object\n",
       "salary                      int32\n",
       "dept_name                  object\n",
       "dtype: object"
      ]
     },
     "execution_count": 47,
     "metadata": {},
     "output_type": "execute_result"
    }
   ],
   "source": [
    "dfp = emp_tsd.toPandas()\n",
    "dfp.dtypes"
   ]
  },
  {
   "cell_type": "code",
   "execution_count": 48,
   "metadata": {},
   "outputs": [],
   "source": [
    "conti_var_df = dfp.loc[:, (dfp.dtypes == 'float64') | (dfp.dtypes == 'int64') | (dfp.dtypes == 'int32')]\n",
    "cat_var_df = dfp.loc[:, (dfp.dtypes == 'object')]"
   ]
  },
  {
   "cell_type": "markdown",
   "metadata": {},
   "source": [
    "### Continous Variables"
   ]
  },
  {
   "cell_type": "code",
   "execution_count": 49,
   "metadata": {},
   "outputs": [
    {
     "data": {
      "text/html": [
       "<div>\n",
       "<style scoped>\n",
       "    .dataframe tbody tr th:only-of-type {\n",
       "        vertical-align: middle;\n",
       "    }\n",
       "\n",
       "    .dataframe tbody tr th {\n",
       "        vertical-align: top;\n",
       "    }\n",
       "\n",
       "    .dataframe thead th {\n",
       "        text-align: right;\n",
       "    }\n",
       "</style>\n",
       "<table border=\"1\" class=\"dataframe\">\n",
       "  <thead>\n",
       "    <tr style=\"text-align: right;\">\n",
       "      <th></th>\n",
       "      <th>dtype</th>\n",
       "      <th>tot</th>\n",
       "      <th>n</th>\n",
       "      <th>nmiss</th>\n",
       "      <th>miss_perc</th>\n",
       "      <th>cardinality</th>\n",
       "      <th>sum</th>\n",
       "      <th>mean</th>\n",
       "      <th>std</th>\n",
       "      <th>var</th>\n",
       "      <th>iqr</th>\n",
       "      <th>lc_iqr</th>\n",
       "      <th>uc_iqr</th>\n",
       "      <th>min</th>\n",
       "      <th>max</th>\n",
       "      <th>p1</th>\n",
       "      <th>p5</th>\n",
       "      <th>p10</th>\n",
       "      <th>p25</th>\n",
       "      <th>p50</th>\n",
       "      <th>p75</th>\n",
       "      <th>p90</th>\n",
       "      <th>p95</th>\n",
       "      <th>p99</th>\n",
       "    </tr>\n",
       "  </thead>\n",
       "  <tbody>\n",
       "    <tr>\n",
       "      <th>emp_no</th>\n",
       "      <td>int32</td>\n",
       "      <td>300024</td>\n",
       "      <td>300024</td>\n",
       "      <td>0</td>\n",
       "      <td>0</td>\n",
       "      <td>300024</td>\n",
       "      <td>76002608740</td>\n",
       "      <td>253322</td>\n",
       "      <td>161828</td>\n",
       "      <td>2.61884e+10</td>\n",
       "      <td>339986</td>\n",
       "      <td>-424973</td>\n",
       "      <td>934973</td>\n",
       "      <td>10001</td>\n",
       "      <td>499999</td>\n",
       "      <td>13001.2</td>\n",
       "      <td>25002.2</td>\n",
       "      <td>40003.3</td>\n",
       "      <td>85006.8</td>\n",
       "      <td>249988</td>\n",
       "      <td>424993</td>\n",
       "      <td>469997</td>\n",
       "      <td>484998</td>\n",
       "      <td>496999</td>\n",
       "    </tr>\n",
       "    <tr>\n",
       "      <th>no_of_projects</th>\n",
       "      <td>int32</td>\n",
       "      <td>300024</td>\n",
       "      <td>300024</td>\n",
       "      <td>0</td>\n",
       "      <td>0</td>\n",
       "      <td>10</td>\n",
       "      <td>1651580</td>\n",
       "      <td>5.50483</td>\n",
       "      <td>2.87207</td>\n",
       "      <td>8.24881</td>\n",
       "      <td>5</td>\n",
       "      <td>-4.5</td>\n",
       "      <td>15.5</td>\n",
       "      <td>1</td>\n",
       "      <td>10</td>\n",
       "      <td>1</td>\n",
       "      <td>1</td>\n",
       "      <td>2</td>\n",
       "      <td>3</td>\n",
       "      <td>6</td>\n",
       "      <td>8</td>\n",
       "      <td>10</td>\n",
       "      <td>10</td>\n",
       "      <td>10</td>\n",
       "    </tr>\n",
       "    <tr>\n",
       "      <th>left</th>\n",
       "      <td>int32</td>\n",
       "      <td>300024</td>\n",
       "      <td>300024</td>\n",
       "      <td>0</td>\n",
       "      <td>0</td>\n",
       "      <td>2</td>\n",
       "      <td>29867</td>\n",
       "      <td>0.0995487</td>\n",
       "      <td>0.299398</td>\n",
       "      <td>0.0896391</td>\n",
       "      <td>0</td>\n",
       "      <td>0</td>\n",
       "      <td>0</td>\n",
       "      <td>0</td>\n",
       "      <td>1</td>\n",
       "      <td>0</td>\n",
       "      <td>0</td>\n",
       "      <td>0</td>\n",
       "      <td>0</td>\n",
       "      <td>0</td>\n",
       "      <td>0</td>\n",
       "      <td>0</td>\n",
       "      <td>1</td>\n",
       "      <td>1</td>\n",
       "    </tr>\n",
       "    <tr>\n",
       "      <th>Age</th>\n",
       "      <td>int32</td>\n",
       "      <td>300024</td>\n",
       "      <td>300024</td>\n",
       "      <td>0</td>\n",
       "      <td>0</td>\n",
       "      <td>14</td>\n",
       "      <td>16476763</td>\n",
       "      <td>54.9181</td>\n",
       "      <td>3.74869</td>\n",
       "      <td>14.0527</td>\n",
       "      <td>6</td>\n",
       "      <td>43</td>\n",
       "      <td>67</td>\n",
       "      <td>48</td>\n",
       "      <td>61</td>\n",
       "      <td>49</td>\n",
       "      <td>49</td>\n",
       "      <td>50</td>\n",
       "      <td>52</td>\n",
       "      <td>55</td>\n",
       "      <td>58</td>\n",
       "      <td>60</td>\n",
       "      <td>61</td>\n",
       "      <td>61</td>\n",
       "    </tr>\n",
       "    <tr>\n",
       "      <th>Tenure_Years</th>\n",
       "      <td>int32</td>\n",
       "      <td>300024</td>\n",
       "      <td>300024</td>\n",
       "      <td>0</td>\n",
       "      <td>0</td>\n",
       "      <td>28</td>\n",
       "      <td>6550606</td>\n",
       "      <td>21.8336</td>\n",
       "      <td>5.92815</td>\n",
       "      <td>35.1429</td>\n",
       "      <td>6</td>\n",
       "      <td>11</td>\n",
       "      <td>35</td>\n",
       "      <td>1</td>\n",
       "      <td>28</td>\n",
       "      <td>3</td>\n",
       "      <td>8</td>\n",
       "      <td>14</td>\n",
       "      <td>20</td>\n",
       "      <td>23</td>\n",
       "      <td>26</td>\n",
       "      <td>28</td>\n",
       "      <td>28</td>\n",
       "      <td>28</td>\n",
       "    </tr>\n",
       "    <tr>\n",
       "      <th>salary</th>\n",
       "      <td>int32</td>\n",
       "      <td>300024</td>\n",
       "      <td>300024</td>\n",
       "      <td>0</td>\n",
       "      <td>0</td>\n",
       "      <td>50355</td>\n",
       "      <td>15892491033</td>\n",
       "      <td>52970.7</td>\n",
       "      <td>14301.5</td>\n",
       "      <td>2.04532e+08</td>\n",
       "      <td>21758</td>\n",
       "      <td>7363</td>\n",
       "      <td>94395</td>\n",
       "      <td>40000</td>\n",
       "      <td>129492</td>\n",
       "      <td>40000</td>\n",
       "      <td>40000</td>\n",
       "      <td>40000</td>\n",
       "      <td>40000</td>\n",
       "      <td>48681</td>\n",
       "      <td>61758</td>\n",
       "      <td>74177</td>\n",
       "      <td>81444.8</td>\n",
       "      <td>94388</td>\n",
       "    </tr>\n",
       "  </tbody>\n",
       "</table>\n",
       "</div>"
      ],
      "text/plain": [
       "                dtype     tot       n nmiss miss_perc cardinality  \\\n",
       "emp_no          int32  300024  300024     0         0      300024   \n",
       "no_of_projects  int32  300024  300024     0         0          10   \n",
       "left            int32  300024  300024     0         0           2   \n",
       "Age             int32  300024  300024     0         0          14   \n",
       "Tenure_Years    int32  300024  300024     0         0          28   \n",
       "salary          int32  300024  300024     0         0       50355   \n",
       "\n",
       "                        sum       mean       std          var     iqr  lc_iqr  \\\n",
       "emp_no          76002608740     253322    161828  2.61884e+10  339986 -424973   \n",
       "no_of_projects      1651580    5.50483   2.87207      8.24881       5    -4.5   \n",
       "left                  29867  0.0995487  0.299398    0.0896391       0       0   \n",
       "Age                16476763    54.9181   3.74869      14.0527       6      43   \n",
       "Tenure_Years        6550606    21.8336   5.92815      35.1429       6      11   \n",
       "salary          15892491033    52970.7   14301.5  2.04532e+08   21758    7363   \n",
       "\n",
       "                uc_iqr    min     max       p1       p5      p10      p25  \\\n",
       "emp_no          934973  10001  499999  13001.2  25002.2  40003.3  85006.8   \n",
       "no_of_projects    15.5      1      10        1        1        2        3   \n",
       "left                 0      0       1        0        0        0        0   \n",
       "Age                 67     48      61       49       49       50       52   \n",
       "Tenure_Years        35      1      28        3        8       14       20   \n",
       "salary           94395  40000  129492    40000    40000    40000    40000   \n",
       "\n",
       "                   p50     p75     p90      p95     p99  \n",
       "emp_no          249988  424993  469997   484998  496999  \n",
       "no_of_projects       6       8      10       10      10  \n",
       "left                 0       0       0        1       1  \n",
       "Age                 55      58      60       61      61  \n",
       "Tenure_Years        23      26      28       28      28  \n",
       "salary           48681   61758   74177  81444.8   94388  "
      ]
     },
     "execution_count": 49,
     "metadata": {},
     "output_type": "execute_result"
    }
   ],
   "source": [
    "def fun_describe(x):\n",
    "\n",
    "    # Records and missing values\n",
    "    n_tot = x.shape[0]\n",
    "    n_count = x.count()\n",
    "    n_miss = x.isna().sum()\n",
    "    n_miss_perc = n_miss / n_tot\n",
    "\n",
    "    # IQR\n",
    "    q1 = x.quantile(0.25)\n",
    "    q3 = x.quantile(0.75)\n",
    "    iqr = q3 - q1\n",
    "    lc_iqr = q1 - 1.5 * iqr\n",
    "    uc_iqr = q3 + 1.5 * iqr\n",
    "\n",
    "    return pd.Series(data=[\n",
    "        x.dtypes, n_tot, n_count, n_miss, n_miss_perc,\n",
    "        x.nunique(),\n",
    "        x.sum(),\n",
    "        x.mean(),\n",
    "        x.std(),\n",
    "        x.var(), iqr, lc_iqr, uc_iqr,\n",
    "        x.min(),\n",
    "        x.max(),\n",
    "        x.quantile(0.01),\n",
    "        x.quantile(0.05),\n",
    "        x.quantile(0.1),\n",
    "        x.quantile(0.25),\n",
    "        x.quantile(0.5),\n",
    "        x.quantile(0.75),\n",
    "        x.quantile(0.90),\n",
    "        x.quantile(0.95),\n",
    "        x.quantile(0.99)\n",
    "    ],\n",
    "        index=[\n",
    "        'dtype', 'tot', 'n', 'nmiss', 'miss_perc',\n",
    "        'cardinality', 'sum', 'mean', 'std', 'var', 'iqr',\n",
    "        'lc_iqr', 'uc_iqr', 'min', 'max', 'p1', 'p5', 'p10',\n",
    "        'p25', 'p50', 'p75', 'p90', 'p95', 'p99'\n",
    "    ])\n",
    "conti_var_df.apply(fun_describe).T"
   ]
  },
  {
   "cell_type": "markdown",
   "metadata": {},
   "source": [
    "Here, 'emp_no' is having numeric datatype but not a variable to be considered as it has maximum cardinality i.e. primary key, used for identification only. "
   ]
  },
  {
   "cell_type": "markdown",
   "metadata": {},
   "source": [
    "### Categorical Variables"
   ]
  },
  {
   "cell_type": "code",
   "execution_count": 50,
   "metadata": {},
   "outputs": [
    {
     "data": {
      "text/html": [
       "<div>\n",
       "<style scoped>\n",
       "    .dataframe tbody tr th:only-of-type {\n",
       "        vertical-align: middle;\n",
       "    }\n",
       "\n",
       "    .dataframe tbody tr th {\n",
       "        vertical-align: top;\n",
       "    }\n",
       "\n",
       "    .dataframe thead th {\n",
       "        text-align: right;\n",
       "    }\n",
       "</style>\n",
       "<table border=\"1\" class=\"dataframe\">\n",
       "  <thead>\n",
       "    <tr style=\"text-align: right;\">\n",
       "      <th></th>\n",
       "      <th>dtype</th>\n",
       "      <th>tot</th>\n",
       "      <th>n</th>\n",
       "      <th>nmiss</th>\n",
       "      <th>miss_perc</th>\n",
       "      <th>cardinality</th>\n",
       "    </tr>\n",
       "  </thead>\n",
       "  <tbody>\n",
       "    <tr>\n",
       "      <th>dept_no</th>\n",
       "      <td>object</td>\n",
       "      <td>300024</td>\n",
       "      <td>300024</td>\n",
       "      <td>0</td>\n",
       "      <td>0</td>\n",
       "      <td>9</td>\n",
       "    </tr>\n",
       "    <tr>\n",
       "      <th>emp_title_id</th>\n",
       "      <td>object</td>\n",
       "      <td>300024</td>\n",
       "      <td>300024</td>\n",
       "      <td>0</td>\n",
       "      <td>0</td>\n",
       "      <td>7</td>\n",
       "    </tr>\n",
       "    <tr>\n",
       "      <th>birth_date</th>\n",
       "      <td>object</td>\n",
       "      <td>300024</td>\n",
       "      <td>300024</td>\n",
       "      <td>0</td>\n",
       "      <td>0</td>\n",
       "      <td>4750</td>\n",
       "    </tr>\n",
       "    <tr>\n",
       "      <th>first_name</th>\n",
       "      <td>object</td>\n",
       "      <td>300024</td>\n",
       "      <td>300024</td>\n",
       "      <td>0</td>\n",
       "      <td>0</td>\n",
       "      <td>1276</td>\n",
       "    </tr>\n",
       "    <tr>\n",
       "      <th>last_name</th>\n",
       "      <td>object</td>\n",
       "      <td>300024</td>\n",
       "      <td>300024</td>\n",
       "      <td>0</td>\n",
       "      <td>0</td>\n",
       "      <td>1638</td>\n",
       "    </tr>\n",
       "    <tr>\n",
       "      <th>sex</th>\n",
       "      <td>object</td>\n",
       "      <td>300024</td>\n",
       "      <td>300024</td>\n",
       "      <td>0</td>\n",
       "      <td>0</td>\n",
       "      <td>2</td>\n",
       "    </tr>\n",
       "    <tr>\n",
       "      <th>hire_date</th>\n",
       "      <td>object</td>\n",
       "      <td>300024</td>\n",
       "      <td>300024</td>\n",
       "      <td>0</td>\n",
       "      <td>0</td>\n",
       "      <td>5434</td>\n",
       "    </tr>\n",
       "    <tr>\n",
       "      <th>last_performance_rating</th>\n",
       "      <td>object</td>\n",
       "      <td>300024</td>\n",
       "      <td>300024</td>\n",
       "      <td>0</td>\n",
       "      <td>0</td>\n",
       "      <td>5</td>\n",
       "    </tr>\n",
       "    <tr>\n",
       "      <th>last_date</th>\n",
       "      <td>object</td>\n",
       "      <td>300024</td>\n",
       "      <td>29867</td>\n",
       "      <td>270157</td>\n",
       "      <td>0.900451</td>\n",
       "      <td>7582</td>\n",
       "    </tr>\n",
       "    <tr>\n",
       "      <th>title_id</th>\n",
       "      <td>object</td>\n",
       "      <td>300024</td>\n",
       "      <td>300024</td>\n",
       "      <td>0</td>\n",
       "      <td>0</td>\n",
       "      <td>7</td>\n",
       "    </tr>\n",
       "    <tr>\n",
       "      <th>title</th>\n",
       "      <td>object</td>\n",
       "      <td>300024</td>\n",
       "      <td>300024</td>\n",
       "      <td>0</td>\n",
       "      <td>0</td>\n",
       "      <td>7</td>\n",
       "    </tr>\n",
       "    <tr>\n",
       "      <th>dept_name</th>\n",
       "      <td>object</td>\n",
       "      <td>300024</td>\n",
       "      <td>300024</td>\n",
       "      <td>0</td>\n",
       "      <td>0</td>\n",
       "      <td>9</td>\n",
       "    </tr>\n",
       "  </tbody>\n",
       "</table>\n",
       "</div>"
      ],
      "text/plain": [
       "                          dtype     tot       n   nmiss miss_perc cardinality\n",
       "dept_no                  object  300024  300024       0         0           9\n",
       "emp_title_id             object  300024  300024       0         0           7\n",
       "birth_date               object  300024  300024       0         0        4750\n",
       "first_name               object  300024  300024       0         0        1276\n",
       "last_name                object  300024  300024       0         0        1638\n",
       "sex                      object  300024  300024       0         0           2\n",
       "hire_date                object  300024  300024       0         0        5434\n",
       "last_performance_rating  object  300024  300024       0         0           5\n",
       "last_date                object  300024   29867  270157  0.900451        7582\n",
       "title_id                 object  300024  300024       0         0           7\n",
       "title                    object  300024  300024       0         0           7\n",
       "dept_name                object  300024  300024       0         0           9"
      ]
     },
     "execution_count": 50,
     "metadata": {},
     "output_type": "execute_result"
    }
   ],
   "source": [
    "def fun_obj_describe(x):\n",
    "\n",
    "    # Records and missing values\n",
    "    n_tot = x.shape[0]\n",
    "    n_count = x.count()\n",
    "    n_miss = x.isna().sum()\n",
    "    n_miss_perc = n_miss / n_tot\n",
    "\n",
    "    return pd.Series(data=[\n",
    "        x.dtypes, n_tot, n_count, n_miss, n_miss_perc,\n",
    "        x.nunique()\n",
    "    ],\n",
    "        index=[\n",
    "        'dtype', 'tot', 'n', 'nmiss', 'miss_perc',\n",
    "        'cardinality'\n",
    "    ])\n",
    "\n",
    "cat_var_df.apply(fun_obj_describe).T"
   ]
  },
  {
   "cell_type": "markdown",
   "metadata": {},
   "source": [
    "Encoding columns with high cardinality may effect the model, so all of these categorical cols with high cardinality will be dropped later."
   ]
  },
  {
   "cell_type": "markdown",
   "metadata": {},
   "source": [
    "## Checking Dependencies"
   ]
  },
  {
   "cell_type": "code",
   "execution_count": 51,
   "metadata": {
    "scrolled": false
   },
   "outputs": [
    {
     "data": {
      "image/png": "[encoded data removed]",
      "text/plain": [
       "<Figure size 360x360 with 1 Axes>"
      ]
     },
     "metadata": {},
     "output_type": "display_data"
    },
    {
     "data": {
      "image/png": "[encoded data removed]",
      "text/plain": [
       "<Figure size 360x360 with 1 Axes>"
      ]
     },
     "metadata": {},
     "output_type": "display_data"
    },
    {
     "data": {
      "image/png": "[encoded data removed]",
      "text/plain": [
       "<Figure size 360x360 with 1 Axes>"
      ]
     },
     "metadata": {},
     "output_type": "display_data"
    },
    {
     "data": {
      "image/png": "[encoded data removed]",
      "text/plain": [
       "<Figure size 360x360 with 1 Axes>"
      ]
     },
     "metadata": {},
     "output_type": "display_data"
    },
    {
     "data": {
      "image/png": "[encoded data removed]",
      "text/plain": [
       "<Figure size 360x360 with 1 Axes>"
      ]
     },
     "metadata": {},
     "output_type": "display_data"
    },
    {
     "data": {
      "image/png": "[encoded data removed]",
      "text/plain": [
       "<Figure size 360x360 with 1 Axes>"
      ]
     },
     "metadata": {},
     "output_type": "display_data"
    },
    {
     "data": {
      "image/png": "[encoded data removed]",
      "text/plain": [
       "<Figure size 360x360 with 1 Axes>"
      ]
     },
     "metadata": {},
     "output_type": "display_data"
    },
    {
     "data": {
      "image/png": "[encoded data removed]",
      "text/plain": [
       "<Figure size 360x360 with 1 Axes>"
      ]
     },
     "metadata": {},
     "output_type": "display_data"
    },
    {
     "data": {
      "image/png": "[encoded data removed]",
      "text/plain": [
       "<Figure size 360x360 with 1 Axes>"
      ]
     },
     "metadata": {},
     "output_type": "display_data"
    },
    {
     "data": {
      "image/png": "[encoded data removed]",
      "text/plain": [
       "<Figure size 360x360 with 1 Axes>"
      ]
     },
     "metadata": {},
     "output_type": "display_data"
    },
    {
     "data": {
      "image/png": "[encoded data removed]",
      "text/plain": [
       "<Figure size 360x360 with 1 Axes>"
      ]
     },
     "metadata": {},
     "output_type": "display_data"
    },
    {
     "data": {
      "image/png": "[encoded data removed]",
      "text/plain": [
       "<Figure size 360x360 with 1 Axes>"
      ]
     },
     "metadata": {},
     "output_type": "display_data"
    },
    {
     "data": {
      "image/png": "[encoded data removed]",
      "text/plain": [
       "<Figure size 360x360 with 1 Axes>"
      ]
     },
     "metadata": {},
     "output_type": "display_data"
    },
    {
     "data": {
      "image/png": "[encoded data removed]",
      "text/plain": [
       "<Figure size 360x360 with 1 Axes>"
      ]
     },
     "metadata": {},
     "output_type": "display_data"
    },
    {
     "data": {
      "image/png": "[encoded data removed]",
      "text/plain": [
       "<Figure size 360x360 with 1 Axes>"
      ]
     },
     "metadata": {},
     "output_type": "display_data"
    },
    {
     "data": {
      "image/png": "[encoded data removed]",
      "text/plain": [
       "<Figure size 360x360 with 1 Axes>"
      ]
     },
     "metadata": {},
     "output_type": "display_data"
    },
    {
     "data": {
      "image/png": "[encoded data removed]",
      "text/plain": [
       "<Figure size 360x360 with 1 Axes>"
      ]
     },
     "metadata": {},
     "output_type": "display_data"
    },
    {
     "data": {
      "image/png": "[encoded data removed]",
      "text/plain": [
       "<Figure size 360x360 with 1 Axes>"
      ]
     },
     "metadata": {},
     "output_type": "display_data"
    }
   ],
   "source": [
    "for col in emp_tsd.toPandas().columns:\n",
    "  try:\n",
    "    sns.lmplot(x= col, y='left', data=emp_tsd.toPandas())\n",
    "    plt.show()\n",
    "  except:\n",
    "    pass"
   ]
  },
  {
   "cell_type": "markdown",
   "metadata": {},
   "source": [
    "Dropping these following columns since these do not seem to have any effect in Employee Left Status :\n",
    "'emp_title_id','birth_date','last_date','hire_date','emp_no','title_id','dept_no','first_name','last_name'"
   ]
  },
  {
   "cell_type": "code",
   "execution_count": 52,
   "metadata": {},
   "outputs": [
    {
     "data": {
      "text/html": [
       "<div>\n",
       "<style scoped>\n",
       "    .dataframe tbody tr th:only-of-type {\n",
       "        vertical-align: middle;\n",
       "    }\n",
       "\n",
       "    .dataframe tbody tr th {\n",
       "        vertical-align: top;\n",
       "    }\n",
       "\n",
       "    .dataframe thead th {\n",
       "        text-align: right;\n",
       "    }\n",
       "</style>\n",
       "<table border=\"1\" class=\"dataframe\">\n",
       "  <thead>\n",
       "    <tr style=\"text-align: right;\">\n",
       "      <th></th>\n",
       "      <th>sex</th>\n",
       "      <th>no_of_projects</th>\n",
       "      <th>last_performance_rating</th>\n",
       "      <th>left</th>\n",
       "      <th>Age</th>\n",
       "      <th>Tenure_Years</th>\n",
       "      <th>title</th>\n",
       "      <th>salary</th>\n",
       "      <th>dept_name</th>\n",
       "    </tr>\n",
       "  </thead>\n",
       "  <tbody>\n",
       "    <tr>\n",
       "      <th>0</th>\n",
       "      <td>M</td>\n",
       "      <td>9</td>\n",
       "      <td>C</td>\n",
       "      <td>1</td>\n",
       "      <td>60</td>\n",
       "      <td>8</td>\n",
       "      <td>Senior Engineer</td>\n",
       "      <td>60117</td>\n",
       "      <td>development</td>\n",
       "    </tr>\n",
       "    <tr>\n",
       "      <th>1</th>\n",
       "      <td>F</td>\n",
       "      <td>8</td>\n",
       "      <td>B</td>\n",
       "      <td>0</td>\n",
       "      <td>49</td>\n",
       "      <td>28</td>\n",
       "      <td>Staff</td>\n",
       "      <td>65828</td>\n",
       "      <td>Sales</td>\n",
       "    </tr>\n",
       "    <tr>\n",
       "      <th>2</th>\n",
       "      <td>M</td>\n",
       "      <td>1</td>\n",
       "      <td>C</td>\n",
       "      <td>0</td>\n",
       "      <td>54</td>\n",
       "      <td>27</td>\n",
       "      <td>Senior Engineer</td>\n",
       "      <td>40006</td>\n",
       "      <td>Production</td>\n",
       "    </tr>\n",
       "    <tr>\n",
       "      <th>3</th>\n",
       "      <td>M</td>\n",
       "      <td>5</td>\n",
       "      <td>A</td>\n",
       "      <td>0</td>\n",
       "      <td>59</td>\n",
       "      <td>27</td>\n",
       "      <td>Senior Engineer</td>\n",
       "      <td>40054</td>\n",
       "      <td>Production</td>\n",
       "    </tr>\n",
       "    <tr>\n",
       "      <th>4</th>\n",
       "      <td>M</td>\n",
       "      <td>6</td>\n",
       "      <td>A</td>\n",
       "      <td>0</td>\n",
       "      <td>58</td>\n",
       "      <td>24</td>\n",
       "      <td>Staff</td>\n",
       "      <td>78228</td>\n",
       "      <td>Human Resources</td>\n",
       "    </tr>\n",
       "    <tr>\n",
       "      <th>5</th>\n",
       "      <td>F</td>\n",
       "      <td>10</td>\n",
       "      <td>B</td>\n",
       "      <td>0</td>\n",
       "      <td>60</td>\n",
       "      <td>24</td>\n",
       "      <td>Senior Engineer</td>\n",
       "      <td>40000</td>\n",
       "      <td>development</td>\n",
       "    </tr>\n",
       "    <tr>\n",
       "      <th>6</th>\n",
       "      <td>F</td>\n",
       "      <td>6</td>\n",
       "      <td>B</td>\n",
       "      <td>1</td>\n",
       "      <td>56</td>\n",
       "      <td>13</td>\n",
       "      <td>Staff</td>\n",
       "      <td>56724</td>\n",
       "      <td>Research</td>\n",
       "    </tr>\n",
       "    <tr>\n",
       "      <th>7</th>\n",
       "      <td>M</td>\n",
       "      <td>9</td>\n",
       "      <td>C</td>\n",
       "      <td>0</td>\n",
       "      <td>55</td>\n",
       "      <td>19</td>\n",
       "      <td>Assistant Engineer</td>\n",
       "      <td>46671</td>\n",
       "      <td>development</td>\n",
       "    </tr>\n",
       "    <tr>\n",
       "      <th>8</th>\n",
       "      <td>F</td>\n",
       "      <td>8</td>\n",
       "      <td>B</td>\n",
       "      <td>0</td>\n",
       "      <td>61</td>\n",
       "      <td>28</td>\n",
       "      <td>Senior Engineer</td>\n",
       "      <td>60929</td>\n",
       "      <td>Quality Management</td>\n",
       "    </tr>\n",
       "    <tr>\n",
       "      <th>9</th>\n",
       "      <td>F</td>\n",
       "      <td>4</td>\n",
       "      <td>A</td>\n",
       "      <td>0</td>\n",
       "      <td>50</td>\n",
       "      <td>24</td>\n",
       "      <td>Engineer</td>\n",
       "      <td>72488</td>\n",
       "      <td>Quality Management</td>\n",
       "    </tr>\n",
       "    <tr>\n",
       "      <th>10</th>\n",
       "      <td>F</td>\n",
       "      <td>6</td>\n",
       "      <td>C</td>\n",
       "      <td>0</td>\n",
       "      <td>60</td>\n",
       "      <td>23</td>\n",
       "      <td>Staff</td>\n",
       "      <td>42365</td>\n",
       "      <td>Customer Service</td>\n",
       "    </tr>\n",
       "    <tr>\n",
       "      <th>11</th>\n",
       "      <td>M</td>\n",
       "      <td>3</td>\n",
       "      <td>A</td>\n",
       "      <td>0</td>\n",
       "      <td>53</td>\n",
       "      <td>21</td>\n",
       "      <td>Senior Engineer</td>\n",
       "      <td>40000</td>\n",
       "      <td>development</td>\n",
       "    </tr>\n",
       "    <tr>\n",
       "      <th>12</th>\n",
       "      <td>M</td>\n",
       "      <td>6</td>\n",
       "      <td>C</td>\n",
       "      <td>0</td>\n",
       "      <td>50</td>\n",
       "      <td>28</td>\n",
       "      <td>Senior Staff</td>\n",
       "      <td>40000</td>\n",
       "      <td>Human Resources</td>\n",
       "    </tr>\n",
       "    <tr>\n",
       "      <th>13</th>\n",
       "      <td>M</td>\n",
       "      <td>9</td>\n",
       "      <td>B</td>\n",
       "      <td>0</td>\n",
       "      <td>57</td>\n",
       "      <td>26</td>\n",
       "      <td>Engineer</td>\n",
       "      <td>46168</td>\n",
       "      <td>development</td>\n",
       "    </tr>\n",
       "    <tr>\n",
       "      <th>14</th>\n",
       "      <td>M</td>\n",
       "      <td>4</td>\n",
       "      <td>B</td>\n",
       "      <td>0</td>\n",
       "      <td>54</td>\n",
       "      <td>26</td>\n",
       "      <td>Senior Staff</td>\n",
       "      <td>40000</td>\n",
       "      <td>Research</td>\n",
       "    </tr>\n",
       "    <tr>\n",
       "      <th>15</th>\n",
       "      <td>M</td>\n",
       "      <td>5</td>\n",
       "      <td>C</td>\n",
       "      <td>0</td>\n",
       "      <td>52</td>\n",
       "      <td>18</td>\n",
       "      <td>Staff</td>\n",
       "      <td>70889</td>\n",
       "      <td>Sales</td>\n",
       "    </tr>\n",
       "    <tr>\n",
       "      <th>16</th>\n",
       "      <td>F</td>\n",
       "      <td>10</td>\n",
       "      <td>A</td>\n",
       "      <td>0</td>\n",
       "      <td>55</td>\n",
       "      <td>20</td>\n",
       "      <td>Staff</td>\n",
       "      <td>71380</td>\n",
       "      <td>Marketing</td>\n",
       "    </tr>\n",
       "    <tr>\n",
       "      <th>17</th>\n",
       "      <td>F</td>\n",
       "      <td>4</td>\n",
       "      <td>B</td>\n",
       "      <td>0</td>\n",
       "      <td>59</td>\n",
       "      <td>26</td>\n",
       "      <td>Senior Engineer</td>\n",
       "      <td>55881</td>\n",
       "      <td>development</td>\n",
       "    </tr>\n",
       "    <tr>\n",
       "      <th>18</th>\n",
       "      <td>M</td>\n",
       "      <td>4</td>\n",
       "      <td>B</td>\n",
       "      <td>0</td>\n",
       "      <td>60</td>\n",
       "      <td>14</td>\n",
       "      <td>Staff</td>\n",
       "      <td>44276</td>\n",
       "      <td>Research</td>\n",
       "    </tr>\n",
       "    <tr>\n",
       "      <th>19</th>\n",
       "      <td>M</td>\n",
       "      <td>7</td>\n",
       "      <td>B</td>\n",
       "      <td>0</td>\n",
       "      <td>61</td>\n",
       "      <td>22</td>\n",
       "      <td>Engineer</td>\n",
       "      <td>40000</td>\n",
       "      <td>Production</td>\n",
       "    </tr>\n",
       "  </tbody>\n",
       "</table>\n",
       "</div>"
      ],
      "text/plain": [
       "   sex  no_of_projects last_performance_rating  left  Age  Tenure_Years  \\\n",
       "0    M               9                       C     1   60             8   \n",
       "1    F               8                       B     0   49            28   \n",
       "2    M               1                       C     0   54            27   \n",
       "3    M               5                       A     0   59            27   \n",
       "4    M               6                       A     0   58            24   \n",
       "5    F              10                       B     0   60            24   \n",
       "6    F               6                       B     1   56            13   \n",
       "7    M               9                       C     0   55            19   \n",
       "8    F               8                       B     0   61            28   \n",
       "9    F               4                       A     0   50            24   \n",
       "10   F               6                       C     0   60            23   \n",
       "11   M               3                       A     0   53            21   \n",
       "12   M               6                       C     0   50            28   \n",
       "13   M               9                       B     0   57            26   \n",
       "14   M               4                       B     0   54            26   \n",
       "15   M               5                       C     0   52            18   \n",
       "16   F              10                       A     0   55            20   \n",
       "17   F               4                       B     0   59            26   \n",
       "18   M               4                       B     0   60            14   \n",
       "19   M               7                       B     0   61            22   \n",
       "\n",
       "                 title  salary           dept_name  \n",
       "0      Senior Engineer   60117         development  \n",
       "1                Staff   65828               Sales  \n",
       "2      Senior Engineer   40006          Production  \n",
       "3      Senior Engineer   40054          Production  \n",
       "4                Staff   78228     Human Resources  \n",
       "5      Senior Engineer   40000         development  \n",
       "6                Staff   56724            Research  \n",
       "7   Assistant Engineer   46671         development  \n",
       "8      Senior Engineer   60929  Quality Management  \n",
       "9             Engineer   72488  Quality Management  \n",
       "10               Staff   42365    Customer Service  \n",
       "11     Senior Engineer   40000         development  \n",
       "12        Senior Staff   40000     Human Resources  \n",
       "13            Engineer   46168         development  \n",
       "14        Senior Staff   40000            Research  \n",
       "15               Staff   70889               Sales  \n",
       "16               Staff   71380           Marketing  \n",
       "17     Senior Engineer   55881         development  \n",
       "18               Staff   44276            Research  \n",
       "19            Engineer   40000          Production  "
      ]
     },
     "execution_count": 52,
     "metadata": {},
     "output_type": "execute_result"
    }
   ],
   "source": [
    "df = emp_tsd.drop('emp_title_id','birth_date','last_date','hire_date'\\\n",
    "                  ,'emp_no','title_id','dept_no','first_name','last_name')\n",
    "df.toPandas().head(20)"
   ]
  },
  {
   "cell_type": "code",
   "execution_count": 53,
   "metadata": {},
   "outputs": [
    {
     "name": "stdout",
     "output_type": "stream",
     "text": [
      "root\n",
      " |-- sex: string (nullable = true)\n",
      " |-- no_of_projects: integer (nullable = true)\n",
      " |-- last_performance_rating: string (nullable = true)\n",
      " |-- left: integer (nullable = true)\n",
      " |-- Age: integer (nullable = true)\n",
      " |-- Tenure_Years: integer (nullable = true)\n",
      " |-- title: string (nullable = true)\n",
      " |-- salary: integer (nullable = true)\n",
      " |-- dept_name: string (nullable = true)\n",
      "\n"
     ]
    }
   ],
   "source": [
    "df.printSchema()"
   ]
  },
  {
   "cell_type": "markdown",
   "metadata": {},
   "source": [
    "## **Data Preparation for Modeling**"
   ]
  },
  {
   "cell_type": "markdown",
   "metadata": {},
   "source": [
    "### Label Encoding :"
   ]
  },
  {
   "cell_type": "markdown",
   "metadata": {},
   "source": [
    "#### last_performance_rating :"
   ]
  },
  {
   "cell_type": "code",
   "execution_count": 54,
   "metadata": {},
   "outputs": [
    {
     "name": "stdout",
     "output_type": "stream",
     "text": [
      "+-----------------------+\n",
      "|last_performance_rating|\n",
      "+-----------------------+\n",
      "|                      B|\n",
      "|                      C|\n",
      "|                      A|\n",
      "|                      S|\n",
      "|                    PIP|\n",
      "+-----------------------+\n",
      "\n"
     ]
    }
   ],
   "source": [
    "df.select('last_performance_rating').distinct().show()"
   ]
  },
  {
   "cell_type": "markdown",
   "metadata": {},
   "source": [
    "Considering the the order as S > A > B > C > PIP, Encoding values as S = 5, A = 4, B = 3, C = 2, PIP = 1"
   ]
  },
  {
   "cell_type": "code",
   "execution_count": 55,
   "metadata": {},
   "outputs": [],
   "source": [
    "df = df.withColumn('last_performance_rating', F.when(df.last_performance_rating=='S',5)\\\n",
    "                                               .when(df.last_performance_rating=='A',4)\\\n",
    "                                               .when(df.last_performance_rating=='B',3)\\\n",
    "                                               .when(df.last_performance_rating=='C',2)\\\n",
    "                                               .otherwise(1))"
   ]
  },
  {
   "cell_type": "markdown",
   "metadata": {},
   "source": [
    "#### title :"
   ]
  },
  {
   "cell_type": "code",
   "execution_count": 56,
   "metadata": {},
   "outputs": [
    {
     "name": "stdout",
     "output_type": "stream",
     "text": [
      "+------------------+\n",
      "|             title|\n",
      "+------------------+\n",
      "|             Staff|\n",
      "|Assistant Engineer|\n",
      "|      Senior Staff|\n",
      "|   Senior Engineer|\n",
      "|          Engineer|\n",
      "|           Manager|\n",
      "|  Technique Leader|\n",
      "+------------------+\n",
      "\n"
     ]
    }
   ],
   "source": [
    "df.select('title').distinct().show()"
   ]
  },
  {
   "cell_type": "markdown",
   "metadata": {},
   "source": [
    "Considering the the order as Staff < Senior Staff < Assistant Engineer < Engineer < Senior Engineer < Technique Leader < Manager, Encoding values as Manager = 7, Technique Leader = 6, Senior Engineer = 5, Engineer = 4, Assistant Engineer = 3, Senior Staff = 2, Staff = 1"
   ]
  },
  {
   "cell_type": "code",
   "execution_count": 57,
   "metadata": {},
   "outputs": [],
   "source": [
    "df = df.withColumn('title', F.when(df.title=='Manager',7)\\\n",
    "                             .when(df.title=='Technique Leader',6)\\\n",
    "                             .when(df.title=='Senior Engineer',5)\\\n",
    "                             .when(df.title=='Engineer',4)\\\n",
    "                             .when(df.title=='Assistant Engineer',3)\\\n",
    "                             .when(df.title=='Senior Staff',2)\\\n",
    "                             .otherwise(1))"
   ]
  },
  {
   "cell_type": "code",
   "execution_count": 58,
   "metadata": {},
   "outputs": [
    {
     "name": "stdout",
     "output_type": "stream",
     "text": [
      "+---+--------------+-----------------------+----+---+------------+-----+------+------------------+\n",
      "|sex|no_of_projects|last_performance_rating|left|Age|Tenure_Years|title|salary|         dept_name|\n",
      "+---+--------------+-----------------------+----+---+------------+-----+------+------------------+\n",
      "|  M|             9|                      2|   1| 60|           8|    5| 60117|       development|\n",
      "|  F|             8|                      3|   0| 49|          28|    1| 65828|             Sales|\n",
      "|  M|             1|                      2|   0| 54|          27|    5| 40006|        Production|\n",
      "|  M|             5|                      4|   0| 59|          27|    5| 40054|        Production|\n",
      "|  M|             6|                      4|   0| 58|          24|    1| 78228|   Human Resources|\n",
      "|  F|            10|                      3|   0| 60|          24|    5| 40000|       development|\n",
      "|  F|             6|                      3|   1| 56|          13|    1| 56724|          Research|\n",
      "|  M|             9|                      2|   0| 55|          19|    3| 46671|       development|\n",
      "|  F|             8|                      3|   0| 61|          28|    5| 60929|Quality Management|\n",
      "|  F|             4|                      4|   0| 50|          24|    4| 72488|Quality Management|\n",
      "|  F|             6|                      2|   0| 60|          23|    1| 42365|  Customer Service|\n",
      "|  M|             3|                      4|   0| 53|          21|    5| 40000|       development|\n",
      "|  M|             6|                      2|   0| 50|          28|    2| 40000|   Human Resources|\n",
      "|  M|             9|                      3|   0| 57|          26|    4| 46168|       development|\n",
      "|  M|             4|                      3|   0| 54|          26|    2| 40000|          Research|\n",
      "|  M|             5|                      2|   0| 52|          18|    1| 70889|             Sales|\n",
      "|  F|            10|                      4|   0| 55|          20|    1| 71380|         Marketing|\n",
      "|  F|             4|                      3|   0| 59|          26|    5| 55881|       development|\n",
      "|  M|             4|                      3|   0| 60|          14|    1| 44276|          Research|\n",
      "|  M|             7|                      3|   0| 61|          22|    4| 40000|        Production|\n",
      "+---+--------------+-----------------------+----+---+------------+-----+------+------------------+\n",
      "only showing top 20 rows\n",
      "\n"
     ]
    }
   ],
   "source": [
    "df.show()"
   ]
  },
  {
   "cell_type": "code",
   "execution_count": 59,
   "metadata": {},
   "outputs": [],
   "source": [
    "# Back_Up df after Label Encoding\n",
    "df_bkup = df"
   ]
  },
  {
   "cell_type": "markdown",
   "metadata": {},
   "source": [
    "### One-Hot-Encoding :"
   ]
  },
  {
   "cell_type": "code",
   "execution_count": 60,
   "metadata": {},
   "outputs": [],
   "source": [
    "#Encoding all categorical features\n",
    "from pyspark.ml.feature import StringIndexer, VectorAssembler, OneHotEncoderEstimator"
   ]
  },
  {
   "cell_type": "code",
   "execution_count": 61,
   "metadata": {},
   "outputs": [
    {
     "name": "stdout",
     "output_type": "stream",
     "text": [
      "+---+---------+------------------+---------------+\n",
      "|sex|sex_Index|         dept_name|dept_name_Index|\n",
      "+---+---------+------------------+---------------+\n",
      "|  M|      0.0|       development|            0.0|\n",
      "|  F|      1.0|             Sales|            2.0|\n",
      "|  M|      0.0|        Production|            1.0|\n",
      "|  M|      0.0|        Production|            1.0|\n",
      "|  M|      0.0|   Human Resources|            6.0|\n",
      "|  F|      1.0|       development|            0.0|\n",
      "|  F|      1.0|          Research|            4.0|\n",
      "|  M|      0.0|       development|            0.0|\n",
      "|  F|      1.0|Quality Management|            5.0|\n",
      "|  F|      1.0|Quality Management|            5.0|\n",
      "+---+---------+------------------+---------------+\n",
      "only showing top 10 rows\n",
      "\n"
     ]
    }
   ],
   "source": [
    "# create object of StringIndexer class and specify input and output column\n",
    "SI_sex = StringIndexer(inputCol='sex',outputCol='sex_Index')\n",
    "SI_dept_name = StringIndexer(inputCol='dept_name',outputCol='dept_name_Index')\n",
    "\n",
    "# transform the data\n",
    "df = SI_sex.fit(df).transform(df)\n",
    "df = SI_dept_name.fit(df).transform(df)\n",
    "\n",
    "# view the transformed data\n",
    "df.select('sex', 'sex_Index', 'dept_name', 'dept_name_Index').show(10)"
   ]
  },
  {
   "cell_type": "code",
   "execution_count": 62,
   "metadata": {},
   "outputs": [
    {
     "name": "stdout",
     "output_type": "stream",
     "text": [
      "+---+---------+-------------+------------------+---------------+-------------+\n",
      "|sex|sex_Index|      sex_vec|         dept_name|dept_name_Index|dept_name_vec|\n",
      "+---+---------+-------------+------------------+---------------+-------------+\n",
      "|  M|      0.0|(1,[0],[1.0])|       development|            0.0|(8,[0],[1.0])|\n",
      "|  F|      1.0|    (1,[],[])|             Sales|            2.0|(8,[2],[1.0])|\n",
      "|  M|      0.0|(1,[0],[1.0])|        Production|            1.0|(8,[1],[1.0])|\n",
      "|  M|      0.0|(1,[0],[1.0])|        Production|            1.0|(8,[1],[1.0])|\n",
      "|  M|      0.0|(1,[0],[1.0])|   Human Resources|            6.0|(8,[6],[1.0])|\n",
      "|  F|      1.0|    (1,[],[])|       development|            0.0|(8,[0],[1.0])|\n",
      "|  F|      1.0|    (1,[],[])|          Research|            4.0|(8,[4],[1.0])|\n",
      "|  M|      0.0|(1,[0],[1.0])|       development|            0.0|(8,[0],[1.0])|\n",
      "|  F|      1.0|    (1,[],[])|Quality Management|            5.0|(8,[5],[1.0])|\n",
      "|  F|      1.0|    (1,[],[])|Quality Management|            5.0|(8,[5],[1.0])|\n",
      "+---+---------+-------------+------------------+---------------+-------------+\n",
      "only showing top 10 rows\n",
      "\n"
     ]
    }
   ],
   "source": [
    "# create object and specify input and output column\n",
    "OHE_sex = OneHotEncoderEstimator(inputCols=['sex_Index'],outputCols=['sex_vec'])\n",
    "OHE_dept_name = OneHotEncoderEstimator(inputCols=['dept_name_Index'],outputCols=['dept_name_vec'])\n",
    "\n",
    "# transform the data\n",
    "df = OHE_sex.fit(df).transform(df)\n",
    "df = OHE_dept_name.fit(df).transform(df)\n",
    "\n",
    "# view and transform the data\n",
    "df.select('sex', 'sex_Index','sex_vec', \\\n",
    "          'dept_name', 'dept_name_Index','dept_name_vec').show(10)"
   ]
  },
  {
   "cell_type": "code",
   "execution_count": 63,
   "metadata": {},
   "outputs": [],
   "source": [
    "df = df.withColumnRenamed('left', 'label')"
   ]
  },
  {
   "cell_type": "code",
   "execution_count": 64,
   "metadata": {},
   "outputs": [
    {
     "data": {
      "text/html": [
       "<div>\n",
       "<style scoped>\n",
       "    .dataframe tbody tr th:only-of-type {\n",
       "        vertical-align: middle;\n",
       "    }\n",
       "\n",
       "    .dataframe tbody tr th {\n",
       "        vertical-align: top;\n",
       "    }\n",
       "\n",
       "    .dataframe thead th {\n",
       "        text-align: right;\n",
       "    }\n",
       "</style>\n",
       "<table border=\"1\" class=\"dataframe\">\n",
       "  <thead>\n",
       "    <tr style=\"text-align: right;\">\n",
       "      <th></th>\n",
       "      <th>sex</th>\n",
       "      <th>no_of_projects</th>\n",
       "      <th>last_performance_rating</th>\n",
       "      <th>label</th>\n",
       "      <th>Age</th>\n",
       "      <th>Tenure_Years</th>\n",
       "      <th>title</th>\n",
       "      <th>salary</th>\n",
       "      <th>dept_name</th>\n",
       "      <th>sex_Index</th>\n",
       "      <th>dept_name_Index</th>\n",
       "      <th>sex_vec</th>\n",
       "      <th>dept_name_vec</th>\n",
       "    </tr>\n",
       "  </thead>\n",
       "  <tbody>\n",
       "    <tr>\n",
       "      <th>0</th>\n",
       "      <td>M</td>\n",
       "      <td>9</td>\n",
       "      <td>2</td>\n",
       "      <td>1</td>\n",
       "      <td>60</td>\n",
       "      <td>8</td>\n",
       "      <td>5</td>\n",
       "      <td>60117</td>\n",
       "      <td>development</td>\n",
       "      <td>0.0</td>\n",
       "      <td>0.0</td>\n",
       "      <td>(1.0)</td>\n",
       "      <td>(1.0, 0.0, 0.0, 0.0, 0.0, 0.0, 0.0, 0.0)</td>\n",
       "    </tr>\n",
       "    <tr>\n",
       "      <th>1</th>\n",
       "      <td>F</td>\n",
       "      <td>8</td>\n",
       "      <td>3</td>\n",
       "      <td>0</td>\n",
       "      <td>49</td>\n",
       "      <td>28</td>\n",
       "      <td>1</td>\n",
       "      <td>65828</td>\n",
       "      <td>Sales</td>\n",
       "      <td>1.0</td>\n",
       "      <td>2.0</td>\n",
       "      <td>(0.0)</td>\n",
       "      <td>(0.0, 0.0, 1.0, 0.0, 0.0, 0.0, 0.0, 0.0)</td>\n",
       "    </tr>\n",
       "    <tr>\n",
       "      <th>2</th>\n",
       "      <td>M</td>\n",
       "      <td>1</td>\n",
       "      <td>2</td>\n",
       "      <td>0</td>\n",
       "      <td>54</td>\n",
       "      <td>27</td>\n",
       "      <td>5</td>\n",
       "      <td>40006</td>\n",
       "      <td>Production</td>\n",
       "      <td>0.0</td>\n",
       "      <td>1.0</td>\n",
       "      <td>(1.0)</td>\n",
       "      <td>(0.0, 1.0, 0.0, 0.0, 0.0, 0.0, 0.0, 0.0)</td>\n",
       "    </tr>\n",
       "    <tr>\n",
       "      <th>3</th>\n",
       "      <td>M</td>\n",
       "      <td>5</td>\n",
       "      <td>4</td>\n",
       "      <td>0</td>\n",
       "      <td>59</td>\n",
       "      <td>27</td>\n",
       "      <td>5</td>\n",
       "      <td>40054</td>\n",
       "      <td>Production</td>\n",
       "      <td>0.0</td>\n",
       "      <td>1.0</td>\n",
       "      <td>(1.0)</td>\n",
       "      <td>(0.0, 1.0, 0.0, 0.0, 0.0, 0.0, 0.0, 0.0)</td>\n",
       "    </tr>\n",
       "    <tr>\n",
       "      <th>4</th>\n",
       "      <td>M</td>\n",
       "      <td>6</td>\n",
       "      <td>4</td>\n",
       "      <td>0</td>\n",
       "      <td>58</td>\n",
       "      <td>24</td>\n",
       "      <td>1</td>\n",
       "      <td>78228</td>\n",
       "      <td>Human Resources</td>\n",
       "      <td>0.0</td>\n",
       "      <td>6.0</td>\n",
       "      <td>(1.0)</td>\n",
       "      <td>(0.0, 0.0, 0.0, 0.0, 0.0, 0.0, 1.0, 0.0)</td>\n",
       "    </tr>\n",
       "  </tbody>\n",
       "</table>\n",
       "</div>"
      ],
      "text/plain": [
       "  sex  no_of_projects  last_performance_rating  label  Age  Tenure_Years  \\\n",
       "0   M               9                        2      1   60             8   \n",
       "1   F               8                        3      0   49            28   \n",
       "2   M               1                        2      0   54            27   \n",
       "3   M               5                        4      0   59            27   \n",
       "4   M               6                        4      0   58            24   \n",
       "\n",
       "   title  salary        dept_name  sex_Index  dept_name_Index sex_vec  \\\n",
       "0      5   60117      development        0.0              0.0   (1.0)   \n",
       "1      1   65828            Sales        1.0              2.0   (0.0)   \n",
       "2      5   40006       Production        0.0              1.0   (1.0)   \n",
       "3      5   40054       Production        0.0              1.0   (1.0)   \n",
       "4      1   78228  Human Resources        0.0              6.0   (1.0)   \n",
       "\n",
       "                              dept_name_vec  \n",
       "0  (1.0, 0.0, 0.0, 0.0, 0.0, 0.0, 0.0, 0.0)  \n",
       "1  (0.0, 0.0, 1.0, 0.0, 0.0, 0.0, 0.0, 0.0)  \n",
       "2  (0.0, 1.0, 0.0, 0.0, 0.0, 0.0, 0.0, 0.0)  \n",
       "3  (0.0, 1.0, 0.0, 0.0, 0.0, 0.0, 0.0, 0.0)  \n",
       "4  (0.0, 0.0, 0.0, 0.0, 0.0, 0.0, 1.0, 0.0)  "
      ]
     },
     "execution_count": 64,
     "metadata": {},
     "output_type": "execute_result"
    }
   ],
   "source": [
    "df.toPandas().head()"
   ]
  },
  {
   "cell_type": "markdown",
   "metadata": {},
   "source": [
    "### Assembler :"
   ]
  },
  {
   "cell_type": "code",
   "execution_count": 65,
   "metadata": {},
   "outputs": [
    {
     "data": {
      "text/plain": [
       "['sex',\n",
       " 'no_of_projects',\n",
       " 'last_performance_rating',\n",
       " 'label',\n",
       " 'Age',\n",
       " 'Tenure_Years',\n",
       " 'title',\n",
       " 'salary',\n",
       " 'dept_name',\n",
       " 'sex_Index',\n",
       " 'dept_name_Index',\n",
       " 'sex_vec',\n",
       " 'dept_name_vec']"
      ]
     },
     "execution_count": 65,
     "metadata": {},
     "output_type": "execute_result"
    }
   ],
   "source": [
    "df.columns"
   ]
  },
  {
   "cell_type": "code",
   "execution_count": 66,
   "metadata": {},
   "outputs": [],
   "source": [
    "assembler = VectorAssembler(inputCols = [\n",
    " 'no_of_projects',\n",
    " 'last_performance_rating',\n",
    " 'Age',\n",
    " 'Tenure_Years',\n",
    " 'title',\n",
    " 'salary',\n",
    " 'sex_vec',\n",
    " 'dept_name_vec',], outputCol = \"features\")"
   ]
  },
  {
   "cell_type": "code",
   "execution_count": 67,
   "metadata": {},
   "outputs": [
    {
     "name": "stdout",
     "output_type": "stream",
     "text": [
      "+-----+---------------------------------------------------------------+\n",
      "|label|features                                                       |\n",
      "+-----+---------------------------------------------------------------+\n",
      "|1    |(15,[0,1,2,3,4,5,6,7],[9.0,2.0,60.0,8.0,5.0,60117.0,1.0,1.0])  |\n",
      "|0    |(15,[0,1,2,3,4,5,9],[8.0,3.0,49.0,28.0,1.0,65828.0,1.0])       |\n",
      "|0    |(15,[0,1,2,3,4,5,6,8],[1.0,2.0,54.0,27.0,5.0,40006.0,1.0,1.0]) |\n",
      "|0    |(15,[0,1,2,3,4,5,6,8],[5.0,4.0,59.0,27.0,5.0,40054.0,1.0,1.0]) |\n",
      "|0    |(15,[0,1,2,3,4,5,6,13],[6.0,4.0,58.0,24.0,1.0,78228.0,1.0,1.0])|\n",
      "|0    |(15,[0,1,2,3,4,5,7],[10.0,3.0,60.0,24.0,5.0,40000.0,1.0])      |\n",
      "|1    |(15,[0,1,2,3,4,5,11],[6.0,3.0,56.0,13.0,1.0,56724.0,1.0])      |\n",
      "|0    |(15,[0,1,2,3,4,5,6,7],[9.0,2.0,55.0,19.0,3.0,46671.0,1.0,1.0]) |\n",
      "|0    |(15,[0,1,2,3,4,5,12],[8.0,3.0,61.0,28.0,5.0,60929.0,1.0])      |\n",
      "|0    |(15,[0,1,2,3,4,5,12],[4.0,4.0,50.0,24.0,4.0,72488.0,1.0])      |\n",
      "+-----+---------------------------------------------------------------+\n",
      "only showing top 10 rows\n",
      "\n"
     ]
    }
   ],
   "source": [
    "data = assembler.transform(df).select('label','features')\n",
    "data.show(10, truncate=False)"
   ]
  },
  {
   "cell_type": "markdown",
   "metadata": {},
   "source": [
    "### **Train Test Split**"
   ]
  },
  {
   "cell_type": "code",
   "execution_count": 68,
   "metadata": {},
   "outputs": [],
   "source": [
    "train_df, test_df = data.randomSplit( [0.7, 0.3], seed = 42 )"
   ]
  },
  {
   "cell_type": "markdown",
   "metadata": {},
   "source": [
    "## **Model Building**"
   ]
  },
  {
   "cell_type": "code",
   "execution_count": 69,
   "metadata": {},
   "outputs": [],
   "source": [
    "from pyspark.ml import Pipeline\n",
    "from pyspark.ml.classification import RandomForestClassifier\n",
    "from pyspark.ml.feature import *\n",
    "from pyspark.ml.evaluation import MulticlassClassificationEvaluator, BinaryClassificationEvaluator\n",
    "\n",
    "from sklearn.metrics import confusion_matrix\n",
    "from sklearn.metrics import precision_score\n",
    "from sklearn.metrics import recall_score"
   ]
  },
  {
   "cell_type": "code",
   "execution_count": 70,
   "metadata": {},
   "outputs": [],
   "source": [
    "# Train Function to build the model and check accuacy\n",
    "def train(train, test, classifier):\n",
    "    print(classifier)\n",
    "    model = classifier.fit(train)\n",
    "\n",
    "    pred = model.transform(test)\n",
    "\n",
    "    eval_accuracy = (MulticlassClassificationEvaluator\n",
    "        (labelCol=\"label\", predictionCol=\"prediction\", metricName=\"accuracy\"))\n",
    "\n",
    "    eval_precision = (MulticlassClassificationEvaluator\n",
    "        (labelCol=\"label\", predictionCol=\"prediction\", metricName=\"weightedPrecision\"))\n",
    "\n",
    "    eval_recall = (MulticlassClassificationEvaluator\n",
    "        (labelCol=\"label\", predictionCol=\"prediction\", metricName=\"weightedRecall\"))\n",
    "\n",
    "    eval_f1 = (MulticlassClassificationEvaluator\n",
    "        (labelCol=\"label\", predictionCol=\"prediction\", metricName=\"f1\"))\n",
    "\n",
    "    accuracy = eval_accuracy.evaluate(pred)\n",
    "\n",
    "    precision =  eval_precision.evaluate(pred)\n",
    "\n",
    "    recall =  eval_recall.evaluate(pred)\n",
    "\n",
    "    f1 =  eval_f1.evaluate(pred)\n",
    "\n",
    "    print(f\"\"\"\n",
    "    Accuracy  = {accuracy}\n",
    "    Error     = {1-accuracy}\n",
    "    Precision = {precision}\n",
    "    Recall    = {recall}\n",
    "    F1        = {f1}\"\"\")\n",
    "\n",
    "    return model, pred"
   ]
  },
  {
   "cell_type": "markdown",
   "metadata": {},
   "source": [
    "# Random Forest Classifier Model"
   ]
  },
  {
   "cell_type": "code",
   "execution_count": 71,
   "metadata": {},
   "outputs": [],
   "source": [
    "rfc = RandomForestClassifier(featuresCol=\"features\",\n",
    "                              labelCol=\"label\",\n",
    "                              numTrees=50,\n",
    "                              maxDepth=5,\n",
    "                              featureSubsetStrategy='onethird')"
   ]
  },
  {
   "cell_type": "code",
   "execution_count": 72,
   "metadata": {},
   "outputs": [
    {
     "name": "stdout",
     "output_type": "stream",
     "text": [
      "RandomForestClassifier_ce110dc17493\n",
      "\n",
      "    Accuracy  = 0.9980555834925744\n",
      "    Error     = 0.001944416507425606\n",
      "    Precision = 0.9980594815941188\n",
      "    Recall    = 0.9980555834925743\n",
      "    F1        = 0.9980471469145747\n",
      "+-----+--------------------+--------------------+--------------------+----------+\n",
      "|label|            features|       rawPrediction|         probability|prediction|\n",
      "+-----+--------------------+--------------------+--------------------+----------+\n",
      "|    0|(15,[0,1,2,3,4,5]...|[49.3410460390212...|[0.98682092078042...|       0.0|\n",
      "|    0|(15,[0,1,2,3,4,5]...|[49.4408732192368...|[0.98881746438473...|       0.0|\n",
      "|    0|(15,[0,1,2,3,4,5]...|[49.4410653136910...|[0.98882130627382...|       0.0|\n",
      "|    0|(15,[0,1,2,3,4,5]...|[49.3607091886313...|[0.98721418377262...|       0.0|\n",
      "|    0|(15,[0,1,2,3,4,5]...|[49.4445703932617...|[0.98889140786523...|       0.0|\n",
      "|    0|(15,[0,1,2,3,4,5]...|[49.6444542333341...|[0.99288908466668...|       0.0|\n",
      "|    0|(15,[0,1,2,3,4,5]...|[49.5585614521556...|[0.99117122904311...|       0.0|\n",
      "|    0|(15,[0,1,2,3,4,5]...|[49.6448511827771...|[0.99289702365554...|       0.0|\n",
      "|    0|(15,[0,1,2,3,4,5]...|[49.5646074606149...|[0.99129214921229...|       0.0|\n",
      "|    0|(15,[0,1,2,3,4,5]...|[49.4159737882359...|[0.98831947576471...|       0.0|\n",
      "|    0|(15,[0,1,2,3,4,5]...|[49.4412544641398...|[0.98882508928279...|       0.0|\n",
      "|    0|(15,[0,1,2,3,4,5]...|[49.3588172907594...|[0.98717634581518...|       0.0|\n",
      "|    0|(15,[0,1,2,3,4,5]...|[49.3572341205677...|[0.98714468241135...|       0.0|\n",
      "|    0|(15,[0,1,2,3,4,5]...|[49.3572341205677...|[0.98714468241135...|       0.0|\n",
      "|    0|(15,[0,1,2,3,4,5]...|[49.3597101852755...|[0.98719420370551...|       0.0|\n",
      "|    0|(15,[0,1,2,3,4,5]...|[49.3612933554672...|[0.98722586710934...|       0.0|\n",
      "|    0|(15,[0,1,2,3,4,5]...|[49.3595180908213...|[0.98719036181642...|       0.0|\n",
      "|    0|(15,[0,1,2,3,4,5]...|[49.4454157490611...|[0.98890831498122...|       0.0|\n",
      "|    0|(15,[0,1,2,3,4,5]...|[49.3589339239854...|[0.98717867847970...|       0.0|\n",
      "|    0|(15,[0,1,2,3,4,5]...|[49.3591260184395...|[0.98718252036879...|       0.0|\n",
      "+-----+--------------------+--------------------+--------------------+----------+\n",
      "only showing top 20 rows\n",
      "\n"
     ]
    }
   ],
   "source": [
    "model_rf, pred_rf = train(train_df, test_df, rfc)\n",
    "pred_rf.show()"
   ]
  },
  {
   "cell_type": "markdown",
   "metadata": {},
   "source": [
    "### Area under ROC (Random Forest Model)"
   ]
  },
  {
   "cell_type": "code",
   "execution_count": 73,
   "metadata": {},
   "outputs": [
    {
     "name": "stdout",
     "output_type": "stream",
     "text": [
      "Area under ROC on train dataset 0.9999458862996691\n",
      "Area under ROC on test dataset 0.9999469372959502\n"
     ]
    }
   ],
   "source": [
    "print('Area under ROC on train dataset',BinaryClassificationEvaluator(labelCol=\"label\", \\\n",
    "        rawPredictionCol=\"rawPrediction\", metricName=\"areaUnderROC\").evaluate(model_rf.transform(train_df)))\n",
    "print('Area under ROC on test dataset',BinaryClassificationEvaluator(labelCol=\"label\", \\\n",
    "        rawPredictionCol=\"rawPrediction\", metricName=\"areaUnderROC\").evaluate(pred_rf))"
   ]
  },
  {
   "cell_type": "markdown",
   "metadata": {},
   "source": [
    "# Logistic Regression Model"
   ]
  },
  {
   "cell_type": "code",
   "execution_count": 74,
   "metadata": {},
   "outputs": [],
   "source": [
    "from pyspark.ml.classification import LogisticRegression\n",
    "mlr = LogisticRegression(maxIter=10, \n",
    "                         regParam=0.3, \n",
    "                         elasticNetParam=0.8, \n",
    "                         family=\"multinomial\")"
   ]
  },
  {
   "cell_type": "code",
   "execution_count": 75,
   "metadata": {},
   "outputs": [
    {
     "name": "stdout",
     "output_type": "stream",
     "text": [
      "LogisticRegression_b9d5d0551431\n",
      "\n",
      "    Accuracy  = 0.9004101154357617\n",
      "    Error     = 0.09958988456423834\n",
      "    Precision = 0.8107383759790415\n",
      "    Recall    = 0.9004101154357617\n",
      "    F1        = 0.8532246480840692\n",
      "+-----+--------------------+--------------------+--------------------+----------+\n",
      "|label|            features|       rawPrediction|         probability|prediction|\n",
      "+-----+--------------------+--------------------+--------------------+----------+\n",
      "|    0|(15,[0,1,2,3,4,5]...|[1.10238003882660...|[0.90067615376621...|       0.0|\n",
      "|    0|(15,[0,1,2,3,4,5]...|[1.10018650552051...|[0.90028300239394...|       0.0|\n",
      "|    0|(15,[0,1,2,3,4,5]...|[1.10091768328921...|[0.90041420637067...|       0.0|\n",
      "|    0|(15,[0,1,2,3,4,5]...|[1.10347680547964...|[0.90087221183491...|       0.0|\n",
      "|    0|(15,[0,1,2,3,4,5]...|[1.10128327217355...|[0.90047975076500...|       0.0|\n",
      "|    0|(15,[0,1,2,3,4,5]...|[1.10164886105790...|[0.90054525678490...|       0.0|\n",
      "|    0|(15,[0,1,2,3,4,5]...|[1.10274562771095...|[0.90074154476001...|       0.0|\n",
      "|    0|(15,[0,1,2,3,4,5]...|[1.10347680547964...|[0.90087221183491...|       0.0|\n",
      "|    0|(15,[0,1,2,3,4,5]...|[1.10238003882660...|[0.90067615376621...|       0.0|\n",
      "|    0|(15,[0,1,2,3,4,5]...|[1.10347680547964...|[0.90087221183491...|       0.0|\n",
      "|    0|(15,[0,1,2,3,4,5]...|[1.1031112165953,...|[0.90080689744418...|       0.0|\n",
      "|    0|(15,[0,1,2,3,4,5]...|[1.1031112165953,...|[0.90080689744418...|       0.0|\n",
      "|    0|(15,[0,1,2,3,4,5]...|[1.1031112165953,...|[0.90080689744418...|       0.0|\n",
      "|    0|(15,[0,1,2,3,4,5]...|[1.10347680547964...|[0.90087221183491...|       0.0|\n",
      "|    0|(15,[0,1,2,3,4,5]...|[1.10091768328921...|[0.90041420637067...|       0.0|\n",
      "|    0|(15,[0,1,2,3,4,5]...|[1.10201444994225...|[0.90061072444658...|       0.0|\n",
      "|    0|(15,[0,1,2,3,4,5]...|[1.10274562771095...|[0.90074154476001...|       0.0|\n",
      "|    0|(15,[0,1,2,3,4,5]...|[1.09908973886746...|[0.90008590821584...|       0.0|\n",
      "|    0|(15,[0,1,2,3,4,5]...|[1.10274562771095...|[0.90074154476001...|       0.0|\n",
      "|    0|(15,[0,1,2,3,4,5]...|[1.10091768328921...|[0.90041420637067...|       0.0|\n",
      "+-----+--------------------+--------------------+--------------------+----------+\n",
      "only showing top 20 rows\n",
      "\n"
     ]
    }
   ],
   "source": [
    "model_lr, pred_lr = train(train_df, test_df, mlr)\n",
    "pred_lr.show()"
   ]
  },
  {
   "cell_type": "markdown",
   "metadata": {},
   "source": [
    "### Area under ROC (Logistic Regression Model)"
   ]
  },
  {
   "cell_type": "code",
   "execution_count": 76,
   "metadata": {},
   "outputs": [
    {
     "name": "stdout",
     "output_type": "stream",
     "text": [
      "Area under ROC on train dataset 0.9999504281834609\n",
      "Area under ROC on test dataset 0.999949764261694\n"
     ]
    }
   ],
   "source": [
    "print('Area under ROC on train dataset',BinaryClassificationEvaluator(labelCol=\"label\", \\\n",
    "        rawPredictionCol=\"rawPrediction\", metricName=\"areaUnderROC\").evaluate(model_lr.transform(train_df)))\n",
    "print('Area under ROC on test dataset',BinaryClassificationEvaluator(labelCol=\"label\", \\\n",
    "        rawPredictionCol=\"rawPrediction\", metricName=\"areaUnderROC\").evaluate(pred_lr))"
   ]
  },
  {
   "cell_type": "markdown",
   "metadata": {},
   "source": [
    "### Saving the Models to HDFS :"
   ]
  },
  {
   "cell_type": "code",
   "execution_count": 77,
   "metadata": {},
   "outputs": [],
   "source": [
    "model_rf.write().overwrite().save(\"random_forest.model\")"
   ]
  },
  {
   "cell_type": "code",
   "execution_count": 78,
   "metadata": {},
   "outputs": [],
   "source": [
    "model_lr.write().overwrite().save(\"logistic_regression.model\")"
   ]
  },
  {
   "cell_type": "markdown",
   "metadata": {},
   "source": [
    "# **Pipeline**"
   ]
  },
  {
   "cell_type": "markdown",
   "metadata": {},
   "source": [
    "## Pipeline Stages"
   ]
  },
  {
   "cell_type": "code",
   "execution_count": 79,
   "metadata": {},
   "outputs": [
    {
     "name": "stdout",
     "output_type": "stream",
     "text": [
      "+---+--------------+-----------------------+-----+---+------------+-----+------+------------------+\n",
      "|sex|no_of_projects|last_performance_rating|label|Age|Tenure_Years|title|salary|         dept_name|\n",
      "+---+--------------+-----------------------+-----+---+------------+-----+------+------------------+\n",
      "|  M|             9|                      2|    1| 60|           8|    5| 60117|       development|\n",
      "|  F|             8|                      3|    0| 49|          28|    1| 65828|             Sales|\n",
      "|  M|             1|                      2|    0| 54|          27|    5| 40006|        Production|\n",
      "|  M|             5|                      4|    0| 59|          27|    5| 40054|        Production|\n",
      "|  M|             6|                      4|    0| 58|          24|    1| 78228|   Human Resources|\n",
      "|  F|            10|                      3|    0| 60|          24|    5| 40000|       development|\n",
      "|  F|             6|                      3|    1| 56|          13|    1| 56724|          Research|\n",
      "|  M|             9|                      2|    0| 55|          19|    3| 46671|       development|\n",
      "|  F|             8|                      3|    0| 61|          28|    5| 60929|Quality Management|\n",
      "|  F|             4|                      4|    0| 50|          24|    4| 72488|Quality Management|\n",
      "|  F|             6|                      2|    0| 60|          23|    1| 42365|  Customer Service|\n",
      "|  M|             3|                      4|    0| 53|          21|    5| 40000|       development|\n",
      "|  M|             6|                      2|    0| 50|          28|    2| 40000|   Human Resources|\n",
      "|  M|             9|                      3|    0| 57|          26|    4| 46168|       development|\n",
      "|  M|             4|                      3|    0| 54|          26|    2| 40000|          Research|\n",
      "|  M|             5|                      2|    0| 52|          18|    1| 70889|             Sales|\n",
      "|  F|            10|                      4|    0| 55|          20|    1| 71380|         Marketing|\n",
      "|  F|             4|                      3|    0| 59|          26|    5| 55881|       development|\n",
      "|  M|             4|                      3|    0| 60|          14|    1| 44276|          Research|\n",
      "|  M|             7|                      3|    0| 61|          22|    4| 40000|        Production|\n",
      "+---+--------------+-----------------------+-----+---+------------+-----+------+------------------+\n",
      "only showing top 20 rows\n",
      "\n"
     ]
    }
   ],
   "source": [
    "# Preparing database  \n",
    "df = employees.join(titles, employees.emp_title_id == titles.title_id)\\\n",
    "    .join(salaries, on='emp_no')\\\n",
    "    .join(dept_emp, on='emp_no')\\\n",
    "    .join(departments, on='dept_no')\\\n",
    "    .withColumnRenamed('left2', 'label')\\\n",
    "    .drop('emp_title_id','birth_date','last_date','hire_date'\\\n",
    "                  ,'emp_no','title_id','dept_no','first_name','last_name')\n",
    "# Label Encoding\n",
    "df_pl = df.withColumn('last_performance_rating', F.when(df.last_performance_rating=='S',5)\\\n",
    "                                               .when(df.last_performance_rating=='A',4)\\\n",
    "                                               .when(df.last_performance_rating=='B',3)\\\n",
    "                                               .when(df.last_performance_rating=='C',2)\\\n",
    "                                               .otherwise(1))\\\n",
    "          .withColumn('title', F.when(df.title=='Manager',7)\\\n",
    "                             .when(df.title=='Technique Leader',6)\\\n",
    "                             .when(df.title=='Senior Engineer',5)\\\n",
    "                             .when(df.title=='Engineer',4)\\\n",
    "                             .when(df.title=='Assistant Engineer',3)\\\n",
    "                             .when(df.title=='Senior Staff',2)\\\n",
    "                             .otherwise(1))\n",
    "df_pl.show()"
   ]
  },
  {
   "cell_type": "code",
   "execution_count": 80,
   "metadata": {},
   "outputs": [],
   "source": [
    "conCols = [\n",
    "'no_of_projects',\n",
    " 'last_performance_rating',\n",
    " 'Age',\n",
    " 'Tenure_Years',\n",
    " 'title',\n",
    " 'salary']"
   ]
  },
  {
   "cell_type": "code",
   "execution_count": 81,
   "metadata": {},
   "outputs": [],
   "source": [
    "catCols = ['sex', 'dept_name']"
   ]
  },
  {
   "cell_type": "code",
   "execution_count": 82,
   "metadata": {},
   "outputs": [],
   "source": [
    "# String Indexer\n",
    "indexers = [StringIndexer(inputCol=column, outputCol=column+\"_Index\") for column in catCols ]\n",
    "\n",
    "# One Hot Encoder Estimator\n",
    "encoders = OneHotEncoderEstimator(inputCols=[i.getOutputCol() for i in indexers], \\\n",
    "                                  outputCols=[i.getOutputCol()+\"_vec\" for i in indexers])\n",
    "\n",
    "# Vector Assembler\n",
    "assembler = VectorAssembler(inputCols = encoders.getOutputCols() + conCols, outputCol = \"features\")\n",
    "\n",
    "# ML Models\n",
    "rfc = RandomForestClassifier(featuresCol=\"features\",\n",
    "                              labelCol=\"label\",\n",
    "                              numTrees=50,\n",
    "                              maxDepth=5,\n",
    "                              featureSubsetStrategy='onethird')\n",
    "mlr = LogisticRegression(maxIter=10, \n",
    "                         regParam=0.3, \n",
    "                         elasticNetParam=0.8, \n",
    "                         family=\"multinomial\")\n",
    "# Creating Pipelines\n",
    "pipeline_rfc = Pipeline(stages = indexers + [encoders, assembler, rfc])\n",
    "pipeline_mlr = Pipeline(stages = indexers + [encoders, assembler, mlr])"
   ]
  },
  {
   "cell_type": "code",
   "execution_count": 83,
   "metadata": {},
   "outputs": [],
   "source": [
    "train, test = df_pl.randomSplit( [0.7, 0.3], seed = 42 )"
   ]
  },
  {
   "cell_type": "markdown",
   "metadata": {},
   "source": [
    "## Checking Accuracy, Error, Precision, Recall, F1 Values"
   ]
  },
  {
   "cell_type": "code",
   "execution_count": 84,
   "metadata": {},
   "outputs": [],
   "source": [
    "def accuracyCheck(pred):\n",
    "    eval_accuracy = (MulticlassClassificationEvaluator\n",
    "        (labelCol=\"label\", predictionCol=\"prediction\", metricName=\"accuracy\"))\n",
    "\n",
    "    eval_precision = (MulticlassClassificationEvaluator\n",
    "        (labelCol=\"label\", predictionCol=\"prediction\", metricName=\"weightedPrecision\"))\n",
    "\n",
    "    eval_recall = (MulticlassClassificationEvaluator\n",
    "        (labelCol=\"label\", predictionCol=\"prediction\", metricName=\"weightedRecall\"))\n",
    "\n",
    "    eval_f1 = (MulticlassClassificationEvaluator\n",
    "        (labelCol=\"label\", predictionCol=\"prediction\", metricName=\"f1\"))\n",
    "\n",
    "    accuracy = eval_accuracy.evaluate(pred)\n",
    "\n",
    "    precision =  eval_precision.evaluate(pred)\n",
    "\n",
    "    recall =  eval_recall.evaluate(pred)\n",
    "\n",
    "    f1 =  eval_f1.evaluate(pred)\n",
    "\n",
    "    print(f\"\"\"\n",
    "    Accuracy  = {accuracy}\n",
    "    Error     = {1-accuracy}\n",
    "    Precision = {precision}\n",
    "    Recall    = {recall}\n",
    "    F1        = {f1}\"\"\")\n",
    "\n",
    "    return pred"
   ]
  },
  {
   "cell_type": "markdown",
   "metadata": {},
   "source": [
    "# Random Forest Classifier Model"
   ]
  },
  {
   "cell_type": "code",
   "execution_count": 85,
   "metadata": {},
   "outputs": [
    {
     "name": "stdout",
     "output_type": "stream",
     "text": [
      "\n",
      "    Accuracy  = 0.9976756400371004\n",
      "    Error     = 0.0023243599628995915\n",
      "    Precision = 0.9976805986159328\n",
      "    Recall    = 0.9976756400371003\n",
      "    F1        = 0.9976638430104859\n",
      "+-----+-------------------------------------------------------------+----------+\n",
      "|label|features                                                     |prediction|\n",
      "+-----+-------------------------------------------------------------+----------+\n",
      "|0    |(15,[1,9,10,11,12,13,14],[1.0,1.0,1.0,48.0,24.0,5.0,50527.0])|0.0       |\n",
      "|0    |(15,[1,9,10,11,12,13,14],[1.0,1.0,1.0,48.0,25.0,4.0,40000.0])|0.0       |\n",
      "|0    |(15,[2,9,10,11,12,13,14],[1.0,1.0,1.0,48.0,27.0,4.0,58610.0])|0.0       |\n",
      "|0    |(15,[2,9,10,11,12,13,14],[1.0,1.0,1.0,49.0,21.0,3.0,40000.0])|0.0       |\n",
      "|0    |(15,[4,9,10,11,12,13,14],[1.0,1.0,1.0,49.0,23.0,1.0,47408.0])|0.0       |\n",
      "|0    |(15,[2,9,10,11,12,13,14],[1.0,1.0,1.0,49.0,25.0,4.0,40000.0])|0.0       |\n",
      "|0    |(15,[2,9,10,11,12,13,14],[1.0,1.0,1.0,49.0,25.0,5.0,40000.0])|0.0       |\n",
      "|0    |(15,[4,9,10,11,12,13,14],[1.0,1.0,1.0,49.0,26.0,1.0,40000.0])|0.0       |\n",
      "|0    |(15,[3,9,10,11,12,13,14],[1.0,1.0,1.0,49.0,27.0,1.0,70833.0])|0.0       |\n",
      "|0    |(15,[4,9,10,11,12,13,14],[1.0,1.0,1.0,49.0,27.0,4.0,40000.0])|0.0       |\n",
      "+-----+-------------------------------------------------------------+----------+\n",
      "only showing top 10 rows\n",
      "\n"
     ]
    }
   ],
   "source": [
    "model_rfc = pipeline_rfc.fit(train)\n",
    "pred_rfc = model_rfc.transform(test)\n",
    "pred_rfc = accuracyCheck(pred_rfc)\n",
    "pred_rfc.select('label', 'features', 'prediction').show(10, truncate=False)"
   ]
  },
  {
   "cell_type": "markdown",
   "metadata": {},
   "source": [
    "### Area under ROC (Random Forest Model)"
   ]
  },
  {
   "cell_type": "code",
   "execution_count": 86,
   "metadata": {},
   "outputs": [
    {
     "name": "stdout",
     "output_type": "stream",
     "text": [
      "Area under ROC on train dataset 0.9999525956543478\n",
      "Area under ROC on test dataset 0.9999157516113358\n"
     ]
    }
   ],
   "source": [
    "print('Area under ROC on train dataset',BinaryClassificationEvaluator(labelCol=\"label\", \\\n",
    "        rawPredictionCol=\"rawPrediction\", metricName=\"areaUnderROC\").evaluate(model_rfc.transform(train)))\n",
    "print('Area under ROC on test dataset',BinaryClassificationEvaluator(labelCol=\"label\", \\\n",
    "        rawPredictionCol=\"rawPrediction\", metricName=\"areaUnderROC\").evaluate(pred_rfc))"
   ]
  },
  {
   "cell_type": "markdown",
   "metadata": {},
   "source": [
    "# Logistic Regression Model"
   ]
  },
  {
   "cell_type": "code",
   "execution_count": 87,
   "metadata": {},
   "outputs": [
    {
     "name": "stdout",
     "output_type": "stream",
     "text": [
      "\n",
      "    Accuracy  = 0.8998960742901203\n",
      "    Error     = 0.1001039257098797\n",
      "    Precision = 0.8098129445227698\n",
      "    Recall    = 0.8998960742901203\n",
      "    F1        = 0.8524813072476602\n",
      "+-----+-------------------------------------------------------------+----------+\n",
      "|label|features                                                     |prediction|\n",
      "+-----+-------------------------------------------------------------+----------+\n",
      "|0    |(15,[1,9,10,11,12,13,14],[1.0,1.0,1.0,48.0,24.0,5.0,50527.0])|0.0       |\n",
      "|0    |(15,[1,9,10,11,12,13,14],[1.0,1.0,1.0,48.0,25.0,4.0,40000.0])|0.0       |\n",
      "|0    |(15,[2,9,10,11,12,13,14],[1.0,1.0,1.0,48.0,27.0,4.0,58610.0])|0.0       |\n",
      "|0    |(15,[2,9,10,11,12,13,14],[1.0,1.0,1.0,49.0,21.0,3.0,40000.0])|0.0       |\n",
      "|0    |(15,[4,9,10,11,12,13,14],[1.0,1.0,1.0,49.0,23.0,1.0,47408.0])|0.0       |\n",
      "|0    |(15,[2,9,10,11,12,13,14],[1.0,1.0,1.0,49.0,25.0,4.0,40000.0])|0.0       |\n",
      "|0    |(15,[2,9,10,11,12,13,14],[1.0,1.0,1.0,49.0,25.0,5.0,40000.0])|0.0       |\n",
      "|0    |(15,[4,9,10,11,12,13,14],[1.0,1.0,1.0,49.0,26.0,1.0,40000.0])|0.0       |\n",
      "|0    |(15,[3,9,10,11,12,13,14],[1.0,1.0,1.0,49.0,27.0,1.0,70833.0])|0.0       |\n",
      "|0    |(15,[4,9,10,11,12,13,14],[1.0,1.0,1.0,49.0,27.0,4.0,40000.0])|0.0       |\n",
      "+-----+-------------------------------------------------------------+----------+\n",
      "only showing top 10 rows\n",
      "\n"
     ]
    }
   ],
   "source": [
    "model_mlr = pipeline_mlr.fit(train)\n",
    "pred_mlr = model_mlr.transform(test)\n",
    "pred_mlr = accuracyCheck(pred_mlr)\n",
    "pred_mlr.select('label', 'features', 'prediction').show(10, truncate=False)"
   ]
  },
  {
   "cell_type": "markdown",
   "metadata": {},
   "source": [
    "### Area under ROC (Logistic Regression Model)"
   ]
  },
  {
   "cell_type": "code",
   "execution_count": 88,
   "metadata": {},
   "outputs": [
    {
     "name": "stdout",
     "output_type": "stream",
     "text": [
      "Area under ROC on train dataset 0.9999554346690951\n",
      "Area under ROC on test dataset 0.9999374877649229\n"
     ]
    }
   ],
   "source": [
    "print('Area under ROC on train dataset',BinaryClassificationEvaluator(labelCol=\"label\", \\\n",
    "        rawPredictionCol=\"rawPrediction\", metricName=\"areaUnderROC\").evaluate(model_mlr.transform(train)))\n",
    "print('Area under ROC on test dataset',BinaryClassificationEvaluator(labelCol=\"label\", \\\n",
    "        rawPredictionCol=\"rawPrediction\", metricName=\"areaUnderROC\").evaluate(pred_mlr))"
   ]
  },
  {
   "cell_type": "markdown",
   "metadata": {},
   "source": [
    "The Accuracies between the built models and the Pipeline models are very close. The reason behind the slight change in the accuracies is that the eariler case, the train & test split was performed after fitting the assembler but in case of ML pipeline, the assembler is inside the stages so assembler is fitting on split datasets seperately as a part of the pipeline. This is also clearly visible in the features column as well. So, this was a good test of the pipeline models in terms of accuracy and we can conclude that the ML Pipeline is working properly."
   ]
  },
  {
   "cell_type": "markdown",
   "metadata": {},
   "source": [
    "#### -End-"
   ]
  }
 ],
 "metadata": {
  "kernelspec": {
   "display_name": "Python 3",
   "language": "python",
   "name": "python3"
  },
  "language_info": {
   "codemirror_mode": {
    "name": "ipython",
    "version": 3
   },
   "file_extension": ".py",
   "mimetype": "text/x-python",
   "name": "python",
   "nbconvert_exporter": "python",
   "pygments_lexer": "ipython3",
   "version": "3.7.6"
  }
 },
 "nbformat": 4,
 "nbformat_minor": 4
}
