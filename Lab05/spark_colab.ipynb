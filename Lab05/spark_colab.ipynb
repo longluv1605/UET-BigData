{
 "cells": [
  {
   "cell_type": "markdown",
   "metadata": {
    "id": "em1PHKaIde9i"
   },
   "source": [
    "# Setting up PySpark in Colab\n",
    "Spark is written in the Scala programming language and requires the Java Virtual Machine (JVM) to run. Therefore, our first task is to download Java.\n"
   ]
  },
  {
   "cell_type": "code",
   "execution_count": 1,
   "metadata": {
    "id": "8iQmSRXMdbHi"
   },
   "outputs": [],
   "source": [
    "!apt-get install openjdk-8-jdk-headless -qq > /dev/null"
   ]
  },
  {
   "cell_type": "markdown",
   "metadata": {
    "id": "9rEpRqzQd5YD"
   },
   "source": [
    "Next, we will install Apache Spark 3.0.1 with Hadoop 2.7 from here."
   ]
  },
  {
   "cell_type": "code",
   "execution_count": 2,
   "metadata": {
    "colab": {
     "base_uri": "https://localhost:8080/"
    },
    "id": "0hnXK9lSdrcK",
    "outputId": "75dfb916-0510-4c97-cf25-cc72e3d25cf9"
   },
   "outputs": [
    {
     "name": "stdout",
     "output_type": "stream",
     "text": [
      "--2024-10-14 15:27:13--  https://dlcdn.apache.org/spark/spark-3.5.3/spark-3.5.3-bin-hadoop3.tgz\n",
      "Resolving dlcdn.apache.org (dlcdn.apache.org)... 151.101.2.132, 2a04:4e42::644\n",
      "Connecting to dlcdn.apache.org (dlcdn.apache.org)|151.101.2.132|:443... connected.\n",
      "HTTP request sent, awaiting response... 200 OK\n",
      "Length: 400864419 (382M) [application/x-gzip]\n",
      "Saving to: ‘spark-3.5.3-bin-hadoop3.tgz’\n",
      "\n",
      "spark-3.5.3-bin-had 100%[===================>] 382.29M   201MB/s    in 1.9s    \n",
      "\n",
      "2024-10-14 15:27:15 (201 MB/s) - ‘spark-3.5.3-bin-hadoop3.tgz’ saved [400864419/400864419]\n",
      "\n"
     ]
    }
   ],
   "source": [
    "!wget https://dlcdn.apache.org/spark/spark-3.5.3/spark-3.5.3-bin-hadoop3.tgz"
   ]
  },
  {
   "cell_type": "markdown",
   "metadata": {
    "id": "byFymcHMdxrE"
   },
   "source": [
    "Now, we just need to unzip that folder."
   ]
  },
  {
   "cell_type": "code",
   "execution_count": 3,
   "metadata": {
    "id": "8Pf_fF21eGvo"
   },
   "outputs": [],
   "source": [
    "!tar xf spark-3.5.3-bin-hadoop3.tgz"
   ]
  },
  {
   "cell_type": "markdown",
   "metadata": {
    "id": "TCHitttefmIi"
   },
   "source": [
    "There is one last thing that we need to install and that is the findspark library. It will locate Spark on the system and import it as a regular library."
   ]
  },
  {
   "cell_type": "code",
   "execution_count": 4,
   "metadata": {
    "id": "yX8hTPEUeHTk"
   },
   "outputs": [],
   "source": [
    "!pip install -q findspark"
   ]
  },
  {
   "cell_type": "markdown",
   "metadata": {
    "id": "7CivfcBffx2r"
   },
   "source": [
    "Now that we have installed all the necessary dependencies in Colab, it is time to set the environment path. This will enable us to run Pyspark in the Colab environment."
   ]
  },
  {
   "cell_type": "code",
   "execution_count": 5,
   "metadata": {
    "colab": {
     "base_uri": "https://localhost:8080/"
    },
    "id": "s24UYNmX-JWA",
    "outputId": "42787986-235f-44df-d1f4-afce04ca5b9c"
   },
   "outputs": [
    {
     "name": "stdout",
     "output_type": "stream",
     "text": [
      "bin   data\tjars\t    LICENSE   NOTICE  R\t\t RELEASE  yarn\n",
      "conf  examples\tkubernetes  licenses  python  README.md  sbin\n"
     ]
    }
   ],
   "source": [
    "!ls /content/spark-3.5.3-bin-hadoop3"
   ]
  },
  {
   "cell_type": "code",
   "execution_count": 6,
   "metadata": {
    "id": "qkhkgiTbfgCo"
   },
   "outputs": [],
   "source": [
    "import os\n",
    "os.environ[\"JAVA_HOME\"] = \"/usr/lib/jvm/java-8-openjdk-amd64\"\n",
    "os.environ[\"SPARK_HOME\"] = \"/content/spark-3.5.3-bin-hadoop3\""
   ]
  },
  {
   "cell_type": "markdown",
   "metadata": {
    "id": "UdpWD3tXf3D1"
   },
   "source": [
    "Time for the real test!\n",
    "\n",
    "We need to locate Spark in the system. For that, we import findspark and use the findspark.init() method.\n",
    "\n"
   ]
  },
  {
   "cell_type": "code",
   "execution_count": 7,
   "metadata": {
    "id": "Dx8JrH5Ff0fH"
   },
   "outputs": [],
   "source": [
    "import findspark\n",
    "findspark.init()"
   ]
  },
  {
   "cell_type": "markdown",
   "metadata": {
    "id": "7JF_kVi6gM2C"
   },
   "source": [
    "Bonus – If you want to know the location where Spark is installed, use findspark.find()\n"
   ]
  },
  {
   "cell_type": "code",
   "execution_count": 8,
   "metadata": {
    "colab": {
     "base_uri": "https://localhost:8080/",
     "height": 36
    },
    "id": "FIs8OBMof5fW",
    "outputId": "b79dc9a8-a36e-4f80-f516-3c5b8207e769"
   },
   "outputs": [
    {
     "data": {
      "application/vnd.google.colaboratory.intrinsic+json": {
       "type": "string"
      },
      "text/plain": [
       "'/content/spark-3.5.3-bin-hadoop3'"
      ]
     },
     "execution_count": 8,
     "metadata": {},
     "output_type": "execute_result"
    }
   ],
   "source": [
    "findspark.find()"
   ]
  },
  {
   "cell_type": "markdown",
   "metadata": {
    "id": "dwaI8Iwpgg9p"
   },
   "source": [
    "Now, we can import SparkSession from pyspark.sql and create a SparkSession, which is the entry point to Spark.\n",
    "\n",
    "You can give a name to the session using appName() and add some configurations with config() if you wish.\n",
    "\n"
   ]
  },
  {
   "cell_type": "code",
   "execution_count": 9,
   "metadata": {
    "id": "DLQvsgE6gO6f"
   },
   "outputs": [],
   "source": [
    "from pyspark.sql import SparkSession\n",
    "\n",
    "spark = SparkSession.builder\\\n",
    "        .master(\"local\")\\\n",
    "        .appName(\"Colab\")\\\n",
    "        .config('spark.ui.port', '4050')\\\n",
    "        .getOrCreate()"
   ]
  },
  {
   "cell_type": "markdown",
   "metadata": {
    "id": "rcQegmIegnHd"
   },
   "source": [
    "Finally, print the SparkSession variable.\n"
   ]
  },
  {
   "cell_type": "code",
   "execution_count": 10,
   "metadata": {
    "colab": {
     "base_uri": "https://localhost:8080/",
     "height": 222
    },
    "id": "oCPA5p-GgkEL",
    "outputId": "f64db7ad-9661-4692-dee6-f45038248dec"
   },
   "outputs": [
    {
     "data": {
      "text/html": [
       "\n",
       "            <div>\n",
       "                <p><b>SparkSession - in-memory</b></p>\n",
       "                \n",
       "        <div>\n",
       "            <p><b>SparkContext</b></p>\n",
       "\n",
       "            <p><a href=\"http://e6773d957454:4050\">Spark UI</a></p>\n",
       "\n",
       "            <dl>\n",
       "              <dt>Version</dt>\n",
       "                <dd><code>v3.5.3</code></dd>\n",
       "              <dt>Master</dt>\n",
       "                <dd><code>local</code></dd>\n",
       "              <dt>AppName</dt>\n",
       "                <dd><code>Colab</code></dd>\n",
       "            </dl>\n",
       "        </div>\n",
       "        \n",
       "            </div>\n",
       "        "
      ],
      "text/plain": [
       "<pyspark.sql.session.SparkSession at 0x7fa37c030b20>"
      ]
     },
     "execution_count": 10,
     "metadata": {},
     "output_type": "execute_result"
    }
   ],
   "source": [
    "spark"
   ]
  },
  {
   "cell_type": "markdown",
   "metadata": {
    "id": "6f2kxf_Xg3PW"
   },
   "source": [
    "If you want to view the Spark UI, you would have to include a few more lines of code to create a public URL for the UI page.\n",
    "\n"
   ]
  },
  {
   "cell_type": "code",
   "execution_count": 11,
   "metadata": {
    "colab": {
     "base_uri": "https://localhost:8080/"
    },
    "id": "VR8Wsn1-gtsf",
    "outputId": "01786fd0-01c4-48e5-b1f6-ca553d7b1d6c"
   },
   "outputs": [
    {
     "name": "stdout",
     "output_type": "stream",
     "text": [
      "--2024-10-14 15:27:40--  https://bin.equinox.io/c/4VmDzA7iaHb/ngrok-stable-linux-amd64.zip\n",
      "Resolving bin.equinox.io (bin.equinox.io)... 54.237.133.81, 18.205.222.128, 52.202.168.65, ...\n",
      "Connecting to bin.equinox.io (bin.equinox.io)|54.237.133.81|:443... connected.\n",
      "HTTP request sent, awaiting response... 200 OK\n",
      "Length: 13921656 (13M) [application/octet-stream]\n",
      "Saving to: ‘ngrok-stable-linux-amd64.zip’\n",
      "\n",
      "ngrok-stable-linux- 100%[===================>]  13.28M  56.1MB/s    in 0.2s    \n",
      "\n",
      "2024-10-14 15:27:40 (56.1 MB/s) - ‘ngrok-stable-linux-amd64.zip’ saved [13921656/13921656]\n",
      "\n",
      "Archive:  ngrok-stable-linux-amd64.zip\n",
      "  inflating: ngrok                   \n"
     ]
    }
   ],
   "source": [
    "!wget https://bin.equinox.io/c/4VmDzA7iaHb/ngrok-stable-linux-amd64.zip\n",
    "!unzip ngrok-stable-linux-amd64.zip\n",
    "get_ipython().system_raw('./ngrok http 4050 &')\n",
    "!curl -s http://localhost:4040/api/tunnels"
   ]
  },
  {
   "cell_type": "code",
   "execution_count": 12,
   "metadata": {
    "colab": {
     "base_uri": "https://localhost:8080/"
    },
    "id": "1uujjzy9g6TU",
    "outputId": "1386d0ee-6892-451f-e1f5-18195d60485e"
   },
   "outputs": [
    {
     "name": "stdout",
     "output_type": "stream",
     "text": [
      "{\"tunnels\":[],\"uri\":\"/api/tunnels\"}\n"
     ]
    }
   ],
   "source": [
    "!curl -s http://localhost:4040/api/tunnels"
   ]
  },
  {
   "cell_type": "markdown",
   "metadata": {
    "id": "ew1kJW5gOZGh"
   },
   "source": [
    "# I. Apache Spark examples"
   ]
  },
  {
   "cell_type": "markdown",
   "metadata": {
    "id": "SjRPHaGhT31G"
   },
   "source": [
    "## I.1. Spark DF example"
   ]
  },
  {
   "cell_type": "code",
   "execution_count": 13,
   "metadata": {
    "colab": {
     "base_uri": "https://localhost:8080/"
    },
    "id": "6PrrZlKqhyRl",
    "outputId": "52906660-c5a0-464e-c4dd-59a2dedde70a"
   },
   "outputs": [
    {
     "name": "stdout",
     "output_type": "stream",
     "text": [
      "+----------+---+\n",
      "|first_name|age|\n",
      "+----------+---+\n",
      "|       sue| 32|\n",
      "|        li|  3|\n",
      "|       bob| 75|\n",
      "|       heo| 13|\n",
      "+----------+---+\n",
      "\n"
     ]
    }
   ],
   "source": [
    "# Create a Spark DF\n",
    "df = spark.createDataFrame (\n",
    "    [\n",
    "        (\"sue\", 32),\n",
    "        (\"li\", 3),\n",
    "        (\"bob\", 75),\n",
    "        (\"heo\", 13),\n",
    "    ],\n",
    "    [\"first_name\", \"age\"],\n",
    ")\n",
    "\n",
    "df.show()"
   ]
  },
  {
   "cell_type": "code",
   "execution_count": 14,
   "metadata": {
    "colab": {
     "base_uri": "https://localhost:8080/"
    },
    "id": "ZIIme3GrU1p5",
    "outputId": "1029ca78-8f94-49e2-add0-51ce5ecf7805"
   },
   "outputs": [
    {
     "name": "stdout",
     "output_type": "stream",
     "text": [
      "+----------+---+----------+\n",
      "|first_name|age|life_stage|\n",
      "+----------+---+----------+\n",
      "|       sue| 32|     adult|\n",
      "|        li|  3|     child|\n",
      "|       bob| 75|     adult|\n",
      "|       heo| 13|  teenager|\n",
      "+----------+---+----------+\n",
      "\n"
     ]
    }
   ],
   "source": [
    "# Add a column to a Spark DF\n",
    "from pyspark.sql.functions import col, when\n",
    "\n",
    "df1 = df.withColumn(\n",
    "    \"life_stage\",\n",
    "    when(col(\"age\") < 13, \"child\")\n",
    "    .when(col(\"age\").between(13, 19), \"teenager\")\n",
    "    .otherwise(\"adult\"),\n",
    ")\n",
    "\n",
    "df1.show()"
   ]
  },
  {
   "cell_type": "code",
   "execution_count": 15,
   "metadata": {
    "colab": {
     "base_uri": "https://localhost:8080/"
    },
    "id": "CO_sPqlkVR10",
    "outputId": "e02e9e15-9c2e-40f6-c5b2-3f81eb0ad5ce"
   },
   "outputs": [
    {
     "name": "stdout",
     "output_type": "stream",
     "text": [
      "+----------+---+\n",
      "|first_name|age|\n",
      "+----------+---+\n",
      "|       sue| 32|\n",
      "|        li|  3|\n",
      "|       bob| 75|\n",
      "|       heo| 13|\n",
      "+----------+---+\n",
      "\n"
     ]
    }
   ],
   "source": [
    "# df is unchanged\n",
    "df.show()"
   ]
  },
  {
   "cell_type": "code",
   "execution_count": 16,
   "metadata": {
    "colab": {
     "base_uri": "https://localhost:8080/"
    },
    "id": "ivWJ9W71VaqY",
    "outputId": "2e6c5f12-b297-436f-ecf4-a7f3543ffc5d"
   },
   "outputs": [
    {
     "name": "stdout",
     "output_type": "stream",
     "text": [
      "+----------+---+----------+\n",
      "|first_name|age|life_stage|\n",
      "+----------+---+----------+\n",
      "|       sue| 32|     adult|\n",
      "|       bob| 75|     adult|\n",
      "|       heo| 13|  teenager|\n",
      "+----------+---+----------+\n",
      "\n"
     ]
    }
   ],
   "source": [
    "# Filter a Spark DF\n",
    "df1.where(col (\"life_stage\").isin ([\"teenager\", \"adult\"])).show()"
   ]
  },
  {
   "cell_type": "code",
   "execution_count": 17,
   "metadata": {
    "colab": {
     "base_uri": "https://localhost:8080/"
    },
    "id": "Bvtl8n0IVjrq",
    "outputId": "9d385e4a-12e5-46d9-952a-ce64635c04d5"
   },
   "outputs": [
    {
     "name": "stdout",
     "output_type": "stream",
     "text": [
      "+--------+\n",
      "|avg(age)|\n",
      "+--------+\n",
      "|   30.75|\n",
      "+--------+\n",
      "\n"
     ]
    }
   ],
   "source": [
    "# Group by aggregation on Spark DF\n",
    "from pyspark.sql.functions import avg\n",
    "\n",
    "df1.select(avg(\"age\")).show()"
   ]
  },
  {
   "cell_type": "code",
   "execution_count": 18,
   "metadata": {
    "colab": {
     "base_uri": "https://localhost:8080/"
    },
    "id": "umGqAb-uVzff",
    "outputId": "7154b35a-b126-49f2-a065-29a0980459c3"
   },
   "outputs": [
    {
     "name": "stdout",
     "output_type": "stream",
     "text": [
      "+----------+--------+\n",
      "|life_stage|avg(age)|\n",
      "+----------+--------+\n",
      "|     adult|    53.5|\n",
      "|  teenager|    13.0|\n",
      "|     child|     3.0|\n",
      "+----------+--------+\n",
      "\n"
     ]
    }
   ],
   "source": [
    "# Group by aggregation on Spark DF (continue)\n",
    "\n",
    "df1.groupBy(\"life_stage\").agg(avg(\"age\")).show()"
   ]
  },
  {
   "cell_type": "code",
   "execution_count": 19,
   "metadata": {
    "colab": {
     "base_uri": "https://localhost:8080/"
    },
    "id": "bOvI2Bm1V2Q4",
    "outputId": "21477e8e-b0e3-4675-d26c-3f2d04f37148"
   },
   "outputs": [
    {
     "name": "stdout",
     "output_type": "stream",
     "text": [
      "+--------+\n",
      "|avg(age)|\n",
      "+--------+\n",
      "|   30.75|\n",
      "+--------+\n",
      "\n"
     ]
    }
   ],
   "source": [
    "# Query the DataFrame with SQL\n",
    "spark.sql(\"select avg (age) from {df1}\", df1=df1).show()\n"
   ]
  },
  {
   "cell_type": "code",
   "execution_count": 20,
   "metadata": {
    "colab": {
     "base_uri": "https://localhost:8080/"
    },
    "id": "DgkK4JDYW5KM",
    "outputId": "363b60b6-edd0-4a61-c4ba-e69e62114d43"
   },
   "outputs": [
    {
     "name": "stdout",
     "output_type": "stream",
     "text": [
      "+----------+--------+\n",
      "|life_stage|avg(age)|\n",
      "+----------+--------+\n",
      "|     adult|    53.5|\n",
      "|  teenager|    13.0|\n",
      "|     child|     3.0|\n",
      "+----------+--------+\n",
      "\n"
     ]
    }
   ],
   "source": [
    "spark.sql(\"select life_stage, avg (age) from {df1} group by life_stage\", df1=df1).show()"
   ]
  },
  {
   "cell_type": "markdown",
   "metadata": {
    "id": "nhm2ziV5XJOy"
   },
   "source": [
    "## I.2. Spark SQL example"
   ]
  },
  {
   "cell_type": "code",
   "execution_count": 21,
   "metadata": {
    "id": "0Ro0GOudXQ-f"
   },
   "outputs": [],
   "source": [
    "df1.write.saveAsTable(\"some_people\")"
   ]
  },
  {
   "cell_type": "code",
   "execution_count": 22,
   "metadata": {
    "colab": {
     "base_uri": "https://localhost:8080/"
    },
    "id": "BSc-zGXPXVRh",
    "outputId": "222f1b85-7809-4880-c373-0c729e854213"
   },
   "outputs": [
    {
     "name": "stdout",
     "output_type": "stream",
     "text": [
      "+----------+---+----------+\n",
      "|first_name|age|life_stage|\n",
      "+----------+---+----------+\n",
      "|       sue| 32|     adult|\n",
      "|        li|  3|     child|\n",
      "|       bob| 75|     adult|\n",
      "|       heo| 13|  teenager|\n",
      "+----------+---+----------+\n",
      "\n"
     ]
    }
   ],
   "source": [
    "spark.sql('select * from some_people').show()"
   ]
  },
  {
   "cell_type": "code",
   "execution_count": 23,
   "metadata": {
    "colab": {
     "base_uri": "https://localhost:8080/"
    },
    "id": "9D5nKcfoXY_Z",
    "outputId": "cd9e5c7b-3066-438c-ac50-6b50e2db8753"
   },
   "outputs": [
    {
     "name": "stdout",
     "output_type": "stream",
     "text": [
      "+----------+---+----------+\n",
      "|first_name|age|life_stage|\n",
      "+----------+---+----------+\n",
      "|       sue| 32|     adult|\n",
      "|        li|  3|     child|\n",
      "|       bob| 75|     adult|\n",
      "|       heo| 13|  teenager|\n",
      "|     frank|  4|     child|\n",
      "+----------+---+----------+\n",
      "\n"
     ]
    }
   ],
   "source": [
    "spark.sql(\"INSERT INTO some_people VALUES ('frank', 4, 'child')\")\n",
    "spark.sql('select * from some_people').show()"
   ]
  },
  {
   "cell_type": "code",
   "execution_count": 24,
   "metadata": {
    "colab": {
     "base_uri": "https://localhost:8080/"
    },
    "id": "ckCEACuQX2eq",
    "outputId": "091de9cc-81a7-4dbf-9dbb-f6e9428a81cd"
   },
   "outputs": [
    {
     "name": "stdout",
     "output_type": "stream",
     "text": [
      "+----------+---+----------+\n",
      "|first_name|age|life_stage|\n",
      "+----------+---+----------+\n",
      "|       heo| 13|  teenager|\n",
      "+----------+---+----------+\n",
      "\n"
     ]
    }
   ],
   "source": [
    "spark.sql('select * from some_people where life_stage=\"teenager\"').show()"
   ]
  },
  {
   "cell_type": "markdown",
   "metadata": {
    "id": "yfTQD5krX_3P"
   },
   "source": [
    "## I.3. Spark structured streaming example"
   ]
  },
  {
   "cell_type": "code",
   "execution_count": 25,
   "metadata": {
    "id": "E5IDaYAlYFJi"
   },
   "outputs": [],
   "source": [
    "# TODO"
   ]
  },
  {
   "cell_type": "markdown",
   "metadata": {
    "id": "47FM6z0tYxS-"
   },
   "source": [
    "## I.4. Spark RDD example"
   ]
  },
  {
   "cell_type": "code",
   "execution_count": 26,
   "metadata": {
    "id": "20KakcG2Y0qJ"
   },
   "outputs": [],
   "source": [
    "text_file = spark.sparkContext.textFile('data/some_text.txt')"
   ]
  },
  {
   "cell_type": "code",
   "execution_count": 27,
   "metadata": {
    "id": "TIDnXy4nZWq6"
   },
   "outputs": [],
   "source": [
    "counts = (text_file.flatMap(lambda line: line.split(\" \"))\n",
    "             .map(lambda word: (word, 1))\n",
    "             .reduceByKey(lambda a, b: a + b))"
   ]
  },
  {
   "cell_type": "code",
   "execution_count": 28,
   "metadata": {
    "colab": {
     "base_uri": "https://localhost:8080/"
    },
    "id": "Y70YR9kTZpEk",
    "outputId": "7f674172-5eb7-4a43-91cc-7467360e918a"
   },
   "outputs": [
    {
     "data": {
      "text/plain": [
       "[('these', 2),\n",
       " ('are', 2),\n",
       " ('words', 3),\n",
       " ('more', 1),\n",
       " ('in', 1),\n",
       " ('english', 1)]"
      ]
     },
     "execution_count": 28,
     "metadata": {},
     "output_type": "execute_result"
    }
   ],
   "source": [
    "counts.collect()"
   ]
  },
  {
   "cell_type": "markdown",
   "metadata": {
    "id": "tYfKb04MZwYG"
   },
   "source": [
    "# II. Practice with Spark RDD"
   ]
  },
  {
   "cell_type": "markdown",
   "metadata": {
    "id": "PgB2I0aacXu_"
   },
   "source": [
    "## II.1. Create SparkContext object"
   ]
  },
  {
   "cell_type": "code",
   "execution_count": 29,
   "metadata": {
    "id": "aPuvXzd9Z0fb"
   },
   "outputs": [],
   "source": [
    "# Spark Context object\n",
    "from pyspark import SparkConf, SparkContext\n",
    "\n",
    "sc = SparkContext.getOrCreate()"
   ]
  },
  {
   "cell_type": "markdown",
   "metadata": {
    "id": "s0TZtWkIcT4y"
   },
   "source": [
    "## II.2. Create a RDD"
   ]
  },
  {
   "cell_type": "code",
   "execution_count": 30,
   "metadata": {
    "colab": {
     "base_uri": "https://localhost:8080/"
    },
    "id": "y72DYPVbcWt3",
    "outputId": "3a5cdc75-21f6-4019-eb09-efaf8cb2e53e"
   },
   "outputs": [
    {
     "data": {
      "text/plain": [
       "ParallelCollectionRDD[57] at readRDDFromFile at PythonRDD.scala:289"
      ]
     },
     "execution_count": 30,
     "metadata": {},
     "output_type": "execute_result"
    }
   ],
   "source": [
    "iterator = [1, 2, 3, 4, 5]\n",
    "lines = sc.parallelize(iterator)\n",
    "lines"
   ]
  },
  {
   "cell_type": "code",
   "execution_count": 31,
   "metadata": {
    "colab": {
     "base_uri": "https://localhost:8080/"
    },
    "id": "c7K10B81ck4m",
    "outputId": "9f262b21-725d-4e6a-fb3c-be898f0499ff"
   },
   "outputs": [
    {
     "data": {
      "text/plain": [
       "data/some_text.txt MapPartitionsRDD[59] at textFile at NativeMethodAccessorImpl.java:0"
      ]
     },
     "execution_count": 31,
     "metadata": {},
     "output_type": "execute_result"
    }
   ],
   "source": [
    "lines = sc.textFile(\"data/some_text.txt\")\n",
    "lines"
   ]
  },
  {
   "cell_type": "markdown",
   "metadata": {
    "id": "js42ORVAc0dq"
   },
   "source": [
    "## II.3. RDD Transformations"
   ]
  },
  {
   "cell_type": "code",
   "execution_count": 32,
   "metadata": {
    "colab": {
     "base_uri": "https://localhost:8080/"
    },
    "id": "OkeY-JPecsCW",
    "outputId": "24465a69-9d15-4542-d75b-8c6dcb6ebc2e"
   },
   "outputs": [
    {
     "data": {
      "text/plain": [
       "[[1], [1, 2], [1, 2, 3]]"
      ]
     },
     "execution_count": 32,
     "metadata": {},
     "output_type": "execute_result"
    }
   ],
   "source": [
    "# map(f)\n",
    "rdd = sc.parallelize([2, 3, 4])\n",
    "rdd.map(lambda x: list(range(1, x))).collect()"
   ]
  },
  {
   "cell_type": "code",
   "execution_count": 33,
   "metadata": {
    "colab": {
     "base_uri": "https://localhost:8080/"
    },
    "id": "ExZplDGcc72R",
    "outputId": "48dbacd6-9301-4611-ec85-dfd5af0412da"
   },
   "outputs": [
    {
     "data": {
      "text/plain": [
       "[1, 1, 2, 1, 2, 3, 1, 2, 3, 4]"
      ]
     },
     "execution_count": 33,
     "metadata": {},
     "output_type": "execute_result"
    }
   ],
   "source": [
    "# flatMap(f)\n",
    "rdd = sc.parallelize([2, 3, 4, 5])\n",
    "rdd.flatMap(lambda x: list(range(1, x))).collect()"
   ]
  },
  {
   "cell_type": "code",
   "execution_count": 34,
   "metadata": {
    "colab": {
     "base_uri": "https://localhost:8080/"
    },
    "id": "gecqFA66dWx7",
    "outputId": "566b81fb-98bd-47bc-d333-3a0380b6f048"
   },
   "outputs": [
    {
     "data": {
      "text/plain": [
       "[0, 2, 4, 6, 8]"
      ]
     },
     "execution_count": 34,
     "metadata": {},
     "output_type": "execute_result"
    }
   ],
   "source": [
    "# filter(f)\n",
    "rdd = sc.parallelize(range(10))\n",
    "rdd.filter(lambda x: x % 2 == 0).collect()"
   ]
  },
  {
   "cell_type": "code",
   "execution_count": 35,
   "metadata": {
    "colab": {
     "base_uri": "https://localhost:8080/"
    },
    "id": "3IkOa4-Wdqh9",
    "outputId": "5d7b871d-aefe-45a3-f71b-486f45addd31"
   },
   "outputs": [
    {
     "data": {
      "text/plain": [
       "[1, 4, 2, 3]"
      ]
     },
     "execution_count": 35,
     "metadata": {},
     "output_type": "execute_result"
    }
   ],
   "source": [
    "# distinct()\n",
    "rdd = sc.parallelize([1, 1, 4, 2, 1, 3, 3])\n",
    "rdd.distinct().collect()"
   ]
  },
  {
   "cell_type": "code",
   "execution_count": 36,
   "metadata": {
    "colab": {
     "base_uri": "https://localhost:8080/"
    },
    "id": "zNJKzcT2d0aB",
    "outputId": "d73c92dc-d846-47c1-efd1-abbec98e2893"
   },
   "outputs": [
    {
     "data": {
      "text/plain": [
       "[4, 26, 39, 41, 42, 52, 63, 76, 80, 86, 97]"
      ]
     },
     "execution_count": 36,
     "metadata": {},
     "output_type": "execute_result"
    }
   ],
   "source": [
    "# sample()\n",
    "rdd = sc.parallelize(range(100), 4)\n",
    "rdd.sample(False, 0.1, 81).collect()"
   ]
  },
  {
   "cell_type": "code",
   "execution_count": 37,
   "metadata": {
    "colab": {
     "base_uri": "https://localhost:8080/"
    },
    "id": "rQxIxzq6eagb",
    "outputId": "5b880441-7298-46f5-b8cc-55578a5b2013"
   },
   "outputs": [
    {
     "data": {
      "text/plain": [
       "[0, 1, 2, 3, 4, 3, 4, 5, 6, 7, 8]"
      ]
     },
     "execution_count": 37,
     "metadata": {},
     "output_type": "execute_result"
    }
   ],
   "source": [
    "# union(otherRDD)\n",
    "rdd1 = sc.parallelize(range(5))\n",
    "rdd2 = sc.parallelize(range(3, 9))\n",
    "rdd3 = rdd1.union(rdd2)\n",
    "rdd3.collect()\n"
   ]
  },
  {
   "cell_type": "code",
   "execution_count": 38,
   "metadata": {
    "colab": {
     "base_uri": "https://localhost:8080/"
    },
    "id": "6DnYBkz-fHKn",
    "outputId": "c36b2490-a615-48ad-de42-427a3ffc7d68"
   },
   "outputs": [
    {
     "data": {
      "text/plain": [
       "[4, 3]"
      ]
     },
     "execution_count": 38,
     "metadata": {},
     "output_type": "execute_result"
    }
   ],
   "source": [
    "# intersection(otherRDD)\n",
    "rdd1 = sc.parallelize(range(5))\n",
    "rdd2 = sc.parallelize(range(3, 9))\n",
    "rdd3 = rdd1.intersection(rdd2)\n",
    "rdd3.collect()"
   ]
  },
  {
   "cell_type": "code",
   "execution_count": 39,
   "metadata": {
    "colab": {
     "base_uri": "https://localhost:8080/"
    },
    "id": "6HTCM41bfQFq",
    "outputId": "7cee39aa-c9b6-4e0c-de64-cabff21fb503"
   },
   "outputs": [
    {
     "data": {
      "text/plain": [
       "[0, 2, 1]"
      ]
     },
     "execution_count": 39,
     "metadata": {},
     "output_type": "execute_result"
    }
   ],
   "source": [
    "# subtract(otherRDD)\n",
    "rdd1 = sc.parallelize(range(5))\n",
    "rdd2 = sc.parallelize(range(3, 9))\n",
    "rdd3 = rdd1.subtract(rdd2)\n",
    "rdd3.collect()"
   ]
  },
  {
   "cell_type": "code",
   "execution_count": 40,
   "metadata": {
    "colab": {
     "base_uri": "https://localhost:8080/"
    },
    "id": "bz9qQXQ_fWLM",
    "outputId": "d8ebbfe8-474d-41c1-ccb8-ba2abd649cd9"
   },
   "outputs": [
    {
     "data": {
      "text/plain": [
       "[(1, 'a'), (1, 'b'), (2, 'a'), (2, 'b')]"
      ]
     },
     "execution_count": 40,
     "metadata": {},
     "output_type": "execute_result"
    }
   ],
   "source": [
    "# cartesian(otherRDD)\n",
    "rdd1 = sc.parallelize([1, 2])\n",
    "rdd2 = sc.parallelize([\"a\", \"b\"])\n",
    "rdd1.cartesian(rdd2).collect()\n"
   ]
  },
  {
   "cell_type": "markdown",
   "metadata": {
    "id": "foEc4JWufo43"
   },
   "source": [
    "## II.4. RDD Actions"
   ]
  },
  {
   "cell_type": "code",
   "execution_count": 41,
   "metadata": {
    "colab": {
     "base_uri": "https://localhost:8080/"
    },
    "id": "jMf1M5YGfhkE",
    "outputId": "905a29c5-6d8d-4ae8-f570-9a87a6fdd815"
   },
   "outputs": [
    {
     "data": {
      "text/plain": [
       "[1, 2, 3, 3]"
      ]
     },
     "execution_count": 41,
     "metadata": {},
     "output_type": "execute_result"
    }
   ],
   "source": [
    "# Get all value\n",
    "rdd = sc.parallelize([1, 2, 3, 3])\n",
    "rdd.collect()"
   ]
  },
  {
   "cell_type": "code",
   "execution_count": 42,
   "metadata": {
    "colab": {
     "base_uri": "https://localhost:8080/"
    },
    "id": "PQtQz74GgAZQ",
    "outputId": "b7fea0cc-0a88-4c1c-8613-f7cd79af036a"
   },
   "outputs": [
    {
     "data": {
      "text/plain": [
       "6"
      ]
     },
     "execution_count": 42,
     "metadata": {},
     "output_type": "execute_result"
    }
   ],
   "source": [
    "# Number of elements in the RDD\n",
    "rdd = sc.parallelize([1, 3, 1, 2, 2, 2])\n",
    "rdd.count()"
   ]
  },
  {
   "cell_type": "code",
   "execution_count": 43,
   "metadata": {
    "colab": {
     "base_uri": "https://localhost:8080/"
    },
    "id": "cSHWfodsgH70",
    "outputId": "d0ffe1f3-67dc-455a-d15b-5e342761cd80"
   },
   "outputs": [
    {
     "data": {
      "text/plain": [
       "defaultdict(int, {1: 2, 3: 1, 2: 3})"
      ]
     },
     "execution_count": 43,
     "metadata": {},
     "output_type": "execute_result"
    }
   ],
   "source": [
    "# The count of each unique value in the RDD as a dictionary of {value: count} pairs.\n",
    "rdd.countByValue()\n"
   ]
  },
  {
   "cell_type": "code",
   "execution_count": 44,
   "metadata": {
    "colab": {
     "base_uri": "https://localhost:8080/"
    },
    "id": "LvSisaASgMiS",
    "outputId": "94997973-3683-4505-a686-84cc4a2dee0c"
   },
   "outputs": [
    {
     "data": {
      "text/plain": [
       "[(1, 'b'), (2, 'd')]"
      ]
     },
     "execution_count": 44,
     "metadata": {},
     "output_type": "execute_result"
    }
   ],
   "source": [
    "# Get some values in an RDD\n",
    "rdd = sc.parallelize([(3, 'a'), (1, 'b'), (2, 'd')])\n",
    "rdd.takeOrdered(2)"
   ]
  },
  {
   "cell_type": "code",
   "execution_count": 45,
   "metadata": {
    "colab": {
     "base_uri": "https://localhost:8080/"
    },
    "id": "hB_odZZDgU1b",
    "outputId": "6eb20e92-ade5-439a-e15a-21a362b97a8b"
   },
   "outputs": [
    {
     "data": {
      "text/plain": [
       "6"
      ]
     },
     "execution_count": 45,
     "metadata": {},
     "output_type": "execute_result"
    }
   ],
   "source": [
    "# The reduce action\n",
    "rdd = sc.parallelize([1, 2, 3])\n",
    "rdd.reduce(lambda a, b: a + b)"
   ]
  },
  {
   "cell_type": "code",
   "execution_count": 46,
   "metadata": {
    "colab": {
     "base_uri": "https://localhost:8080/"
    },
    "id": "NHGHZxcbg4Ct",
    "outputId": "8c488a7d-3e3b-427a-8263-77dcaa603b18"
   },
   "outputs": [
    {
     "data": {
      "text/plain": [
       "6"
      ]
     },
     "execution_count": 46,
     "metadata": {},
     "output_type": "execute_result"
    }
   ],
   "source": [
    "rdd.fold(0, lambda a, b: a + b)"
   ]
  },
  {
   "cell_type": "code",
   "execution_count": 47,
   "metadata": {
    "colab": {
     "base_uri": "https://localhost:8080/"
    },
    "id": "ycWNNEsSg5oV",
    "outputId": "e6ccf40c-088e-4cc1-9a7e-1ab694214d1e"
   },
   "outputs": [
    {
     "data": {
      "text/plain": [
       "14.5"
      ]
     },
     "execution_count": 47,
     "metadata": {},
     "output_type": "execute_result"
    }
   ],
   "source": [
    "rdd = sc.parallelize([1, 2, 4], 2) # RDD with 2 partitions\n",
    "\"\"\"\n",
    "RDD has 2 partition: say [1, 2] and [4]\n",
    "Sum in the partitions: 2.5 + (1 + 2) = 5.5 and 2.5 + (4) = 6.5\n",
    "Sum over partitions: 2.5 + (5.5 + 6.5) = 14.5\n",
    "\"\"\"\n",
    "rdd.fold(2.5, lambda a, b: a + b)"
   ]
  },
  {
   "cell_type": "code",
   "execution_count": 48,
   "metadata": {
    "colab": {
     "base_uri": "https://localhost:8080/"
    },
    "id": "xbnrpXXjg9uD",
    "outputId": "ef3588fe-50ab-4427-dcf6-c30900878f5a"
   },
   "outputs": [
    {
     "data": {
      "text/plain": [
       "18"
      ]
     },
     "execution_count": 48,
     "metadata": {},
     "output_type": "execute_result"
    }
   ],
   "source": [
    "rdd = sc.parallelize([1, 2, 3], 5) # RDD with 5 partitions\n",
    "\"\"\"\n",
    "If number of P is more than number of elements\n",
    "=> Some P is empty\n",
    "-> [1][2][3][][]\n",
    "-> 2 + (2 + 1) + (2 + 2) + (2 + 3) + (2 + 0) + (2 + 0) = 18\n",
    "\"\"\"\n",
    "\n",
    "rdd.fold(2, lambda a, b: a + b)\n"
   ]
  },
  {
   "cell_type": "code",
   "execution_count": 49,
   "metadata": {
    "colab": {
     "base_uri": "https://localhost:8080/"
    },
    "id": "4XGxf-F_h1Zb",
    "outputId": "32c114ff-d83b-43e7-a2fd-54bb367859b3"
   },
   "outputs": [
    {
     "data": {
      "text/plain": [
       "(10, 4)"
      ]
     },
     "execution_count": 49,
     "metadata": {},
     "output_type": "execute_result"
    }
   ],
   "source": [
    "seqOp = lambda acc, x: (acc[0] + x, acc[1] + 1)\n",
    "combOp = lambda acc1, acc2: (acc1[0] + acc2[0], acc1[1] + acc2[1])\n",
    "sc.parallelize([1, 2, 3, 4]).aggregate((0, 0), seqOp, combOp)"
   ]
  },
  {
   "cell_type": "markdown",
   "metadata": {
    "id": "2SCOpXHapejl"
   },
   "source": [
    "acc = (0, 0) => (init sum, init count)\n",
    "--------------\n",
    "acc1 = (0, 0) | part1 = [1, 2]\n",
    "\n",
    "acc1 <> [1] --> (0 + 1, 0 + 1) = (1, 1)\n",
    "\n",
    "acc1 <> [2] --> (1 + 2, 1 + 1) = (3, 2)\n",
    "\n",
    "acc2 = (0, 0) | part2 = [3, 4]\n",
    "\n",
    "acc2 <> [3] --> (0 + 3, 0 + 1) = (3, 1)\n",
    "\n",
    "acc2 <> [4] --> (3 + 4, 1 + 1) = (7, 2)\n",
    "\n",
    "==> res = acc1 + acc2 = (3 + 7, 2 + 2) = (10, 4)"
   ]
  },
  {
   "cell_type": "code",
   "execution_count": 50,
   "metadata": {
    "id": "XSC5IgQepcUA"
   },
   "outputs": [],
   "source": [
    "# TODO"
   ]
  },
  {
   "cell_type": "markdown",
   "metadata": {
    "id": "MC2eHRZYyELa"
   },
   "source": [
    "# III. Practice with Spark DF and SQL"
   ]
  },
  {
   "cell_type": "markdown",
   "metadata": {
    "id": "x3Plul7X6oRr"
   },
   "source": [
    "## III.1. Spark DF"
   ]
  },
  {
   "cell_type": "code",
   "execution_count": 51,
   "metadata": {
    "colab": {
     "base_uri": "https://localhost:8080/",
     "height": 36
    },
    "id": "u45qvaAIyROr",
    "outputId": "69c274d7-cbc3-4bcf-9752-a77230662d9e"
   },
   "outputs": [
    {
     "data": {
      "application/vnd.google.colaboratory.intrinsic+json": {
       "type": "string"
      },
      "text/plain": [
       "'John'"
      ]
     },
     "execution_count": 51,
     "metadata": {},
     "output_type": "execute_result"
    }
   ],
   "source": [
    "from pyspark.sql import Row\n",
    "row1 = Row(name=\"John\", age=21)\n",
    "row2 = Row(name=\"James\", age=32)\n",
    "row3 = Row(name=\"Jane\", age=18)\n",
    "row1['name']\n"
   ]
  },
  {
   "cell_type": "code",
   "execution_count": 52,
   "metadata": {
    "colab": {
     "base_uri": "https://localhost:8080/"
    },
    "id": "5w4pUDNX50gK",
    "outputId": "2dce1285-1d9e-4f6b-fbf9-b02c7614b14c"
   },
   "outputs": [
    {
     "data": {
      "text/plain": [
       "DataFrame[name: string, age: bigint]"
      ]
     },
     "execution_count": 52,
     "metadata": {},
     "output_type": "execute_result"
    }
   ],
   "source": [
    "df = spark.createDataFrame([row1, row2, row3])\n",
    "df"
   ]
  },
  {
   "cell_type": "code",
   "execution_count": null,
   "metadata": {
    "colab": {
     "base_uri": "https://localhost:8080/"
    },
    "id": "MbAGHiFC51Xt",
    "outputId": "9655a10d-7a12-44c1-c952-1097ceb002c0"
   },
   "outputs": [
    {
     "name": "stdout",
     "output_type": "stream",
     "text": [
      "+-----+---+\n",
      "| name|age|\n",
      "+-----+---+\n",
      "| John| 21|\n",
      "|James| 32|\n",
      "| Jane| 18|\n",
      "+-----+---+\n",
      "\n"
     ]
    }
   ],
   "source": [
    "df.show()"
   ]
  },
  {
   "cell_type": "code",
   "execution_count": 54,
   "metadata": {
    "colab": {
     "base_uri": "https://localhost:8080/"
    },
    "id": "ECvzk_yr54CA",
    "outputId": "ae5978ab-8261-4247-e4f2-d2859436d59c"
   },
   "outputs": [
    {
     "name": "stdout",
     "output_type": "stream",
     "text": [
      "root\n",
      " |-- name: string (nullable = true)\n",
      " |-- age: long (nullable = true)\n",
      "\n"
     ]
    }
   ],
   "source": [
    "df.printSchema()"
   ]
  },
  {
   "cell_type": "code",
   "execution_count": null,
   "metadata": {
    "colab": {
     "base_uri": "https://localhost:8080/"
    },
    "id": "_nA5lzBD5-Ai",
    "outputId": "68a4fa38-e668-45b0-930d-17b71122d3cc"
   },
   "outputs": [
    {
     "data": {
      "text/plain": [
       "1"
      ]
     },
     "execution_count": 55,
     "metadata": {},
     "output_type": "execute_result"
    }
   ],
   "source": [
    "df.rdd.getNumPartitions()"
   ]
  },
  {
   "cell_type": "code",
   "execution_count": 56,
   "metadata": {
    "colab": {
     "base_uri": "https://localhost:8080/"
    },
    "id": "CS1CLCkA6AVg",
    "outputId": "d7d52604-df71-4d9f-e5eb-054a961e123b"
   },
   "outputs": [
    {
     "name": "stdout",
     "output_type": "stream",
     "text": [
      "+------+---+------+\n",
      "|  name|age|gender|\n",
      "+------+---+------+\n",
      "|  John| 21|  male|\n",
      "| James| 25|female|\n",
      "|Albert| 46|  male|\n",
      "+------+---+------+\n",
      "\n"
     ]
    }
   ],
   "source": [
    "rows = [\n",
    " Row(name=\"John\", age=21, gender=\"male\"),\n",
    " Row(name=\"James\", age=25, gender=\"female\"),\n",
    " Row(name=\"Albert\", age=46, gender=\"male\")\n",
    " ]\n",
    "df = spark.createDataFrame(rows)\n",
    "df.show()\n"
   ]
  },
  {
   "cell_type": "code",
   "execution_count": 57,
   "metadata": {
    "colab": {
     "base_uri": "https://localhost:8080/"
    },
    "id": "PDIlJEtZ6LL0",
    "outputId": "e90e108c-babe-4c83-89e9-7fbc9495185a"
   },
   "outputs": [
    {
     "name": "stdout",
     "output_type": "stream",
     "text": [
      "+------+---+------+\n",
      "|  name|age|gender|\n",
      "+------+---+------+\n",
      "|  John| 21|  male|\n",
      "| James| 25|female|\n",
      "|Albert| 46|  male|\n",
      "+------+---+------+\n",
      "\n"
     ]
    }
   ],
   "source": [
    "column_names = [\"name\", \"age\", \"gender\"]\n",
    "rows = [\n",
    " [\"John\", 21, \"male\"],\n",
    " [\"James\", 25, \"female\"],\n",
    " [\"Albert\", 46, \"male\"]\n",
    " ]\n",
    "df = spark.createDataFrame(rows, column_names)\n",
    "df.show()\n"
   ]
  },
  {
   "cell_type": "code",
   "execution_count": 58,
   "metadata": {
    "colab": {
     "base_uri": "https://localhost:8080/"
    },
    "id": "urjimoM16OOM",
    "outputId": "fbd31e11-398a-44df-e645-1493daed0100"
   },
   "outputs": [
    {
     "name": "stdout",
     "output_type": "stream",
     "text": [
      "+------+---+------+\n",
      "|  name|age|gender|\n",
      "+------+---+------+\n",
      "|  John| 21|  male|\n",
      "| James| 25|female|\n",
      "|Albert| 46|  male|\n",
      "+------+---+------+\n",
      "\n"
     ]
    }
   ],
   "source": [
    "column_names = [\"name\", \"age\", \"gender\"]\n",
    "rdd = sc.parallelize([\n",
    " (\"John\", 21, \"male\"),\n",
    " (\"James\", 25, \"female\"),\n",
    " (\"Albert\", 46, \"male\")\n",
    " ])\n",
    "df = spark.createDataFrame(rdd, column_names)\n",
    "df.show()\n"
   ]
  },
  {
   "cell_type": "code",
   "execution_count": null,
   "metadata": {
    "colab": {
     "base_uri": "https://localhost:8080/"
    },
    "id": "FlrNhFjf6RZ-",
    "outputId": "11cf1638-60dd-4f0c-b356-e913944f10c2"
   },
   "outputs": [
    {
     "data": {
      "text/plain": [
       "StructType([StructField('name', StringType(), True), StructField('age', LongType(), True), StructField('gender', StringType(), True)])"
      ]
     },
     "execution_count": 59,
     "metadata": {},
     "output_type": "execute_result"
    }
   ],
   "source": [
    "df.schema"
   ]
  },
  {
   "cell_type": "code",
   "execution_count": 60,
   "metadata": {
    "colab": {
     "base_uri": "https://localhost:8080/"
    },
    "id": "AbwiadVW6Tua",
    "outputId": "807de138-d173-43f6-f208-92c8b996a5ee"
   },
   "outputs": [
    {
     "name": "stdout",
     "output_type": "stream",
     "text": [
      "root\n",
      " |-- name: string (nullable = true)\n",
      " |-- age: integer (nullable = true)\n",
      " |-- gender: string (nullable = true)\n",
      "\n",
      "+----+---+------+\n",
      "|name|age|gender|\n",
      "+----+---+------+\n",
      "|John| 21|  male|\n",
      "+----+---+------+\n",
      "\n"
     ]
    }
   ],
   "source": [
    "from pyspark.sql.types import *\n",
    "\n",
    "schema = StructType([\n",
    " StructField(\"name\", StringType(), True),\n",
    " StructField(\"age\", IntegerType(), True),\n",
    " StructField(\"gender\", StringType(), True)\n",
    " ])\n",
    "rows = [(\"John\", 21, \"male\")]\n",
    "df = spark.createDataFrame(rows, schema)\n",
    "df.printSchema()\n",
    "df.show()\n"
   ]
  },
  {
   "cell_type": "code",
   "execution_count": 61,
   "metadata": {
    "colab": {
     "base_uri": "https://localhost:8080/"
    },
    "id": "3C9SJpAj6bT_",
    "outputId": "32b6e553-4d58-4c05-8c16-b8014793588f"
   },
   "outputs": [
    {
     "name": "stdout",
     "output_type": "stream",
     "text": [
      "+-----+---+------+\n",
      "|  _c0|_c1|   _c2|\n",
      "+-----+---+------+\n",
      "| name|age|gender|\n",
      "|Alice| 20|female|\n",
      "|Brian| 47|  male|\n",
      "|Janes| 16|female|\n",
      "| John| 23|  male|\n",
      "+-----+---+------+\n",
      "\n"
     ]
    }
   ],
   "source": [
    "df = spark.read.csv(\"data/test.csv\")\n",
    "df.show()"
   ]
  },
  {
   "cell_type": "code",
   "execution_count": 62,
   "metadata": {
    "colab": {
     "base_uri": "https://localhost:8080/"
    },
    "id": "KfZ0U0G2pgGT",
    "outputId": "f3efaede-5594-4bc9-9550-92aea92131e1"
   },
   "outputs": [
    {
     "name": "stdout",
     "output_type": "stream",
     "text": [
      "+-----+---+------+\n",
      "| name|age|gender|\n",
      "+-----+---+------+\n",
      "|Alice| 20|female|\n",
      "|Brian| 47|  male|\n",
      "|Janes| 16|female|\n",
      "| John| 23|  male|\n",
      "+-----+---+------+\n",
      "\n"
     ]
    }
   ],
   "source": [
    "path = \"data/test.csv\"\n",
    "df = spark.read.option(\"header\", \"true\").csv(path)\n",
    "df.show()"
   ]
  },
  {
   "cell_type": "code",
   "execution_count": 63,
   "metadata": {
    "colab": {
     "base_uri": "https://localhost:8080/"
    },
    "id": "wScVIjYrphpm",
    "outputId": "9cd0611f-0f05-4915-ef9a-3185734d79ed"
   },
   "outputs": [
    {
     "name": "stdout",
     "output_type": "stream",
     "text": [
      "+-----+---+------+\n",
      "| name|age|gender|\n",
      "+-----+---+------+\n",
      "|Alice| 20|female|\n",
      "|Brian| 47|  male|\n",
      "|Janes| 16|female|\n",
      "| John| 23|  male|\n",
      "+-----+---+------+\n",
      "\n"
     ]
    }
   ],
   "source": [
    "df = (spark.read\n",
    "      .format(\"csv\")\n",
    "      .option(\"header\", \"true\")\n",
    "      .option(\"sep\", \",\")\n",
    "      .load(\"data/test.csv\"))\n",
    "df.show()"
   ]
  },
  {
   "cell_type": "code",
   "execution_count": 64,
   "metadata": {
    "colab": {
     "base_uri": "https://localhost:8080/"
    },
    "id": "dnXDnFgKpjYq",
    "outputId": "035a7d10-92a6-43c0-fb99-2192fc8cb0ec"
   },
   "outputs": [
    {
     "name": "stdout",
     "output_type": "stream",
     "text": [
      "+-----+---+------+\n",
      "| name|age|gender|\n",
      "+-----+---+------+\n",
      "|Alice| 20|female|\n",
      "|Brian| 47|  male|\n",
      "|Janes| 16|female|\n",
      "| John| 23|  male|\n",
      "+-----+---+------+\n",
      "\n"
     ]
    }
   ],
   "source": [
    "df = spark.read.csv(\"data/test.csv\", header=True, sep=\",\")\n",
    "df.show()"
   ]
  },
  {
   "cell_type": "markdown",
   "metadata": {
    "id": "Ro3uSZfmpp8u"
   },
   "source": [
    "## III.2. Spark SQL"
   ]
  },
  {
   "cell_type": "code",
   "execution_count": 65,
   "metadata": {
    "colab": {
     "base_uri": "https://localhost:8080/"
    },
    "id": "qX6WBUABplH3",
    "outputId": "42691453-438b-4950-b18e-ff1d6e6f067f"
   },
   "outputs": [
    {
     "name": "stdout",
     "output_type": "stream",
     "text": [
      "+----+---+\n",
      "|name|age|\n",
      "+----+---+\n",
      "|John| 21|\n",
      "+----+---+\n",
      "\n"
     ]
    }
   ],
   "source": [
    "column_names = [\"name\", \"age\", \"gender\"]\n",
    "rows = [\n",
    "    [\"John\", 21, \"male\"],\n",
    "    [\"Jane\", 25, \"female\"]\n",
    "]\n",
    "df = spark.createDataFrame(rows, column_names)\n",
    "# Create a temporary view from the DataFrame\n",
    "df.createOrReplaceTempView(\"new_view\")\n",
    "# Apply the query\n",
    "query = \"SELECT name, age FROM new_view WHERE gender='male'\"\n",
    "men_df = spark.sql(query)\n",
    "men_df.show()"
   ]
  },
  {
   "cell_type": "code",
   "execution_count": 66,
   "metadata": {
    "colab": {
     "base_uri": "https://localhost:8080/"
    },
    "id": "UTLkhbKLpyhR",
    "outputId": "d35d95c8-c3a4-4068-cb15-51fee1288bf1"
   },
   "outputs": [
    {
     "name": "stdout",
     "output_type": "stream",
     "text": [
      "+----+---+\n",
      "|name|age|\n",
      "+----+---+\n",
      "|John| 21|\n",
      "|Jane| 25|\n",
      "+----+---+\n",
      "\n"
     ]
    }
   ],
   "source": [
    "# In a SQL query:\n",
    "query = \"SELECT name, age FROM table\"\n",
    "# Using Spark SQL API:\n",
    "df.select(\"name\", \"age\").show()"
   ]
  },
  {
   "cell_type": "code",
   "execution_count": 67,
   "metadata": {
    "colab": {
     "base_uri": "https://localhost:8080/"
    },
    "id": "xv3eMffzp5Gf",
    "outputId": "b764d795-dff4-4d90-aa0b-82c2627e7155"
   },
   "outputs": [
    {
     "name": "stdout",
     "output_type": "stream",
     "text": [
      "+----+---+------+\n",
      "|name|age|gender|\n",
      "+----+---+------+\n",
      "|Jane| 25|female|\n",
      "+----+---+------+\n",
      "\n",
      "+----+---+------+\n",
      "|name|age|gender|\n",
      "+----+---+------+\n",
      "|Jane| 25|female|\n",
      "+----+---+------+\n",
      "\n",
      "+----+---+------+\n",
      "|name|age|gender|\n",
      "+----+---+------+\n",
      "|Jane| 25|female|\n",
      "+----+---+------+\n",
      "\n",
      "+----+---+------+\n",
      "|name|age|gender|\n",
      "+----+---+------+\n",
      "|Jane| 25|female|\n",
      "+----+---+------+\n",
      "\n"
     ]
    }
   ],
   "source": [
    "# In a SQL query:\n",
    "query = \"SELECT * FROM table WHERE age > 21\"\n",
    "# Using Spark SQL API:\n",
    "df.where(\"age > 21\").show()\n",
    "# Alternatively:\n",
    "df.where(df['age'] > 21).show()\n",
    "df.where(df.age > 21).show()\n",
    "df.select(\"*\").where(\"age > 21\").show()"
   ]
  },
  {
   "cell_type": "code",
   "execution_count": 68,
   "metadata": {
    "colab": {
     "base_uri": "https://localhost:8080/"
    },
    "id": "IAuk7_1_p7W2",
    "outputId": "834d3bbd-a0a4-4b42-d2e9-fb44fb5c986d"
   },
   "outputs": [
    {
     "name": "stdout",
     "output_type": "stream",
     "text": [
      "+----+---+------+\n",
      "|name|age|gender|\n",
      "+----+---+------+\n",
      "|John| 21|  male|\n",
      "+----+---+------+\n",
      "\n",
      "+----+---+------+\n",
      "|name|age|gender|\n",
      "+----+---+------+\n",
      "|John| 21|  male|\n",
      "+----+---+------+\n",
      "\n"
     ]
    }
   ],
   "source": [
    "# In a SQL query:\n",
    "query = \"SELECT * FROM table LIMIT 1\"\n",
    "# Using Spark SQL API:\n",
    "df.limit(1).show()\n",
    "# Or even\n",
    "df.select(\"*\").limit(1).show()"
   ]
  },
  {
   "cell_type": "code",
   "execution_count": 69,
   "metadata": {
    "colab": {
     "base_uri": "https://localhost:8080/"
    },
    "id": "k66nF-kjp9fI",
    "outputId": "deba6e23-be8b-4b2e-dfee-6aab3e840c4c"
   },
   "outputs": [
    {
     "name": "stdout",
     "output_type": "stream",
     "text": [
      "+----+---+------+\n",
      "|name|age|gender|\n",
      "+----+---+------+\n",
      "|Jane| 25|female|\n",
      "|John| 21|  male|\n",
      "+----+---+------+\n",
      "\n"
     ]
    }
   ],
   "source": [
    "# In a SQL query:\n",
    "query = \"SELECT * FROM table ORDER BY name ASC\"\n",
    "# Using Spark SQL API:\n",
    "df.orderBy(df.name.asc()).show()"
   ]
  },
  {
   "cell_type": "code",
   "execution_count": 70,
   "metadata": {
    "colab": {
     "base_uri": "https://localhost:8080/"
    },
    "id": "F1Vamq64p--R",
    "outputId": "14c86aaf-6eb7-4d56-964c-ee6e6a0f9ab2"
   },
   "outputs": [
    {
     "name": "stdout",
     "output_type": "stream",
     "text": [
      "+----+---+------+\n",
      "|name|age|   sex|\n",
      "+----+---+------+\n",
      "|John| 21|  male|\n",
      "|Jane| 25|female|\n",
      "+----+---+------+\n",
      "\n"
     ]
    }
   ],
   "source": [
    "# In a SQL query:\n",
    "query = \"SELECT name, age, gender AS sex FROM table\"\n",
    "# Using Spark SQL API:\n",
    "df.select(df.name, df.age, df.gender.alias('sex')).show()"
   ]
  },
  {
   "cell_type": "code",
   "execution_count": 71,
   "metadata": {
    "colab": {
     "base_uri": "https://localhost:8080/"
    },
    "id": "pirWaeOsqAP8",
    "outputId": "64d9953a-9dbb-4495-fd93-52ab8f18c321"
   },
   "outputs": [
    {
     "name": "stdout",
     "output_type": "stream",
     "text": [
      "+----+-----+\n",
      "|name|age_f|\n",
      "+----+-----+\n",
      "|John| 21.0|\n",
      "|Jane| 25.0|\n",
      "+----+-----+\n",
      "\n",
      "+----+-----+\n",
      "|name|age_f|\n",
      "+----+-----+\n",
      "|John| 21.0|\n",
      "|Jane| 25.0|\n",
      "+----+-----+\n",
      "\n"
     ]
    }
   ],
   "source": [
    "# In a SQL query:\n",
    "query = \"SELECT name, cast(age AS float) AS age_f FROM table\"\n",
    "# Using Spark SQL API:\n",
    "df.select(df.name, df.age.cast(\"float\").alias(\"age_f\")).show()\n",
    "# Or\n",
    "new_age_col = df.age.cast(\"float\").alias(\"age_f\")\n",
    "df.select(df.name, new_age_col).show()"
   ]
  },
  {
   "cell_type": "code",
   "execution_count": 72,
   "metadata": {
    "colab": {
     "base_uri": "https://localhost:8080/"
    },
    "id": "fA5L0fJCqBja",
    "outputId": "8204033a-35cc-4ef5-b582-1563287c6aa4"
   },
   "outputs": [
    {
     "name": "stdout",
     "output_type": "stream",
     "text": [
      "+----+---+------+----------+\n",
      "|name|age|gender|age_months|\n",
      "+----+---+------+----------+\n",
      "|John| 21|  male|       252|\n",
      "|Jane| 25|female|       300|\n",
      "+----+---+------+----------+\n",
      "\n",
      "+----+---+------+----------+\n",
      "|name|age|gender|age_months|\n",
      "+----+---+------+----------+\n",
      "|John| 21|  male|       252|\n",
      "|Jane| 25|female|       300|\n",
      "+----+---+------+----------+\n",
      "\n"
     ]
    }
   ],
   "source": [
    "# In a SQL query:\n",
    "query = \"SELECT *, 12*age AS age_months FROM table\"\n",
    "# Using Spark SQL API:\n",
    "df.withColumn(\"age_months\", df.age * 12).show()\n",
    "# Or\n",
    "df.select(\"*\", (df.age * 12).alias(\"age_months\")).show()"
   ]
  },
  {
   "cell_type": "code",
   "execution_count": 73,
   "metadata": {
    "id": "WKf_07vXqC_8"
   },
   "outputs": [],
   "source": [
    "from pyspark.sql import functions as fn"
   ]
  },
  {
   "cell_type": "code",
   "execution_count": 74,
   "metadata": {
    "colab": {
     "base_uri": "https://localhost:8080/"
    },
    "id": "EjJdPYRnqFw2",
    "outputId": "462c4f7d-95c3-447f-87e7-435222d64a80"
   },
   "outputs": [
    {
     "name": "stdout",
     "output_type": "stream",
     "text": [
      "+-------+----+-----+-----+----+\n",
      "|  brand|cost|round|floor|ceil|\n",
      "+-------+----+-----+-----+----+\n",
      "|garnier|3.49|  3.5|    3|   4|\n",
      "| elseve|2.71|  2.7|    2|   3|\n",
      "+-------+----+-----+-----+----+\n",
      "\n"
     ]
    }
   ],
   "source": [
    "columns = [\"brand\", \"cost\"]\n",
    "df = spark.createDataFrame([\n",
    "    (\"garnier\", 3.49),\n",
    "    (\"elseve\", 2.71)\n",
    "], columns)\n",
    "\n",
    "round_cost = fn.round(df.cost, 1)\n",
    "floor_cost = fn.floor(df.cost)\n",
    "ceil_cost = fn.ceil(df.cost)\n",
    "\n",
    "df.withColumn(\"round\", round_cost)\\\n",
    "  .withColumn(\"floor\", floor_cost)\\\n",
    "  .withColumn(\"ceil\", ceil_cost)\\\n",
    "  .show()"
   ]
  },
  {
   "cell_type": "code",
   "execution_count": 75,
   "metadata": {
    "colab": {
     "base_uri": "https://localhost:8080/"
    },
    "id": "zSTW2HKuqIFV",
    "outputId": "3c49434a-1bbb-44d7-944a-e509502ad704"
   },
   "outputs": [
    {
     "name": "stdout",
     "output_type": "stream",
     "text": [
      "+----------+---------+------+\n",
      "|first_name|last_name|  name|\n",
      "+----------+---------+------+\n",
      "|      John|      Doe|John D|\n",
      "|      Mary|     Jane|Mary J|\n",
      "+----------+---------+------+\n",
      "\n"
     ]
    }
   ],
   "source": [
    "columns = [\"first_name\", \"last_name\"]\n",
    "df = spark.createDataFrame([\n",
    "    (\"John\", \"Doe\"),\n",
    "    (\"Mary\", \"Jane\")\n",
    "], columns)\n",
    "\n",
    "last_name_initial = fn.substring(df.last_name, 0, 1)\n",
    "name = fn.concat_ws(\" \", df.first_name, last_name_initial)\n",
    "df.withColumn(\"name\", name).show()"
   ]
  },
  {
   "cell_type": "code",
   "execution_count": 76,
   "metadata": {
    "colab": {
     "base_uri": "https://localhost:8080/"
    },
    "id": "H7oHv-yYqJet",
    "outputId": "20ef1673-311e-41fa-95bf-e63ef3a1e558"
   },
   "outputs": [
    {
     "name": "stdout",
     "output_type": "stream",
     "text": [
      "+----------+----------+------------+-----------+\n",
      "|start_date|  end_date|days_between|start_month|\n",
      "+----------+----------+------------+-----------+\n",
      "|2015-01-01|2015-01-15|          14|          1|\n",
      "|2015-02-21|2015-03-08|          15|          2|\n",
      "+----------+----------+------------+-----------+\n",
      "\n"
     ]
    }
   ],
   "source": [
    "from datetime import date\n",
    "\n",
    "df = spark.createDataFrame([\n",
    " (date(2015, 1, 1), date(2015, 1, 15)),\n",
    " (date(2015, 2, 21), date(2015, 3, 8)),\n",
    " ], [\"start_date\", \"end_date\"]\n",
    " )\n",
    "days_between = fn.datediff(df.end_date, df.start_date)\n",
    "start_month = fn.month(df.start_date)\n",
    "df.withColumn('days_between', days_between)\\\n",
    " .withColumn('start_month', start_month)\\\n",
    " .show()"
   ]
  },
  {
   "cell_type": "code",
   "execution_count": 77,
   "metadata": {
    "colab": {
     "base_uri": "https://localhost:8080/"
    },
    "id": "LLMGXxsPqKw0",
    "outputId": "32bf50e8-4ba4-425a-99a2-d5786b4b3537"
   },
   "outputs": [
    {
     "name": "stdout",
     "output_type": "stream",
     "text": [
      "+------+---+----------+----------+\n",
      "|  name|age|    gender|supervisor|\n",
      "+------+---+----------+----------+\n",
      "|  John| 21|      male| Mr. Smith|\n",
      "|  Jane| 25|    female|Miss Jones|\n",
      "|Albert| 46|      male| Mr. Smith|\n",
      "|  Brad| 49|super-hero|        NA|\n",
      "+------+---+----------+----------+\n",
      "\n"
     ]
    }
   ],
   "source": [
    "df = spark.createDataFrame([\n",
    " (\"John\", 21, \"male\"),\n",
    " (\"Jane\", 25, \"female\"),\n",
    " (\"Albert\", 46, \"male\"),\n",
    " (\"Brad\", 49, \"super-hero\")\n",
    " ], [\"name\", \"age\", \"gender\"])\n",
    "supervisor = fn.when(df.gender == 'male', 'Mr. Smith')\\\n",
    " .when(df.gender == 'female', 'Miss Jones')\\\n",
    " .otherwise('NA')\n",
    "df.withColumn(\"supervisor\", supervisor).show()"
   ]
  },
  {
   "cell_type": "code",
   "execution_count": 78,
   "metadata": {
    "colab": {
     "base_uri": "https://localhost:8080/"
    },
    "id": "bS7cYMaqqMw2",
    "outputId": "ce08113a-9112-4848-dfe2-c6c3c309136d"
   },
   "outputs": [
    {
     "name": "stdout",
     "output_type": "stream",
     "text": [
      "+-----+------+------------------+\n",
      "|first|second|               udf|\n",
      "+-----+------+------------------+\n",
      "|    1|     3|3 is bigger than 1|\n",
      "|    4|     2|4 is bigger than 2|\n",
      "+-----+------+------------------+\n",
      "\n"
     ]
    }
   ],
   "source": [
    "df = spark.createDataFrame([(1, 3), (4, 2)], [\"first\", \"second\"])\n",
    "def my_func(col_1, col_2):\n",
    " if (col_1 > col_2):\n",
    "  return \"{} is bigger than {}\".format(col_1, col_2)\n",
    " else:\n",
    "  return \"{} is bigger than {}\".format(col_2, col_1)\n",
    "my_udf = fn.udf(my_func, StringType())\n",
    "df.withColumn(\"udf\", my_udf(df['first'], df['second'])).show()"
   ]
  },
  {
   "cell_type": "code",
   "execution_count": 79,
   "metadata": {
    "colab": {
     "base_uri": "https://localhost:8080/"
    },
    "id": "a4CMHJ-TqOIW",
    "outputId": "f7440fe2-c673-4e6c-d595-fd1c67c8e5fe"
   },
   "outputs": [
    {
     "name": "stdout",
     "output_type": "stream",
     "text": [
      "+-------+----------+--------+--------+----------+----------+\n",
      "|prod_id|      date|quantity|prod_cat|prod_brand|prod_value|\n",
      "+-------+----------+--------+--------+----------+----------+\n",
      "|      1|2017-11-01|       2|   mouse| microsoft|     39.99|\n",
      "|      1|2017-11-02|       1|   mouse| microsoft|     39.99|\n",
      "|      2|2017-11-05|       1|keyboard|  logitech|     59.99|\n",
      "+-------+----------+--------+--------+----------+----------+\n",
      "\n"
     ]
    }
   ],
   "source": [
    "from datetime import date\n",
    "\n",
    "products = spark.createDataFrame([\n",
    " ('1', 'mouse', 'microsoft', 39.99),\n",
    " ('2', 'keyboard', 'logitech', 59.99),\n",
    " ], ['prod_id', 'prod_cat', 'prod_brand', 'prod_value'])\n",
    "purchases = spark.createDataFrame([\n",
    " (date(2017, 11, 1), 2, '1'),\n",
    " (date(2017, 11, 2), 1, '1'),\n",
    " (date(2017, 11, 5), 1, '2'),\n",
    " ], ['date', 'quantity', 'prod_id'])\n",
    "\n",
    "# The default join type is the \"INNER\" join\n",
    "purchases.join(products, 'prod_id').show()"
   ]
  },
  {
   "cell_type": "code",
   "execution_count": 80,
   "metadata": {
    "colab": {
     "base_uri": "https://localhost:8080/"
    },
    "id": "mjJTE7eEqPR_",
    "outputId": "7a8d5cff-c977-4a79-da30-0505d5d5322e"
   },
   "outputs": [
    {
     "name": "stdout",
     "output_type": "stream",
     "text": [
      "+----------+--------+-------+-------+--------+----------+----------+\n",
      "|      date|quantity|prod_id|prod_id|prod_cat|prod_brand|prod_value|\n",
      "+----------+--------+-------+-------+--------+----------+----------+\n",
      "|2017-11-01|       2|      1|      1|   mouse| microsoft|     39.99|\n",
      "|2017-11-02|       1|      1|      1|   mouse| microsoft|     39.99|\n",
      "|2017-11-05|       1|      2|      2|keyboard|  logitech|     59.99|\n",
      "+----------+--------+-------+-------+--------+----------+----------+\n",
      "\n"
     ]
    }
   ],
   "source": [
    "# We can also use a query string (not recommended)\n",
    "products.createOrReplaceTempView(\"products\")\n",
    "purchases.createOrReplaceTempView(\"purchases\")\n",
    "query = \"\"\"SELECT * FROM\n",
    " (purchases AS prc INNER JOIN products AS prd\n",
    " on prc.prod_id = prd.prod_id)\n",
    " \"\"\"\n",
    "spark.sql(query).show()"
   ]
  },
  {
   "cell_type": "code",
   "execution_count": 81,
   "metadata": {
    "colab": {
     "base_uri": "https://localhost:8080/"
    },
    "id": "0UJ3W9BYqRYc",
    "outputId": "8453b86a-2cc8-4a76-caa6-2ae8a4e5f7d6"
   },
   "outputs": [
    {
     "name": "stdout",
     "output_type": "stream",
     "text": [
      "+----------+--------+---------+-------+--------+----------+----------+\n",
      "|      date|quantity|prod_id_x|prod_id|prod_cat|prod_brand|prod_value|\n",
      "+----------+--------+---------+-------+--------+----------+----------+\n",
      "|2017-11-02|       1|        3|   NULL|    NULL|      NULL|      NULL|\n",
      "|2017-11-01|       2|        1|      1|   mouse| microsoft|     39.99|\n",
      "+----------+--------+---------+-------+--------+----------+----------+\n",
      "\n"
     ]
    }
   ],
   "source": [
    "new_purchases = spark.createDataFrame([\n",
    " (date(2017, 11, 1), 2, '1'),\n",
    " (date(2017, 11, 2), 1, '3'),\n",
    " ], ['date', 'quantity', 'prod_id_x'])\n",
    "join_rule = new_purchases.prod_id_x == products.prod_id\n",
    "new_purchases.join(products, join_rule, 'left').show()"
   ]
  },
  {
   "cell_type": "code",
   "execution_count": 82,
   "metadata": {
    "id": "RxuiKCVlqS2K"
   },
   "outputs": [],
   "source": [
    "df1 = spark.createDataFrame(\n",
    "    [(123,\"name1\"),\n",
    "    (456,\"name3\"),\n",
    "    (None,\"name2\")],\n",
    "    [\"id\",\"name\"]\n",
    ")\n",
    "df2 = spark.createDataFrame(\n",
    "    [(None,\"sales\"),\n",
    "    (223,\"Legal\"),\n",
    "    (456,\"IT\")],\n",
    "    [\"id\",\"dept\"]\n",
    ")"
   ]
  },
  {
   "cell_type": "code",
   "execution_count": 83,
   "metadata": {
    "colab": {
     "base_uri": "https://localhost:8080/"
    },
    "id": "FByn4L_5qULS",
    "outputId": "236ee926-642c-44db-e5bd-22429d073740"
   },
   "outputs": [
    {
     "name": "stdout",
     "output_type": "stream",
     "text": [
      "+----+-----+\n",
      "|  id| name|\n",
      "+----+-----+\n",
      "| 123|name1|\n",
      "| 456|name3|\n",
      "|NULL|name2|\n",
      "+----+-----+\n",
      "\n",
      "+----+-----+\n",
      "|  id| dept|\n",
      "+----+-----+\n",
      "|NULL|sales|\n",
      "| 223|Legal|\n",
      "| 456|   IT|\n",
      "+----+-----+\n",
      "\n"
     ]
    },
    {
     "data": {
      "text/plain": [
       "(None, None)"
      ]
     },
     "execution_count": 83,
     "metadata": {},
     "output_type": "execute_result"
    }
   ],
   "source": [
    "df1.show(), df2.show()"
   ]
  },
  {
   "cell_type": "code",
   "execution_count": 84,
   "metadata": {
    "colab": {
     "base_uri": "https://localhost:8080/"
    },
    "id": "HV8NylP5qVjj",
    "outputId": "e353a0ea-1a98-4f4d-9f55-79cd31aea576"
   },
   "outputs": [
    {
     "name": "stdout",
     "output_type": "stream",
     "text": [
      "+---+-----+----+\n",
      "| id| name|dept|\n",
      "+---+-----+----+\n",
      "|456|name3|  IT|\n",
      "+---+-----+----+\n",
      "\n"
     ]
    }
   ],
   "source": [
    "df1.join(df2, \"id\").show()"
   ]
  },
  {
   "cell_type": "code",
   "execution_count": 85,
   "metadata": {
    "id": "OrMye-2VqYFY"
   },
   "outputs": [],
   "source": [
    "df_left = spark.createDataFrame(\n",
    "    [\n",
    "        (1, \"A1\"),\n",
    "        (2, \"A2\"),\n",
    "        (3, \"A3\"),\n",
    "        (4, \"A4\")\n",
    "    ],\n",
    "    [\"id\", \"value\"]\n",
    ")\n",
    "df_right = spark.createDataFrame(\n",
    "    [\n",
    "        (3, \"A3\"),\n",
    "        (4, \"A4_1\"),\n",
    "        (4, \"A4\"),\n",
    "        (5, \"A5\"),\n",
    "        (6, \"A6\")\n",
    "    ],\n",
    "    [\"id\", \"value\"]\n",
    ")"
   ]
  },
  {
   "cell_type": "code",
   "execution_count": 86,
   "metadata": {
    "colab": {
     "base_uri": "https://localhost:8080/"
    },
    "id": "9HgbhjOCqZl1",
    "outputId": "d60eca37-6bf8-4e66-e76f-373f0fa46ec2"
   },
   "outputs": [
    {
     "name": "stdout",
     "output_type": "stream",
     "text": [
      "+---+-----+\n",
      "| id|value|\n",
      "+---+-----+\n",
      "|  1|   A1|\n",
      "|  2|   A2|\n",
      "|  3|   A3|\n",
      "|  4|   A4|\n",
      "+---+-----+\n",
      "\n",
      "+---+-----+\n",
      "| id|value|\n",
      "+---+-----+\n",
      "|  3|   A3|\n",
      "|  4| A4_1|\n",
      "|  4|   A4|\n",
      "|  5|   A5|\n",
      "|  6|   A6|\n",
      "+---+-----+\n",
      "\n"
     ]
    },
    {
     "data": {
      "text/plain": [
       "(None, None)"
      ]
     },
     "execution_count": 86,
     "metadata": {},
     "output_type": "execute_result"
    }
   ],
   "source": [
    "df_left.show(), df_right.show()"
   ]
  },
  {
   "cell_type": "code",
   "execution_count": 87,
   "metadata": {
    "colab": {
     "base_uri": "https://localhost:8080/"
    },
    "id": "uOv-cSOnqbji",
    "outputId": "ae494c07-ddb4-481e-ccec-cba3e6da190b"
   },
   "outputs": [
    {
     "name": "stdout",
     "output_type": "stream",
     "text": [
      "+---+-----+-----+\n",
      "| id|value|value|\n",
      "+---+-----+-----+\n",
      "|  3|   A3|   A3|\n",
      "|  4|   A4| A4_1|\n",
      "|  4|   A4|   A4|\n",
      "+---+-----+-----+\n",
      "\n"
     ]
    }
   ],
   "source": [
    "inner = df_left.join(df_right, \"id\", \"inner\")\n",
    "inner.show()"
   ]
  },
  {
   "cell_type": "code",
   "execution_count": 88,
   "metadata": {
    "colab": {
     "base_uri": "https://localhost:8080/"
    },
    "id": "tv1lxbRJqc3c",
    "outputId": "8b669e8b-ac1a-43a3-aebf-af0f02d411c3"
   },
   "outputs": [
    {
     "name": "stdout",
     "output_type": "stream",
     "text": [
      "+---+-----+-----+\n",
      "| id|value|value|\n",
      "+---+-----+-----+\n",
      "|  1|   A1| NULL|\n",
      "|  2|   A2| NULL|\n",
      "|  3|   A3|   A3|\n",
      "|  4|   A4| A4_1|\n",
      "|  4|   A4|   A4|\n",
      "|  5| NULL|   A5|\n",
      "|  6| NULL|   A6|\n",
      "+---+-----+-----+\n",
      "\n"
     ]
    }
   ],
   "source": [
    "outer = df_left.join(df_right, \"id\", \"outer\")\n",
    "outer.show()"
   ]
  },
  {
   "cell_type": "code",
   "execution_count": 89,
   "metadata": {
    "colab": {
     "base_uri": "https://localhost:8080/"
    },
    "id": "7eyYZASpqeCI",
    "outputId": "a8d62ae2-60fb-4f33-c6cf-8bebd37f7473"
   },
   "outputs": [
    {
     "name": "stdout",
     "output_type": "stream",
     "text": [
      "+---+-----+-----+\n",
      "| id|value|value|\n",
      "+---+-----+-----+\n",
      "|  1|   A1| NULL|\n",
      "|  3|   A3|   A3|\n",
      "|  2|   A2| NULL|\n",
      "|  4|   A4|   A4|\n",
      "|  4|   A4| A4_1|\n",
      "+---+-----+-----+\n",
      "\n"
     ]
    }
   ],
   "source": [
    "left  = df_left.join(df_right, \"id\", \"left\")\n",
    "left.show()"
   ]
  },
  {
   "cell_type": "code",
   "execution_count": 90,
   "metadata": {
    "colab": {
     "base_uri": "https://localhost:8080/"
    },
    "id": "mxZ_rvS2qfv_",
    "outputId": "875bcd78-ebbc-4a68-a729-3d0968f38346"
   },
   "outputs": [
    {
     "name": "stdout",
     "output_type": "stream",
     "text": [
      "+---+-----+-----+\n",
      "| id|value|value|\n",
      "+---+-----+-----+\n",
      "|  6| NULL|   A6|\n",
      "|  5| NULL|   A5|\n",
      "|  3|   A3|   A3|\n",
      "|  4|   A4| A4_1|\n",
      "|  4|   A4|   A4|\n",
      "+---+-----+-----+\n",
      "\n"
     ]
    }
   ],
   "source": [
    "right = df_left.join(df_right, \"id\", \"right\")\n",
    "right.show()"
   ]
  },
  {
   "cell_type": "code",
   "execution_count": 91,
   "metadata": {
    "colab": {
     "base_uri": "https://localhost:8080/"
    },
    "id": "l_JhzGkAqhBm",
    "outputId": "2306dd09-cbdc-48b4-eb78-eefa5d8fa646"
   },
   "outputs": [
    {
     "name": "stdout",
     "output_type": "stream",
     "text": [
      "+---+-----+\n",
      "| id|value|\n",
      "+---+-----+\n",
      "|  3|   A3|\n",
      "|  4|   A4|\n",
      "+---+-----+\n",
      "\n"
     ]
    }
   ],
   "source": [
    "ledt_semi = df_left.join(df_right, \"id\", \"leftsemi\")\n",
    "ledt_semi.show()"
   ]
  },
  {
   "cell_type": "code",
   "execution_count": 92,
   "metadata": {
    "colab": {
     "base_uri": "https://localhost:8080/"
    },
    "id": "CQNtx6GmqiVR",
    "outputId": "55568499-0b0d-4723-e139-6809275a8d63"
   },
   "outputs": [
    {
     "name": "stdout",
     "output_type": "stream",
     "text": [
      "+---+-----+\n",
      "| id|value|\n",
      "+---+-----+\n",
      "|  1|   A1|\n",
      "|  2|   A2|\n",
      "+---+-----+\n",
      "\n"
     ]
    }
   ],
   "source": [
    "left_anti = df_left.join(df_right, \"id\", \"leftanti\")\n",
    "left_anti.show()"
   ]
  },
  {
   "cell_type": "code",
   "execution_count": 93,
   "metadata": {
    "colab": {
     "base_uri": "https://localhost:8080/"
    },
    "id": "HAx0coARqkj-",
    "outputId": "b8095341-c563-447c-cd71-a5e890257b40"
   },
   "outputs": [
    {
     "name": "stdout",
     "output_type": "stream",
     "text": [
      "+--------+-----------------+\n",
      "|prod_cat|  avg(prod_value)|\n",
      "+--------+-----------------+\n",
      "|keyboard|            59.99|\n",
      "|   mouse|43.32333333333333|\n",
      "+--------+-----------------+\n",
      "\n",
      "+--------+-----------------+\n",
      "|prod_cat|  avg(prod_value)|\n",
      "+--------+-----------------+\n",
      "|keyboard|            59.99|\n",
      "|   mouse|43.32333333333333|\n",
      "+--------+-----------------+\n",
      "\n"
     ]
    }
   ],
   "source": [
    "from pyspark.sql import functions as fn\n",
    "\n",
    "products = spark.createDataFrame([\n",
    " ('1', 'mouse', 'microsoft', 39.99),\n",
    " ('2', 'mouse', 'microsoft', 59.99),\n",
    " ('3', 'keyboard', 'microsoft', 59.99),\n",
    " ('4', 'keyboard', 'logitech', 59.99),\n",
    " ('5', 'mouse', 'logitech', 29.99),\n",
    " ], ['prod_id', 'prod_cat', 'prod_brand', 'prod_value'])\n",
    "products.groupBy('prod_cat').avg('prod_value').show()\n",
    "# Or\n",
    "products.groupBy('prod_cat').agg(fn.avg('prod_value')).show()"
   ]
  },
  {
   "cell_type": "code",
   "execution_count": 94,
   "metadata": {
    "colab": {
     "base_uri": "https://localhost:8080/"
    },
    "id": "QE5ZWPI6qo_N",
    "outputId": "e478956e-aa8e-4daa-b604-b91177a43c5a"
   },
   "outputs": [
    {
     "name": "stdout",
     "output_type": "stream",
     "text": [
      "+-------+--------+----------+----------+\n",
      "|prod_id|prod_cat|prod_brand|prod_value|\n",
      "+-------+--------+----------+----------+\n",
      "|      1|   mouse| microsoft|     39.99|\n",
      "|      2|   mouse| microsoft|     59.99|\n",
      "|      3|keyboard| microsoft|     59.99|\n",
      "|      4|keyboard|  logitech|     59.99|\n",
      "|      5|   mouse|  logitech|     29.99|\n",
      "+-------+--------+----------+----------+\n",
      "\n"
     ]
    }
   ],
   "source": [
    "products.show()"
   ]
  },
  {
   "cell_type": "code",
   "execution_count": 95,
   "metadata": {
    "colab": {
     "base_uri": "https://localhost:8080/"
    },
    "id": "QhCVo6pAqqKv",
    "outputId": "1a43b0d8-5000-4553-8961-bde1bef2dea7"
   },
   "outputs": [
    {
     "name": "stdout",
     "output_type": "stream",
     "text": [
      "+----------+--------+---------------+\n",
      "|prod_brand|prod_cat|avg(prod_value)|\n",
      "+----------+--------+---------------+\n",
      "| microsoft|   mouse|          49.99|\n",
      "|  logitech|keyboard|          59.99|\n",
      "| microsoft|keyboard|          59.99|\n",
      "|  logitech|   mouse|          29.99|\n",
      "+----------+--------+---------------+\n",
      "\n"
     ]
    }
   ],
   "source": [
    "products.groupBy('prod_brand', 'prod_cat')\\\n",
    " .agg(fn.avg('prod_value')).show()"
   ]
  },
  {
   "cell_type": "code",
   "execution_count": 96,
   "metadata": {
    "colab": {
     "base_uri": "https://localhost:8080/"
    },
    "id": "JQYHnHgcqtOu",
    "outputId": "a38108e4-337f-42d5-e3e0-d1ff9fc364fe"
   },
   "outputs": [
    {
     "name": "stdout",
     "output_type": "stream",
     "text": [
      "+----------+-------+---+-----+\n",
      "|prod_brand|average|sum|  min|\n",
      "+----------+-------+---+-----+\n",
      "|  logitech|   45.0| 90|29.99|\n",
      "| microsoft|   53.3|160|39.99|\n",
      "+----------+-------+---+-----+\n",
      "\n"
     ]
    }
   ],
   "source": [
    "products.groupBy('prod_brand').agg(\n",
    " fn.round(fn.avg('prod_value'), 1).alias('average'),\n",
    " fn.ceil(fn.sum('prod_value')).alias('sum'),\n",
    " fn.min('prod_value').alias('min')\n",
    " ).show()"
   ]
  },
  {
   "cell_type": "code",
   "execution_count": 97,
   "metadata": {
    "colab": {
     "base_uri": "https://localhost:8080/"
    },
    "id": "4AvRlPVsqu9W",
    "outputId": "7c942e77-6875-4da0-990e-dba44aeeace1"
   },
   "outputs": [
    {
     "name": "stdout",
     "output_type": "stream",
     "text": [
      "+----------+-------+-----+\n",
      "|prod_brand|average|  min|\n",
      "+----------+-------+-----+\n",
      "|  logitech|   45.0|29.99|\n",
      "| microsoft|   53.3|39.99|\n",
      "+----------+-------+-----+\n",
      "\n"
     ]
    }
   ],
   "source": [
    " # Using an SQL query\n",
    "products.createOrReplaceTempView(\"products\")\n",
    "query = \"\"\"\n",
    " SELECT\n",
    " prod_brand,\n",
    " round(avg(prod_value), 1) AS average,\n",
    " min(prod_value) AS min\n",
    " FROM products\n",
    " GROUP BY prod_brand\n",
    " \"\"\"\n",
    "spark.sql(query).show()"
   ]
  },
  {
   "cell_type": "markdown",
   "metadata": {
    "id": "WcZMyAoIq4Xf"
   },
   "source": [
    "## III.3 Spark Window functions"
   ]
  },
  {
   "cell_type": "code",
   "execution_count": 98,
   "metadata": {
    "colab": {
     "base_uri": "https://localhost:8080/"
    },
    "id": "chRwHNw7qwNO",
    "outputId": "0dfacdfe-5277-4297-b29b-bef357d0cc81"
   },
   "outputs": [
    {
     "name": "stdout",
     "output_type": "stream",
     "text": [
      "+-------+--------+----------+----------+---------------+\n",
      "|prod_id|prod_cat|prod_brand|prod_value|avg_brand_value|\n",
      "+-------+--------+----------+----------+---------------+\n",
      "|      4|keyboard|  logitech|     59.99|          44.99|\n",
      "|      5|   mouse|  logitech|     29.99|          44.99|\n",
      "|      1|   mouse| microsoft|     39.99|          53.32|\n",
      "|      2|   mouse| microsoft|     59.99|          53.32|\n",
      "|      3|keyboard| microsoft|     59.99|          53.32|\n",
      "+-------+--------+----------+----------+---------------+\n",
      "\n"
     ]
    }
   ],
   "source": [
    "from pyspark.sql import Window\n",
    "from pyspark.sql import functions as fn\n",
    "\n",
    "# First, we create the Window definition\n",
    "window = Window.partitionBy('prod_brand')\n",
    "\n",
    "# Then, we can use \"over\" to aggregate on this window\n",
    "avg = fn.avg('prod_value').over(window)\n",
    "\n",
    "# Finally, we can it as a classical column\n",
    "products.withColumn('avg_brand_value', fn.round(avg, 2)).show()"
   ]
  },
  {
   "cell_type": "code",
   "execution_count": 99,
   "metadata": {
    "colab": {
     "base_uri": "https://localhost:8080/"
    },
    "id": "C3vqbkLKq8qY",
    "outputId": "c8572987-1344-4b2b-dafe-daac690f6d15"
   },
   "outputs": [
    {
     "name": "stdout",
     "output_type": "stream",
     "text": [
      "+-------+--------+----------+----------+---------+\n",
      "|prod_id|prod_cat|prod_brand|prod_value|avg_value|\n",
      "+-------+--------+----------+----------+---------+\n",
      "|      4|keyboard|  logitech|     59.99|    59.99|\n",
      "|      5|   mouse|  logitech|     29.99|    29.99|\n",
      "|      3|keyboard| microsoft|     59.99|    59.99|\n",
      "|      1|   mouse| microsoft|     39.99|    49.99|\n",
      "|      2|   mouse| microsoft|     59.99|    49.99|\n",
      "+-------+--------+----------+----------+---------+\n",
      "\n"
     ]
    }
   ],
   "source": [
    "# The window can be defined on multiple columns\n",
    "\n",
    "window = Window.partitionBy('prod_brand', 'prod_cat')\n",
    "\n",
    "avg = fn.avg('prod_value').over(window)\n",
    "\n",
    "products.withColumn('avg_value', fn.round(avg, 2)).show()"
   ]
  },
  {
   "cell_type": "code",
   "execution_count": 100,
   "metadata": {
    "colab": {
     "base_uri": "https://localhost:8080/"
    },
    "id": "eOdUmDV8q94I",
    "outputId": "6dd01a2f-936c-4836-9fbb-3c6673bd339e"
   },
   "outputs": [
    {
     "name": "stdout",
     "output_type": "stream",
     "text": [
      "+-------+--------+----------+----------+------------+----------+\n",
      "|prod_id|prod_cat|prod_brand|prod_value|avg_by_brand|avg_by_cat|\n",
      "+-------+--------+----------+----------+------------+----------+\n",
      "|      4|keyboard|  logitech|     59.99|       44.99|     59.99|\n",
      "|      3|keyboard| microsoft|     59.99|       53.32|     59.99|\n",
      "|      5|   mouse|  logitech|     29.99|       44.99|     43.32|\n",
      "|      1|   mouse| microsoft|     39.99|       53.32|     43.32|\n",
      "|      2|   mouse| microsoft|     59.99|       53.32|     43.32|\n",
      "+-------+--------+----------+----------+------------+----------+\n",
      "\n"
     ]
    }
   ],
   "source": [
    "# Multiple windows can be defined\n",
    "window1 = Window.partitionBy('prod_brand')\n",
    "window2 = Window.partitionBy('prod_cat')\n",
    "avg_brand = fn.avg('prod_value').over(window1)\n",
    "avg_cat = fn.avg('prod_value').over(window2)\n",
    "products \\\n",
    " .withColumn('avg_by_brand', fn.round(avg_brand, 2)) \\\n",
    " .withColumn('avg_by_cat', fn.round(avg_cat, 2)) \\\n",
    " .show()"
   ]
  },
  {
   "cell_type": "code",
   "execution_count": 101,
   "metadata": {
    "colab": {
     "base_uri": "https://localhost:8080/"
    },
    "id": "vXPu37MAq_Bu",
    "outputId": "ac0cd28a-1d4e-4449-f776-8da22a9a6946"
   },
   "outputs": [
    {
     "name": "stdout",
     "output_type": "stream",
     "text": [
      "+----------+--------+\n",
      "|      date|prod_cat|\n",
      "+----------+--------+\n",
      "|2017-11-01|   mouse|\n",
      "|2017-11-02|   mouse|\n",
      "|2017-11-04|keyboard|\n",
      "|2017-11-06|keyboard|\n",
      "|2017-11-09|keyboard|\n",
      "|2017-11-12|   mouse|\n",
      "|2017-11-18|keyboard|\n",
      "+----------+--------+\n",
      "\n"
     ]
    }
   ],
   "source": [
    "purchases = spark.createDataFrame([\n",
    " (date(2017, 11, 1), 'mouse'),\n",
    " (date(2017, 11, 2), 'mouse'),\n",
    " (date(2017, 11, 4), 'keyboard'),\n",
    " (date(2017, 11, 6), 'keyboard'),\n",
    " (date(2017, 11, 9), 'keyboard'),\n",
    " (date(2017, 11, 12), 'mouse'),\n",
    " (date(2017, 11, 18), 'keyboard')\n",
    " ], ['date', 'prod_cat'])\n",
    "purchases.show()"
   ]
  },
  {
   "cell_type": "code",
   "execution_count": 102,
   "metadata": {
    "colab": {
     "base_uri": "https://localhost:8080/"
    },
    "id": "uH2Ck8vLrADy",
    "outputId": "d11df6f0-ff69-4e27-da3d-6ac857acde4a"
   },
   "outputs": [
    {
     "name": "stdout",
     "output_type": "stream",
     "text": [
      "+----------+--------+----------+----------+\n",
      "|      date|prod_cat|      prev|      next|\n",
      "+----------+--------+----------+----------+\n",
      "|2017-11-04|keyboard|      NULL|2017-11-06|\n",
      "|2017-11-06|keyboard|2017-11-04|2017-11-09|\n",
      "|2017-11-09|keyboard|2017-11-06|2017-11-18|\n",
      "|2017-11-18|keyboard|2017-11-09|      NULL|\n",
      "|2017-11-01|   mouse|      NULL|2017-11-02|\n",
      "|2017-11-02|   mouse|2017-11-01|2017-11-12|\n",
      "|2017-11-12|   mouse|2017-11-02|      NULL|\n",
      "+----------+--------+----------+----------+\n",
      "\n"
     ]
    }
   ],
   "source": [
    "window = Window.partitionBy('prod_cat').orderBy('date')\n",
    "prev_purch = fn.lag('date', 1).over(window)\n",
    "next_purch = fn.lead('date', 1).over(window)\n",
    "purchases\\\n",
    " .withColumn('prev', prev_purch)\\\n",
    " .withColumn('next', next_purch)\\\n",
    " .orderBy('prod_cat', 'date')\\\n",
    " .show()"
   ]
  },
  {
   "cell_type": "code",
   "execution_count": 103,
   "metadata": {
    "colab": {
     "base_uri": "https://localhost:8080/"
    },
    "id": "SnpUxR3CrBKm",
    "outputId": "3aef9cd0-914e-430f-87fa-0809acb6ca8a"
   },
   "outputs": [
    {
     "name": "stdout",
     "output_type": "stream",
     "text": [
      "+--------+-------+------+\n",
      "|category|   name|points|\n",
      "+--------+-------+------+\n",
      "|veterans|   John|  3000|\n",
      "|veterans|    Bob|  3200|\n",
      "|veterans|   Mary|  4000|\n",
      "|   young|   Jane|  4000|\n",
      "|   young|  April|  3100|\n",
      "|   young|  Alice|  3700|\n",
      "|   young|Micheal|  4000|\n",
      "+--------+-------+------+\n",
      "\n"
     ]
    }
   ],
   "source": [
    "contestants = spark.createDataFrame([\n",
    " ('veterans', 'John', 3000),\n",
    " ('veterans', 'Bob', 3200),\n",
    " ('veterans', 'Mary', 4000),\n",
    " ('young', 'Jane', 4000),\n",
    " ('young', 'April', 3100),\n",
    " ('young', 'Alice', 3700),\n",
    " ('young', 'Micheal', 4000),\n",
    " ], ['category', 'name', 'points'])\n",
    "contestants.show()"
   ]
  },
  {
   "cell_type": "code",
   "execution_count": 104,
   "metadata": {
    "colab": {
     "base_uri": "https://localhost:8080/"
    },
    "id": "v_WGNj1KrCPk",
    "outputId": "a647e6b0-228b-4df6-8f9b-de9a0c01255c"
   },
   "outputs": [
    {
     "name": "stdout",
     "output_type": "stream",
     "text": [
      "+--------+-------+------+----+----------+----------+\n",
      "|category|   name|points|rank|dense_rank|row_number|\n",
      "+--------+-------+------+----+----------+----------+\n",
      "|veterans|   Mary|  4000|   1|         1|         1|\n",
      "|veterans|    Bob|  3200|   2|         2|         2|\n",
      "|veterans|   John|  3000|   3|         3|         3|\n",
      "|   young|   Jane|  4000|   1|         1|         1|\n",
      "|   young|Micheal|  4000|   1|         1|         2|\n",
      "|   young|  Alice|  3700|   3|         2|         3|\n",
      "|   young|  April|  3100|   4|         3|         4|\n",
      "+--------+-------+------+----+----------+----------+\n",
      "\n"
     ]
    }
   ],
   "source": [
    "window = Window.partitionBy('category')\\\n",
    " .orderBy(contestants.points.desc())\n",
    "rank = fn.rank().over(window)\n",
    "dense_rank = fn.dense_rank().over(window)\n",
    "row_number = fn.row_number().over(window)\n",
    "contestants\\\n",
    " .withColumn('rank', rank)\\\n",
    " .withColumn('dense_rank', dense_rank)\\\n",
    " .withColumn('row_number', row_number)\\\n",
    " .orderBy('category', fn.col('points').desc())\\\n",
    " .show()"
   ]
  },
  {
   "cell_type": "markdown",
   "metadata": {
    "id": "7mZdm-RTrGXp"
   },
   "source": [
    "## III.4. Save DF"
   ]
  },
  {
   "cell_type": "code",
   "execution_count": 105,
   "metadata": {
    "id": "FtPHGJ6PrDZw"
   },
   "outputs": [],
   "source": [
    "products.write.csv('save/products.csv')\n",
    "products.write.mode('overwrite').parquet('save/file.parquet')\n",
    "products.write.format('parquet').save('save/file2.parquet')"
   ]
  },
  {
   "cell_type": "markdown",
   "metadata": {
    "id": "-ggEXSbsrJd3"
   },
   "source": [
    "# IV. Compare to Hadoop Mapreduce"
   ]
  },
  {
   "cell_type": "code",
   "execution_count": 106,
   "metadata": {
    "colab": {
     "base_uri": "https://localhost:8080/"
    },
    "id": "Z6rjCzWDrEhs",
    "outputId": "3fd7d29d-a213-4aa8-c3ab-02f756157cb8"
   },
   "outputs": [
    {
     "data": {
      "text/plain": [
       "[('The', 20),\n",
       " ('President', 42),\n",
       " ('of', 120),\n",
       " ('the', 253),\n",
       " ('United', 3),\n",
       " ('States', 3),\n",
       " ('occupies', 1),\n",
       " ('a', 57),\n",
       " ('position', 3),\n",
       " ('peculiar', 1),\n",
       " ('importance', 2),\n",
       " ('In', 8),\n",
       " ('whole', 3),\n",
       " ('world', 3),\n",
       " ('there', 13),\n",
       " ('is', 72),\n",
       " ('probably', 1),\n",
       " ('no', 8),\n",
       " ('other', 11),\n",
       " ('ruler', 2),\n",
       " ('certainly', 2),\n",
       " ('under', 9),\n",
       " ('free', 3),\n",
       " ('institutions', 1),\n",
       " ('whose', 4),\n",
       " ('power', 9),\n",
       " ('compares', 1),\n",
       " ('with', 21),\n",
       " ('his', 30),\n",
       " ('Of', 7),\n",
       " ('course', 8),\n",
       " ('despotic', 1),\n",
       " ('king', 1),\n",
       " ('has', 34),\n",
       " ('even', 4),\n",
       " ('more', 13),\n",
       " ('but', 16),\n",
       " ('constitutional', 2),\n",
       " ('monarch', 1),\n",
       " ('as', 26),\n",
       " ('much', 5),\n",
       " ('', 32),\n",
       " ('republics', 1),\n",
       " ('France', 1),\n",
       " ('and', 80),\n",
       " ('Switzerland', 1),\n",
       " ('not', 27),\n",
       " ('very', 7),\n",
       " ('important', 8),\n",
       " ('officer', 4),\n",
       " ('at', 6),\n",
       " ('least', 3),\n",
       " ('compared', 1),\n",
       " ('England', 1),\n",
       " ('sovereign', 1),\n",
       " ('less', 6),\n",
       " ('control', 1),\n",
       " ('in', 78),\n",
       " ('shaping', 1),\n",
       " ('policy', 3),\n",
       " ('nation', 8),\n",
       " ('Prime', 4),\n",
       " ('Minister', 4),\n",
       " ('occupying', 1),\n",
       " ('nearly', 1),\n",
       " ('analogous', 1),\n",
       " ('to', 93),\n",
       " ('that', 47),\n",
       " ('our', 11),\n",
       " ('however', 3),\n",
       " ('can', 17),\n",
       " ('any', 13),\n",
       " ('time', 5),\n",
       " ('be', 40),\n",
       " ('thrown', 1),\n",
       " ('out', 8),\n",
       " ('office', 11),\n",
       " ('by', 15),\n",
       " ('an', 12),\n",
       " ('adverse', 1),\n",
       " ('vote', 1),\n",
       " ('while', 4),\n",
       " ('only', 7),\n",
       " ('removed', 1),\n",
       " ('before', 2),\n",
       " ('term', 4),\n",
       " ('for', 30),\n",
       " ('some', 12),\n",
       " ('extraordinary', 1),\n",
       " ('crime', 1),\n",
       " ('or', 31),\n",
       " ('misdemeanor', 1),\n",
       " ('against', 3),\n",
       " ('case', 6),\n",
       " ('each', 7),\n",
       " ('enormous', 2),\n",
       " ('personal', 4),\n",
       " ('factor', 1),\n",
       " ('incumbent', 1),\n",
       " ('himself', 2),\n",
       " ('considered', 1),\n",
       " ('entirely', 6),\n",
       " ('apart', 2),\n",
       " ('from', 9),\n",
       " ('itself', 3),\n",
       " ('wielded', 2),\n",
       " ('Andrew', 1),\n",
       " ('Jackson', 2),\n",
       " ('was', 15),\n",
       " ('all', 14),\n",
       " ('proportion', 1),\n",
       " ('Buchanan', 1),\n",
       " ('although', 6),\n",
       " ('theory', 1),\n",
       " ('alike', 2),\n",
       " ('So', 3),\n",
       " ('strong', 1),\n",
       " ('may', 19),\n",
       " ('exert', 1),\n",
       " ('infinitely', 2),\n",
       " ('influence', 1),\n",
       " ('than', 8),\n",
       " ('weak', 1),\n",
       " ('vice', 1),\n",
       " ('versâ', 1),\n",
       " ('But', 12),\n",
       " ('this', 7),\n",
       " ('merely', 3),\n",
       " ('another', 2),\n",
       " ('way', 4),\n",
       " ('stating', 1),\n",
       " ('equation', 1),\n",
       " ('always', 8),\n",
       " ('vital', 2),\n",
       " ('consequence', 2),\n",
       " ('It', 8),\n",
       " ('customary', 1),\n",
       " ('speak', 2),\n",
       " ('framers', 1),\n",
       " ('Constitution', 4),\n",
       " ('having', 1),\n",
       " ('separated', 1),\n",
       " ('judicial', 1),\n",
       " ('legislative', 2),\n",
       " ('executive', 3),\n",
       " ('functions', 3),\n",
       " ('government', 2),\n",
       " ('separation', 1),\n",
       " ('respects', 1),\n",
       " ('sharply', 1),\n",
       " ('defined', 1),\n",
       " ('most', 12),\n",
       " ('upper', 1),\n",
       " ('branch', 1),\n",
       " ('national', 1),\n",
       " ('legislature', 1),\n",
       " ('shares', 1),\n",
       " ('one', 12),\n",
       " ('functions;', 1),\n",
       " ('either', 2),\n",
       " ('sign', 1),\n",
       " ('veto', 2),\n",
       " ('bills', 1),\n",
       " ('passed', 2),\n",
       " ('Congress', 10),\n",
       " ('on', 13),\n",
       " ('hand', 4),\n",
       " ('Senate', 5),\n",
       " ('confirms', 1),\n",
       " ('rejects', 1),\n",
       " ('nominations', 2),\n",
       " ('initiate', 1),\n",
       " ('legislation', 2),\n",
       " ('he', 47),\n",
       " ('recommend', 1),\n",
       " ('it', 33),\n",
       " ('unless', 1),\n",
       " ('two-thirds', 1),\n",
       " ('both', 4),\n",
       " ('branches', 1),\n",
       " ('are', 22),\n",
       " ('hostile', 1),\n",
       " ('him', 11),\n",
       " ('stop', 1),\n",
       " ('measure', 2),\n",
       " ('becoming', 1),\n",
       " ('law', 4),\n",
       " ('This', 4),\n",
       " ('varyingly', 1),\n",
       " ('used', 4),\n",
       " ('different', 2),\n",
       " ('Presidents', 8),\n",
       " ('exists', 1),\n",
       " ('must', 10),\n",
       " ('reckoned', 1),\n",
       " ('While', 2),\n",
       " ('session', 2),\n",
       " ('if', 10),\n",
       " ('neither', 1),\n",
       " ('signs', 1),\n",
       " ('nor', 2),\n",
       " ('vetoes', 1),\n",
       " ('bill', 4),\n",
       " ('which', 17),\n",
       " ('becomes', 3),\n",
       " ('without', 1),\n",
       " ('signature', 1),\n",
       " ('effect', 1),\n",
       " ('precisely', 1),\n",
       " ('same', 2),\n",
       " ('had', 5),\n",
       " ('signed', 1),\n",
       " ('who', 20),\n",
       " ('disapproved', 1),\n",
       " ('details', 1),\n",
       " ('felt', 1),\n",
       " ('advisable', 1),\n",
       " ('should', 3),\n",
       " ('become', 3),\n",
       " ('have', 21),\n",
       " ('times', 2),\n",
       " ('method', 1),\n",
       " ('emphasize', 1),\n",
       " ('fact', 7),\n",
       " ('they', 9),\n",
       " ('were', 5),\n",
       " ('satisfied', 1),\n",
       " ('yet', 3),\n",
       " ('unwilling', 1),\n",
       " ('A', 1),\n",
       " ('notable', 1),\n",
       " ('instance', 2),\n",
       " ('afforded', 1),\n",
       " ('Cleveland’s', 2),\n",
       " ('second', 3),\n",
       " ('when', 5),\n",
       " ('thus', 1),\n",
       " ('treated', 1),\n",
       " ('Wilson-Gorman', 1),\n",
       " ('tariff', 1),\n",
       " ('immense', 4),\n",
       " ('federal', 1),\n",
       " ('service', 2),\n",
       " ('including', 1),\n",
       " ('postal', 1),\n",
       " ('employees', 3),\n",
       " ('customs', 1),\n",
       " ('Indian', 1),\n",
       " ('agents', 1),\n",
       " ('marshals', 1),\n",
       " ('district', 1),\n",
       " ('attorneys', 1),\n",
       " ('navy-yard', 1),\n",
       " ('so', 10),\n",
       " ('forth', 1),\n",
       " ('would', 7),\n",
       " ('physical', 1),\n",
       " ('impossibility', 1),\n",
       " ('appoint', 2),\n",
       " ('individuals', 1),\n",
       " ('His', 3),\n",
       " ('direct', 2),\n",
       " ('lies', 1),\n",
       " ('over', 2),\n",
       " ('heads', 1),\n",
       " ('departments', 1),\n",
       " ('bureaus', 1),\n",
       " ('offices', 1),\n",
       " ('does', 3),\n",
       " ('these', 3),\n",
       " ('nominating', 1),\n",
       " ('rests', 1),\n",
       " ('confirm', 1),\n",
       " ('reject', 1),\n",
       " ('Senators', 4),\n",
       " ('advisers', 1),\n",
       " ('remembered', 3),\n",
       " ('Cabinet', 5),\n",
       " ('like', 7),\n",
       " ('head', 1),\n",
       " ('English', 1),\n",
       " ('Parliament', 1),\n",
       " ('Under', 1),\n",
       " ('Secretaries', 1),\n",
       " ('form', 2),\n",
       " ('strictest', 1),\n",
       " ('sense', 2),\n",
       " ('President’s', 12),\n",
       " ('own', 4),\n",
       " ('ministerial', 1),\n",
       " ('appointees;', 1),\n",
       " ('men', 6),\n",
       " ('chosen', 1),\n",
       " ('whom', 3),\n",
       " ('thinks', 2),\n",
       " ('best', 7),\n",
       " ('depute', 1),\n",
       " ('laborious', 1),\n",
       " ('duties', 2),\n",
       " ('advise', 1),\n",
       " ('matters', 5),\n",
       " ('general', 1),\n",
       " ('desires', 1),\n",
       " ('practice', 2),\n",
       " ('managing', 1),\n",
       " ('department', 2),\n",
       " ('do', 13),\n",
       " ('good', 6),\n",
       " ('work', 7),\n",
       " ('advice', 3),\n",
       " ('consultation', 2),\n",
       " ('will', 3),\n",
       " ('With', 1),\n",
       " ('obligatory', 1),\n",
       " ('mutually', 2),\n",
       " ('necessary', 3),\n",
       " ('appointment', 3),\n",
       " ('Every', 1),\n",
       " ('now', 1),\n",
       " ('then', 2),\n",
       " ('understand', 1),\n",
       " ('imperfectly', 1),\n",
       " ('raise', 1),\n",
       " ('outcry', 1),\n",
       " ('consulting', 1),\n",
       " ('talk', 1),\n",
       " ('about', 3),\n",
       " ('“usurping”', 1),\n",
       " ('These', 1),\n",
       " ('labor', 2),\n",
       " ('misapprehension', 1),\n",
       " ('right', 5),\n",
       " ('dictate', 1),\n",
       " ('shall', 2),\n",
       " ('appointed', 3),\n",
       " ('entire', 2),\n",
       " ('say', 1),\n",
       " ('been', 9),\n",
       " ('made', 3),\n",
       " ('their', 3),\n",
       " ('duty', 3),\n",
       " ('party', 3),\n",
       " ('system', 1),\n",
       " ('come', 1),\n",
       " ('recognized', 2),\n",
       " ('Senator', 3),\n",
       " ('special', 1),\n",
       " ('consulted', 1),\n",
       " ('appointments', 5),\n",
       " ('State', 4),\n",
       " ('political', 1),\n",
       " ('Often', 2),\n",
       " ('opponents', 1),\n",
       " ('agree', 1),\n",
       " ('matter', 5),\n",
       " ('sometimes', 1),\n",
       " ('exercise', 1),\n",
       " ('judgment', 2),\n",
       " ('finds', 1),\n",
       " ('desirable', 2),\n",
       " ('disregard', 1),\n",
       " ('together', 2),\n",
       " ('desire', 3),\n",
       " ('secure', 1),\n",
       " ('results', 1),\n",
       " ('many', 1),\n",
       " ('share', 2),\n",
       " ('responsibility', 1),\n",
       " ('individual', 1),\n",
       " ('actions', 1),\n",
       " ('also', 4),\n",
       " ('largely', 1),\n",
       " ('condition', 1),\n",
       " ('usefulness', 1),\n",
       " ('remains', 1),\n",
       " ('hands', 2),\n",
       " ('man', 8),\n",
       " ('country', 2),\n",
       " ('during', 1),\n",
       " ('holds', 2),\n",
       " ('office;', 1),\n",
       " ('upon', 4),\n",
       " ('heavy', 2),\n",
       " ('burden', 4),\n",
       " ('responsibility;', 1),\n",
       " ('certain', 3),\n",
       " ('crises', 3),\n",
       " ('great', 7),\n",
       " ('bear', 1),\n",
       " ('down', 2),\n",
       " ('strongest', 1),\n",
       " ('bravest', 1),\n",
       " ('easy', 1),\n",
       " ('enough', 1),\n",
       " ('give', 2),\n",
       " ('bad', 1),\n",
       " ('administration;', 1),\n",
       " ('administration', 4),\n",
       " ('demands', 6),\n",
       " ('anxious', 3),\n",
       " ('thought', 1),\n",
       " ('wearing', 1),\n",
       " ('endeavor', 1),\n",
       " ('unusual', 1),\n",
       " ('powers', 1),\n",
       " ('mind', 1),\n",
       " ('chances', 1),\n",
       " ('error', 1),\n",
       " ('limitless', 1),\n",
       " ('minor', 1),\n",
       " ('where', 1),\n",
       " ('nature', 1),\n",
       " ('absolutely', 3),\n",
       " ('inevitable', 1),\n",
       " ('rely', 1),\n",
       " ('others', 1),\n",
       " ('errors', 1),\n",
       " ('committed', 2),\n",
       " ('severest', 1),\n",
       " ('critics', 1),\n",
       " ('apt', 3),\n",
       " ('those', 4),\n",
       " ('know', 3),\n",
       " ('what', 8),\n",
       " ('done', 4),\n",
       " ('limitations', 1),\n",
       " ('aggregate', 2),\n",
       " ('quite', 1),\n",
       " ('wrong', 2),\n",
       " ('improper', 2),\n",
       " ('denunciation', 1),\n",
       " ('public', 3),\n",
       " ('servants', 1),\n",
       " ('well', 2),\n",
       " ('failure', 1),\n",
       " ('attack', 2),\n",
       " ('ill', 1),\n",
       " ('There', 1),\n",
       " ('every', 9),\n",
       " ('reason', 1),\n",
       " ('why', 1),\n",
       " ('whoever', 1),\n",
       " ('whatever', 3),\n",
       " ('belong', 1),\n",
       " ('held', 1),\n",
       " ('sharp', 1),\n",
       " ('accountability', 1),\n",
       " ('leaves', 1),\n",
       " ('undone', 1),\n",
       " ('we', 4),\n",
       " ('injure', 1),\n",
       " ('ourselves', 1),\n",
       " ('fail', 1),\n",
       " ('treat', 1),\n",
       " ('proper', 4),\n",
       " ('respect', 1),\n",
       " ('whether', 2),\n",
       " ('politically', 1),\n",
       " ('opposed', 1),\n",
       " ('us', 1),\n",
       " ('highest', 1),\n",
       " ('land', 1),\n",
       " ('striving', 1),\n",
       " ('according', 1),\n",
       " ('strength', 1),\n",
       " ('We', 3),\n",
       " ('acted', 1),\n",
       " ('weakly', 1),\n",
       " ('unwisely', 1),\n",
       " ('particular', 3),\n",
       " ('sum', 1),\n",
       " ('advantage', 1),\n",
       " ('Republic', 2),\n",
       " ('never', 4),\n",
       " ('concerning', 1),\n",
       " ('integrity', 3),\n",
       " ('shadow', 1),\n",
       " ('suspicion', 1),\n",
       " ('animated', 1),\n",
       " ('earnest', 1),\n",
       " ('possible', 2),\n",
       " ('could', 2),\n",
       " ('people', 12),\n",
       " ('large', 2),\n",
       " ('infirmity', 1),\n",
       " ('purpose', 1),\n",
       " ('wrong-headedness', 1),\n",
       " ('mar', 1),\n",
       " ('sincerity', 1),\n",
       " ('intention;', 1),\n",
       " ('intentions', 1),\n",
       " ('existed', 1),\n",
       " ('Presidential', 1),\n",
       " ('chair', 1),\n",
       " ('did', 2),\n",
       " ('sincerely', 1),\n",
       " ('benefit', 1),\n",
       " ('ambitions', 1),\n",
       " ('honorable', 1),\n",
       " ('said', 2),\n",
       " ('aspirants', 1),\n",
       " ('place', 4),\n",
       " ('such', 5),\n",
       " ('Aaron', 1),\n",
       " ('Burr', 1),\n",
       " ('Corruption', 1),\n",
       " ('gross', 1),\n",
       " ('word', 1),\n",
       " ('ordinary', 2),\n",
       " ('conversation', 1),\n",
       " ('unknown', 1),\n",
       " ('among', 1),\n",
       " ('exceedingly', 1),\n",
       " ('rare', 1),\n",
       " ('Cabinets', 1),\n",
       " ('Inefficiency', 1),\n",
       " ('due', 4),\n",
       " ('lack', 1),\n",
       " ('will-power', 1),\n",
       " ('sheer', 1),\n",
       " ('deficiency', 1),\n",
       " ('wisdom', 1),\n",
       " ('yielding', 1),\n",
       " ('pressure', 3),\n",
       " ('politicians', 1),\n",
       " ('kinds', 1),\n",
       " ('often', 5),\n",
       " ('found', 1),\n",
       " ('democracy', 1),\n",
       " ('far', 2),\n",
       " ('uncommon', 1),\n",
       " ('deliberate', 1),\n",
       " ('moral', 1),\n",
       " ('obliquity', 1),\n",
       " ('little', 2),\n",
       " ('indeed', 1),\n",
       " ('easiest', 1),\n",
       " ('quietest', 1),\n",
       " ('peaceful', 1),\n",
       " ('sure', 4),\n",
       " ('tasks', 2),\n",
       " ('simple', 1),\n",
       " ('question', 2),\n",
       " ('revenue', 2),\n",
       " ('expenditure', 5),\n",
       " ('average', 3),\n",
       " ('household', 1),\n",
       " ('looks', 1),\n",
       " ('accountable', 1),\n",
       " ('mistaken', 1),\n",
       " ('belief', 1),\n",
       " ('money', 1),\n",
       " ('simply', 2),\n",
       " ('taste', 1),\n",
       " ('recklessness', 1),\n",
       " ('extravagance', 1),\n",
       " ('part', 3),\n",
       " ('people’s', 1),\n",
       " ('representatives', 2),\n",
       " ('long', 1),\n",
       " ('run', 1),\n",
       " ('try', 1),\n",
       " ('effectively', 1),\n",
       " ('want', 1),\n",
       " ('trouble', 2),\n",
       " ('group', 2),\n",
       " ('groups', 2),\n",
       " ('taken', 1),\n",
       " ('still', 1),\n",
       " ('strongly', 1),\n",
       " ('interest', 4),\n",
       " ('keeping', 2),\n",
       " ('expenditures', 2),\n",
       " ('up', 3),\n",
       " ('usually', 2),\n",
       " ('save', 3),\n",
       " ('make', 1),\n",
       " ('impossible', 1),\n",
       " ('go', 1),\n",
       " ('into', 4),\n",
       " ('them', 2),\n",
       " ('deal', 1),\n",
       " ('thing', 2),\n",
       " ('demand', 2),\n",
       " ('consumptive', 1),\n",
       " ('hospital', 1),\n",
       " ('pensions', 2),\n",
       " ('veterans', 1),\n",
       " ('building', 1),\n",
       " ('armory', 1),\n",
       " ('cleaning', 1),\n",
       " ('harbor', 1),\n",
       " ('starting', 1),\n",
       " ('irrigation', 1),\n",
       " ('interested', 1),\n",
       " ('motives', 1),\n",
       " ('sincere', 1),\n",
       " ('strenuous', 1),\n",
       " ('advocacy', 1),\n",
       " ('scale', 3),\n",
       " ('Governor', 1),\n",
       " ('small', 2),\n",
       " ('balance', 1),\n",
       " ('Treasury', 2),\n",
       " ('capacities', 1),\n",
       " ('Whichever', 1),\n",
       " ('decides', 1),\n",
       " ('think', 2),\n",
       " ('tipped', 1),\n",
       " ('point', 2),\n",
       " ('view', 2),\n",
       " ('conscientiously', 1),\n",
       " ('it;', 1),\n",
       " ('whereas', 1),\n",
       " ('equal', 1),\n",
       " ('conscientiousness', 1),\n",
       " ('strike', 1),\n",
       " ('niggardly', 1),\n",
       " ('toward', 1),\n",
       " ('worthy', 1),\n",
       " ('objects', 1),\n",
       " ('lay', 1),\n",
       " ('too', 1),\n",
       " ('taxation', 1),\n",
       " ('Inasmuch', 1),\n",
       " ('questions', 1),\n",
       " ('met', 1),\n",
       " ('year', 2),\n",
       " ('connection', 3),\n",
       " ('readily', 1),\n",
       " ('seen', 1),\n",
       " ('every-day', 1),\n",
       " ('responsibilities', 1),\n",
       " ('light', 1),\n",
       " ('order', 2),\n",
       " ('Entirely', 1),\n",
       " ('higher', 1),\n",
       " ('conflicting', 1),\n",
       " ('interests', 1),\n",
       " ('somehow', 1),\n",
       " ('reconciled', 1),\n",
       " ('capacity', 1),\n",
       " ('Here', 1),\n",
       " ('again', 2),\n",
       " ('means', 1),\n",
       " ('call', 1),\n",
       " ('politics', 2),\n",
       " ('Where', 1),\n",
       " ('really', 4),\n",
       " ('serious', 1),\n",
       " ('conflict', 1),\n",
       " ('reference', 1),\n",
       " ('factional', 1),\n",
       " ('fight', 1),\n",
       " ('because', 4),\n",
       " ('two', 4),\n",
       " ('supporters', 1),\n",
       " ('differ', 1),\n",
       " ('radically', 1),\n",
       " ('honestly', 1),\n",
       " ('policy;', 1),\n",
       " ('decision', 1),\n",
       " ('help', 2),\n",
       " ('arousing', 1),\n",
       " ('dissatisfaction', 1),\n",
       " ('One', 4),\n",
       " ('policies', 1),\n",
       " ('normally', 1),\n",
       " ('routine', 1),\n",
       " ('unimportant', 1),\n",
       " ('suddenly', 1),\n",
       " ('For', 2),\n",
       " ('War', 7),\n",
       " ('Department', 1),\n",
       " ('utterly', 1),\n",
       " ('neglected', 1),\n",
       " ('thirty', 1),\n",
       " ('years', 2),\n",
       " ('after', 5),\n",
       " ('Civil', 1),\n",
       " ('neglect', 1),\n",
       " ('successive', 1),\n",
       " ('themselves', 2),\n",
       " ('take', 1),\n",
       " ('army', 6),\n",
       " ('Neither', 1),\n",
       " ('regular', 3),\n",
       " ('soldier', 1),\n",
       " ('takes', 2),\n",
       " ('rule', 1),\n",
       " ('demagogue', 1),\n",
       " ('bread-and-butter', 1),\n",
       " ('politician', 1),\n",
       " ('fear', 1),\n",
       " ('vote;', 1),\n",
       " ('cheap', 1),\n",
       " ('sensational', 1),\n",
       " ('newspaper', 1),\n",
       " ('offers', 1),\n",
       " ('favorite', 1),\n",
       " ('subject', 1),\n",
       " ('happens', 1),\n",
       " ('amiable', 1),\n",
       " ('get', 1),\n",
       " ('afraid', 1),\n",
       " ('idea', 1),\n",
       " ('liberties', 1),\n",
       " ('I', 1),\n",
       " ('am', 1),\n",
       " ('menace', 1),\n",
       " ('anybody', 1),\n",
       " ('America’s', 1),\n",
       " ('foes', 1),\n",
       " ('aught', 1),\n",
       " ('source', 1),\n",
       " ('pride', 1),\n",
       " ('far-sighted', 1),\n",
       " ('American', 2),\n",
       " ('actual', 2),\n",
       " ('danger', 1),\n",
       " ('facts', 1),\n",
       " ('brought', 1),\n",
       " ('home', 1),\n",
       " ('vividly', 1),\n",
       " ('minds', 1),\n",
       " ('receive', 2),\n",
       " ('its', 1),\n",
       " ('attention', 1),\n",
       " ('emergency', 1),\n",
       " ('caused', 2),\n",
       " ('Spanish', 2),\n",
       " ('arises', 1),\n",
       " ('Secretary', 1),\n",
       " ('steps', 1),\n",
       " ('foremost', 1),\n",
       " ('once', 1),\n",
       " ('generation', 1),\n",
       " ('crisis', 1),\n",
       " ('Mexican', 1),\n",
       " ('1812', 1),\n",
       " ('confronted', 2),\n",
       " ('almost', 2),\n",
       " ('lesser', 1),\n",
       " ('arise', 1),\n",
       " ('They', 1),\n",
       " ('foreign', 1),\n",
       " ('affairs', 2),\n",
       " ('Chilean', 1),\n",
       " ('Harrison’s', 1),\n",
       " ('Venezuelan', 1),\n",
       " ('Boxer', 1),\n",
       " ('uprising', 1),\n",
       " ('China', 1),\n",
       " ('last', 1),\n",
       " ('Much', 1),\n",
       " ('relate', 1),\n",
       " ('domestic', 2),\n",
       " ('disastrous', 1),\n",
       " ('panic', 1),\n",
       " ('produces', 1),\n",
       " ('terrible', 1),\n",
       " ('social', 1),\n",
       " ('industrial', 1),\n",
       " ('convulsions', 1),\n",
       " ('Whatever', 1),\n",
       " ('problem', 1),\n",
       " ('got', 1),\n",
       " ('meet', 1),\n",
       " ('kind', 1),\n",
       " ('solution', 1),\n",
       " ('midwinter', 1),\n",
       " ('midsummer', 1),\n",
       " ('sitting', 1),\n",
       " ('absent', 1),\n",
       " ('ready', 1),\n",
       " ('devote', 1),\n",
       " ('waking', 1),\n",
       " ('hour', 1),\n",
       " ('worrying', 1),\n",
       " ('harassing', 2),\n",
       " ('difficult', 1),\n",
       " ('decide', 2),\n",
       " ('imperative', 1),\n",
       " ('immediately', 1),\n",
       " ('An', 1),\n",
       " ('addition', 1),\n",
       " ('well-meaning', 1),\n",
       " ('ask', 1),\n",
       " ('possibly', 1),\n",
       " ('first', 2),\n",
       " ('few', 2),\n",
       " ('weeks', 1),\n",
       " ('inauguration', 1),\n",
       " ('new', 1),\n",
       " ('fifteen', 1),\n",
       " ('hundred', 2),\n",
       " ('letters', 3),\n",
       " ('day', 1),\n",
       " ('mail', 3),\n",
       " ('read', 3),\n",
       " ('letter', 2),\n",
       " ('rarely', 2),\n",
       " ('ten', 1),\n",
       " ('Even', 1),\n",
       " ('private', 1),\n",
       " ('secretary', 1),\n",
       " ('fraction', 1),\n",
       " ('glad', 1),\n",
       " ('see', 1),\n",
       " ('swamped', 1),\n",
       " ('mass', 1),\n",
       " ('notes', 1),\n",
       " ('warning', 1),\n",
       " ('charity', 1),\n",
       " ('requests', 4),\n",
       " ('conceivable', 1),\n",
       " ('character', 1),\n",
       " ('“cranks”', 1),\n",
       " ('numerous', 1),\n",
       " ('whenever', 1),\n",
       " ('statement', 1),\n",
       " ('pecuniary', 1),\n",
       " ('aid', 1),\n",
       " ('received', 1),\n",
       " ('single', 1),\n",
       " ('fortnight', 1),\n",
       " ('complied', 1),\n",
       " ('eaten', 1),\n",
       " ('considerably', 1),\n",
       " ('year’s', 1),\n",
       " ('salary', 1),\n",
       " ('frequently', 1),\n",
       " ('comply', 1),\n",
       " ('making', 2),\n",
       " ('discrimination;', 1),\n",
       " ('none', 1),\n",
       " ('rather', 1),\n",
       " ('sad', 1),\n",
       " ('feature', 1),\n",
       " ('life', 3),\n",
       " ('difficulty', 1),\n",
       " ('friends', 1),\n",
       " ('inevitably', 1),\n",
       " ('friend', 1),\n",
       " ('applies', 1),\n",
       " ('obliged', 1),\n",
       " ('refuse', 1),\n",
       " ('feels', 2),\n",
       " ('injured', 1),\n",
       " ('Those', 1),\n",
       " ('closest', 1),\n",
       " ('Abraham', 1),\n",
       " ('Lincoln', 1),\n",
       " ('things', 2),\n",
       " ('concerned', 1),\n",
       " ('hardly', 1),\n",
       " ('allude', 1),\n",
       " ('well-known', 1),\n",
       " ('gratify', 1),\n",
       " ('hundredth', 1),\n",
       " ('rendered', 1),\n",
       " ('real', 1),\n",
       " ('services', 1),\n",
       " ('fit', 3),\n",
       " ('fill', 1),\n",
       " ('seek', 1),\n",
       " ('somebody', 1),\n",
       " ('else', 1),\n",
       " ('realize', 1),\n",
       " ('successful', 1),\n",
       " ('rival', 1),\n",
       " ('goes', 4),\n",
       " ('away', 1),\n",
       " ('sour', 1),\n",
       " ('embittered', 1),\n",
       " ('ingratitude', 1),\n",
       " ('Perhaps', 1),\n",
       " ('striking', 1),\n",
       " ('Presidency', 2),\n",
       " ('place;', 1),\n",
       " ('soon', 1),\n",
       " ('ceased', 1),\n",
       " ('being', 1),\n",
       " ('back', 1),\n",
       " ('body', 1),\n",
       " ('just', 1),\n",
       " ('citizen', 2),\n",
       " ('half-dozen', 1),\n",
       " ('persons', 1),\n",
       " ('throughout', 1),\n",
       " ('affect', 2),\n",
       " ('destinies', 1),\n",
       " ('He', 1),\n",
       " ('set', 1),\n",
       " ('fleets', 1),\n",
       " ('armies', 1),\n",
       " ('motion;', 1),\n",
       " ('absolute', 1),\n",
       " ('sovereigns', 1),\n",
       " ('welfare', 1),\n",
       " ('happiness', 1),\n",
       " ('scores', 1),\n",
       " ('millions', 1),\n",
       " ('Then', 1),\n",
       " ('round', 1),\n",
       " ('advanced', 1),\n",
       " ('age', 1),\n",
       " ('retires', 1),\n",
       " ('active', 2),\n",
       " ('rest', 2),\n",
       " ('worked', 1),\n",
       " ('hard', 1),\n",
       " ('earn', 1),\n",
       " ('John', 1),\n",
       " ('Quincy', 1),\n",
       " ('Adams', 1),\n",
       " ('leaving', 1),\n",
       " ('entered', 1),\n",
       " ('Congressman', 1),\n",
       " ('achieved', 1),\n",
       " ('conspicuous', 1),\n",
       " ('successes', 1),\n",
       " ('Lower', 1),\n",
       " ('House', 1),\n",
       " ('unique', 1),\n",
       " ('Many', 1),\n",
       " ('followed', 1),\n",
       " ('examples', 1),\n",
       " ('Jefferson', 1),\n",
       " ('retired', 2),\n",
       " ('Monticello', 1),\n",
       " ('Hermitage', 1),\n",
       " ('Others', 1),\n",
       " ('gone', 2),\n",
       " ('practicing', 1),\n",
       " ('lawyers', 1),\n",
       " ('lecturers', 1),\n",
       " ('business', 1),\n",
       " ('philanthropy', 1),\n",
       " ('During', 1),\n",
       " ('incumbency', 1),\n",
       " ('tendency', 1),\n",
       " ('perhaps', 2),\n",
       " ('exaggerate', 1),\n",
       " ('virtues', 1),\n",
       " ('faults', 1),\n",
       " ('When', 1),\n",
       " ('citizens', 1),\n",
       " ('rôle', 1),\n",
       " ('played', 1),\n",
       " ('True', 1),\n",
       " ('perspective', 1),\n",
       " ('gained', 1),\n",
       " ('until', 1),\n",
       " ('Altogether', 1),\n",
       " ('harder', 1),\n",
       " ('filling', 1),\n",
       " ('ably', 1),\n",
       " ('ceaseless', 1),\n",
       " ('worry', 1),\n",
       " ('anxiety', 1),\n",
       " ('beyond', 1),\n",
       " ('description', 1),\n",
       " ('close', 1),\n",
       " ('able', 1),\n",
       " ('feel', 1),\n",
       " ('well;', 1),\n",
       " ('solved', 1),\n",
       " ('fashion', 1),\n",
       " ('capable', 1),\n",
       " ('problems', 1),\n",
       " ('kept', 1),\n",
       " ('clean', 1),\n",
       " ('running', 1),\n",
       " ('governmental', 1),\n",
       " ('machinery', 1),\n",
       " ('mighty', 1),\n",
       " ('satisfaction', 1),\n",
       " ('feeling', 1),\n",
       " ('performed', 1),\n",
       " ('world-tasks', 1),\n",
       " ('mere', 1),\n",
       " ('performance', 1),\n",
       " ('greatest', 1),\n",
       " ('rewards', 1)]"
      ]
     },
     "execution_count": 106,
     "metadata": {},
     "output_type": "execute_result"
    }
   ],
   "source": [
    "text_file = spark.sparkContext.textFile(\"data/input.txt\")\n",
    "counts = text_file.flatMap(lambda line: line.split(\" \")) \\\n",
    "             .map(lambda word: (word, 1)) \\\n",
    "             .reduceByKey(lambda a, b: a + b)\n",
    "counts.collect()"
   ]
  },
  {
   "cell_type": "markdown",
   "metadata": {
    "id": "DxOuxVFlthT0"
   },
   "source": [
    "![Screenshot 2024-10-14 181413.png](data:image/png;base64,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)"
   ]
  },
  {
   "cell_type": "markdown",
   "metadata": {
    "id": "HPvHpLMmpmmC"
   },
   "source": [
    "=> Spark need 1s | Hadoop need ~ 28s"
   ]
  },
  {
   "cell_type": "markdown",
   "metadata": {
    "id": "jzpTtS83ryWg"
   },
   "source": [
    "Criterion | Spark     | Hadoop Mapreduce\n",
    "----------|-----------|-----------------\n",
    "Code      | Shorter   | Longer\n",
    "Time      | Faster    | Slower\n",
    "\n"
   ]
  },
  {
   "cell_type": "code",
   "execution_count": 106,
   "metadata": {
    "id": "7KGHyo2NrUMM"
   },
   "outputs": [],
   "source": []
  }
 ],
 "metadata": {
  "colab": {
   "provenance": []
  },
  "kernelspec": {
   "display_name": "Python 3",
   "name": "python3"
  },
  "language_info": {
   "name": "python"
  }
 },
 "nbformat": 4,
 "nbformat_minor": 0
}
