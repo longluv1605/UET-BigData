{
 "cells": [
  {
   "cell_type": "markdown",
   "id": "725e862c",
   "metadata": {},
   "source": [
    "# Section 5: Using aggregation pipelines"
   ]
  },
  {
   "cell_type": "markdown",
   "id": "a296490d",
   "metadata": {},
   "source": [
    "<div class=\"alert alert-block alert-info\">\n",
    "   \n",
    "## Jupyter Notebook basics\n",
    "\n",
    "- **Code cells:** Cells shaded grey are code cells. As you work through the lab, run all code cells in order.\n",
    "- **Running code:** To run code, press Shift + Enter or click the 'Run' button on the menu bar. Where there is code already in a cell, run it as written. Where a code cell contains the comment `#Write your code here`, write code to complete the task & then run it. If needed, consult the hints & answer to enter and run the correct entry for a task before moving on to the next task. Not every command will result in visible output.\n",
    "- **Markdown cells:** The non-code cells are written in the Markdown markup language. Double-clicking a Markdown cell will cause it to appear in raw Markdown format. To render as text again, run the cell just like running a code cell: press Shift + Enter or click the 'Run' button on the menu bar.  \n",
    "- **Restarting kernel:** If the notebook becomes unresponsive, or if either the notebook or your code displays unexpected behavior, reset the notebook by choosing \"Kernel -> Restart & Clear Output\" from the menu bar. This will clear all memory objects in the notebook, stop any code running, and reset the notebook to its initial state. \n",
    "- **Session timeout:** Sessions will automatically shut down after about 10 minutes of inactivity. (If you leave a lab window open in the foreground, this will generally be counted as “activity”.) See Binder docs: [How long will my Binder session last?](https://mybinder.readthedocs.io/en/latest/about/about.html?highlight=session%20last#how-long-will-my-binder-session-last)\n",
    "- **File navigation:** To navigate the other files in this lab, click on the folder icon (File Browser) at the top of the left sidebar and choose the `Contents.ipynb` file (or access the Contents file directly [here](../Contents.ipynb))\n",
    "\n",
    "</div>"
   ]
  },
  {
   "cell_type": "markdown",
   "id": "7aa0b5e8",
   "metadata": {},
   "source": [
    "## Introduction\n",
    "\n",
    "In this section you'll use aggregation pipelines to do more complex data processing and work with documents across multiple collections in a database. Specifically, you'll:\n",
    "\n",
    "- Create aggregations using the `$match`, `$group`, `$sort`, `$limit`, `$unwind`, and `$project` stages  \n",
    "- Create aggregations using the `$sum` and `$avg` aggregation operators\n",
    "- Build an aggregation pipeline that joins data across two collections in the same database using the `$lookup` operator\n",
    "\n",
    "The four tasks in this section are written with varying levels of scaffolding support for creating the aggregation pipelines. While the first two tasks provide support on identifying and coding the stages of an aggregation pipeline, by the end of the of the section you'll be writing aggregation pipelines on your own. "
   ]
  },
  {
   "cell_type": "markdown",
   "id": "d920ab0d",
   "metadata": {},
   "source": [
    "## Setup \n",
    "\n",
    "Before starting on the tasks below, run the following cells. \n",
    "\n",
    "This sets up a new MongoDB client, connects it to the MongoDB server instance and sets up to query the `sample_mflix` database.  "
   ]
  },
  {
   "cell_type": "code",
   "execution_count": 1,
   "id": "bb7ce4e5",
   "metadata": {},
   "outputs": [],
   "source": [
    "from pymongo import MongoClient\n",
    "client = MongoClient()\n",
    "db = client.mydatabase"
   ]
  },
  {
   "cell_type": "markdown",
   "id": "c2cbf306",
   "metadata": {},
   "source": [
    "Run the cell below, which imports the Python `pprint` module and method. You'll use `pprint` to print output in a more readable format. "
   ]
  },
  {
   "cell_type": "code",
   "execution_count": 2,
   "id": "c38162fc",
   "metadata": {},
   "outputs": [],
   "source": [
    "# Import the pprint method from the native Python pprint library\n",
    "from pprint import pprint"
   ]
  },
  {
   "cell_type": "markdown",
   "id": "fba67167",
   "metadata": {},
   "source": [
    "## Tasks"
   ]
  },
  {
   "cell_type": "markdown",
   "id": "9b65ac1d",
   "metadata": {},
   "source": [
    "### 1. Create an aggregation with `$match`, `$sort`, and `$limit` stages  \n",
    "Using an aggregation pipeline, return the document for the movie that won the most awards in 2014."
   ]
  },
  {
   "cell_type": "code",
   "execution_count": 3,
   "id": "8fd13e99",
   "metadata": {},
   "outputs": [],
   "source": [
    "# Replace the blanks below with the missing code"
   ]
  },
  {
   "cell_type": "code",
   "execution_count": 4,
   "id": "b86bd394",
   "metadata": {},
   "outputs": [],
   "source": [
    "stage_match_year = { \n",
    "    '$match': {'year': 2014}\n",
    "}"
   ]
  },
  {
   "cell_type": "code",
   "execution_count": 5,
   "id": "bb1cb64f",
   "metadata": {},
   "outputs": [],
   "source": [
    "stage_sort_awards_desc = {\n",
    "    '$sort' : {'awards.wins': -1}\n",
    "}"
   ]
  },
  {
   "cell_type": "code",
   "execution_count": 6,
   "id": "2402350f",
   "metadata": {},
   "outputs": [],
   "source": [
    "stage_limit_1 = {\n",
    "    '$limit' : 1\n",
    "}"
   ]
  },
  {
   "cell_type": "code",
   "execution_count": 7,
   "id": "5f47d3ac",
   "metadata": {},
   "outputs": [],
   "source": [
    "pipeline = [\n",
    "    stage_match_year,\n",
    "    stage_sort_awards_desc,\n",
    "    stage_limit_1,\n",
    "]"
   ]
  },
  {
   "cell_type": "code",
   "execution_count": 8,
   "id": "eaa55542",
   "metadata": {},
   "outputs": [
    {
     "name": "stdout",
     "output_type": "stream",
     "text": [
      "{'_id': ObjectId('573a13dff29313caabdb7adb'),\n",
      " 'awards': {'nominations': 183,\n",
      "            'text': 'Won 4 Oscars. Another 206 wins & 183 nominations.',\n",
      "            'wins': 210},\n",
      " 'cast': ['Michael Keaton', 'Emma Stone', 'Kenny Chin', 'Jamahl Garrison-Lowe'],\n",
      " 'countries': ['USA'],\n",
      " 'directors': ['Alejandro Gonzèlez Ièèrritu'],\n",
      " 'genres': ['Comedy', 'Drama'],\n",
      " 'imdb': {'id': 2562232, 'rating': 7.8, 'votes': 304963},\n",
      " 'languages': ['English'],\n",
      " 'plot': 'Illustrated upon the progress of his latest Broadway play, a former '\n",
      "         \"popular actor's struggle to cope with his current life as a wasted \"\n",
      "         'actor is shown.',\n",
      " 'rated': 'R',\n",
      " 'released': datetime.datetime(2014, 11, 14, 0, 0),\n",
      " 'runtime': 119,\n",
      " 'title': 'Birdman: Or (The Unexpected Virtue of Ignorance)',\n",
      " 'year': 2014}\n"
     ]
    }
   ],
   "source": [
    "result = db.movies.aggregate(pipeline)\n",
    "\n",
    "for movie in result:\n",
    "    pprint(movie)"
   ]
  },
  {
   "cell_type": "markdown",
   "id": "ba1738bb",
   "metadata": {},
   "source": [
    "#### <span style=\"color:blue\">Hints</span>\n",
    "- If you need a reminder of the field names used in the `movies` collection, run `db.movies.find_one()` to see an example document.\n",
    "- The pipeline consists of the aggregation stages.\n",
    "- Related docs: [Getting Started with Aggregation Pipelines in Python](https://www.mongodb.com/developer/quickstart/python-quickstart-aggregation/), [`$match`](https://docs.mongodb.com/manual/reference/operator/aggregation/match/#mongodb-pipeline-pipe.-match), [`$sort`](https://docs.mongodb.com/manual/reference/operator/aggregation/sort/), [`$limit`](https://docs.mongodb.com/manual/reference/operator/aggregation/limit/)"
   ]
  },
  {
   "cell_type": "markdown",
   "id": "514eea65",
   "metadata": {},
   "source": [
    "### 2. Create an aggregation with `$match`, `$group`, and `$sort` stages. Use the `$sum` operator. \n",
    "\n",
    "How many PG-13 movies does the database contain for each year? Order the results by the number of PG-13 movies, from most to least. "
   ]
  },
  {
   "cell_type": "code",
   "execution_count": 9,
   "id": "16a791aa",
   "metadata": {},
   "outputs": [],
   "source": [
    "stage_match_rating = { \n",
    "    # Write your code here\n",
    "    '$match': {'rated': 'PG-13'}\n",
    "}"
   ]
  },
  {
   "cell_type": "code",
   "execution_count": 10,
   "id": "503b3149",
   "metadata": {},
   "outputs": [],
   "source": [
    "stage_group_by_year = { \n",
    "    # Write your code here \n",
    "    '$group': {\n",
    "        '_id': '$year',\n",
    "        'pg13_count': {'$sum': 1}\n",
    "    }\n",
    "}"
   ]
  },
  {
   "cell_type": "code",
   "execution_count": 11,
   "id": "22da343f",
   "metadata": {},
   "outputs": [],
   "source": [
    "stage_sort_by_rating_desc = {\n",
    "    # Write your code here\n",
    "    \"$sort\": { \"pg13_count\": -1 }\n",
    "}"
   ]
  },
  {
   "cell_type": "code",
   "execution_count": 12,
   "id": "f8a0f65c",
   "metadata": {},
   "outputs": [],
   "source": [
    "pipeline = [\n",
    "     # Write your code here\n",
    "     stage_match_rating,\n",
    "     stage_group_by_year,\n",
    "     stage_sort_by_rating_desc\n",
    "]"
   ]
  },
  {
   "cell_type": "code",
   "execution_count": 13,
   "id": "a716d6db",
   "metadata": {},
   "outputs": [
    {
     "name": "stdout",
     "output_type": "stream",
     "text": [
      "{'_id': 2008, 'pg13_count': 125}\n",
      "{'_id': 2011, 'pg13_count': 123}\n",
      "{'_id': 2013, 'pg13_count': 116}\n",
      "{'_id': 2014, 'pg13_count': 116}\n",
      "{'_id': 2007, 'pg13_count': 114}\n",
      "{'_id': 2004, 'pg13_count': 112}\n",
      "{'_id': 2006, 'pg13_count': 111}\n",
      "{'_id': 2012, 'pg13_count': 110}\n",
      "{'_id': 2005, 'pg13_count': 106}\n",
      "{'_id': 2009, 'pg13_count': 100}\n",
      "{'_id': 2010, 'pg13_count': 96}\n",
      "{'_id': 2002, 'pg13_count': 92}\n",
      "{'_id': 2003, 'pg13_count': 90}\n",
      "{'_id': 2001, 'pg13_count': 84}\n",
      "{'_id': 2015, 'pg13_count': 33}\n"
     ]
    }
   ],
   "source": [
    "# Replace the blanks below with the missing code\n",
    "\n",
    "result = db.movies.aggregate(pipeline)\n",
    "\n",
    "for doc in result:\n",
    "    pprint(doc)"
   ]
  },
  {
   "cell_type": "markdown",
   "id": "145f3ffe",
   "metadata": {},
   "source": [
    "#### <span style=\"color:blue\">Hints</span>\n",
    "- In the `$group` stage, group by year and create a field for the numer of movies for each year. \n",
    "- Use the `$sum` operator in the `$group` stage to increment the count of movies for each year.\n",
    "- In the `$sort` stage, use `-1` as the direction parameter to sort in descending order.\n",
    "- Related docs: [Getting Started with Aggregation Pipelines in Python](https://www.mongodb.com/developer/quickstart/python-quickstart-aggregation/), [`$match`](https://docs.mongodb.com/manual/reference/operator/aggregation/match/#mongodb-pipeline-pipe.-match), [`$group`](https://docs.mongodb.com/manual/reference/operator/aggregation/group/), [`$limit`](https://docs.mongodb.com/manual/reference/operator/aggregation/limit/), [`$sum`](https://docs.mongodb.com/manual/reference/operator/aggregation/sum/)"
   ]
  },
  {
   "cell_type": "markdown",
   "id": "809c5cf1",
   "metadata": {},
   "source": [
    "### 3. Create an aggregation with `$unwind`, `$group`,  `$sort` and `$limit` stages. Use the `$avg` operator.\n",
    "\n",
    "Find the director who has the highest average IMDB rating over all of their movies in the `movies` database. "
   ]
  },
  {
   "cell_type": "code",
   "execution_count": 14,
   "id": "7b0d63d1",
   "metadata": {},
   "outputs": [],
   "source": [
    "# Write your code here \n",
    "stage_unwind_directors = { \n",
    "    \"$unwind\": \"$directors\"  # Unwind the 'directors' array to process each director separately\n",
    "}"
   ]
  },
  {
   "cell_type": "code",
   "execution_count": 15,
   "id": "4059f739",
   "metadata": {},
   "outputs": [],
   "source": [
    "# Write your code here \n",
    "stage_group_directors = {\n",
    "    \"$group\": {\n",
    "        \"_id\": \"$directors\",  # Group by director\n",
    "        \"average_rating\": { \"$avg\": \"$imdb.rating\" }  # Calculate the average IMDB rating for each director\n",
    "    }\n",
    "}\n"
   ]
  },
  {
   "cell_type": "code",
   "execution_count": 16,
   "id": "4353106c",
   "metadata": {},
   "outputs": [],
   "source": [
    "# Write your code here \n",
    "stage_sort_avg_rating_desc = {\n",
    "    \"$sort\": { \"average_rating\": -1 }  # Sort directors by average IMDB rating in descending order\n",
    "}\n"
   ]
  },
  {
   "cell_type": "code",
   "execution_count": 17,
   "id": "3c9c9858",
   "metadata": {},
   "outputs": [],
   "source": [
    "# Write your code here \n",
    "stage_limit_1 = {\n",
    "    \"$limit\": 1  # Limit to the top director with the highest average rating\n",
    "}\n"
   ]
  },
  {
   "cell_type": "code",
   "execution_count": 18,
   "id": "63a299e2",
   "metadata": {},
   "outputs": [],
   "source": [
    "# Write your code here \n",
    "pipeline = [\n",
    "    stage_unwind_directors,\n",
    "    stage_group_directors,\n",
    "    stage_sort_avg_rating_desc,\n",
    "    stage_limit_1\n",
    "]\n"
   ]
  },
  {
   "cell_type": "code",
   "execution_count": 19,
   "id": "e565e8e1",
   "metadata": {},
   "outputs": [
    {
     "name": "stdout",
     "output_type": "stream",
     "text": [
      "{'_id': 'Sara Hirsh Bordo', 'average_rating': 9.4}\n"
     ]
    }
   ],
   "source": [
    "# Write your code here \n",
    "result = db.movies.aggregate(pipeline)\n",
    "\n",
    "# Print the result\n",
    "for doc in result:\n",
    "    print(doc)"
   ]
  },
  {
   "cell_type": "markdown",
   "id": "113ffff6",
   "metadata": {},
   "source": [
    "#### <span style=\"color:blue\">Hints</span>\n",
    "- While it's possible to build up whole aggregation pipelines as a single data structure, it's recommended to build up each stage of the pipeline as a separate variable and combine the stages into a pipeline at the end.\n",
    "This makes it easier to write and debug aggregation pipelines, especially as they get longer and more complex.\n",
    "- The `\"directors\"` field is an array. Use the `$unwind` stage to create a separate document for each director in the array. \n",
    "- In the `$group` stage, group by directors and create a field for the average IMDB rating for each director. \n",
    "- Use the `$avg` operator in the `$group` stage to calculate the average IMDB rating for each director. \n",
    "- Related docs: [`$unwind`](https://docs.mongodb.com/manual/reference/operator/aggregation/unwind/), [`$group`](https://docs.mongodb.com/manual/reference/operator/aggregation/group/),  [`$sort`](https://docs.mongodb.com/manual/reference/operator/aggregation/sort/),[`$limit`](https://docs.mongodb.com/manual/reference/operator/aggregation/limit/)"
   ]
  },
  {
   "cell_type": "markdown",
   "id": "8ca54e80",
   "metadata": {},
   "source": [
    "### 4. Create an aggregation with `$match`, `$lookup`,  and `$project` stages. \n",
    "\n",
    "In addition to the `movies` collections we've been working with so far, this database also contains a `comments` collection, which contains data on user comments on movies on a hypothetical movie review website. \n",
    "\n",
    "Run the `find_one()` command below to see a sample document in this collection."
   ]
  },
  {
   "cell_type": "code",
   "execution_count": 20,
   "id": "e0fd8ae2",
   "metadata": {},
   "outputs": [
    {
     "data": {
      "text/plain": [
       "{'_id': ObjectId('5a9427648b0beebeb69579cc'),\n",
       " 'name': 'Andrea Le',\n",
       " 'movie_id': ObjectId('573a1390f29313caabcd418c'),\n",
       " 'date': datetime.datetime(2012, 3, 26, 23, 20, 16)}"
      ]
     },
     "execution_count": 20,
     "metadata": {},
     "output_type": "execute_result"
    }
   ],
   "source": [
    "db.comments.find_one()"
   ]
  },
  {
   "cell_type": "markdown",
   "id": "82d1b2cd",
   "metadata": {},
   "source": [
    "Note that the `movie_id` field in the `comments` collection corresponds to the `_id` field in the `movies` collection. "
   ]
  },
  {
   "cell_type": "markdown",
   "id": "5935346c",
   "metadata": {},
   "source": [
    "We are interested in data on comments written about the 2015 film \"Fantastic Four\". Joining the `movies` and `comments` databases, create a single document that consists of only the `_id`, movie title, year, and the name of the commenter. "
   ]
  },
  {
   "cell_type": "code",
   "execution_count": 21,
   "id": "df4d7c6b",
   "metadata": {},
   "outputs": [],
   "source": [
    "# Write your code here\n",
    "stage_lookup = {\n",
    "    '$lookup': {\n",
    "        'from': 'comments',  # The collection to join with\n",
    "        'localField': '_id',  # The field from the 'movies' collection\n",
    "        'foreignField': 'movie_id',  # The field from the 'comments' collection\n",
    "        'as': 'comments'  # The alias for the new array field that will contain the joined documents\n",
    "    }\n",
    "}"
   ]
  },
  {
   "cell_type": "code",
   "execution_count": 22,
   "id": "1d5fa574",
   "metadata": {},
   "outputs": [],
   "source": [
    "# Write your code here \n",
    "stage_match = {\n",
    "    '$match': {\n",
    "        'title': 'Fantastic Four',  # Movie title\n",
    "        'year': 2015  # Movie year\n",
    "    }\n",
    "}"
   ]
  },
  {
   "cell_type": "code",
   "execution_count": 23,
   "id": "cc1c8841",
   "metadata": {},
   "outputs": [],
   "source": [
    "# Write your code here \n",
    "stage_unwind_comments = {\n",
    "    '$unwind': '$comments'  # Unwind the 'comments' array to separate each comment\n",
    "}"
   ]
  },
  {
   "cell_type": "code",
   "execution_count": 24,
   "id": "76bd58a9",
   "metadata": {},
   "outputs": [],
   "source": [
    "# Write your code here \n",
    "stage_project = {\n",
    "    '$project': {\n",
    "        '_id': 1,  # Include the movie _id\n",
    "        'title': 1,  # Include the movie title\n",
    "        'year': 1,  # Include the movie year\n",
    "        'commenter_name': '$comments.name'  # Include the commenter's name\n",
    "    }\n",
    "}"
   ]
  },
  {
   "cell_type": "code",
   "execution_count": 25,
   "id": "32cac3f2",
   "metadata": {},
   "outputs": [],
   "source": [
    "pipeline = [\n",
    "    stage_lookup,\n",
    "    stage_match,\n",
    "    stage_unwind_comments,\n",
    "    stage_project\n",
    "]"
   ]
  },
  {
   "cell_type": "code",
   "execution_count": 26,
   "id": "3cfc87f2",
   "metadata": {},
   "outputs": [
    {
     "name": "stdout",
     "output_type": "stream",
     "text": [
      "{'_id': ObjectId('573a13c8f29313caabd77e87'),\n",
      " 'commenter_name': 'Lisa Russo',\n",
      " 'title': 'Fantastic Four',\n",
      " 'year': 2015}\n"
     ]
    }
   ],
   "source": [
    "# Write your code here \n",
    "result = db.movies.aggregate(pipeline)\n",
    "\n",
    "for doc in result:\n",
    "    pprint(doc)"
   ]
  },
  {
   "cell_type": "markdown",
   "id": "82e93a9a",
   "metadata": {},
   "source": [
    "#### <span style=\"color:blue\">Hints</span>\n",
    "- Run the aggregation on the `movies` collection, using `comments` as the \"joined\" collection.\n",
    "- In the `$project` stage, the `_id` field will be retained unless it is explicitly excluded. \n",
    "- Related docs: [`$match`](https://docs.mongodb.com/manual/reference/operator/aggregation/match/#mongodb-pipeline-pipe.-match), [`$lookup`](https://docs.mongodb.com/manual/reference/operator/aggregation/lookup/), [`$project`](https://docs.mongodb.com/manual/reference/operator/aggregation/project/#mongodb-pipeline-pipe.-project)"
   ]
  },
  {
   "cell_type": "markdown",
   "id": "c201124e",
   "metadata": {},
   "source": [
    "## Section wrap-up\n",
    "\n",
    "Congratulations! In this section you used aggregation pipelines to do more complex data processing and work with documents across multiple collections in a database. Specifically, you:\n",
    "\n",
    "- Created aggregations using the `$match`, `$group`, `$sort`, `$limit`, `$unwind`, and `$project` stages  \n",
    "- Created aggregations using the `$sum` and `$avg` aggregation operators\n",
    "- Built an aggregation pipeline that joined data across two collections in the same database using the `$lookup` operator\n",
    "\n",
    "To learn more about using aggregation pipelines in MongoDB, you may be interested in checking out the [Practical MongoDB Aggregations](https://www.practical-mongodb-aggregations.com/) free e-book."
   ]
  }
 ],
 "metadata": {
  "kernelspec": {
   "display_name": ".venv",
   "language": "python",
   "name": "python3"
  },
  "language_info": {
   "codemirror_mode": {
    "name": "ipython",
    "version": 3
   },
   "file_extension": ".py",
   "mimetype": "text/x-python",
   "name": "python",
   "nbconvert_exporter": "python",
   "pygments_lexer": "ipython3",
   "version": "3.12.3"
  }
 },
 "nbformat": 4,
 "nbformat_minor": 5
}
