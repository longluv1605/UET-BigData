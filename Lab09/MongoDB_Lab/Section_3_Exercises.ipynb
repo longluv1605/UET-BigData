{
 "cells": [
  {
   "cell_type": "markdown",
   "id": "c4546159",
   "metadata": {},
   "source": [
    "# Section 3: More complex queries"
   ]
  },
  {
   "cell_type": "markdown",
   "id": "21f22547",
   "metadata": {},
   "source": [
    "<div class=\"alert alert-block alert-info\">\n",
    "   \n",
    "## Jupyter Notebook basics\n",
    "\n",
    "- **Code cells:** Cells shaded grey are code cells. As you work through the lab, run all code cells in order.\n",
    "- **Running code:** To run code, press Shift + Enter or click the 'Run' button on the menu bar. Where there is code already in a cell, run it as written. Where a code cell contains the comment `#Write your code here`, write code to complete the task & then run it. If needed, consult the hints & answer to enter and run the correct entry for a task before moving on to the next task. Not every command will result in visible output.\n",
    "- **Markdown cells:** The non-code cells are written in the Markdown markup language. Double-clicking a Markdown cell will cause it to appear in raw Markdown format. To render as text again, run the cell just like running a code cell: press Shift + Enter or click the 'Run' button on the menu bar.  \n",
    "- **Restarting kernel:** If the notebook becomes unresponsive, or if either the notebook or your code displays unexpected behavior, reset the notebook by choosing \"Kernel -> Restart & Clear Output\" from the menu bar. This will clear all memory objects in the notebook, stop any code running, and reset the notebook to its initial state. \n",
    "- **Session timeout:** Sessions will automatically shut down after about 10 minutes of inactivity. (If you leave a lab window open in the foreground, this will generally be counted as “activity”.) See Binder docs: [How long will my Binder session last?](https://mybinder.readthedocs.io/en/latest/about/about.html?highlight=session%20last#how-long-will-my-binder-session-last)\n",
    "- **File navigation:** To navigate the other files in this lab, click on the folder icon (File Browser) at the top of the left sidebar and choose the `Contents.ipynb` file (or access the Contents file directly [here](../Contents.ipynb))\n",
    "\n",
    "</div>"
   ]
  },
  {
   "cell_type": "markdown",
   "id": "4b947ae8",
   "metadata": {},
   "source": [
    "## Introduction\n",
    "\n",
    "In this section you'll do more complex queries using the `find()` method. Specifically, you'll:\n",
    "\n",
    "- Query collections using comparison operators\n",
    "- Query collections using OR conditions\n",
    "- Iterate over cursor results using `sort()` and `limit()`"
   ]
  },
  {
   "cell_type": "markdown",
   "id": "5b1d674e",
   "metadata": {},
   "source": [
    "## Setup \n",
    "\n",
    "Before starting on the tasks below, run the following cells. \n",
    "\n",
    "This sets up a new MongoDB client, connects it to the MongoDB server instance and sets up to query the `sample_mflix` database.  "
   ]
  },
  {
   "cell_type": "code",
   "execution_count": 1,
   "id": "5e6268d5",
   "metadata": {},
   "outputs": [],
   "source": [
    "from pymongo import MongoClient\n",
    "client = MongoClient()\n",
    "db = client.mydatabase"
   ]
  },
  {
   "cell_type": "markdown",
   "id": "6fad5214",
   "metadata": {},
   "source": [
    "Run the cell below, which imports the Python `pprint` module and method. You'll use `pprint` to print output in a more readable format. "
   ]
  },
  {
   "cell_type": "code",
   "execution_count": 2,
   "id": "1e566063",
   "metadata": {},
   "outputs": [],
   "source": [
    "# Import the pprint method from the native Python pprint library\n",
    "from pprint import pprint"
   ]
  },
  {
   "cell_type": "markdown",
   "id": "c6900d05",
   "metadata": {},
   "source": [
    "## Tasks"
   ]
  },
  {
   "cell_type": "markdown",
   "id": "a515ef2d",
   "metadata": {},
   "source": [
    "### 1. Query collection using comparison operators\n",
    "The database contains one entry that's more than 800 minutes long. Use `find()` with a comparison operator to return all data on this entry."
   ]
  },
  {
   "cell_type": "code",
   "execution_count": 3,
   "id": "b4f97783",
   "metadata": {},
   "outputs": [],
   "source": [
    "movies = db.movies"
   ]
  },
  {
   "cell_type": "code",
   "execution_count": 5,
   "id": "2d2366f0",
   "metadata": {},
   "outputs": [
    {
     "name": "stdout",
     "output_type": "stream",
     "text": [
      "{'_id': ObjectId('573a13a6f29313caabd18ae0'),\n",
      " 'awards': {'nominations': 24,\n",
      "            'text': 'Nominated for 1 Golden Globe. Another 8 wins & 24 '\n",
      "                    'nominations.',\n",
      "            'wins': 9},\n",
      " 'cast': ['Dakota Fanning', 'Matt Frewer', 'Emily Bergl', 'Heather Donahue'],\n",
      " 'countries': ['USA'],\n",
      " 'genres': ['Drama', 'Sci-Fi'],\n",
      " 'imdb': {'id': 289830, 'rating': 7.9, 'votes': 16378},\n",
      " 'languages': ['English'],\n",
      " 'plot': 'Taken spans five decades and four generations, centering on three '\n",
      "         'families: the Keys, Crawfords, and Clarkes. World War II veteran '\n",
      "         'Russell Keys is plagued by nightmares of his abduction by ...',\n",
      " 'released': datetime.datetime(2002, 12, 2, 0, 0),\n",
      " 'runtime': 877,\n",
      " 'title': 'Taken',\n",
      " 'year': 2002}\n"
     ]
    }
   ],
   "source": [
    "# Write your code here\n",
    "query = {'runtime': {'$gt': 800}}\n",
    "\n",
    "result = movies.find(query)\n",
    "\n",
    "for doc in result:\n",
    "    pprint(doc)"
   ]
  },
  {
   "cell_type": "markdown",
   "id": "ce2e6da9",
   "metadata": {},
   "source": [
    "#### <span style=\"color:blue\">Hints</span>\n",
    "- From the `movies` collection, select documents where the `\"runtime\"` field's value is greater than 800. \n",
    "- `find()` returns a `Cursor` instance. Iterate over the cursor using a for loop. \n",
    "- Use `pprint` to print the output in a more readable format.\n",
    "- Related docs: [Comparison Query Operators](https://docs.mongodb.com/manual/reference/operator/query-comparison/)"
   ]
  },
  {
   "cell_type": "markdown",
   "id": "5284b823",
   "metadata": {},
   "source": [
    "### 2. Query using multiple comparison operators\n",
    "Return all data on movies from 2014 that have more than ten award wins and an IMDB rating of greater than 8.5."
   ]
  },
  {
   "cell_type": "code",
   "execution_count": 6,
   "id": "302a2fd2",
   "metadata": {},
   "outputs": [
    {
     "name": "stdout",
     "output_type": "stream",
     "text": [
      "{'_id': ObjectId('573a13b9f29313caabd4ddff'),\n",
      " 'awards': {'nominations': 100,\n",
      "            'text': 'Won 1 Oscar. Another 44 wins & 100 nominations.',\n",
      "            'wins': 45},\n",
      " 'cast': ['Ellen Burstyn',\n",
      "          'Matthew McConaughey',\n",
      "          'Mackenzie Foy',\n",
      "          'John Lithgow'],\n",
      " 'countries': ['USA', 'UK', 'Canada'],\n",
      " 'directors': ['Christopher Nolan'],\n",
      " 'genres': ['Adventure', 'Drama', 'Sci-Fi'],\n",
      " 'imdb': {'id': 816692, 'rating': 8.7, 'votes': 699518},\n",
      " 'languages': ['English'],\n",
      " 'plot': 'A team of explorers travel through a wormhole in space in an attempt '\n",
      "         \"to ensure humanity's survival.\",\n",
      " 'rated': 'PG-13',\n",
      " 'released': datetime.datetime(2014, 11, 7, 0, 0),\n",
      " 'runtime': 169,\n",
      " 'title': 'Interstellar',\n",
      " 'year': 2014}\n",
      "{'_id': ObjectId('573a13dff29313caabdb85fb'),\n",
      " 'awards': {'nominations': 99,\n",
      "            'text': 'Won 3 Oscars. Another 87 wins & 99 nominations.',\n",
      "            'wins': 90},\n",
      " 'cast': ['Miles Teller', 'J.K. Simmons', 'Paul Reiser', 'Melissa Benoist'],\n",
      " 'countries': ['USA'],\n",
      " 'directors': ['Damien Chazelle'],\n",
      " 'genres': ['Drama', 'Music'],\n",
      " 'imdb': {'id': 2582802, 'rating': 8.6, 'votes': 278873},\n",
      " 'languages': ['English'],\n",
      " 'plot': 'A promising young drummer enrolls at a cut-throat music conservatory '\n",
      "         'where his dreams of greatness are mentored by an instructor who will '\n",
      "         \"stop at nothing to realize a student's potential.\",\n",
      " 'rated': 'R',\n",
      " 'released': datetime.datetime(2014, 10, 15, 0, 0),\n",
      " 'runtime': 107,\n",
      " 'title': 'Whiplash',\n",
      " 'year': 2014}\n"
     ]
    }
   ],
   "source": [
    "# Write your code here \n",
    "query = {\n",
    "    \"year\": 2014,                \n",
    "    \"awards.wins\": {\"$gt\": 10},        \n",
    "    \"imdb.rating\": {\"$gt\": 8.5}     \n",
    "}\n",
    "\n",
    "result = movies.find(query)\n",
    "\n",
    "for doc in result:\n",
    "    pprint(doc)"
   ]
  },
  {
   "cell_type": "markdown",
   "id": "18a2c57d",
   "metadata": {},
   "source": [
    "#### <span style=\"color:blue\">Hints</span>\n",
    "- From the `movies` collection, select documents where the `\"awards.wins\"` nested field's value is greater than 10, the `\"imdb.rating\"` nested field's value is greater than 8.5, and the `\"year\"` field's value is 2014. \n",
    "- `find()` returns a `Cursor` instance. Iterate over the cursor using a for loop. \n",
    "- Use `pprint` to print the output in a more readable format.\n",
    "- Related docs: [Comparison Query Operators](https://docs.mongodb.com/manual/reference/operator/query-comparison/)"
   ]
  },
  {
   "cell_type": "markdown",
   "id": "3595502d",
   "metadata": {},
   "source": [
    "### 3. Query using OR conditions\n",
    "Find all entries with a runtime of less than 2 minutes or more than 600 minutes."
   ]
  },
  {
   "cell_type": "code",
   "execution_count": 9,
   "id": "5636556d",
   "metadata": {},
   "outputs": [
    {
     "name": "stdout",
     "output_type": "stream",
     "text": [
      "{'_id': ObjectId('573a139ff29313caabd003c4'),\n",
      " 'awards': {'nominations': 24,\n",
      "            'text': 'Won 1 Golden Globe. Another 33 wins & 24 nominations.',\n",
      "            'wins': 34},\n",
      " 'cast': ['Scott Grimes', 'Matthew Leitch', 'Damian Lewis', 'Ron Livingston'],\n",
      " 'countries': ['UK', 'USA'],\n",
      " 'genres': ['Action', 'Drama', 'History'],\n",
      " 'imdb': {'id': 185906, 'rating': 9.6, 'votes': 183802},\n",
      " 'languages': ['English', 'Dutch', 'French', 'German', 'Lithuanian'],\n",
      " 'plot': 'The story of Easy Company of the US Army 101st Airborne division and '\n",
      "         'their mission in WWII Europe from Operation Overlord through V-J '\n",
      "         'Day.',\n",
      " 'rated': 'TV-MA',\n",
      " 'released': datetime.datetime(2001, 9, 9, 0, 0),\n",
      " 'runtime': 705,\n",
      " 'title': 'Band of Brothers',\n",
      " 'year': 2001}\n",
      "{'_id': ObjectId('573a13a6f29313caabd18ae0'),\n",
      " 'awards': {'nominations': 24,\n",
      "            'text': 'Nominated for 1 Golden Globe. Another 8 wins & 24 '\n",
      "                    'nominations.',\n",
      "            'wins': 9},\n",
      " 'cast': ['Dakota Fanning', 'Matt Frewer', 'Emily Bergl', 'Heather Donahue'],\n",
      " 'countries': ['USA'],\n",
      " 'genres': ['Drama', 'Sci-Fi'],\n",
      " 'imdb': {'id': 289830, 'rating': 7.9, 'votes': 16378},\n",
      " 'languages': ['English'],\n",
      " 'plot': 'Taken spans five decades and four generations, centering on three '\n",
      "         'families: the Keys, Crawfords, and Clarkes. World War II veteran '\n",
      "         'Russell Keys is plagued by nightmares of his abduction by ...',\n",
      " 'released': datetime.datetime(2002, 12, 2, 0, 0),\n",
      " 'runtime': 877,\n",
      " 'title': 'Taken',\n",
      " 'year': 2002}\n",
      "{'_id': ObjectId('573a13e8f29313caabdca142'),\n",
      " 'awards': {'nominations': 1, 'text': '1 nomination.', 'wins': 0},\n",
      " 'cast': ['Yuka Terasaki', 'Rei Nakagawa', 'Takeshi Maeda'],\n",
      " 'countries': ['Japan'],\n",
      " 'directors': ['Makoto Shinkai'],\n",
      " 'genres': ['Animation', 'Short'],\n",
      " 'imdb': {'id': 3210416, 'rating': 7.5, 'votes': 79},\n",
      " 'languages': ['Japanese'],\n",
      " 'runtime': 1,\n",
      " 'title': 'Neko no shukai',\n",
      " 'year': 2007}\n"
     ]
    }
   ],
   "source": [
    "# Write your code here \n",
    "query = {'$or': [{'runtime': {'$lt': 2}}, {'runtime': {'$gt': 600}}]}\n",
    "\n",
    "result = movies.find(query)\n",
    "\n",
    "for doc in result:\n",
    "    pprint(doc)"
   ]
  },
  {
   "cell_type": "markdown",
   "id": "4c876e64",
   "metadata": {},
   "source": [
    "#### <span style=\"color:blue\">Hints</span>\n",
    "- Use the `$or` operator to select documents that match at least one of the two conditions. \n",
    "- `find()` returns a `Cursor` instance. Iterate over the cursor using a for loop. \n",
    "- Use `pprint` to print the output in a more readable format.\n",
    "- Related docs: [`$or` operator](https://docs.mongodb.com/manual/reference/operator/query/or/#mongodb-query-op.-or)"
   ]
  },
  {
   "cell_type": "markdown",
   "id": "0f59e1de",
   "metadata": {},
   "source": [
    "### 4. Iterate over cursor results using `sort()` and `limit()`\n",
    "Find the movie from 2011 with the greatest number of award wins."
   ]
  },
  {
   "cell_type": "code",
   "execution_count": 11,
   "id": "9c70bd91",
   "metadata": {},
   "outputs": [
    {
     "name": "stdout",
     "output_type": "stream",
     "text": [
      "{'_id': ObjectId('573a13d5f29313caabd9cae7'),\n",
      " 'awards': {'nominations': 256,\n",
      "            'text': 'Won 3 Oscars. Another 264 wins & 256 nominations.',\n",
      "            'wins': 267},\n",
      " 'cast': ['Chiwetel Ejiofor', 'Dwight Henry', 'Dickie Gravois', 'Bryan Batt'],\n",
      " 'countries': ['USA', 'UK'],\n",
      " 'directors': ['Steve McQueen'],\n",
      " 'genres': ['Biography', 'Drama', 'History'],\n",
      " 'imdb': {'id': 2024544, 'rating': 8.1, 'votes': 363143},\n",
      " 'languages': ['English'],\n",
      " 'plot': 'In the antebellum United States, Solomon Northup, a free black man '\n",
      "         'from upstate New York, is abducted and sold into slavery.',\n",
      " 'rated': 'R',\n",
      " 'released': datetime.datetime(2013, 11, 8, 0, 0),\n",
      " 'runtime': 134,\n",
      " 'title': '12 Years a Slave',\n",
      " 'year': 2013}\n"
     ]
    }
   ],
   "source": [
    "# Write your code here \n",
    "result = movies.find().sort('awards.wins', -1).limit(1)[0]\n",
    "\n",
    "pprint(result)"
   ]
  },
  {
   "cell_type": "markdown",
   "id": "1a89b6f7",
   "metadata": {},
   "source": [
    "#### <span style=\"color:blue\">Hints</span>\n",
    "- When sorting on the `\"awards.wins\"` nested field, use `-1` as the direction parameter to sort in descending order.\n",
    "- Set the `limit()` parameter to `1` to return a single document.\n",
    "- Related docs: [`sort()`](https://pymongo.readthedocs.io/en/stable/api/pymongo/cursor.html#pymongo.cursor.Cursor.sort) [`limit()`](https://pymongo.readthedocs.io/en/stable/api/pymongo/cursor.html#pymongo.cursor.Cursor.limit)"
   ]
  },
  {
   "cell_type": "markdown",
   "id": "55650509",
   "metadata": {},
   "source": [
    "## Section wrap-up\n",
    "\n",
    "Congratulations! In this section you made more complex queries using the `find()` method. Specifically, you:\n",
    "\n",
    "- Queried collections using comparison operators\n",
    "- Queried collections using OR conditions\n",
    "- Iterated over cursor results using `sort()` and `limit()`\n",
    "\n",
    "Your next step could be to create and manipulate documents in a database. "
   ]
  }
 ],
 "metadata": {
  "kernelspec": {
   "display_name": ".venv",
   "language": "python",
   "name": "python3"
  },
  "language_info": {
   "codemirror_mode": {
    "name": "ipython",
    "version": 3
   },
   "file_extension": ".py",
   "mimetype": "text/x-python",
   "name": "python",
   "nbconvert_exporter": "python",
   "pygments_lexer": "ipython3",
   "version": "3.12.3"
  }
 },
 "nbformat": 4,
 "nbformat_minor": 5
}
