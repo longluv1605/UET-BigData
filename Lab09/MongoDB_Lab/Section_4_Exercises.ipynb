{
 "cells": [
  {
   "cell_type": "markdown",
   "id": "725e862c",
   "metadata": {},
   "source": [
    "# Section 4: Creating and manipulating documents"
   ]
  },
  {
   "cell_type": "markdown",
   "id": "a296490d",
   "metadata": {},
   "source": [
    "<div class=\"alert alert-block alert-info\">\n",
    "   \n",
    "## Jupyter Notebook basics\n",
    "\n",
    "- **Code cells:** Cells shaded grey are code cells. As you work through the lab, run all code cells in order.\n",
    "- **Running code:** To run code, press Shift + Enter or click the 'Run' button on the menu bar. Where there is code already in a cell, run it as written. Where a code cell contains the comment `#Write your code here`, write code to complete the task & then run it. If needed, consult the hints & answer to enter and run the correct entry for a task before moving on to the next task. Not every command will result in visible output.\n",
    "- **Markdown cells:** The non-code cells are written in the Markdown markup language. Double-clicking a Markdown cell will cause it to appear in raw Markdown format. To render as text again, run the cell just like running a code cell: press Shift + Enter or click the 'Run' button on the menu bar.  \n",
    "- **Restarting kernel:** If the notebook becomes unresponsive, or if either the notebook or your code displays unexpected behavior, reset the notebook by choosing \"Kernel -> Restart & Clear Output\" from the menu bar. This will clear all memory objects in the notebook, stop any code running, and reset the notebook to its initial state. \n",
    "- **Session timeout:** Sessions will automatically shut down after about 10 minutes of inactivity. (If you leave a lab window open in the foreground, this will generally be counted as “activity”.) See Binder docs: [How long will my Binder session last?](https://mybinder.readthedocs.io/en/latest/about/about.html?highlight=session%20last#how-long-will-my-binder-session-last)\n",
    "- **File navigation:** To navigate the other files in this lab, click on the folder icon (File Browser) at the top of the left sidebar and choose the `Contents.ipynb` file (or access the Contents file directly [here](../Contents.ipynb))\n",
    "\n",
    "</div>"
   ]
  },
  {
   "cell_type": "markdown",
   "id": "7aa0b5e8",
   "metadata": {},
   "source": [
    "## Introduction\n",
    "\n",
    "In this section you'll create and manipulate documents in the `movies` collection of the `sample_mflix` database. Specifically, you'll:\n",
    "\n",
    "- Insert a new document to a given database and collection using `db.collection.insert_one()`\n",
    "- Delete all documents that match a condition using `db.collection.delete_many()` \n",
    "- Update one document that matches a condition using `db.collection.update_one()`\n",
    "- Update all documents that match a condition using `db.collection.update_many()`"
   ]
  },
  {
   "cell_type": "markdown",
   "id": "d920ab0d",
   "metadata": {},
   "source": [
    "## Setup \n",
    "\n",
    "Before starting on the tasks below, run the following cells. \n",
    "\n",
    "This sets up a new MongoDB client, connects it to the MongoDB server instance and sets up to query the `sample_mflix` database.  "
   ]
  },
  {
   "cell_type": "code",
   "execution_count": 12,
   "id": "bb7ce4e5",
   "metadata": {},
   "outputs": [],
   "source": [
    "from pymongo import MongoClient\n",
    "client = MongoClient()\n",
    "db = client.mydatabase"
   ]
  },
  {
   "cell_type": "markdown",
   "id": "c2cbf306",
   "metadata": {},
   "source": [
    "Run the cell below, which imports the Python `pprint` module and method. You'll use `pprint` to print output in a more readable format. "
   ]
  },
  {
   "cell_type": "code",
   "execution_count": 13,
   "id": "c38162fc",
   "metadata": {},
   "outputs": [],
   "source": [
    "# Import the pprint method from the native Python pprint library\n",
    "from pprint import pprint"
   ]
  },
  {
   "cell_type": "markdown",
   "id": "fba67167",
   "metadata": {},
   "source": [
    "## Tasks"
   ]
  },
  {
   "cell_type": "code",
   "execution_count": 14,
   "id": "e32c3365",
   "metadata": {},
   "outputs": [],
   "source": [
    "movies = db.movies"
   ]
  },
  {
   "cell_type": "markdown",
   "id": "9b65ac1d",
   "metadata": {},
   "source": [
    "### 1. Insert a new document using `db.collection.insert_one()`\n",
    "\n",
    "Insert a document for a movie of your choice. Include the `title`, `director` and `runtime` fields."
   ]
  },
  {
   "cell_type": "code",
   "execution_count": 15,
   "id": "8fd13e99",
   "metadata": {},
   "outputs": [
    {
     "data": {
      "text/plain": [
       "InsertOneResult(ObjectId('67320cddcfd2a5f8c3ff5d4c'), acknowledged=True)"
      ]
     },
     "execution_count": 15,
     "metadata": {},
     "output_type": "execute_result"
    }
   ],
   "source": [
    "# Write your code here \n",
    "new_doc = {\n",
    "    'title': 'Our family',\n",
    "    'director': 'Us',\n",
    "    'runtime': '74880'\n",
    "}\n",
    "\n",
    "movies.insert_one(new_doc)"
   ]
  },
  {
   "cell_type": "markdown",
   "id": "ba1738bb",
   "metadata": {},
   "source": [
    "#### <span style=\"color:blue\">Hints</span>\n",
    "- If your document runs longer than the code block, space it over multiple lines to make it easier to edit & debug. \n",
    "- If the document is successfully inserted, you will get a return value like `<pymongo.results.InsertOneResult at 0x7efe19e8e140>`.\n",
    "- Related docs: [Insert data into MongoDB](https://docs.mongodb.com/guides/server/insert/) - select 'Python' client"
   ]
  },
  {
   "cell_type": "markdown",
   "id": "adeafb0d",
   "metadata": {},
   "source": [
    "### Check that document inserted\n",
    "\n",
    "To confirm that the document was added to the database, run a `find()` command on the title of the movie you added. \n",
    "\n",
    "(There might multiple documents for the movie title if the database already contained data on this film before you added your document. Confirm that the exact document you entered is in the database.) "
   ]
  },
  {
   "cell_type": "code",
   "execution_count": 16,
   "id": "19b1209e",
   "metadata": {},
   "outputs": [
    {
     "name": "stdout",
     "output_type": "stream",
     "text": [
      "{'_id': ObjectId('67320c0dcfd2a5f8c3ff5d4a'),\n",
      " 'director': 'Us',\n",
      " 'runtime': '74880',\n",
      " 'title': 'Our family'}\n",
      "{'_id': ObjectId('67320cddcfd2a5f8c3ff5d4c'),\n",
      " 'director': 'Us',\n",
      " 'runtime': '74880',\n",
      " 'title': 'Our family'}\n"
     ]
    }
   ],
   "source": [
    "# Replace the blank below with the title of the movie you inserted\n",
    "cursor = db.movies.find({\"title\": \"Our family\"})\n",
    "\n",
    "for movie in cursor:\n",
    "    pprint(movie)"
   ]
  },
  {
   "cell_type": "markdown",
   "id": "3487d00a",
   "metadata": {},
   "source": [
    "### 2. Delete all documents that match a condition using `db.collection.delete_many()`\n",
    "The `movies` collection contains 46 films longer than 240 minutes. Delete the data on all of them."
   ]
  },
  {
   "cell_type": "code",
   "execution_count": 17,
   "id": "bd7fd538",
   "metadata": {},
   "outputs": [
    {
     "name": "stdout",
     "output_type": "stream",
     "text": [
      "DeleteResult({'n': 43, 'ok': 1.0}, acknowledged=True)\n"
     ]
    }
   ],
   "source": [
    "# Write your code here \n",
    "query = {'runtime': {'$gt': 240}}\n",
    "\n",
    "result = movies.delete_many(query)\n",
    "pprint(result)"
   ]
  },
  {
   "cell_type": "markdown",
   "id": "9316699a",
   "metadata": {},
   "source": [
    "#### <span style=\"color:blue\">Hints</span>\n",
    "- Select documents where the `\"runtime\"` field value is greater than 240.\n",
    "- You should get a return value like `<pymongo.results.DeleteResult at 0x7fb5a42c6730>`.\n",
    "- Related docs: [Delete documents](https://docs.mongodb.com/manual/tutorial/remove-documents/)"
   ]
  },
  {
   "cell_type": "markdown",
   "id": "816ef285",
   "metadata": {},
   "source": [
    "### Check that documents deleted\n",
    "\n",
    "To confirm that the documents were deleted from the database, count the number of movies with runtime greater than 240. There should now be zero."
   ]
  },
  {
   "cell_type": "code",
   "execution_count": 18,
   "id": "1510335e",
   "metadata": {},
   "outputs": [
    {
     "data": {
      "text/plain": [
       "0"
      ]
     },
     "execution_count": 18,
     "metadata": {},
     "output_type": "execute_result"
    }
   ],
   "source": [
    "db.movies.count_documents({\"runtime\": {\"$gt\": 240}})"
   ]
  },
  {
   "cell_type": "markdown",
   "id": "d5b28d58",
   "metadata": {},
   "source": [
    "### 3. Update one document using `db.collection.update_one()`\n",
    "The information on number of award nominations for the movie \"Coraline\" is out of date. The movie has now received 46 awards. Use the `$inc` update operator to add 9 more award nominations to \"Coraline\".  "
   ]
  },
  {
   "cell_type": "code",
   "execution_count": 23,
   "id": "d6596947",
   "metadata": {},
   "outputs": [],
   "source": [
    "# Write your code here \n",
    "query = {'title': 'Coraline'}\n",
    "new_vals = {'$inc': {'awards.nominations': 9}}"
   ]
  },
  {
   "cell_type": "markdown",
   "id": "f286a197",
   "metadata": {},
   "source": [
    "#### <span style=\"color:blue\">Hints</span>\n",
    "- Specify the `\"awards.nominations\"` sub-field to be increased by 9 using the `$inc` update operator. \n",
    "- You should get a return value like `<pymongo.results.UpdateResult at 0x7fb880029f50>`.\n",
    "- Related docs: [`$inc` update operator](https://docs.mongodb.com/manual/reference/operator/update/inc/#mongodb-update-up.-inc)"
   ]
  },
  {
   "cell_type": "markdown",
   "id": "473f5f14",
   "metadata": {},
   "source": [
    "### Check that document updated\n",
    "\n",
    "To confirm that the document was updated, query for the movie \"Coraline\" again. The value of the `\"awards.nominations\"` subfield should now be 46. "
   ]
  },
  {
   "cell_type": "code",
   "execution_count": 24,
   "id": "1bb45867",
   "metadata": {},
   "outputs": [
    {
     "name": "stdout",
     "output_type": "stream",
     "text": [
      "{'_id': ObjectId('573a13aaf29313caabd218b4'),\n",
      " 'awards': {'nominations': 37,\n",
      "            'text': 'Nominated for 1 Oscar. Another 9 wins & 37 nominations.',\n",
      "            'wins': 10},\n",
      " 'cast': ['Dakota Fanning', 'Teri Hatcher', 'Jennifer Saunders', 'Dawn French'],\n",
      " 'countries': ['USA'],\n",
      " 'directors': ['Henry Selick'],\n",
      " 'genres': ['Animation', 'Fantasy'],\n",
      " 'imdb': {'id': 327597, 'rating': 7.7, 'votes': 131308},\n",
      " 'languages': ['English', 'Russian'],\n",
      " 'plot': 'An adventurous girl finds another world that is a strangely '\n",
      "         'idealized version of her frustrating home, but it has sinister '\n",
      "         'secrets.',\n",
      " 'rated': 'PG',\n",
      " 'released': datetime.datetime(2009, 2, 6, 0, 0),\n",
      " 'runtime': 100,\n",
      " 'title': 'Coraline',\n",
      " 'year': 2009}\n"
     ]
    }
   ],
   "source": [
    "cursor = db.movies.find({\"title\": \"Coraline\"})\n",
    "\n",
    "for movie in cursor:\n",
    "    pprint(movie)"
   ]
  },
  {
   "cell_type": "markdown",
   "id": "2e4c1cd5",
   "metadata": {},
   "source": [
    "### 4. Update all documents that match a condition using `db.collection.update_many()`\n",
    "Update movies that were nominated for an award but didn't win by adding a `\"summary\"` sub-field to the `\"awards\"` field. Set the value of `\"summary\"` to `\"Nominated but didn't win\"`."
   ]
  },
  {
   "cell_type": "code",
   "execution_count": 25,
   "id": "28fd1bbe",
   "metadata": {},
   "outputs": [
    {
     "name": "stdout",
     "output_type": "stream",
     "text": [
      "Matched 3506 document(s), modified 3506 document(s)\n"
     ]
    }
   ],
   "source": [
    "# Write your code here \n",
    "query = {\"awards.nominations\": {\"$gt\": 0}, \"awards.wins\": 0}\n",
    "update = {\"$set\": {\"awards.summary\": \"Nominated but didn't win\"}}\n",
    "result = movies.update_many(query, update)\n",
    "\n",
    "print(f\"Matched {result.matched_count} document(s), modified {result.modified_count} document(s)\")"
   ]
  },
  {
   "cell_type": "markdown",
   "id": "2ab53143",
   "metadata": {},
   "source": [
    "#### <span style=\"color:blue\">Hints</span>\n",
    "- Use the `$set` update operator. It will create the field specified in the update if it doesn't yet exist. \n",
    "- You should get a return value like `<pymongo.results.UpdateResult at 0x7f89e2c5c780>`.\n",
    "- Related docs: [Update documents](https://docs.mongodb.com/manual/tutorial/update-documents/)"
   ]
  },
  {
   "cell_type": "markdown",
   "id": "247921b1",
   "metadata": {},
   "source": [
    "### Check that documents updated\n",
    "\n",
    "To confirm that the documents were updated, query for movies that were nominated for an award but didn't win. The value of the `\"awards.summary\"` subfield should now be `\"Nominated but didn't win\"`. \n",
    "\n",
    "The query is limited to return three documents, for brevity's sake."
   ]
  },
  {
   "cell_type": "code",
   "execution_count": 26,
   "id": "d20f3e09",
   "metadata": {},
   "outputs": [
    {
     "name": "stdout",
     "output_type": "stream",
     "text": [
      "{'_id': ObjectId('573a139af29313caabcf0eb3'),\n",
      " 'awards': {'nominations': 8,\n",
      "            'summary': \"Nominated but didn't win\",\n",
      "            'text': '8 nominations.',\n",
      "            'wins': 0},\n",
      " 'cast': ['Johnny Depp', 'Heather Graham', 'Ian Holm', 'Robbie Coltrane'],\n",
      " 'countries': ['USA'],\n",
      " 'directors': ['Albert Hughes', 'Allen Hughes'],\n",
      " 'genres': ['Horror', 'Mystery', 'Thriller'],\n",
      " 'imdb': {'id': 120681, 'rating': 6.8, 'votes': 116865},\n",
      " 'languages': ['English'],\n",
      " 'plot': 'In Victorian Era London, a troubled clairvoyant police detective '\n",
      "         'investigates the murders by Jack The Ripper.',\n",
      " 'rated': 'R',\n",
      " 'released': datetime.datetime(2001, 10, 19, 0, 0),\n",
      " 'runtime': 122,\n",
      " 'title': 'From Hell',\n",
      " 'year': 2001}\n",
      "{'_id': ObjectId('573a139af29313caabcf1e9c'),\n",
      " 'awards': {'nominations': 2,\n",
      "            'summary': \"Nominated but didn't win\",\n",
      "            'text': '2 nominations.',\n",
      "            'wins': 0},\n",
      " 'cast': ['Sigourney Weaver',\n",
      "          'Jennifer Love Hewitt',\n",
      "          'Ray Liotta',\n",
      "          'Jason Lee'],\n",
      " 'countries': ['USA'],\n",
      " 'directors': ['David Mirkin'],\n",
      " 'genres': ['Comedy', 'Crime', 'Romance'],\n",
      " 'imdb': {'id': 125022, 'rating': 6.2, 'votes': 42090},\n",
      " 'languages': ['English', 'Russian'],\n",
      " 'plot': 'A mother and daughter con team seduce and scam wealthy men.',\n",
      " 'rated': 'PG-13',\n",
      " 'released': datetime.datetime(2001, 3, 23, 0, 0),\n",
      " 'runtime': 123,\n",
      " 'title': 'Heartbreakers',\n",
      " 'year': 2001}\n",
      "{'_id': ObjectId('573a139af29313caabcf0f1a'),\n",
      " 'awards': {'nominations': 4,\n",
      "            'summary': \"Nominated but didn't win\",\n",
      "            'text': '4 nominations.',\n",
      "            'wins': 0},\n",
      " 'cast': ['Ryan McCluskey', 'Oscar Pearce', 'Indra Ovè', 'Anna Bolt'],\n",
      " 'countries': ['UK', 'Germany', 'France', 'USA'],\n",
      " 'directors': ['Paul W.S. Anderson'],\n",
      " 'genres': ['Action', 'Fantasy', 'Horror'],\n",
      " 'imdb': {'id': 120804, 'rating': 6.7, 'votes': 185410},\n",
      " 'languages': ['English'],\n",
      " 'plot': 'A special military unit fights a powerful, out-of-control '\n",
      "         'supercomputer and hundreds of scientists who have mutated into '\n",
      "         'flesh-eating creatures after a laboratory accident.',\n",
      " 'rated': 'R',\n",
      " 'released': datetime.datetime(2002, 3, 15, 0, 0),\n",
      " 'runtime': 100,\n",
      " 'title': 'Resident Evil',\n",
      " 'year': 2002}\n"
     ]
    }
   ],
   "source": [
    "cursor = db.movies.find( {\"awards.wins\": 0, \"awards.nominations\": {\"$gte\": 1}}).limit(3)\n",
    "\n",
    "for movie in cursor:\n",
    "    pprint(movie)"
   ]
  },
  {
   "cell_type": "markdown",
   "id": "dc2dd050",
   "metadata": {},
   "source": [
    "## Section wrap-up\n",
    "\n",
    "Congratulations! In this section you created and manipulated documents in the `movies` collection of the `sample_mflix` database. Specifically, you:\n",
    "\n",
    "- Inserted a new document to a given database and collection using `db.collection.insert_one()`\n",
    "- Deleted all documents that match a condition using `db.collection.delete_many()` \n",
    "- Updated one document that matches a condition using `db.collection.update_one()`\n",
    "- Updated all documents that match a condition using `db.collection.update_many()`\n",
    "\n",
    "Your next step could be to use aggregation pipelines to do more complex data processing and work with documents across multiple collections in a database. "
   ]
  }
 ],
 "metadata": {
  "kernelspec": {
   "display_name": ".venv",
   "language": "python",
   "name": "python3"
  },
  "language_info": {
   "codemirror_mode": {
    "name": "ipython",
    "version": 3
   },
   "file_extension": ".py",
   "mimetype": "text/x-python",
   "name": "python",
   "nbconvert_exporter": "python",
   "pygments_lexer": "ipython3",
   "version": "3.12.3"
  }
 },
 "nbformat": 4,
 "nbformat_minor": 5
}
