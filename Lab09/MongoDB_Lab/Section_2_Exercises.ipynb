{
 "cells": [
  {
   "cell_type": "markdown",
   "id": "5c488756",
   "metadata": {},
   "source": [
    "# Section 2: Basic queries"
   ]
  },
  {
   "cell_type": "markdown",
   "id": "e345924a",
   "metadata": {},
   "source": [
    "<div class=\"alert alert-block alert-info\">\n",
    "   \n",
    "## Jupyter Notebook basics\n",
    "\n",
    "- **Code cells:** Cells shaded grey are code cells. As you work through the lab, run all code cells in order.\n",
    "- **Running code:** To run code, press Shift + Enter or click the 'Run' button on the menu bar. Where there is code already in a cell, run it as written. Where a code cell contains the comment `#Write your code here`, write code to complete the task & then run it. If needed, consult the hints & answer to enter and run the correct entry for a task before moving on to the next task. Not every command will result in visible output.\n",
    "- **Markdown cells:** The non-code cells are written in the Markdown markup language. Double-clicking a Markdown cell will cause it to appear in raw Markdown format. To render as text again, run the cell just like running a code cell: press Shift + Enter or click the 'Run' button on the menu bar.  \n",
    "- **Restarting kernel:** If the notebook becomes unresponsive, or if either the notebook or your code displays unexpected behavior, reset the notebook by choosing \"Kernel -> Restart & Clear Output\" from the menu bar. This will clear all memory objects in the notebook, stop any code running, and reset the notebook to its initial state. \n",
    "- **Session timeout:** Sessions will automatically shut down after about 10 minutes of inactivity. (If you leave a lab window open in the foreground, this will generally be counted as “activity”.) See Binder docs: [How long will my Binder session last?](https://mybinder.readthedocs.io/en/latest/about/about.html?highlight=session%20last#how-long-will-my-binder-session-last)\n",
    "- **File navigation:** To navigate the other files in this lab, click on the folder icon (File Browser) at the top of the left sidebar and choose the `Contents.ipynb` file (or access the Contents file directly [here](../Contents.ipynb))\n",
    "\n",
    "\n",
    "</div>"
   ]
  },
  {
   "cell_type": "markdown",
   "id": "e135db78",
   "metadata": {},
   "source": [
    "## Introduction\n",
    "\n",
    "In this section you'll do basic queries using the `find_one()` and `find()` methods. Specifically, you'll:\n",
    "\n",
    "- Use `find_one()` to return a single document from a collection that satisfies the specified query criteria\n",
    "- Use `find()` to return retrieve all documents from a collection that satisfy the specified query criteria\n",
    "- Query a nested field\n",
    "- Query an array\n",
    "- Use a `projection` parameter to specify the fields to return in the documents that match the query filter"
   ]
  },
  {
   "cell_type": "markdown",
   "id": "6b1b527b",
   "metadata": {},
   "source": [
    "## Setup \n",
    "\n",
    "Before starting on the tasks below, run the following cells. \n",
    "\n",
    "This sets up a new MongoDB client, connects it to the MongoDB server instance and sets up to query the `sample_mflix` database.  "
   ]
  },
  {
   "cell_type": "code",
   "execution_count": 1,
   "id": "be2ebea7",
   "metadata": {},
   "outputs": [],
   "source": [
    "from pymongo import MongoClient\n",
    "client = MongoClient()\n",
    "db = client.mydatabase"
   ]
  },
  {
   "cell_type": "markdown",
   "id": "58e38a42",
   "metadata": {},
   "source": [
    "Run the cell below, which imports the Python `pprint` module and method. You'll use `pprint` to print output in a more readable format. "
   ]
  },
  {
   "cell_type": "code",
   "execution_count": 2,
   "id": "3ecd55bf",
   "metadata": {},
   "outputs": [],
   "source": [
    "# Import the pprint method from the native Python pprint library\n",
    "from pprint import pprint"
   ]
  },
  {
   "cell_type": "code",
   "execution_count": 3,
   "id": "0ceedbf0",
   "metadata": {},
   "outputs": [],
   "source": [
    "movies = db.movies\n",
    "comments = db.comments"
   ]
  },
  {
   "cell_type": "markdown",
   "id": "9195bf91",
   "metadata": {},
   "source": [
    "## Tasks"
   ]
  },
  {
   "cell_type": "markdown",
   "id": "7897294f",
   "metadata": {},
   "source": [
    "### 1.  Use `find_one()` to return a single document from a collection that satisfies specified query criteria\n",
    "If you are only interested in the first match for a given query, or if you know the database only contains one matching document, you can use `find_one()`.\n",
    "\n",
    "Use `find_one()` in the code cell below to find one movie released in 2001."
   ]
  },
  {
   "cell_type": "code",
   "execution_count": 5,
   "id": "eee313f2",
   "metadata": {},
   "outputs": [
    {
     "name": "stdout",
     "output_type": "stream",
     "text": [
      "{'_id': ObjectId('573a139af29313caabcf0718'),\n",
      " 'awards': {'nominations': 8, 'text': '1 win & 8 nominations.', 'wins': 1},\n",
      " 'cast': ['Mariah Carey', 'Max Beesley', 'Da Brat', 'Tia Texada'],\n",
      " 'countries': ['USA'],\n",
      " 'directors': ['Vondie Curtis-Hall'],\n",
      " 'genres': ['Drama', 'Music', 'Romance'],\n",
      " 'imdb': {'id': 118589, 'rating': 2.1, 'votes': 18840},\n",
      " 'languages': ['English'],\n",
      " 'plot': 'A young singer dates a disc jockey who helps her get into the music '\n",
      "         'business, but their relationship become complicated as she ascends '\n",
      "         'to super stardom.',\n",
      " 'rated': 'PG-13',\n",
      " 'released': datetime.datetime(2001, 9, 21, 0, 0),\n",
      " 'runtime': 104,\n",
      " 'title': 'Glitter',\n",
      " 'year': 2001}\n"
     ]
    }
   ],
   "source": [
    "# Write your code here \n",
    "query = {'year': 2001}\n",
    "\n",
    "result = movies.find_one(query)\n",
    "\n",
    "pprint(result)"
   ]
  },
  {
   "cell_type": "markdown",
   "id": "90c92d0a",
   "metadata": {},
   "source": [
    "#### <span style=\"color:blue\">Hints</span>\n",
    "- From the `movies` collection, use `find_one()` to retrieve a document where the `\"year\"` field equals `2001`. \n",
    "- Use `pprint` to print the output in a more readable format.\n",
    "- Related docs: [Getting a single document with `find_one()`](https://pymongo.readthedocs.io/en/stable/tutorial.html#getting-a-single-document-with-find-one)"
   ]
  },
  {
   "cell_type": "markdown",
   "id": "7b161ecf",
   "metadata": {},
   "source": [
    "### 2. Use `find()` to return retrieve all documents from a collection that satisfy specified query criteria\n",
    "The database contains two movies with the title \"Fantastic Four.\" Use `find()` to retrieve the data on both movies."
   ]
  },
  {
   "cell_type": "code",
   "execution_count": 9,
   "id": "2f4bc77d",
   "metadata": {},
   "outputs": [
    {
     "name": "stdout",
     "output_type": "stream",
     "text": [
      "{'_id': ObjectId('573a139af29313caabcf0e9d'),\n",
      " 'awards': {'nominations': 12, 'text': '1 win & 12 nominations.', 'wins': 1},\n",
      " 'cast': ['Ioan Gruffudd', 'Jessica Alba', 'Chris Evans', 'Michael Chiklis'],\n",
      " 'countries': ['USA', 'Germany'],\n",
      " 'directors': ['Tim Story'],\n",
      " 'genres': ['Action', 'Adventure', 'Sci-Fi'],\n",
      " 'imdb': {'id': 120667, 'rating': 5.7, 'votes': 250168},\n",
      " 'languages': ['English'],\n",
      " 'plot': 'A group of astronauts gain superpowers after a cosmic radiation '\n",
      "         'exposure and must use them to oppose the plans of their enemy, '\n",
      "         'Doctor Victor Von Doom.',\n",
      " 'rated': 'PG-13',\n",
      " 'released': datetime.datetime(2005, 7, 8, 0, 0),\n",
      " 'runtime': 106,\n",
      " 'title': 'Fantastic Four',\n",
      " 'year': 2005}\n",
      "{'_id': ObjectId('573a13c8f29313caabd77e87'),\n",
      " 'awards': {'nominations': 0, 'text': '1 win.', 'wins': 1},\n",
      " 'cast': ['Miles Teller', 'Michael B. Jordan', 'Kate Mara', 'Jamie Bell'],\n",
      " 'countries': ['UK', 'Germany', 'USA'],\n",
      " 'directors': ['Josh Trank'],\n",
      " 'genres': ['Action', 'Adventure', 'Sci-Fi'],\n",
      " 'imdb': {'id': 1502712, 'rating': 4, 'votes': 42420},\n",
      " 'languages': ['English'],\n",
      " 'plot': 'Four young outsiders teleport to an alternate and dangerous universe '\n",
      "         'which alters their physical form in shocking ways. The four must '\n",
      "         'learn to harness their new abilities and work together to save Earth '\n",
      "         'from a former friend turned enemy.',\n",
      " 'rated': 'PG-13',\n",
      " 'released': datetime.datetime(2015, 8, 7, 0, 0),\n",
      " 'runtime': 100,\n",
      " 'title': 'Fantastic Four',\n",
      " 'year': 2015}\n"
     ]
    }
   ],
   "source": [
    "# Write your code here\n",
    "query = {'title': 'Fantastic Four'} \n",
    "cursor = movies.find(query)\n",
    "\n",
    "for doc in cursor:\n",
    "    pprint(doc)"
   ]
  },
  {
   "cell_type": "markdown",
   "id": "682b24c9",
   "metadata": {},
   "source": [
    "#### <span style=\"color:blue\">Hints</span>\n",
    "- From the `movies` collection, select documents where the `\"title\"` field's value is `\"Fantastic Four\"`. \n",
    "- `find()` returns a `Cursor` instance. Iterate over the cursor using a for loop. \n",
    "- Use `pprint` to print the output in a more readable format.\n",
    "- Related docs: [Querying for more than one document](https://pymongo.readthedocs.io/en/stable/tutorial.html#querying-for-more-than-one-document) "
   ]
  },
  {
   "cell_type": "markdown",
   "id": "5a73515a",
   "metadata": {},
   "source": [
    "### 3. Use `find()` to return retrieve all documents from a collection that satisfy specified query criteria\n",
    "Use `find()` to find the data on all movies that were released in 2003 and have a runtime of 60 minutes."
   ]
  },
  {
   "cell_type": "code",
   "execution_count": 10,
   "id": "a80443a3",
   "metadata": {},
   "outputs": [
    {
     "name": "stdout",
     "output_type": "stream",
     "text": [
      "{'_id': ObjectId('573a13abf29313caabd26179'),\n",
      " 'awards': {'nominations': 1, 'text': '1 win & 1 nomination.', 'wins': 1},\n",
      " 'cast': ['Darcy Fehr', 'Melissa Dionisio', 'Amy Stewart', 'Tara Birtwhistle'],\n",
      " 'countries': ['Canada'],\n",
      " 'directors': ['Guy Maddin'],\n",
      " 'genres': ['Drama', 'Romance'],\n",
      " 'imdb': {'id': 346800, 'rating': 7.1, 'votes': 962},\n",
      " 'languages': ['English'],\n",
      " 'plot': \"It's time for hockey! There's no telling what will happen when the \"\n",
      "         \"Winnipeg Maroons' own star player Guy becomes embroiled in the \"\n",
      "         'twisted lives of Meta, a vengeful Chinoise, and her ...',\n",
      " 'released': datetime.datetime(2004, 12, 29, 0, 0),\n",
      " 'runtime': 60,\n",
      " 'title': 'Cowards Bend the Knee or The Blue Hands',\n",
      " 'year': 2003}\n",
      "{'_id': ObjectId('573a13aef29313caabd2d51f'),\n",
      " 'awards': {'nominations': 2,\n",
      "            'text': 'Nominated for 1 Primetime Emmy. Another 1 nomination.',\n",
      "            'wins': 0},\n",
      " 'cast': ['Bill Maher'],\n",
      " 'countries': ['USA'],\n",
      " 'directors': ['John Moffitt'],\n",
      " 'genres': ['Comedy'],\n",
      " 'imdb': {'id': 377515, 'rating': 7.1, 'votes': 697},\n",
      " 'languages': ['English'],\n",
      " 'plot': 'Bill Maher stars in his sixth HBO stand-up special, premiering LIVE '\n",
      "         'from the Hudson Theater in New York!',\n",
      " 'released': datetime.datetime(2003, 7, 19, 0, 0),\n",
      " 'runtime': 60,\n",
      " 'title': 'Bill Maher: Victory Begins at Home',\n",
      " 'year': 2003}\n",
      "{'_id': ObjectId('573a13b0f29313caabd355ca'),\n",
      " 'awards': {'nominations': 0, 'text': '1 win.', 'wins': 1},\n",
      " 'countries': ['Russia'],\n",
      " 'directors': ['Sergei Loznitsa'],\n",
      " 'genres': ['Documentary'],\n",
      " 'imdb': {'id': 412904, 'rating': 7, 'votes': 38},\n",
      " 'languages': ['Russian'],\n",
      " 'released': datetime.datetime(2003, 10, 16, 0, 0),\n",
      " 'runtime': 60,\n",
      " 'title': 'Landscape',\n",
      " 'year': 2003}\n"
     ]
    }
   ],
   "source": [
    "# Write your code here \n",
    "query = {'year': 2003, 'runtime': 60}\n",
    "result = movies.find(query)\n",
    "\n",
    "for doc in result:\n",
    "    pprint(doc)"
   ]
  },
  {
   "cell_type": "markdown",
   "id": "3824299d",
   "metadata": {},
   "source": [
    "#### <span style=\"color:blue\">Hints</span>\n",
    "- From the `movies` collection, select documents where the `\"year\"` field's value is `2003` and the `\"runtime\"` field's value is `60`. \n",
    "- `find()` returns a `Cursor` instance. Iterate over the cursor using a for loop. \n",
    "- Use `pprint` to print the output in a more readable format.\n",
    "- Related docs: [Querying for more than one document](https://pymongo.readthedocs.io/en/stable/tutorial.html#querying-for-more-than-one-document) "
   ]
  },
  {
   "cell_type": "markdown",
   "id": "a8eefdcd",
   "metadata": {},
   "source": [
    "### 4. Query a nested field. Use a `projection` parameter. \n",
    "Use `find()` to return data on all movies that have an average rating of 9.0 on IMDB. Include a  projection parameter to return only the following fields: `title`, `imdb`, `year`, `plot`, `_id`."
   ]
  },
  {
   "cell_type": "code",
   "execution_count": 12,
   "id": "d2c7f736",
   "metadata": {},
   "outputs": [
    {
     "name": "stdout",
     "output_type": "stream",
     "text": [
      "{'_id': ObjectId('573a13b1f29313caabd36698'),\n",
      " 'imdb': {'id': 417349, 'rating': 9, 'votes': 16583},\n",
      " 'plot': \"North and South is a four part adaptation of Elizabeth Gaskell's \"\n",
      "         'love story of Margaret Hale, a middle class southerner who is forced '\n",
      "         'to move to the northern town of Milton.',\n",
      " 'title': 'North & South',\n",
      " 'year': 2004}\n",
      "{'_id': ObjectId('573a13b5f29313caabd42722'),\n",
      " 'imdb': {'id': 468569, 'rating': 9, 'votes': 1495351},\n",
      " 'plot': 'When the menace known as the Joker wreaks havoc and chaos on the '\n",
      "         'people of Gotham, the caped crusader must come to terms with one of '\n",
      "         'the greatest psychological tests of his ability to fight injustice.',\n",
      " 'title': 'The Dark Knight',\n",
      " 'year': 2008}\n",
      "{'_id': ObjectId('573a13bdf29313caabd5867a'),\n",
      " 'imdb': {'id': 996994, 'rating': 9, 'votes': 2519},\n",
      " 'plot': 'A seven-part series focusing on the many ways in which the Second '\n",
      "         'World War impacted the lives of American families.',\n",
      " 'title': 'The War',\n",
      " 'year': 2007}\n",
      "{'_id': ObjectId('573a13c5f29313caabd6f5da'),\n",
      " 'imdb': {'id': 1380596, 'rating': 9, 'votes': 2102},\n",
      " 'plot': 'This is a documentary series looking at the most dramatic wildlife '\n",
      "         'spectacles on our planet. We see the impact of the melting of the '\n",
      "         'arctic ice in the summer, the annual return of the ...',\n",
      " 'title': \"Nature's Most Amazing Events\",\n",
      " 'year': 2009}\n"
     ]
    }
   ],
   "source": [
    "# Write your code here\n",
    "query = {\"imdb.rating\": 9.0}\n",
    "projection = {\n",
    "    \"title\": 1,\n",
    "    \"imdb\": 1,\n",
    "    \"year\": 1,\n",
    "    \"plot\": 1,\n",
    "    \"_id\": 1\n",
    "}\n",
    "result = movies.find(query, projection)\n",
    "\n",
    "for doc in result:\n",
    "    pprint(doc)"
   ]
  },
  {
   "cell_type": "markdown",
   "id": "48fdd2df",
   "metadata": {},
   "source": [
    "#### <span style=\"color:blue\">Hints</span>\n",
    "- Start by writing a query to select documents from the `movies` collection where the `\"imdb.rating\"` nested field equals `9.0`. \n",
    "- Add a projection document to the `find` query to specify the fields to be returned. \n",
    "- `find()` returns a `Cursor` instance. Iterate over the cursor using a for loop.\n",
    "- Use `pprint` to print the output in a more readable format.\n",
    "- Related docs: [Return the Specified Fields and the _id Field Only]( https://docs.mongodb.com/manual/tutorial/project-fields-from-query-results/#return-the-specified-fields-and-the-_id-field-only)"
   ]
  },
  {
   "cell_type": "markdown",
   "id": "40782a40",
   "metadata": {},
   "source": [
    "### 5. Query an array. Use a `projection` parameter.\n",
    "Use `find()` to return data on all comedy movies include Hindi language. While the films can include languages other than Hindi, the genre should include `\"Comedy\"` only.\n",
    "\n",
    "Use projection to only return the following fields: `title`, `year`, `languages`, `genres`, `plot`, and `_id`."
   ]
  },
  {
   "cell_type": "code",
   "execution_count": 16,
   "id": "5f024d2b",
   "metadata": {},
   "outputs": [
    {
     "name": "stdout",
     "output_type": "stream",
     "text": [
      "{'_id': ObjectId('573a13a5f29313caabd16070'),\n",
      " 'genres': ['Comedy'],\n",
      " 'languages': ['Hindi'],\n",
      " 'plot': 'Rai Bahadur lives a wealthy lifestyle in Panjim, Goa, along with '\n",
      "         'three brothers, Raman, Kamal, and Ashok along with their respective '\n",
      "         'wives and children. He also has a sister, Shanno, and a ...',\n",
      " 'title': 'Jodi No.1',\n",
      " 'year': 2001}\n",
      "{'_id': ObjectId('573a13a8f29313caabd1c466'),\n",
      " 'genres': ['Comedy'],\n",
      " 'languages': ['Hindi'],\n",
      " 'plot': 'Jhoomri and her husband, Bhimsha, move into a new neighbourhood. '\n",
      "         'Their immediate neighbours are three squabbling couples, namely '\n",
      "         'Vijay and Anjali who are newly married; Appu Khote and Vimla...',\n",
      " 'title': 'Aamdani Atthanni Kharcha Rupaiya',\n",
      " 'year': 2001}\n",
      "{'_id': ObjectId('573a13aef29313caabd2d3a4'),\n",
      " 'genres': ['Comedy'],\n",
      " 'languages': ['Hindi'],\n",
      " 'title': 'Raghu Romeo',\n",
      " 'year': 2003}\n",
      "{'_id': ObjectId('573a13b4f29313caabd3ef8a'),\n",
      " 'genres': ['Comedy'],\n",
      " 'languages': ['Hindi'],\n",
      " 'plot': 'Shyam and Makarand work as photographers in a commercial advertising '\n",
      "         'agency. Both of them like to fool around with women, even though '\n",
      "         'Makarand is engaged to be married to a doctor named ...',\n",
      " 'title': 'Garam Masala',\n",
      " 'year': 2005}\n",
      "{'_id': ObjectId('573a13c2f29313caabd6737d'),\n",
      " 'genres': ['Comedy'],\n",
      " 'languages': ['Hindi'],\n",
      " 'plot': \"Singapore-based Nitin Bankar's education was paid for by his \"\n",
      "         'employer, Kuljeet Kaur, and he, after the passing of his father, '\n",
      "         'works as an unpaid maid-chauffeur for her until such time he ...',\n",
      " 'title': 'De Dana Dan',\n",
      " 'year': 2009}\n",
      "{'_id': ObjectId('573a13caf29313caabd7c854'),\n",
      " 'genres': ['Comedy'],\n",
      " 'languages': ['Hindi'],\n",
      " 'plot': \"Singapore-based Nitin Bankar's education was paid for by his \"\n",
      "         'employer, Kuljeet Kaur, and he, after the passing of his father, '\n",
      "         'works as an unpaid maid-chauffeur for her until such time he ...',\n",
      " 'title': 'De Dana Dan',\n",
      " 'year': 2009}\n",
      "{'_id': ObjectId('573a13d9f29313caabda9e1a'),\n",
      " 'genres': ['Comedy'],\n",
      " 'languages': ['Hindi'],\n",
      " 'plot': 'A woman goes on the hunt for her dream man, armed with her wild '\n",
      "         'imagination, her passion for Masala-films, and her ultra-sensitive '\n",
      "         'sense of smell.',\n",
      " 'title': 'Aiyyaa',\n",
      " 'year': 2012}\n",
      "{'_id': ObjectId('573a13ddf29313caabdb3964'),\n",
      " 'genres': ['Comedy'],\n",
      " 'languages': ['Hindi'],\n",
      " 'plot': 'In Mumbai, affable Bollywood buff and wanna-be-actor Sunny, who '\n",
      "         'works as an assistant director, fantasizes on becoming a heart-throb '\n",
      "         'star. However, at every audition he is summarily thrown ...',\n",
      " 'title': 'Filmistaan',\n",
      " 'year': 2012}\n"
     ]
    }
   ],
   "source": [
    "# Write your code here \n",
    "query = {\n",
    "    \"genres\": [\"Comedy\"], \n",
    "    \"languages\": [\"Hindi\"] \n",
    "}\n",
    "\n",
    "projection = {\n",
    "    \"title\": 1,\n",
    "    \"year\": 1,  \n",
    "    \"languages\": 1, \n",
    "    \"genres\": 1, \n",
    "    \"plot\": 1,  \n",
    "    \"_id\": 1   \n",
    "}\n",
    "\n",
    "result = movies.find(query, projection)\n",
    "\n",
    "for doc in result:\n",
    "    pprint(doc)"
   ]
  },
  {
   "cell_type": "markdown",
   "id": "5c5e6e27",
   "metadata": {},
   "source": [
    "#### <span style=\"color:blue\">Hints</span>\n",
    "- Start by writing a query to select documents from the `movies` collection where the value of the `\"genres\"` field is `[\"Comedy\"]` and the value of the `languages` field includes `\"Hindi\"`. \n",
    "- The values of `genres` and `languages` are arrays. \n",
    "- Add a projection document to the `find` query to specify the fields to be returned. \n",
    "- `find()` returns a `Cursor` instance. Iterate over the cursor using a for loop. \n",
    "- Use `pprint` to print the output in a more readable format.\n",
    "- Related docs:\n",
    "    - [Querying an array](https://docs.mongodb.com/manual/tutorial/query-arrays/)\n",
    "    - [Return the Specified Fields and the _id Field Only]( https://docs.mongodb.com/manual/tutorial/project-fields-from-query-results/#return-the-specified-fields-and-the-_id-field-only)\n"
   ]
  },
  {
   "cell_type": "markdown",
   "id": "6ed1caec",
   "metadata": {},
   "source": [
    "## Section wrap-up\n",
    "\n",
    "Congratulations! In this you section made basic queries using the `find_one()` and `find()` methods. Specifically, you:\n",
    "\n",
    "- Used `find_one()` to return a single document from a collection that satisfies the specified query criteria\n",
    "- Used `find()` to return retrieve all documents from a collection that satisfy the specified query criteria\n",
    "- Queried a nested field\n",
    "- Queried an array\n",
    "- Used a projection parameter to specify the fields to return in the documents that match the query filter\n",
    "\n",
    "Your next step could be to make more advanced queries of the database. "
   ]
  }
 ],
 "metadata": {
  "kernelspec": {
   "display_name": ".venv",
   "language": "python",
   "name": "python3"
  },
  "language_info": {
   "codemirror_mode": {
    "name": "ipython",
    "version": 3
   },
   "file_extension": ".py",
   "mimetype": "text/x-python",
   "name": "python",
   "nbconvert_exporter": "python",
   "pygments_lexer": "ipython3",
   "version": "3.12.3"
  }
 },
 "nbformat": 4,
 "nbformat_minor": 5
}
