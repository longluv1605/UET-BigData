{
 "cells": [
  {
   "cell_type": "code",
   "execution_count": 1,
   "metadata": {},
   "outputs": [
    {
     "name": "stdout",
     "output_type": "stream",
     "text": [
      "Dataset với 100 mẫu đã được lưu thành 'housing_prices.csv'\n"
     ]
    }
   ],
   "source": [
    "import pandas as pd\n",
    "import random\n",
    "\n",
    "# Tạo dataset mẫu với 100 bản ghi\n",
    "data = {\n",
    "    'squareFootage': [random.randint(1000, 4000) for _ in range(100)],  # Diện tích nhà (1000-4000 sqft)\n",
    "    'numRooms': [random.randint(2, 7) for _ in range(100)],  # Số phòng (2-7)\n",
    "    'location': [random.randint(1, 3) for _ in range(100)],  # 1: Urban, 2: Suburban, 3: Rural\n",
    "    'price': [random.randint(200000, 800000) for _ in range(100)]  # Giá nhà (200k-800k USD)\n",
    "}\n",
    "\n",
    "# Tạo DataFrame\n",
    "df = pd.DataFrame(data)\n",
    "\n",
    "# Lưu thành file CSV\n",
    "df.to_csv(\"housing_prices.csv\", index=False)\n",
    "\n",
    "print(\"Dataset với 100 mẫu đã được lưu thành 'housing_prices.csv'\")"
   ]
  }
 ],
 "metadata": {
  "kernelspec": {
   "display_name": "Python 3",
   "language": "python",
   "name": "python3"
  },
  "language_info": {
   "codemirror_mode": {
    "name": "ipython",
    "version": 3
   },
   "file_extension": ".py",
   "mimetype": "text/x-python",
   "name": "python",
   "nbconvert_exporter": "python",
   "pygments_lexer": "ipython3",
   "version": "3.12.4"
  }
 },
 "nbformat": 4,
 "nbformat_minor": 2
}
