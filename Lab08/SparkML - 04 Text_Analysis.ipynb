{
 "cells": [
  {
   "cell_type": "markdown",
   "metadata": {},
   "source": [
    "# Problem Statement: IMDB Comment Sentiment Classifier\n",
    "\n",
    "Dataset: For this exercise we will use a dataset hosted at http://ai.stanford.edu/~amaas/data/sentiment/\n",
    "\n",
    "**Problem Statement**: \n",
    "This is a dataset for binary sentiment classification containing substantially more data than previous benchmark datasets. We provide a set of 25,000 highly polar movie reviews for training, and 25,000 for testing. There is additional unlabeled data for use as well. Raw text and already processed bag of words formats are provided. "
   ]
  },
  {
   "cell_type": "markdown",
   "metadata": {},
   "source": [
    "Launch a spark session, verify the spark session UI"
   ]
  },
  {
   "cell_type": "code",
   "execution_count": 1,
   "metadata": {},
   "outputs": [
    {
     "name": "stderr",
     "output_type": "stream",
     "text": [
      "24/10/31 01:24:28 WARN Utils: Your hostname, long-VirtualBox resolves to a loopback address: 127.0.1.1; using 10.0.2.15 instead (on interface enp0s3)\n",
      "24/10/31 01:24:28 WARN Utils: Set SPARK_LOCAL_IP if you need to bind to another address\n",
      "Setting default log level to \"WARN\".\n",
      "To adjust logging level use sc.setLogLevel(newLevel). For SparkR, use setLogLevel(newLevel).\n",
      "24/10/31 01:24:30 WARN NativeCodeLoader: Unable to load native-hadoop library for your platform... using builtin-java classes where applicable\n"
     ]
    },
    {
     "name": "stdout",
     "output_type": "stream",
     "text": [
      "Spark version:  3.5.3\n"
     ]
    }
   ],
   "source": [
    "# Note: set SPARK_HOME to Spark binaries before launching the Jupyter session.\n",
    "import os, sys\n",
    "SPARK_HOME = os.environ['SPARK_HOME']\n",
    "sys.path.insert(0, os.path.join(SPARK_HOME, \"python\", \"lib\", \"py4j-0.10.4-src.zip\"))\n",
    "sys.path.insert(0, os.path.join(SPARK_HOME, \"python\"))\n",
    "\n",
    "from pyspark.sql import SparkSession\n",
    "spark = SparkSession.builder\\\n",
    "    .appName(\"SparkML-ImageClf\")\\\n",
    "    .config(\"spark.driver.memory\", \"4g\")\\\n",
    "    .config(\"spark.executor.memory\", \"4g\")\\\n",
    "    .getOrCreate()\n",
    "print(\"Spark version: \", spark.version)"
   ]
  },
  {
   "cell_type": "code",
   "execution_count": 2,
   "metadata": {},
   "outputs": [
    {
     "data": {
      "text/plain": [
       "'http://10.0.2.15:4040'"
      ]
     },
     "execution_count": 2,
     "metadata": {},
     "output_type": "execute_result"
    }
   ],
   "source": [
    "spark.sparkContext.uiWebUrl"
   ]
  },
  {
   "cell_type": "markdown",
   "metadata": {},
   "source": [
    "IMDB comments dataset has been stored in the following location "
   ]
  },
  {
   "cell_type": "code",
   "execution_count": 7,
   "metadata": {},
   "outputs": [
    {
     "name": "stdout",
     "output_type": "stream",
     "text": [
      "50000 ./data/imdb-comments.json\n"
     ]
    }
   ],
   "source": [
    "!wc -l ./data/imdb-comments.json"
   ]
  },
  {
   "cell_type": "markdown",
   "metadata": {},
   "source": [
    "There are 50000 lines in the file. Let's the first line"
   ]
  },
  {
   "cell_type": "code",
   "execution_count": 9,
   "metadata": {},
   "outputs": [
    {
     "name": "stdout",
     "output_type": "stream",
     "text": [
      "67M\t./data/imdb-comments.json\n"
     ]
    }
   ],
   "source": [
    "!du -sh ./data/imdb-comments.json"
   ]
  },
  {
   "cell_type": "markdown",
   "metadata": {},
   "source": [
    "Total size of the file is 66MB"
   ]
  },
  {
   "cell_type": "code",
   "execution_count": 11,
   "metadata": {},
   "outputs": [
    {
     "name": "stdout",
     "output_type": "stream",
     "text": [
      "{\"label\": \"train\", \"sentiment\": \"pos\", \"name\": \"9661_8.txt\", \"content\": \"After losing the Emmy for her performance as Mama Rose in the television version of GYPSY, Bette won an Emmy the following year for BETTE MIDLER: DIVA LAS VEGAS, a live concert special filmed for HBO from Las Vegas. Midler, who has been performing live on stage since the 1970's, proves that she is still one of the most electrifying live performers in the business. From her opening number, her classic \\\"Friends\\\", where she descends from the wings atop a beautiful prop cloud, Bette commands the stage with style and charisma from a rap-styled number called \\\"I Look Good\\\" she then proves that she has a way with a joke like few other performers in this business as she segues her way through a variety of musical selections. The section of the show where she salutes burlesque goes on a little too long but she does manage to incorporate her old Sophie Tucker jokes here to good advantage (even though she actually forgets one joke in the middle of telling it, but her ad-libbing until she remembers it is hysterical). Bette also treats us to \\\"Rose's Turn\\\" from GYPSY and the title tune from her smash film THE ROSE as well as a shameless plug for her hit movie THE FIRST WIVES CLUB. She brings the house down near the end with \\\"Stay with Me, Baby\\\" from THE ROSE and her only #1 hit record, \\\"Wind Beneath My Wings\\\" from BEACHES. It's a dazzling evening of musical comedy entertainment and for Midler fans, it's a must.\"}\n"
     ]
    }
   ],
   "source": [
    "!head -n 1 ./data/imdb-comments.json"
   ]
  },
  {
   "cell_type": "markdown",
   "metadata": {},
   "source": [
    "Each line is a self contained json doc. Load the dataset using spark reader specifying the file format as json. As we see above size of the file is 66 MB, we should at least 2 partitons, since I am using dual core system, I will repartition the data to 4. Also will cache the data after repartitioning."
   ]
  },
  {
   "cell_type": "code",
   "execution_count": 12,
   "metadata": {
    "collapsed": true
   },
   "outputs": [
    {
     "name": "stderr",
     "output_type": "stream",
     "text": [
      "                                                                                \r"
     ]
    }
   ],
   "source": [
    "imdb = spark.read.format(\"json\").load(\"./data/imdb-comments.json\").repartition(4).cache()"
   ]
  },
  {
   "cell_type": "markdown",
   "metadata": {},
   "source": [
    "Find total number of records"
   ]
  },
  {
   "cell_type": "code",
   "execution_count": 13,
   "metadata": {},
   "outputs": [
    {
     "name": "stdout",
     "output_type": "stream",
     "text": [
      "Long: 22022604\n"
     ]
    },
    {
     "name": "stderr",
     "output_type": "stream",
     "text": [
      "                                                                                \r"
     ]
    },
    {
     "data": {
      "text/plain": [
       "50000"
      ]
     },
     "execution_count": 13,
     "metadata": {},
     "output_type": "execute_result"
    }
   ],
   "source": [
    "print('Long: 22022604')\n",
    "imdb.count()"
   ]
  },
  {
   "cell_type": "markdown",
   "metadata": {},
   "source": [
    "Print Schema and view the field types"
   ]
  },
  {
   "cell_type": "code",
   "execution_count": 14,
   "metadata": {},
   "outputs": [
    {
     "name": "stdout",
     "output_type": "stream",
     "text": [
      "Long: 22022604\n",
      "root\n",
      " |-- content: string (nullable = true)\n",
      " |-- label: string (nullable = true)\n",
      " |-- name: string (nullable = true)\n",
      " |-- sentiment: string (nullable = true)\n",
      "\n"
     ]
    }
   ],
   "source": [
    "print('Long: 22022604')\n",
    "imdb.printSchema()"
   ]
  },
  {
   "cell_type": "markdown",
   "metadata": {},
   "source": [
    "Take a look at a few sample data"
   ]
  },
  {
   "cell_type": "code",
   "execution_count": 15,
   "metadata": {
    "scrolled": false
   },
   "outputs": [
    {
     "name": "stdout",
     "output_type": "stream",
     "text": [
      "Long: 22022604\n",
      "+--------------------+-----+-----------+---------+\n",
      "|             content|label|       name|sentiment|\n",
      "+--------------------+-----+-----------+---------+\n",
      "|Pakeezah is in my...|train|3303_10.txt|      pos|\n",
      "|This is a really ...|train|7951_10.txt|      pos|\n",
      "|I am always wary ...|train| 6209_4.txt|      neg|\n",
      "|I discovered this...|train| 3410_9.txt|      pos|\n",
      "|It's remarkable a...|train| 9575_9.txt|      pos|\n",
      "|CAROL'S JOURNEY i...|train|5341_10.txt|      pos|\n",
      "|Considered by alm...|train|11288_8.txt|      pos|\n",
      "|Had never heard o...|train|2306_10.txt|      pos|\n",
      "|I got this movie ...|train| 2517_9.txt|      pos|\n",
      "|This movie has be...|train| 3875_9.txt|      pos|\n",
      "|This movie has it...|train| 9774_8.txt|      pos|\n",
      "|This movie has re...|train| 9189_1.txt|      neg|\n",
      "|Alexandr \"Sascha\"...|train|  484_8.txt|      pos|\n",
      "|Put quite simply,...|train|3286_10.txt|      pos|\n",
      "|An unusual take o...|train| 5163_7.txt|      pos|\n",
      "|Peaches is truly ...|train|9782_10.txt|      pos|\n",
      "|This has just bee...|train| 4888_8.txt|      pos|\n",
      "|This was fun to w...|train| 4848_7.txt|      pos|\n",
      "|This is a delight...|train|1133_10.txt|      pos|\n",
      "|Clint Tollinger a...|train| 3348_7.txt|      pos|\n",
      "+--------------------+-----+-----------+---------+\n",
      "only showing top 20 rows\n",
      "\n"
     ]
    }
   ],
   "source": [
    "print('Long: 22022604')\n",
    "imdb.show()"
   ]
  },
  {
   "cell_type": "markdown",
   "metadata": {},
   "source": [
    "*label* - column indicate whethet the data belong to training or test bucket.\n",
    "*sentiment* - column indicates whether the comment carries positive or negative sentiment. This column has been manually curated.\n",
    "\n",
    "Find out for each combination of label and sentimnet how many records are there."
   ]
  },
  {
   "cell_type": "code",
   "execution_count": 16,
   "metadata": {
    "collapsed": true
   },
   "outputs": [],
   "source": [
    "from pyspark.sql.functions import *\n",
    "from pyspark.sql.types import *"
   ]
  },
  {
   "cell_type": "code",
   "execution_count": 17,
   "metadata": {},
   "outputs": [
    {
     "name": "stdout",
     "output_type": "stream",
     "text": [
      "Long: 22022604\n",
      "+---------+-----+-----+\n",
      "|sentiment| test|train|\n",
      "+---------+-----+-----+\n",
      "|      pos|12500|12500|\n",
      "|      neg|12500|12500|\n",
      "+---------+-----+-----+\n",
      "\n"
     ]
    }
   ],
   "source": [
    "print('Long: 22022604')\n",
    "imdb.groupBy(\"sentiment\").pivot(\"label\").count().show()"
   ]
  },
  {
   "cell_type": "markdown",
   "metadata": {},
   "source": [
    "Look at a sample comment value"
   ]
  },
  {
   "cell_type": "code",
   "execution_count": 18,
   "metadata": {},
   "outputs": [
    {
     "name": "stdout",
     "output_type": "stream",
     "text": [
      "Long: 22022604\n"
     ]
    },
    {
     "data": {
      "text/plain": [
       "'How can anyone argue the fact that Urban Cowboy was, and still is, the best document of Texas life for the time period. Consider the following: men beat their wives, get drunk at bars nightly, get married to settle a fight, commit adultery, and compete on mechanical bulls. Try and name a movie that depicts real life so vividly. They dont make them anymore. It seems current films are always about people with lots of money, they live in huge homes, drive expensive cars and don\\'t work. This movie has a celebration scene about getting a trailer for pete\\'s sake !<br /><br />Anyway, I watch it at least once a week. No kidding. I have dissected this movie from end to end. feel free to email me to learn more about my reason for calling it a documentary. Consider the following scenes: Bud sees Sissy - they are split up - he amicably honks and waves, she flips him the bird - he returns half the peace sign honking his horn to add impact then tears off.<br /><br />Buds mom calls him approx. 18 hours after he gets into town, on a Sunday, to see if he has a job yet - all he has accomplished is getting drunk and laid(x2), with help from his uncle and aunt who cover for him.<br /><br />\"You all live like pigs\" Think about why this scene is needed. Think about it. Was it necessary ? Could we not figure it out without showing the filthy sink ? God I love that !<br /><br />Sissy allows Wes to help her ride the bull. Only a few days (or possibly the next day) after Wes just kicked the crap out of her husband. Steve asks - Hey Sissy, remember Wes ? Oh yeah, didnt you beat my husband up the other night, so let\\'s get this lesson goin\\', to make no mention of the fact that she seeks solace in him later during one Bud and Sissy\\'s many fights, which by the way all take place in public - in Gilley\\'s !<br /><br />The Wedding reception picture taking session (oh the humanity !) could they at least arrange or move the chairs out of the way. \"My legs are sweatin\\' momma\"<br /><br />In conclusion, you don\\'t put scenes like this in a movie to try and show insight into human psychology. It is a documentary of real life.<br /><br />I only wish there was a director\\'s cut....'"
      ]
     },
     "execution_count": 18,
     "metadata": {},
     "output_type": "execute_result"
    }
   ],
   "source": [
    "print('Long: 22022604')\n",
    "content = imdb.sample(False, 0.001, 1).first().content\n",
    "content"
   ]
  },
  {
   "cell_type": "markdown",
   "metadata": {},
   "source": [
    "Register a UDF function to clean the comment from the html tags. If BeautifulSoup is not installed, you can install it using pip \n",
    "\n",
    "```(shell command)\n",
    "$ pip install BeautifulSoup4\n",
    "```"
   ]
  },
  {
   "cell_type": "code",
   "execution_count": null,
   "metadata": {
    "collapsed": true
   },
   "outputs": [
    {
     "name": "stderr",
     "output_type": "stream",
     "text": [
      "24/10/31 01:43:35 WARN SimpleFunctionRegistry: The function remove_html_tags replaced a previously registered function.\n"
     ]
    },
    {
     "data": {
      "text/plain": [
       "<function __main__.remove_html_tags(text)>"
      ]
     },
     "execution_count": 30,
     "metadata": {},
     "output_type": "execute_result"
    }
   ],
   "source": [
    "from bs4 import BeautifulSoup\n",
    "from pyspark.sql.types import * \n",
    "import re\n",
    "def remove_html_tags(text):\n",
    "    text = BeautifulSoup(text, \"html.parser\").text.lower() #removed html tags\n",
    "    text = re.sub(r\"[\\W]+\", \" \", text)\n",
    "    return text\n",
    "\n",
    "spark.udf.register(\"remove_html_tags\", remove_html_tags, StringType())"
   ]
  },
  {
   "cell_type": "markdown",
   "metadata": {},
   "source": [
    "Test the remove_html_tags function"
   ]
  },
  {
   "cell_type": "code",
   "execution_count": 31,
   "metadata": {},
   "outputs": [
    {
     "name": "stdout",
     "output_type": "stream",
     "text": [
      "Long: 22022604\n"
     ]
    },
    {
     "data": {
      "text/plain": [
       "'how can anyone argue the fact that urban cowboy was and still is the best document of texas life for the time period consider the following men beat their wives get drunk at bars nightly get married to settle a fight commit adultery and compete on mechanical bulls try and name a movie that depicts real life so vividly they dont make them anymore it seems current films are always about people with lots of money they live in huge homes drive expensive cars and don t work this movie has a celebration scene about getting a trailer for pete s sake anyway i watch it at least once a week no kidding i have dissected this movie from end to end feel free to email me to learn more about my reason for calling it a documentary consider the following scenes bud sees sissy they are split up he amicably honks and waves she flips him the bird he returns half the peace sign honking his horn to add impact then tears off buds mom calls him approx 18 hours after he gets into town on a sunday to see if he has a job yet all he has accomplished is getting drunk and laid x2 with help from his uncle and aunt who cover for him you all live like pigs think about why this scene is needed think about it was it necessary could we not figure it out without showing the filthy sink god i love that sissy allows wes to help her ride the bull only a few days or possibly the next day after wes just kicked the crap out of her husband steve asks hey sissy remember wes oh yeah didnt you beat my husband up the other night so let s get this lesson goin to make no mention of the fact that she seeks solace in him later during one bud and sissy s many fights which by the way all take place in public in gilley s the wedding reception picture taking session oh the humanity could they at least arrange or move the chairs out of the way my legs are sweatin momma in conclusion you don t put scenes like this in a movie to try and show insight into human psychology it is a documentary of real life i only wish there was a director s cut '"
      ]
     },
     "execution_count": 31,
     "metadata": {},
     "output_type": "execute_result"
    }
   ],
   "source": [
    "print('Long: 22022604')\n",
    "remove_html_tags(content)"
   ]
  },
  {
   "cell_type": "markdown",
   "metadata": {},
   "source": [
    "Apply the the udf on the imdb dataframe."
   ]
  },
  {
   "cell_type": "code",
   "execution_count": 32,
   "metadata": {},
   "outputs": [
    {
     "name": "stdout",
     "output_type": "stream",
     "text": [
      "Long: 22022604\n"
     ]
    },
    {
     "name": "stderr",
     "output_type": "stream",
     "text": [
      "/tmp/ipykernel_24569/2569747742.py:7: MarkupResemblesLocatorWarning: The input looks more like a filename than markup. You may want to open this file and pass the filehandle into Beautiful Soup.\n",
      "/tmp/ipykernel_24569/2569747742.py:7: MarkupResemblesLocatorWarning: The input looks more like a filename than markup. You may want to open this file and pass the filehandle into Beautiful Soup.\n",
      "/tmp/ipykernel_24569/2569747742.py:7: MarkupResemblesLocatorWarning: The input looks more like a filename than markup. You may want to open this file and pass the filehandle into Beautiful Soup.\n",
      "/tmp/ipykernel_24569/2569747742.py:7: MarkupResemblesLocatorWarning: The input looks more like a filename than markup. You may want to open this file and pass the filehandle into Beautiful Soup.\n",
      "                                                                                \r"
     ]
    },
    {
     "data": {
      "text/plain": [
       "'how can anyone argue the fact that urban cowboy was and still is the best document of texas life for the time period consider the following men beat their wives get drunk at bars nightly get married to settle a fight commit adultery and compete on mechanical bulls try and name a movie that depicts real life so vividly they dont make them anymore it seems current films are always about people with lots of money they live in huge homes drive expensive cars and don t work this movie has a celebration scene about getting a trailer for pete s sake anyway i watch it at least once a week no kidding i have dissected this movie from end to end feel free to email me to learn more about my reason for calling it a documentary consider the following scenes bud sees sissy they are split up he amicably honks and waves she flips him the bird he returns half the peace sign honking his horn to add impact then tears off buds mom calls him approx 18 hours after he gets into town on a sunday to see if he has a job yet all he has accomplished is getting drunk and laid x2 with help from his uncle and aunt who cover for him you all live like pigs think about why this scene is needed think about it was it necessary could we not figure it out without showing the filthy sink god i love that sissy allows wes to help her ride the bull only a few days or possibly the next day after wes just kicked the crap out of her husband steve asks hey sissy remember wes oh yeah didnt you beat my husband up the other night so let s get this lesson goin to make no mention of the fact that she seeks solace in him later during one bud and sissy s many fights which by the way all take place in public in gilley s the wedding reception picture taking session oh the humanity could they at least arrange or move the chairs out of the way my legs are sweatin momma in conclusion you don t put scenes like this in a movie to try and show insight into human psychology it is a documentary of real life i only wish there was a director s cut '"
      ]
     },
     "execution_count": 32,
     "metadata": {},
     "output_type": "execute_result"
    }
   ],
   "source": [
    "print('Long: 22022604')\n",
    "imdb_clean = imdb.withColumn(\"content\", expr(\"remove_html_tags(content)\")).cache()\n",
    "imdb_clean.sample(False, 0.001, 1).first().content"
   ]
  },
  {
   "cell_type": "markdown",
   "metadata": {},
   "source": [
    "Use Tokenizer to split the string into terms. Then use StopWordsRemover to remove stop words like prepositions, apply CountVectorizer to find all distinct terms and found of each term per document. "
   ]
  },
  {
   "cell_type": "code",
   "execution_count": 33,
   "metadata": {
    "collapsed": true
   },
   "outputs": [],
   "source": [
    "from pyspark.ml.feature import HashingTF, IDF, Tokenizer, CountVectorizer, StopWordsRemover"
   ]
  },
  {
   "cell_type": "code",
   "execution_count": 34,
   "metadata": {
    "collapsed": true
   },
   "outputs": [],
   "source": [
    "tokenizer = Tokenizer(inputCol=\"content\", outputCol=\"terms\")\n",
    "terms_data = tokenizer.transform(imdb_clean)"
   ]
  },
  {
   "cell_type": "code",
   "execution_count": 35,
   "metadata": {
    "scrolled": false
   },
   "outputs": [
    {
     "name": "stdout",
     "output_type": "stream",
     "text": [
      "Long: 22022604\n",
      "['how', 'can', 'anyone', 'argue', 'the', 'fact', 'that', 'urban', 'cowboy', 'was', 'and', 'still', 'is', 'the', 'best', 'document', 'of', 'texas', 'life', 'for', 'the', 'time', 'period', 'consider', 'the', 'following', 'men', 'beat', 'their', 'wives', 'get', 'drunk', 'at', 'bars', 'nightly', 'get', 'married', 'to', 'settle', 'a', 'fight', 'commit', 'adultery', 'and', 'compete', 'on', 'mechanical', 'bulls', 'try', 'and', 'name', 'a', 'movie', 'that', 'depicts', 'real', 'life', 'so', 'vividly', 'they', 'dont', 'make', 'them', 'anymore', 'it', 'seems', 'current', 'films', 'are', 'always', 'about', 'people', 'with', 'lots', 'of', 'money', 'they', 'live', 'in', 'huge', 'homes', 'drive', 'expensive', 'cars', 'and', 'don', 't', 'work', 'this', 'movie', 'has', 'a', 'celebration', 'scene', 'about', 'getting', 'a', 'trailer', 'for', 'pete', 's', 'sake', 'anyway', 'i', 'watch', 'it', 'at', 'least', 'once', 'a', 'week', 'no', 'kidding', 'i', 'have', 'dissected', 'this', 'movie', 'from', 'end', 'to', 'end', 'feel', 'free', 'to', 'email', 'me', 'to', 'learn', 'more', 'about', 'my', 'reason', 'for', 'calling', 'it', 'a', 'documentary', 'consider', 'the', 'following', 'scenes', 'bud', 'sees', 'sissy', 'they', 'are', 'split', 'up', 'he', 'amicably', 'honks', 'and', 'waves', 'she', 'flips', 'him', 'the', 'bird', 'he', 'returns', 'half', 'the', 'peace', 'sign', 'honking', 'his', 'horn', 'to', 'add', 'impact', 'then', 'tears', 'off', 'buds', 'mom', 'calls', 'him', 'approx', '18', 'hours', 'after', 'he', 'gets', 'into', 'town', 'on', 'a', 'sunday', 'to', 'see', 'if', 'he', 'has', 'a', 'job', 'yet', 'all', 'he', 'has', 'accomplished', 'is', 'getting', 'drunk', 'and', 'laid', 'x2', 'with', 'help', 'from', 'his', 'uncle', 'and', 'aunt', 'who', 'cover', 'for', 'him', 'you', 'all', 'live', 'like', 'pigs', 'think', 'about', 'why', 'this', 'scene', 'is', 'needed', 'think', 'about', 'it', 'was', 'it', 'necessary', 'could', 'we', 'not', 'figure', 'it', 'out', 'without', 'showing', 'the', 'filthy', 'sink', 'god', 'i', 'love', 'that', 'sissy', 'allows', 'wes', 'to', 'help', 'her', 'ride', 'the', 'bull', 'only', 'a', 'few', 'days', 'or', 'possibly', 'the', 'next', 'day', 'after', 'wes', 'just', 'kicked', 'the', 'crap', 'out', 'of', 'her', 'husband', 'steve', 'asks', 'hey', 'sissy', 'remember', 'wes', 'oh', 'yeah', 'didnt', 'you', 'beat', 'my', 'husband', 'up', 'the', 'other', 'night', 'so', 'let', 's', 'get', 'this', 'lesson', 'goin', 'to', 'make', 'no', 'mention', 'of', 'the', 'fact', 'that', 'she', 'seeks', 'solace', 'in', 'him', 'later', 'during', 'one', 'bud', 'and', 'sissy', 's', 'many', 'fights', 'which', 'by', 'the', 'way', 'all', 'take', 'place', 'in', 'public', 'in', 'gilley', 's', 'the', 'wedding', 'reception', 'picture', 'taking', 'session', 'oh', 'the', 'humanity', 'could', 'they', 'at', 'least', 'arrange', 'or', 'move', 'the', 'chairs', 'out', 'of', 'the', 'way', 'my', 'legs', 'are', 'sweatin', 'momma', 'in', 'conclusion', 'you', 'don', 't', 'put', 'scenes', 'like', 'this', 'in', 'a', 'movie', 'to', 'try', 'and', 'show', 'insight', 'into', 'human', 'psychology', 'it', 'is', 'a', 'documentary', 'of', 'real', 'life', 'i', 'only', 'wish', 'there', 'was', 'a', 'director', 's', 'cut']\n"
     ]
    }
   ],
   "source": [
    "print('Long: 22022604')\n",
    "print(terms_data.sample(False, 0.001, 1).first().terms)"
   ]
  },
  {
   "cell_type": "code",
   "execution_count": 36,
   "metadata": {
    "collapsed": true
   },
   "outputs": [],
   "source": [
    "remover = StopWordsRemover(inputCol=\"terms\", outputCol=\"filtered\")\n",
    "terms_stop_removed = remover.transform(terms_data)"
   ]
  },
  {
   "cell_type": "code",
   "execution_count": 37,
   "metadata": {},
   "outputs": [
    {
     "name": "stdout",
     "output_type": "stream",
     "text": [
      "Long: 22022604\n",
      "['anyone', 'argue', 'fact', 'urban', 'cowboy', 'still', 'best', 'document', 'texas', 'life', 'time', 'period', 'consider', 'following', 'men', 'beat', 'wives', 'get', 'drunk', 'bars', 'nightly', 'get', 'married', 'settle', 'fight', 'commit', 'adultery', 'compete', 'mechanical', 'bulls', 'try', 'name', 'movie', 'depicts', 'real', 'life', 'vividly', 'dont', 'make', 'anymore', 'seems', 'current', 'films', 'always', 'people', 'lots', 'money', 'live', 'huge', 'homes', 'drive', 'expensive', 'cars', 'work', 'movie', 'celebration', 'scene', 'getting', 'trailer', 'pete', 'sake', 'anyway', 'watch', 'least', 'week', 'kidding', 'dissected', 'movie', 'end', 'end', 'feel', 'free', 'email', 'learn', 'reason', 'calling', 'documentary', 'consider', 'following', 'scenes', 'bud', 'sees', 'sissy', 'split', 'amicably', 'honks', 'waves', 'flips', 'bird', 'returns', 'half', 'peace', 'sign', 'honking', 'horn', 'add', 'impact', 'tears', 'buds', 'mom', 'calls', 'approx', '18', 'hours', 'gets', 'town', 'sunday', 'see', 'job', 'yet', 'accomplished', 'getting', 'drunk', 'laid', 'x2', 'help', 'uncle', 'aunt', 'cover', 'live', 'like', 'pigs', 'think', 'scene', 'needed', 'think', 'necessary', 'figure', 'without', 'showing', 'filthy', 'sink', 'god', 'love', 'sissy', 'allows', 'wes', 'help', 'ride', 'bull', 'days', 'possibly', 'next', 'day', 'wes', 'kicked', 'crap', 'husband', 'steve', 'asks', 'hey', 'sissy', 'remember', 'wes', 'oh', 'yeah', 'didnt', 'beat', 'husband', 'night', 'let', 'get', 'lesson', 'goin', 'make', 'mention', 'fact', 'seeks', 'solace', 'later', 'one', 'bud', 'sissy', 'many', 'fights', 'way', 'take', 'place', 'public', 'gilley', 'wedding', 'reception', 'picture', 'taking', 'session', 'oh', 'humanity', 'least', 'arrange', 'move', 'chairs', 'way', 'legs', 'sweatin', 'momma', 'conclusion', 'put', 'scenes', 'like', 'movie', 'try', 'show', 'insight', 'human', 'psychology', 'documentary', 'real', 'life', 'wish', 'director', 'cut']\n"
     ]
    }
   ],
   "source": [
    "print('Long: 22022604')\n",
    "print(terms_stop_removed.sample(False, 0.001, 1).first().filtered)"
   ]
  },
  {
   "cell_type": "code",
   "execution_count": 38,
   "metadata": {},
   "outputs": [
    {
     "name": "stdout",
     "output_type": "stream",
     "text": [
      "Long: 22022604\n"
     ]
    },
    {
     "name": "stderr",
     "output_type": "stream",
     "text": [
      "24/10/31 01:44:30 WARN DAGScheduler: Broadcasting large task binary with size 1147.3 KiB\n"
     ]
    },
    {
     "data": {
      "text/plain": [
       "SparseVector(103999, {0: 4.0, 2: 1.0, 3: 2.0, 5: 1.0, 9: 1.0, 13: 3.0, 14: 1.0, 19: 2.0, 20: 2.0, 23: 2.0, 24: 1.0, 26: 1.0, 28: 1.0, 30: 1.0, 33: 3.0, 35: 1.0, 36: 1.0, 42: 2.0, 43: 2.0, 44: 1.0, 46: 2.0, 52: 2.0, 58: 1.0, 65: 1.0, 86: 1.0, 88: 1.0, 93: 2.0, 104: 1.0, 109: 1.0, 114: 1.0, 119: 2.0, 126: 1.0, 140: 1.0, 142: 1.0, 148: 1.0, 165: 1.0, 167: 1.0, 169: 1.0, 178: 1.0, 183: 1.0, 188: 1.0, 195: 1.0, 197: 1.0, 202: 1.0, 229: 1.0, 236: 2.0, 245: 2.0, 257: 1.0, 270: 1.0, 271: 2.0, 276: 1.0, 281: 1.0, 309: 2.0, 311: 2.0, 322: 1.0, 367: 1.0, 381: 1.0, 386: 1.0, 429: 1.0, 436: 1.0, 468: 1.0, 475: 1.0, 489: 2.0, 505: 1.0, 511: 2.0, 516: 1.0, 517: 1.0, 522: 1.0, 605: 1.0, 616: 1.0, 622: 1.0, 637: 1.0, 698: 1.0, 702: 1.0, 714: 1.0, 730: 1.0, 748: 1.0, 754: 1.0, 762: 1.0, 842: 2.0, 855: 1.0, 915: 1.0, 928: 1.0, 964: 1.0, 996: 1.0, 1042: 2.0, 1075: 1.0, 1111: 1.0, 1172: 1.0, 1176: 1.0, 1191: 1.0, 1198: 1.0, 1352: 2.0, 1353: 1.0, 1387: 1.0, 1415: 1.0, 1463: 1.0, 1501: 1.0, 1593: 1.0, 1603: 1.0, 1628: 1.0, 1631: 1.0, 1647: 1.0, 1729: 1.0, 1736: 1.0, 1767: 1.0, 1772: 1.0, 1809: 2.0, 1885: 1.0, 1892: 1.0, 1936: 1.0, 1955: 1.0, 2025: 1.0, 2091: 1.0, 2299: 1.0, 2304: 1.0, 2464: 1.0, 2491: 1.0, 2635: 1.0, 2733: 1.0, 2922: 1.0, 2956: 1.0, 2991: 1.0, 3019: 1.0, 3168: 1.0, 3269: 1.0, 3282: 1.0, 3389: 1.0, 3433: 1.0, 3548: 1.0, 3746: 1.0, 3813: 1.0, 4075: 1.0, 4162: 1.0, 4444: 1.0, 4587: 1.0, 4601: 1.0, 4622: 1.0, 4709: 1.0, 4746: 3.0, 4773: 1.0, 5138: 2.0, 5280: 1.0, 5370: 1.0, 5395: 1.0, 5885: 1.0, 5935: 1.0, 5996: 1.0, 6029: 1.0, 6451: 1.0, 6610: 1.0, 6713: 1.0, 6770: 4.0, 7222: 1.0, 7315: 1.0, 8230: 1.0, 8524: 1.0, 8534: 1.0, 8778: 1.0, 8915: 1.0, 9927: 1.0, 10599: 1.0, 11772: 1.0, 13853: 1.0, 14439: 1.0, 15743: 1.0, 18469: 1.0, 18805: 1.0, 21289: 1.0, 21832: 1.0, 28559: 1.0, 28744: 1.0, 29097: 1.0, 38892: 1.0, 43845: 1.0, 58230: 1.0, 66722: 1.0})"
      ]
     },
     "execution_count": 38,
     "metadata": {},
     "output_type": "execute_result"
    }
   ],
   "source": [
    "print('Long: 22022604')\n",
    "count_vectorizer = CountVectorizer(inputCol=\"filtered\", outputCol=\"count_vectors\")\n",
    "count_vectorizer_model = count_vectorizer.fit(terms_stop_removed)\n",
    "count_vectorized = count_vectorizer_model.transform(terms_stop_removed)\n",
    "count_vectorized.sample(False, 0.001, 1).first().count_vectors"
   ]
  },
  {
   "cell_type": "markdown",
   "metadata": {},
   "source": [
    "count_vectorized Dataframe contains a column count_vectors that is a SparseVector representing which term appears and how many times. The key is the index of all unique terms. You can find list of terms count_vectorizer_model.vocabulary. See below."
   ]
  },
  {
   "cell_type": "code",
   "execution_count": 39,
   "metadata": {
    "scrolled": false
   },
   "outputs": [
    {
     "name": "stdout",
     "output_type": "stream",
     "text": [
      "Long: 22022604\n",
      "['movie', 'film', 'one', 'like', 'good', 'time', 'even', 'story', 'really', 'see', 'well', 'much', 'bad', 'get', 'people', 'great', 'also', 'first', 'made', 'make', 'way', 'movies', 'characters', 'think', 'watch', 'character', 'films', 'two', 'many', 'seen', 'love', 'never', 'plot', 'life', 'acting', 'show', 'best', 'know', 'little', 'ever', 'man', 'better', 'end', 'scene', 'still', 'say', 'scenes', 've', 'something', 'm', 'go', 'back', 'real', 'thing', 'watching', 'actors', 're', 'doesn', 'director', 'didn', 'years', 'funny', 'though', 'old', 'another', 'work', '10', 'actually', 'nothing', 'makes', 'look', 'find', 'going', 'new', 'lot', 'every', 'part', 'world', 'cast', 'us', 'things', 'want', 'quite', 'pretty', 'horror', 'around', 'seems', 'young', 'take', 'big', 'however', 'got', 'thought', 'fact', 'enough', 'long', 'give', 'may', 'comedy', 'series'] \n",
      "\n",
      "Total no of terms 103999\n"
     ]
    }
   ],
   "source": [
    "print('Long: 22022604')\n",
    "print(count_vectorizer_model.vocabulary[:100], \"\\n\\nTotal no of terms\", len(count_vectorizer_model.vocabulary))"
   ]
  },
  {
   "cell_type": "code",
   "execution_count": 40,
   "metadata": {},
   "outputs": [
    {
     "name": "stdout",
     "output_type": "stream",
     "text": [
      "Long: 22022604\n",
      "+--------------------+-----+-----------+---------+--------------------+--------------------+--------------------+\n",
      "|             content|label|       name|sentiment|               terms|            filtered|       count_vectors|\n",
      "+--------------------+-----+-----------+---------+--------------------+--------------------+--------------------+\n",
      "|pakeezah is in my...|train|3303_10.txt|      pos|[pakeezah, is, in...|[pakeezah, mind, ...|(103999,[1,16,75,...|\n",
      "|this is a really ...|train|7951_10.txt|      pos|[this, is, a, rea...|[really, nice, sw...|(103999,[0,4,5,8,...|\n",
      "|i am always wary ...|train| 6209_4.txt|      neg|[i, am, always, w...|[always, wary, ta...|(103999,[0,1,2,3,...|\n",
      "|i discovered this...|train| 3410_9.txt|      pos|[i, discovered, t...|[discovered, film...|(103999,[0,1,3,6,...|\n",
      "|it s remarkable a...|train| 9575_9.txt|      pos|[it, s, remarkabl...|[remarkable, quit...|(103999,[0,1,2,3,...|\n",
      "|carol s journey i...|train|5341_10.txt|      pos|[carol, s, journe...|[carol, journey, ...|(103999,[0,1,2,4,...|\n",
      "|considered by alm...|train|11288_8.txt|      pos|[considered, by, ...|[considered, almo...|(103999,[0,1,2,4,...|\n",
      "|had never heard o...|train|2306_10.txt|      pos|[had, never, hear...|[never, heard, ma...|(103999,[1,2,3,5,...|\n",
      "|i got this movie ...|train| 2517_9.txt|      pos|[i, got, this, mo...|[got, movie, netf...|(103999,[0,1,2,3,...|\n",
      "|this movie has be...|train| 3875_9.txt|      pos|[this, movie, has...|[movie, made, one...|(103999,[0,2,13,1...|\n",
      "|this movie has it...|train| 9774_8.txt|      pos|[this, movie, has...|[movie, ups, down...|(103999,[0,2,4,6,...|\n",
      "|this movie has re...|train| 9189_1.txt|      neg|[this, movie, has...|[movie, received,...|(103999,[0,2,3,4,...|\n",
      "|alexandr sascha l...|train|  484_8.txt|      pos|[alexandr, sascha...|[alexandr, sascha...|(103999,[1,2,7,10...|\n",
      "|put quite simply ...|train|3286_10.txt|      pos|[put, quite, simp...|[put, quite, simp...|(103999,[1,3,5,16...|\n",
      "|an unusual take o...|train| 5163_7.txt|      pos|[an, unusual, tak...|[unusual, take, t...|(103999,[3,4,5,6,...|\n",
      "|peaches is truly ...|train|9782_10.txt|      pos|[peaches, is, tru...|[peaches, truly, ...|(103999,[0,1,2,3,...|\n",
      "|this has just bee...|train| 4888_8.txt|      pos|[this, has, just,...|[broadcast, bbc, ...|(103999,[1,4,18,2...|\n",
      "|this was fun to w...|train| 4848_7.txt|      pos|[this, was, fun, ...|[fun, watch, spoo...|(103999,[2,3,4,10...|\n",
      "|this is a delight...|train|1133_10.txt|      pos|[this, is, a, del...|[delightful, movi...|(103999,[0,3,10,1...|\n",
      "|clint tollinger a...|train| 3348_7.txt|      pos|[clint, tollinger...|[clint, tollinger...|(103999,[0,1,2,3,...|\n",
      "+--------------------+-----+-----------+---------+--------------------+--------------------+--------------------+\n",
      "only showing top 20 rows\n",
      "\n"
     ]
    },
    {
     "name": "stderr",
     "output_type": "stream",
     "text": [
      "24/10/31 01:44:31 WARN DAGScheduler: Broadcasting large task binary with size 1140.9 KiB\n"
     ]
    }
   ],
   "source": [
    "print('Long: 22022604')\n",
    "count_vectorized.show()"
   ]
  },
  {
   "cell_type": "markdown",
   "metadata": {},
   "source": [
    "SparkVector represents a vector of 103999, that means in the dataset (corpus) there are 103999 unique terms. Per document, only a few will be present. Find density of each count_vectors. "
   ]
  },
  {
   "cell_type": "code",
   "execution_count": 41,
   "metadata": {
    "scrolled": false
   },
   "outputs": [
    {
     "name": "stdout",
     "output_type": "stream",
     "text": [
      "Long: 22022604\n"
     ]
    },
    {
     "name": "stderr",
     "output_type": "stream",
     "text": [
      "24/10/31 01:44:32 WARN DAGScheduler: Broadcasting large task binary with size 1136.0 KiB\n"
     ]
    },
    {
     "name": "stdout",
     "output_type": "stream",
     "text": [
      "+--------------------+\n",
      "|             density|\n",
      "+--------------------+\n",
      "|2.211559726535832E-4|\n",
      "|5.865441013855903E-4|\n",
      "|0.003403878883450...|\n",
      "|0.003173107433725...|\n",
      "| 0.00244233117626131|\n",
      "|0.001442321560784...|\n",
      "|0.001038471523764...|\n",
      "|0.001086548909124...|\n",
      "|0.001038471523764...|\n",
      "|6.730833950326445E-4|\n",
      "|3.846190828757969E-4|\n",
      "|0.001201934633986...|\n",
      "|0.001250012019346...|\n",
      "|3.653881287320070...|\n",
      "|0.002076943047529...|\n",
      "|0.001250012019346...|\n",
      "|4.134655140914816...|\n",
      "|7.692381657515938E-4|\n",
      "|7.980845969672786E-4|\n",
      "|0.001923095414378...|\n",
      "+--------------------+\n",
      "only showing top 20 rows\n",
      "\n"
     ]
    },
    {
     "name": "stderr",
     "output_type": "stream",
     "text": [
      "                                                                                \r"
     ]
    }
   ],
   "source": [
    "print('Long: 22022604')\n",
    "vocab_len = len(count_vectorizer_model.vocabulary)\n",
    "spark.udf.register(\"density\", lambda r: r.numNonzeros() / vocab_len, DoubleType())\n",
    "count_vectorized.select(expr(\"density(count_vectors) density\")).show()"
   ]
  },
  {
   "cell_type": "markdown",
   "metadata": {},
   "source": [
    "Density report shows, the count_vectors has very low density which illustrate the benefit of the choice of DenseVector for this column. \n",
    "\n",
    "Now, calculate tfidf for the document. "
   ]
  },
  {
   "cell_type": "code",
   "execution_count": 42,
   "metadata": {
    "collapsed": true
   },
   "outputs": [
    {
     "name": "stderr",
     "output_type": "stream",
     "text": [
      "24/10/31 01:44:33 WARN DAGScheduler: Broadcasting large task binary with size 1147.2 KiB\n",
      "                                                                                \r"
     ]
    }
   ],
   "source": [
    "idf = IDF(inputCol=\"count_vectors\", outputCol=\"features\")\n",
    "idf_model = idf.fit(count_vectorized)\n",
    "idf_data = idf_model.transform(count_vectorized)"
   ]
  },
  {
   "cell_type": "code",
   "execution_count": 43,
   "metadata": {},
   "outputs": [
    {
     "name": "stdout",
     "output_type": "stream",
     "text": [
      "Long: 22022604\n"
     ]
    },
    {
     "name": "stderr",
     "output_type": "stream",
     "text": [
      "24/10/31 01:44:38 WARN DAGScheduler: Broadcasting large task binary with size 2.7 MiB\n"
     ]
    },
    {
     "data": {
      "text/plain": [
       "SparseVector(103999, {0: 1.969, 2: 0.5644, 3: 1.5391, 5: 1.0595, 9: 1.1231, 13: 3.9548, 14: 1.4022, 19: 2.8161, 20: 2.8837, 23: 3.0707, 24: 1.5228, 26: 1.698, 28: 1.5954, 30: 1.7234, 33: 5.1235, 35: 2.0108, 36: 1.643, 42: 3.4529, 43: 3.7287, 44: 1.7577, 46: 3.6937, 52: 3.8257, 58: 1.9661, 65: 1.9844, 86: 2.1693, 88: 2.1243, 93: 4.3115, 104: 2.206, 109: 2.2559, 114: 2.2703, 119: 4.477, 126: 2.321, 140: 2.3969, 142: 2.3539, 148: 2.4444, 165: 2.4637, 167: 2.4981, 169: 2.5091, 178: 2.5325, 183: 2.5847, 188: 2.5871, 195: 2.657, 197: 2.6278, 202: 2.6839, 229: 2.8842, 236: 5.4934, 245: 5.4582, 257: 2.7842, 270: 2.8792, 271: 5.6686, 276: 2.8714, 281: 2.9783, 309: 5.9131, 311: 5.97, 322: 3.0221, 367: 3.0615, 381: 3.3176, 386: 3.2718, 429: 3.1654, 436: 3.3507, 468: 3.3507, 475: 3.3462, 489: 6.9749, 505: 3.3599, 511: 7.3445, 516: 3.3467, 517: 3.345, 522: 3.336, 605: 3.4546, 616: 3.5558, 622: 3.5092, 637: 3.518, 698: 3.642, 702: 3.598, 714: 3.6489, 730: 3.6881, 748: 3.6809, 754: 3.6889, 762: 3.6754, 842: 7.6136, 855: 3.9011, 915: 3.915, 928: 3.9477, 964: 3.9644, 996: 4.0031, 1042: 7.9843, 1075: 4.0984, 1111: 4.0456, 1172: 4.1997, 1176: 4.438, 1191: 4.149, 1198: 4.2254, 1352: 8.6795, 1353: 4.4759, 1387: 4.4516, 1415: 4.326, 1463: 4.4162, 1501: 4.462, 1593: 4.4637, 1603: 4.4397, 1628: 4.5208, 1631: 4.4972, 1647: 4.7445, 1729: 4.6092, 1736: 4.6377, 1767: 4.5737, 1772: 4.7491, 1809: 9.259, 1885: 4.8012, 1892: 4.6439, 1936: 4.7308, 1955: 4.8159, 2025: 4.715, 2091: 4.7468, 2299: 4.9144, 2304: 4.8434, 2464: 5.0768, 2491: 4.9477, 2635: 5.1094, 2733: 5.3774, 2922: 5.116, 2956: 5.2288, 2991: 5.3905, 3019: 5.2067, 3168: 5.4823, 3269: 5.2904, 3282: 5.2825, 3389: 5.3309, 3433: 5.3645, 3548: 5.3602, 3746: 5.4307, 3813: 5.6607, 4075: 5.5468, 4162: 5.5887, 4444: 5.6436, 4587: 5.6723, 4601: 5.7636, 4622: 5.9995, 4709: 5.857, 4746: 17.7659, 4773: 5.7322, 5138: 12.5109, 5280: 6.0576, 5370: 5.9523, 5395: 5.9294, 5885: 6.1377, 5935: 6.0491, 5996: 6.0576, 6029: 6.0158, 6451: 6.1193, 6610: 6.1948, 6713: 6.2765, 6770: 26.8357, 7222: 6.2872, 7315: 6.4378, 8230: 6.5431, 8524: 6.7423, 8534: 6.5571, 8778: 6.928, 8915: 6.6927, 9927: 6.7255, 10599: 6.8495, 11772: 7.0131, 13853: 7.2934, 14439: 7.3541, 15743: 7.4186, 18469: 7.7753, 18805: 7.7288, 21289: 8.1807, 21832: 7.9866, 28559: 8.6226, 28744: 8.5172, 29097: 8.5172, 38892: 9.028, 43845: 9.2104, 58230: 9.7212, 66722: 10.1267})"
      ]
     },
     "execution_count": 43,
     "metadata": {},
     "output_type": "execute_result"
    }
   ],
   "source": [
    "print('Long: 22022604')\n",
    "idf_data.sample(False, 0.001, 1).first().features"
   ]
  },
  {
   "cell_type": "code",
   "execution_count": 44,
   "metadata": {},
   "outputs": [
    {
     "name": "stdout",
     "output_type": "stream",
     "text": [
      "Long: 22022604\n",
      "root\n",
      " |-- content: string (nullable = true)\n",
      " |-- label: string (nullable = true)\n",
      " |-- name: string (nullable = true)\n",
      " |-- sentiment: string (nullable = true)\n",
      " |-- terms: array (nullable = true)\n",
      " |    |-- element: string (containsNull = true)\n",
      " |-- filtered: array (nullable = true)\n",
      " |    |-- element: string (containsNull = true)\n",
      " |-- count_vectors: vector (nullable = true)\n",
      " |-- features: vector (nullable = true)\n",
      "\n"
     ]
    }
   ],
   "source": [
    "print('Long: 22022604')\n",
    "idf_data.printSchema()"
   ]
  },
  {
   "cell_type": "markdown",
   "metadata": {},
   "source": [
    "Apply StringIndexer to conver the sentiment column from String type to number type - this is prerequisit to apply the LogisticRegression algorithm."
   ]
  },
  {
   "cell_type": "code",
   "execution_count": 45,
   "metadata": {
    "collapsed": true
   },
   "outputs": [],
   "source": [
    "from pyspark.ml.feature import StringIndexer"
   ]
  },
  {
   "cell_type": "code",
   "execution_count": 46,
   "metadata": {
    "collapsed": true
   },
   "outputs": [
    {
     "name": "stderr",
     "output_type": "stream",
     "text": [
      "                                                                                \r"
     ]
    }
   ],
   "source": [
    "string_indexer = StringIndexer(inputCol=\"sentiment\", outputCol=\"sentiment_idx\")\n",
    "string_indexer_model = string_indexer.fit(idf_data)\n",
    "label_encoded = string_indexer_model.transform(idf_data)"
   ]
  },
  {
   "cell_type": "code",
   "execution_count": 47,
   "metadata": {},
   "outputs": [
    {
     "name": "stdout",
     "output_type": "stream",
     "text": [
      "Long: 22022604\n",
      "+---------+-------------+\n",
      "|sentiment|sentiment_idx|\n",
      "+---------+-------------+\n",
      "|      pos|          1.0|\n",
      "|      pos|          1.0|\n",
      "|      neg|          0.0|\n",
      "|      pos|          1.0|\n",
      "|      pos|          1.0|\n",
      "|      pos|          1.0|\n",
      "|      pos|          1.0|\n",
      "|      pos|          1.0|\n",
      "|      pos|          1.0|\n",
      "|      pos|          1.0|\n",
      "|      pos|          1.0|\n",
      "|      neg|          0.0|\n",
      "|      pos|          1.0|\n",
      "|      pos|          1.0|\n",
      "|      pos|          1.0|\n",
      "|      pos|          1.0|\n",
      "|      pos|          1.0|\n",
      "|      pos|          1.0|\n",
      "|      pos|          1.0|\n",
      "|      pos|          1.0|\n",
      "+---------+-------------+\n",
      "only showing top 20 rows\n",
      "\n"
     ]
    }
   ],
   "source": [
    "print('Long: 22022604')\n",
    "label_encoded.select(\"sentiment\", \"sentiment_idx\").show()"
   ]
  },
  {
   "cell_type": "markdown",
   "metadata": {},
   "source": [
    "Split the data into traininf and testing groups with 70/30 ratio. Cache the dataframe so that training runs faster."
   ]
  },
  {
   "cell_type": "code",
   "execution_count": 48,
   "metadata": {},
   "outputs": [
    {
     "name": "stdout",
     "output_type": "stream",
     "text": [
      "Long: 22022604\n"
     ]
    },
    {
     "data": {
      "text/plain": [
       "DataFrame[content: string, label: string, name: string, sentiment: string, terms: array<string>, filtered: array<string>, count_vectors: vector, features: vector, sentiment_idx: double]"
      ]
     },
     "execution_count": 48,
     "metadata": {},
     "output_type": "execute_result"
    }
   ],
   "source": [
    "print('Long: 22022604')\n",
    "training, testing = label_encoded.randomSplit(weights=[0.7, 0.3], seed=1)\n",
    "training.cache()\n",
    "testing.cache()"
   ]
  },
  {
   "cell_type": "markdown",
   "metadata": {},
   "source": [
    "Verify that the StringIndex has done the expected job and training and testing data maintain the ratio of positive and negative records as in the whole dataset."
   ]
  },
  {
   "cell_type": "code",
   "execution_count": 49,
   "metadata": {
    "scrolled": true
   },
   "outputs": [
    {
     "name": "stdout",
     "output_type": "stream",
     "text": [
      "Long: 22022604\n"
     ]
    },
    {
     "name": "stderr",
     "output_type": "stream",
     "text": [
      "24/10/31 01:44:41 WARN DAGScheduler: Broadcasting large task binary with size 2.7 MiB\n",
      "24/10/31 01:44:46 WARN DAGScheduler: Broadcasting large task binary with size 2.8 MiB\n"
     ]
    },
    {
     "name": "stdout",
     "output_type": "stream",
     "text": [
      "+-------------+---------+-----+\n",
      "|sentiment_idx|sentiment|count|\n",
      "+-------------+---------+-----+\n",
      "|          1.0|      pos|17586|\n",
      "|          0.0|      neg|17472|\n",
      "+-------------+---------+-----+\n",
      "\n"
     ]
    },
    {
     "name": "stderr",
     "output_type": "stream",
     "text": [
      "24/10/31 01:44:47 WARN DAGScheduler: Broadcasting large task binary with size 2.8 MiB\n",
      "                                                                                \r"
     ]
    }
   ],
   "source": [
    "print('Long: 22022604')\n",
    "training.groupBy(\"sentiment_idx\", \"sentiment\").count().show()"
   ]
  },
  {
   "cell_type": "code",
   "execution_count": 50,
   "metadata": {},
   "outputs": [
    {
     "name": "stdout",
     "output_type": "stream",
     "text": [
      "Long: 22022604\n"
     ]
    },
    {
     "name": "stderr",
     "output_type": "stream",
     "text": [
      "24/10/31 01:44:47 WARN DAGScheduler: Broadcasting large task binary with size 2.7 MiB\n",
      "24/10/31 01:44:51 WARN DAGScheduler: Broadcasting large task binary with size 2.8 MiB\n",
      "24/10/31 01:44:51 WARN DAGScheduler: Broadcasting large task binary with size 2.8 MiB\n"
     ]
    },
    {
     "name": "stdout",
     "output_type": "stream",
     "text": [
      "+-------------+---------+-----+\n",
      "|sentiment_idx|sentiment|count|\n",
      "+-------------+---------+-----+\n",
      "|          1.0|      pos| 7414|\n",
      "|          0.0|      neg| 7528|\n",
      "+-------------+---------+-----+\n",
      "\n"
     ]
    },
    {
     "name": "stderr",
     "output_type": "stream",
     "text": [
      "                                                                                \r"
     ]
    }
   ],
   "source": [
    "print('Long: 22022604')\n",
    "testing.groupBy(\"sentiment_idx\", \"sentiment\").count().show()"
   ]
  },
  {
   "cell_type": "markdown",
   "metadata": {},
   "source": [
    "Apply LogisticRegression classifier"
   ]
  },
  {
   "cell_type": "code",
   "execution_count": 51,
   "metadata": {
    "collapsed": true
   },
   "outputs": [],
   "source": [
    "from pyspark.ml.classification import LogisticRegression"
   ]
  },
  {
   "cell_type": "code",
   "execution_count": 52,
   "metadata": {
    "collapsed": true
   },
   "outputs": [],
   "source": [
    "lr = LogisticRegression(maxIter=10000, regParam=0.1, elasticNetParam=0.0, \n",
    "                        featuresCol=\"features\", labelCol=\"sentiment_idx\")"
   ]
  },
  {
   "cell_type": "markdown",
   "metadata": {},
   "source": [
    "Show the parameters that the LogisticRegression classifier takes."
   ]
  },
  {
   "cell_type": "code",
   "execution_count": 53,
   "metadata": {},
   "outputs": [
    {
     "name": "stdout",
     "output_type": "stream",
     "text": [
      "Long: 22022604\n",
      "aggregationDepth: suggested depth for treeAggregate (>= 2). (default: 2)\n",
      "elasticNetParam: the ElasticNet mixing parameter, in range [0, 1]. For alpha = 0, the penalty is an L2 penalty. For alpha = 1, it is an L1 penalty. (default: 0.0, current: 0.0)\n",
      "family: The name of family which is a description of the label distribution to be used in the model. Supported options: auto, binomial, multinomial (default: auto)\n",
      "featuresCol: features column name. (default: features, current: features)\n",
      "fitIntercept: whether to fit an intercept term. (default: True)\n",
      "labelCol: label column name. (default: label, current: sentiment_idx)\n",
      "lowerBoundsOnCoefficients: The lower bounds on coefficients if fitting under bound constrained optimization. The bound matrix must be compatible with the shape (1, number of features) for binomial regression, or (number of classes, number of features) for multinomial regression. (undefined)\n",
      "lowerBoundsOnIntercepts: The lower bounds on intercepts if fitting under bound constrained optimization. The bounds vector size must beequal with 1 for binomial regression, or the number oflasses for multinomial regression. (undefined)\n",
      "maxBlockSizeInMB: maximum memory in MB for stacking input data into blocks. Data is stacked within partitions. If more than remaining data size in a partition then it is adjusted to the data size. Default 0.0 represents choosing optimal value, depends on specific algorithm. Must be >= 0. (default: 0.0)\n",
      "maxIter: max number of iterations (>= 0). (default: 100, current: 10000)\n",
      "predictionCol: prediction column name. (default: prediction)\n",
      "probabilityCol: Column name for predicted class conditional probabilities. Note: Not all models output well-calibrated probability estimates! These probabilities should be treated as confidences, not precise probabilities. (default: probability)\n",
      "rawPredictionCol: raw prediction (a.k.a. confidence) column name. (default: rawPrediction)\n",
      "regParam: regularization parameter (>= 0). (default: 0.0, current: 0.1)\n",
      "standardization: whether to standardize the training features before fitting the model. (default: True)\n",
      "threshold: Threshold in binary classification prediction, in range [0, 1]. If threshold and thresholds are both set, they must match.e.g. if threshold is p, then thresholds must be equal to [1-p, p]. (default: 0.5)\n",
      "thresholds: Thresholds in multi-class classification to adjust the probability of predicting each class. Array must have length equal to the number of classes, with values > 0, excepting that at most one value may be 0. The class with largest value p/t is predicted, where p is the original probability of that class and t is the class's threshold. (undefined)\n",
      "tol: the convergence tolerance for iterative algorithms (>= 0). (default: 1e-06)\n",
      "upperBoundsOnCoefficients: The upper bounds on coefficients if fitting under bound constrained optimization. The bound matrix must be compatible with the shape (1, number of features) for binomial regression, or (number of classes, number of features) for multinomial regression. (undefined)\n",
      "upperBoundsOnIntercepts: The upper bounds on intercepts if fitting under bound constrained optimization. The bound vector size must be equal with 1 for binomial regression, or the number of classes for multinomial regression. (undefined)\n",
      "weightCol: weight column name. If this is not set or empty, we treat all instance weights as 1.0. (undefined)\n"
     ]
    }
   ],
   "source": [
    "print('Long: 22022604')\n",
    "print(lr.explainParams())"
   ]
  },
  {
   "cell_type": "code",
   "execution_count": 54,
   "metadata": {
    "collapsed": true
   },
   "outputs": [
    {
     "name": "stderr",
     "output_type": "stream",
     "text": [
      "24/10/31 01:44:52 WARN DAGScheduler: Broadcasting large task binary with size 2.8 MiB\n",
      "24/10/31 01:44:53 WARN DAGScheduler: Broadcasting large task binary with size 2.8 MiB\n",
      "24/10/31 01:44:54 WARN DAGScheduler: Broadcasting large task binary with size 2.8 MiB\n",
      "24/10/31 01:44:54 WARN DAGScheduler: Broadcasting large task binary with size 2.8 MiB\n",
      "24/10/31 01:44:55 WARN DAGScheduler: Broadcasting large task binary with size 2.8 MiB\n",
      "24/10/31 01:44:55 WARN DAGScheduler: Broadcasting large task binary with size 2.8 MiB\n",
      "24/10/31 01:44:55 WARN DAGScheduler: Broadcasting large task binary with size 2.8 MiB\n",
      "24/10/31 01:44:55 WARN DAGScheduler: Broadcasting large task binary with size 2.8 MiB\n",
      "24/10/31 01:44:55 WARN DAGScheduler: Broadcasting large task binary with size 2.8 MiB\n",
      "24/10/31 01:44:55 WARN DAGScheduler: Broadcasting large task binary with size 2.8 MiB\n",
      "24/10/31 01:44:56 WARN DAGScheduler: Broadcasting large task binary with size 2.8 MiB\n",
      "24/10/31 01:44:56 WARN DAGScheduler: Broadcasting large task binary with size 2.8 MiB\n",
      "24/10/31 01:44:56 WARN DAGScheduler: Broadcasting large task binary with size 2.8 MiB\n",
      "24/10/31 01:44:56 WARN DAGScheduler: Broadcasting large task binary with size 2.8 MiB\n",
      "24/10/31 01:44:56 WARN DAGScheduler: Broadcasting large task binary with size 2.8 MiB\n",
      "24/10/31 01:44:57 WARN DAGScheduler: Broadcasting large task binary with size 2.8 MiB\n",
      "24/10/31 01:44:57 WARN DAGScheduler: Broadcasting large task binary with size 2.8 MiB\n",
      "24/10/31 01:44:57 WARN DAGScheduler: Broadcasting large task binary with size 2.8 MiB\n",
      "24/10/31 01:44:57 WARN DAGScheduler: Broadcasting large task binary with size 2.8 MiB\n",
      "24/10/31 01:44:57 WARN DAGScheduler: Broadcasting large task binary with size 2.8 MiB\n",
      "24/10/31 01:44:57 WARN DAGScheduler: Broadcasting large task binary with size 2.8 MiB\n",
      "24/10/31 01:44:58 WARN DAGScheduler: Broadcasting large task binary with size 2.8 MiB\n",
      "24/10/31 01:44:58 WARN DAGScheduler: Broadcasting large task binary with size 2.8 MiB\n",
      "24/10/31 01:44:58 WARN DAGScheduler: Broadcasting large task binary with size 2.8 MiB\n",
      "24/10/31 01:44:58 WARN DAGScheduler: Broadcasting large task binary with size 2.8 MiB\n",
      "24/10/31 01:44:59 WARN DAGScheduler: Broadcasting large task binary with size 2.8 MiB\n",
      "24/10/31 01:44:59 WARN DAGScheduler: Broadcasting large task binary with size 2.8 MiB\n",
      "24/10/31 01:44:59 WARN DAGScheduler: Broadcasting large task binary with size 2.8 MiB\n",
      "24/10/31 01:44:59 WARN DAGScheduler: Broadcasting large task binary with size 2.8 MiB\n",
      "24/10/31 01:44:59 WARN DAGScheduler: Broadcasting large task binary with size 2.8 MiB\n",
      "24/10/31 01:44:59 WARN DAGScheduler: Broadcasting large task binary with size 2.8 MiB\n",
      "24/10/31 01:45:00 WARN DAGScheduler: Broadcasting large task binary with size 2.8 MiB\n",
      "24/10/31 01:45:00 WARN DAGScheduler: Broadcasting large task binary with size 2.8 MiB\n",
      "24/10/31 01:45:00 WARN DAGScheduler: Broadcasting large task binary with size 2.8 MiB\n",
      "24/10/31 01:45:00 WARN DAGScheduler: Broadcasting large task binary with size 2.8 MiB\n",
      "24/10/31 01:45:00 WARN DAGScheduler: Broadcasting large task binary with size 2.8 MiB\n",
      "24/10/31 01:45:00 WARN DAGScheduler: Broadcasting large task binary with size 2.8 MiB\n",
      "24/10/31 01:45:01 WARN DAGScheduler: Broadcasting large task binary with size 2.8 MiB\n",
      "24/10/31 01:45:01 WARN DAGScheduler: Broadcasting large task binary with size 2.8 MiB\n",
      "24/10/31 01:45:01 WARN DAGScheduler: Broadcasting large task binary with size 2.8 MiB\n",
      "24/10/31 01:45:01 WARN DAGScheduler: Broadcasting large task binary with size 2.8 MiB\n",
      "24/10/31 01:45:01 WARN DAGScheduler: Broadcasting large task binary with size 2.8 MiB\n",
      "24/10/31 01:45:01 WARN DAGScheduler: Broadcasting large task binary with size 2.8 MiB\n",
      "24/10/31 01:45:01 WARN DAGScheduler: Broadcasting large task binary with size 2.8 MiB\n"
     ]
    }
   ],
   "source": [
    "lr_model = lr.fit(training)"
   ]
  },
  {
   "cell_type": "code",
   "execution_count": 55,
   "metadata": {
    "scrolled": false
   },
   "outputs": [
    {
     "name": "stdout",
     "output_type": "stream",
     "text": [
      "Long: 22022604\n"
     ]
    },
    {
     "data": {
      "text/plain": [
       "array([-2.20701272e-02,  5.13979495e-03,  5.67185435e-03, -1.63191759e-02,\n",
       "        3.17285758e-02,  1.21710360e-02, -5.19555344e-02,  1.21818496e-02,\n",
       "        1.35874019e-03,  4.10164549e-02,  6.19707746e-02, -2.03770793e-02,\n",
       "       -9.72295386e-02, -2.74619720e-03,  8.17379426e-03,  1.18096463e-01,\n",
       "        3.70936734e-02,  1.63041472e-02, -2.60117067e-02, -3.59786789e-02,\n",
       "       -3.03252807e-03, -8.57690815e-03, -8.49470841e-03,  2.53535702e-02,\n",
       "        9.80942042e-03, -6.66090944e-03,  8.56182777e-03,  1.56835126e-03,\n",
       "        1.29676887e-02,  1.68478479e-02,  5.02731117e-02, -5.58262749e-03,\n",
       "       -4.88333371e-02,  2.90605771e-02, -5.08470779e-02,  4.24827953e-03,\n",
       "        7.78871460e-02,  1.59065706e-05,  9.17410666e-03, -9.90311194e-03,\n",
       "        1.05819480e-02, -4.03637788e-02,  3.13799637e-04,  1.38455574e-03,\n",
       "        4.50783711e-02, -1.08774282e-03, -8.79927535e-03, -4.70521090e-03,\n",
       "       -1.77900766e-02, -2.18323191e-02,  9.04878177e-03,  7.85077191e-03,\n",
       "        1.84524553e-02, -3.59808435e-02, -2.61954789e-02, -2.30080062e-02,\n",
       "       -1.43512005e-02, -1.99044859e-02, -2.66134782e-02, -3.44808356e-02,\n",
       "        2.53330207e-02,  1.00872997e-02,  1.64910310e-02, -7.70207751e-03,\n",
       "       -1.19901758e-02, -5.29325853e-03,  1.96682162e-02, -1.68805936e-02,\n",
       "       -7.10130400e-02,  2.66126411e-02, -7.10052283e-03,  1.55290590e-02,\n",
       "       -1.00520708e-02,  9.51612204e-03,  2.71289958e-02,  7.73479260e-03,\n",
       "       -1.26789048e-03,  2.37607882e-02,  1.45837351e-02,  1.49019793e-02,\n",
       "        1.01359148e-02, -1.14791863e-02,  2.21956543e-02, -7.95906652e-03,\n",
       "       -3.61486394e-03, -8.37258430e-04, -2.02386658e-02,  1.54122065e-02,\n",
       "        8.74612226e-03, -3.63179330e-03, -6.26070701e-03, -1.40168349e-03,\n",
       "        9.51412219e-03, -1.37661811e-02, -2.34864173e-02, -1.25307951e-03,\n",
       "       -6.20048178e-03,  1.53393769e-02,  8.35197302e-03,  1.44129613e-02])"
      ]
     },
     "execution_count": 55,
     "metadata": {},
     "output_type": "execute_result"
    }
   ],
   "source": [
    "print('Long: 22022604')\n",
    "lr_model.coefficients[:100]"
   ]
  },
  {
   "cell_type": "markdown",
   "metadata": {},
   "source": [
    "From the training summary find out the cost decay of the model."
   ]
  },
  {
   "cell_type": "code",
   "execution_count": 56,
   "metadata": {},
   "outputs": [],
   "source": [
    "training_summary = lr_model.summary"
   ]
  },
  {
   "cell_type": "code",
   "execution_count": 57,
   "metadata": {
    "collapsed": true
   },
   "outputs": [],
   "source": [
    "import pandas as pd\n",
    "import matplotlib.pyplot as plt\n",
    "\n",
    "%matplotlib inline"
   ]
  },
  {
   "cell_type": "code",
   "execution_count": 58,
   "metadata": {},
   "outputs": [
    {
     "name": "stdout",
     "output_type": "stream",
     "text": [
      "Long: 22022604\n"
     ]
    },
    {
     "data": {
      "text/plain": [
       "Text(0, 0.5, 'Cost')"
      ]
     },
     "execution_count": 58,
     "metadata": {},
     "output_type": "execute_result"
    },
    {
     "data": {
      "image/png": "[encoded data removed]",
      "text/plain": [
       "<Figure size 640x480 with 1 Axes>"
      ]
     },
     "metadata": {},
     "output_type": "display_data"
    }
   ],
   "source": [
    "print('Long: 22022604')\n",
    "pd.Series(training_summary.objectiveHistory).plot()\n",
    "plt.xlabel(\"Iteration\")\n",
    "plt.ylabel(\"Cost\")"
   ]
  },
  {
   "cell_type": "markdown",
   "metadata": {},
   "source": [
    "Find area under the curve. Closer to 1 is better"
   ]
  },
  {
   "cell_type": "code",
   "execution_count": 59,
   "metadata": {},
   "outputs": [
    {
     "name": "stdout",
     "output_type": "stream",
     "text": [
      "Long: 22022604\n"
     ]
    },
    {
     "name": "stderr",
     "output_type": "stream",
     "text": [
      "24/10/31 01:45:06 WARN DAGScheduler: Broadcasting large task binary with size 3.6 MiB\n",
      "                                                                                \r"
     ]
    },
    {
     "data": {
      "text/plain": [
       "0.9998914836987379"
      ]
     },
     "execution_count": 59,
     "metadata": {},
     "output_type": "execute_result"
    }
   ],
   "source": [
    "print('Long: 22022604')\n",
    "training_summary.areaUnderROC"
   ]
  },
  {
   "cell_type": "code",
   "execution_count": 60,
   "metadata": {},
   "outputs": [],
   "source": [
    "predictions = lr_model.transform(testing).withColumn(\"match\", expr(\"prediction == sentiment_idx\"))"
   ]
  },
  {
   "cell_type": "code",
   "execution_count": 61,
   "metadata": {},
   "outputs": [
    {
     "name": "stdout",
     "output_type": "stream",
     "text": [
      "Long: 22022604\n",
      "+----------+-------------+---------+-----+\n",
      "|prediction|sentiment_idx|sentiment|match|\n",
      "+----------+-------------+---------+-----+\n",
      "|       1.0|          1.0|      pos| true|\n",
      "|       1.0|          1.0|      pos| true|\n",
      "|       0.0|          0.0|      neg| true|\n",
      "|       0.0|          0.0|      neg| true|\n",
      "|       1.0|          1.0|      pos| true|\n",
      "|       0.0|          0.0|      neg| true|\n",
      "|       0.0|          0.0|      neg| true|\n",
      "|       1.0|          1.0|      pos| true|\n",
      "|       0.0|          0.0|      neg| true|\n",
      "|       0.0|          1.0|      pos|false|\n",
      "+----------+-------------+---------+-----+\n",
      "only showing top 10 rows\n",
      "\n"
     ]
    },
    {
     "name": "stderr",
     "output_type": "stream",
     "text": [
      "24/10/31 01:45:08 WARN DAGScheduler: Broadcasting large task binary with size 3.6 MiB\n"
     ]
    }
   ],
   "source": [
    "print('Long: 22022604')\n",
    "predictions.select(\"prediction\", \"sentiment_idx\", \"sentiment\", \"match\").sample(False, 0.01).show(10)"
   ]
  },
  {
   "cell_type": "code",
   "execution_count": 62,
   "metadata": {},
   "outputs": [
    {
     "name": "stdout",
     "output_type": "stream",
     "text": [
      "Long: 22022604\n"
     ]
    },
    {
     "name": "stderr",
     "output_type": "stream",
     "text": [
      "24/10/31 01:45:08 WARN DAGScheduler: Broadcasting large task binary with size 3.6 MiB\n",
      "24/10/31 01:45:08 WARN DAGScheduler: Broadcasting large task binary with size 3.6 MiB\n",
      "24/10/31 01:45:09 WARN DAGScheduler: Broadcasting large task binary with size 3.6 MiB\n",
      "24/10/31 01:45:09 WARN DAGScheduler: Broadcasting large task binary with size 3.6 MiB\n",
      "24/10/31 01:45:09 WARN DAGScheduler: Broadcasting large task binary with size 3.6 MiB\n",
      "24/10/31 01:45:10 WARN DAGScheduler: Broadcasting large task binary with size 3.6 MiB\n"
     ]
    },
    {
     "name": "stdout",
     "output_type": "stream",
     "text": [
      "+-------------+----+----+\n",
      "|sentiment_idx| 0.0| 1.0|\n",
      "+-------------+----+----+\n",
      "|          0.0|6592| 936|\n",
      "|          1.0| 674|6740|\n",
      "+-------------+----+----+\n",
      "\n"
     ]
    },
    {
     "name": "stderr",
     "output_type": "stream",
     "text": [
      "24/10/31 01:45:10 WARN DAGScheduler: Broadcasting large task binary with size 3.6 MiB\n"
     ]
    }
   ],
   "source": [
    "print('Long: 22022604')\n",
    "predictions.groupBy(\"sentiment_idx\").pivot(\"prediction\").count().show()"
   ]
  },
  {
   "cell_type": "markdown",
   "metadata": {},
   "source": [
    "Find the accuracy of the prediction"
   ]
  },
  {
   "cell_type": "code",
   "execution_count": 63,
   "metadata": {
    "scrolled": false
   },
   "outputs": [
    {
     "name": "stdout",
     "output_type": "stream",
     "text": [
      "Long: 22022604\n"
     ]
    },
    {
     "name": "stderr",
     "output_type": "stream",
     "text": [
      "24/10/31 01:45:10 WARN DAGScheduler: Broadcasting large task binary with size 3.6 MiB\n",
      "24/10/31 01:45:10 WARN DAGScheduler: Broadcasting large task binary with size 2.7 MiB\n"
     ]
    },
    {
     "data": {
      "text/plain": [
       "0.8922500334627226"
      ]
     },
     "execution_count": 63,
     "metadata": {},
     "output_type": "execute_result"
    }
   ],
   "source": [
    "print('Long: 22022604')\n",
    "accuracy = predictions.select(expr(\"sum(cast(match as int))\")).first()[0] / predictions.count()\n",
    "accuracy"
   ]
  },
  {
   "cell_type": "code",
   "execution_count": null,
   "metadata": {
    "collapsed": true
   },
   "outputs": [],
   "source": []
  }
 ],
 "metadata": {
  "kernelspec": {
   "display_name": "Python 3",
   "language": "python",
   "name": "python3"
  },
  "language_info": {
   "codemirror_mode": {
    "name": "ipython",
    "version": 3
   },
   "file_extension": ".py",
   "mimetype": "text/x-python",
   "name": "python",
   "nbconvert_exporter": "python",
   "pygments_lexer": "ipython3",
   "version": "3.12.3"
  }
 },
 "nbformat": 4,
 "nbformat_minor": 2
}
