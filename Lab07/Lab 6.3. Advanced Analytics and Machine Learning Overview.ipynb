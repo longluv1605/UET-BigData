{
  "cells": [
    {
      "cell_type": "markdown",
      "metadata": {
        "id": "-ZX1wzCvRUiy"
      },
      "source": [
        "# What Is MLlib?\n",
        "MLlib is a package, built on and included in Spark, that provides interfaces for gathering and\n",
        "cleaning data, feature engineering and feature selection, training and tuning large-scale\n",
        "supervised and unsupervised machine learning models, and using those models in production.\n",
        "## When and why should you use MLlib (versus scikit-learn, TensorFlow, or foo package)\n",
        "There are two key use cases where you want to leverage Spark’s ability to scale. First, you want\n",
        "to leverage Spark for preprocessing and feature generation to reduce the amount of time it might\n",
        "take to produce training and test sets from a large amount of data. Then you might leverage\n",
        "single-machine learning libraries to train on those given data sets. Second, when your input data\n",
        "or model size become too difficult or inconvenient to put on one machine, use Spark to do the\n",
        "heavy lifting. Spark makes distributed machine learning very simple.\n",
        "\n",
        "# High-Level MLlib Concepts\n",
        "In MLlib there are several fundamental “structural” types: transformers, estimators, evaluators,\n",
        "and pipelines. By structural, we mean you will think in terms of these types when you define an\n",
        "end-to-end machine learning pipeline. They’ll provide the common language for defining what\n",
        "belongs in what part of the pipeline. Figure 24-2 illustrates the overall workflow that you will\n",
        "follow when developing machine learning models in Spark.\n",
        "![image.png](attachment:image.png)\n",
        "\n",
        "Transformers are functions that convert raw data in some way. This might be to create a new\n",
        "interaction variable (from two other variables), normalize a column, or simply change an\n",
        "Integer into a Double type to be input into a model. An example of a transformer is one that\n",
        "converts string categorical variables into numerical values that can be used in MLlib.\n",
        "Transformers are primarily used in preprocessing and feature engineering. Transformers take a\n",
        "DataFrame as input and produce a new DataFrame as output, as illustrated in Figure 24-3.\n",
        "![image-2.png](attachment:image-2.png)\n",
        "\n",
        "Estimators are one of two kinds of things. First, estimators can be a kind of transformer that is\n",
        "initialized with data. For instance, to normalize numerical data we’ll need to initialize our\n",
        "transformation with some information about the current values in the column we would like to\n",
        "normalize. This requires two passes over our data—the initial pass generates the initialization\n",
        "values and the second actually applies the generated function over the data. In the Spark’s\n",
        "nomenclature, algorithms that allow users to train a model from data are also referred to as\n",
        "estimators.\n",
        "\n",
        "An evaluator allows us to see how a given model performs according to criteria we specify like a\n",
        "receiver operating characteristic (ROC) curve. After we use an evaluator to select the best model\n",
        "from the ones we tested, we can then use that model to make predictions.\n",
        "From a high level we can specify each of the transformations, estimations, and evaluations one\n",
        "by one, but it is often easier to specify our steps as stages in a pipeline. This pipeline is similar to\n",
        "scikit-learn’s pipeline concept.\n",
        "\n",
        "## Low-level data types\n",
        "In addition to the structural types for building pipelines, there are also several lower-level data\n",
        "types you may need to work with in MLlib (Vector being the most common). Whenever we pass\n",
        "a set of features into a machine learning model, we must do it as a vector that consists of\n",
        "Doubles. This vector can be either sparse (where most of the elements are zero) or dense (where\n",
        "there are many unique values). Vectors are created in different ways. To create a dense vector,\n",
        "we can specify an array of all the values. To create a sparse vector, we can specify the total size\n",
        "and the indices and values of the non-zero elements. Sparse is the best format, as you might have\n",
        "guessed, when the majority of values are zero as this is a more compressed representation. Here\n",
        "is an example of how to manually create a Vector:"
      ]
    },
    {
      "cell_type": "code",
      "execution_count": 1,
      "metadata": {
        "id": "OfDugiCrRUiz"
      },
      "outputs": [],
      "source": [
        "# in Python\n",
        "from pyspark.ml.linalg import Vectors\n",
        "denseVec = Vectors.dense(1.0, 2.0, 3.0)\n",
        "size = 3\n",
        "idx = [1, 2] # locations of non-zero elements in vector\n",
        "values = [2.0, 3.0]\n",
        "sparseVec = Vectors.sparse(size, idx, values)"
      ]
    },
    {
      "cell_type": "markdown",
      "metadata": {
        "id": "lRz5WFqcRUi0"
      },
      "source": [
        "## MLlib in Action\n",
        "Now that we have described some of the core pieces you can expect to come across, let’s create a\n",
        "simple pipeline to demonstrate each of the components. We’ll use a small synthetic dataset that\n",
        "will help illustrate our point. Let’s read the data in and see a sample before talking about it\n",
        "further:"
      ]
    },
    {
      "cell_type": "code",
      "source": [
        "from google.colab import drive\n",
        "drive.mount('/content/drive')"
      ],
      "metadata": {
        "colab": {
          "base_uri": "https://localhost:8080/"
        },
        "id": "A_2od47KScH7",
        "outputId": "e69f8a6f-b45f-4282-eeb4-6e0eed917801"
      },
      "execution_count": 2,
      "outputs": [
        {
          "output_type": "stream",
          "name": "stdout",
          "text": [
            "Drive already mounted at /content/drive; to attempt to forcibly remount, call drive.mount(\"/content/drive\", force_remount=True).\n"
          ]
        }
      ]
    },
    {
      "cell_type": "code",
      "source": [
        "parent_dir = 'drive/MyDrive/UET/BigData/Lab07'"
      ],
      "metadata": {
        "id": "cnblD6v3TTax"
      },
      "execution_count": 3,
      "outputs": []
    },
    {
      "cell_type": "code",
      "execution_count": 4,
      "metadata": {
        "id": "5Fn7iRK4RUi0"
      },
      "outputs": [],
      "source": [
        "from pyspark.context import SparkContext\n",
        "from pyspark.sql.session import SparkSession\n",
        "sc = SparkContext('local')\n",
        "spark = SparkSession(sc)"
      ]
    },
    {
      "cell_type": "code",
      "execution_count": 5,
      "metadata": {
        "colab": {
          "base_uri": "https://localhost:8080/"
        },
        "id": "3Xs0EWrJRUi0",
        "outputId": "500fd1f8-c98c-4316-8d07-f69a993beb18"
      },
      "outputs": [
        {
          "output_type": "stream",
          "name": "stdout",
          "text": [
            "+-----+----+------+------------------+\n",
            "|color| lab|value1|            value2|\n",
            "+-----+----+------+------------------+\n",
            "|green|good|     1|14.386294994851129|\n",
            "|green| bad|    16|14.386294994851129|\n",
            "| blue| bad|     8|14.386294994851129|\n",
            "| blue| bad|     8|14.386294994851129|\n",
            "| blue| bad|    12|14.386294994851129|\n",
            "|green| bad|    16|14.386294994851129|\n",
            "|green|good|    12|14.386294994851129|\n",
            "|  red|good|    35|14.386294994851129|\n",
            "|  red|good|    35|14.386294994851129|\n",
            "|  red| bad|     2|14.386294994851129|\n",
            "|  red| bad|    16|14.386294994851129|\n",
            "|  red| bad|    16|14.386294994851129|\n",
            "| blue| bad|     8|14.386294994851129|\n",
            "|green|good|     1|14.386294994851129|\n",
            "|green|good|    12|14.386294994851129|\n",
            "| blue| bad|     8|14.386294994851129|\n",
            "|  red|good|    35|14.386294994851129|\n",
            "| blue| bad|    12|14.386294994851129|\n",
            "|  red| bad|    16|14.386294994851129|\n",
            "|green|good|    12|14.386294994851129|\n",
            "+-----+----+------+------------------+\n",
            "only showing top 20 rows\n",
            "\n"
          ]
        }
      ],
      "source": [
        "df = spark.read.json(parent_dir + \"/data/simple-ml\")\n",
        "df.orderBy(\"value2\").show()"
      ]
    },
    {
      "cell_type": "markdown",
      "metadata": {
        "id": "tx1T2QSeRUi1"
      },
      "source": [
        "## Feature Engineering with Transformers\n",
        "When we use MLlib, all inputs to machine learning algorithms (with several exceptions\n",
        "discussed in later chapters) in Spark must consist of type Double (for labels) and\n",
        "Vector[Double] (for features). The current dataset does not meet that requirement and therefore\n",
        "we need to transform it to the proper format.\n",
        "\n",
        "To achieve this in our example, we are going to specify an RFormula. This is a declarative\n",
        "language for specifying machine learning transformations and is simple to use once you\n",
        "understand the syntax. RFormula supports a limited subset of the R operators that in practice\n",
        "work quite well for simple models and manipulations (we demonstrate the manual approach to\n",
        "this problem in Chapter 25)"
      ]
    },
    {
      "cell_type": "code",
      "execution_count": 6,
      "metadata": {
        "id": "6JWIWtbwRUi1"
      },
      "outputs": [],
      "source": [
        "from pyspark.ml.feature import RFormula\n",
        "supervised = RFormula(formula=\"lab ~ . + color:value1 + color:value2\")"
      ]
    },
    {
      "cell_type": "markdown",
      "metadata": {
        "id": "WKOHgFOYRUi1"
      },
      "source": [
        "At this point, we have declaratively specified how we would like to change our data into what we\n",
        "will train our model on. The next step is to fit the RFormula transformer to the data to let it\n",
        "discover the possible values of each column. Not all transformers have this requirement but\n",
        "because RFormula will automatically handle categorical variables for us, it needs to determine\n",
        "which columns are categorical and which are not, as well as what the distinct values of the\n",
        "categorical columns are. For this reason, we have to call the fit method. Once we call fit, it\n",
        "returns a “trained” version of our transformer we can then use to actually transform our data."
      ]
    },
    {
      "cell_type": "code",
      "execution_count": 7,
      "metadata": {
        "colab": {
          "base_uri": "https://localhost:8080/"
        },
        "id": "vkM9letoRUi1",
        "outputId": "0d320113-6979-42db-9252-bf0d23253a91"
      },
      "outputs": [
        {
          "output_type": "stream",
          "name": "stdout",
          "text": [
            "+-----+----+------+------------------+--------------------+-----+\n",
            "|color| lab|value1|            value2|            features|label|\n",
            "+-----+----+------+------------------+--------------------+-----+\n",
            "|green|good|     1|14.386294994851129|(10,[1,2,3,5,8],[...|  1.0|\n",
            "| blue| bad|     8|14.386294994851129|(10,[2,3,6,9],[8....|  0.0|\n",
            "| blue| bad|    12|14.386294994851129|(10,[2,3,6,9],[12...|  0.0|\n",
            "|green|good|    15| 38.97187133755819|(10,[1,2,3,5,8],[...|  1.0|\n",
            "|green|good|    12|14.386294994851129|(10,[1,2,3,5,8],[...|  1.0|\n",
            "|green| bad|    16|14.386294994851129|(10,[1,2,3,5,8],[...|  0.0|\n",
            "|  red|good|    35|14.386294994851129|(10,[0,2,3,4,7],[...|  1.0|\n",
            "|  red| bad|     1| 38.97187133755819|(10,[0,2,3,4,7],[...|  0.0|\n",
            "|  red| bad|     2|14.386294994851129|(10,[0,2,3,4,7],[...|  0.0|\n",
            "|  red| bad|    16|14.386294994851129|(10,[0,2,3,4,7],[...|  0.0|\n",
            "|  red|good|    45| 38.97187133755819|(10,[0,2,3,4,7],[...|  1.0|\n",
            "|green|good|     1|14.386294994851129|(10,[1,2,3,5,8],[...|  1.0|\n",
            "| blue| bad|     8|14.386294994851129|(10,[2,3,6,9],[8....|  0.0|\n",
            "| blue| bad|    12|14.386294994851129|(10,[2,3,6,9],[12...|  0.0|\n",
            "|green|good|    15| 38.97187133755819|(10,[1,2,3,5,8],[...|  1.0|\n",
            "|green|good|    12|14.386294994851129|(10,[1,2,3,5,8],[...|  1.0|\n",
            "|green| bad|    16|14.386294994851129|(10,[1,2,3,5,8],[...|  0.0|\n",
            "|  red|good|    35|14.386294994851129|(10,[0,2,3,4,7],[...|  1.0|\n",
            "|  red| bad|     1| 38.97187133755819|(10,[0,2,3,4,7],[...|  0.0|\n",
            "|  red| bad|     2|14.386294994851129|(10,[0,2,3,4,7],[...|  0.0|\n",
            "+-----+----+------+------------------+--------------------+-----+\n",
            "only showing top 20 rows\n",
            "\n"
          ]
        }
      ],
      "source": [
        "fittedRF = supervised.fit(df)\n",
        "preparedDF = fittedRF.transform(df)\n",
        "preparedDF.show()"
      ]
    },
    {
      "cell_type": "markdown",
      "metadata": {
        "id": "er1x6FF-RUi1"
      },
      "source": [
        "In the output we can see the result of our transformation—a column called features that has our\n",
        "previously raw data. What’s happening behind the scenes is actually pretty simple. RFormula\n",
        "inspects our data during the fit call and outputs an object that will transform our data according\n",
        "to the specified formula, which is called an RFormulaModel. This “trained” transformer always\n",
        "has the word Model in the type signature. When we use this transformer, Spark automatically\n",
        "converts our categorical variable to Doubles so that we can input it into a (yet to be specified)\n",
        "machine learning model. In particular, it assigns a numerical value to each possible color\n",
        "category, creates additional features for the interaction variables between colors and\n",
        "value1/value2, and puts them all into a single vector. We then call transform on that object in\n",
        "order to transform our input data into the expected output data.\n",
        "\n",
        "Thus far you (pre)processed the data and added some features along the way. Now it is time to\n",
        "actually train a model (or a set of models) on this dataset. In order to do this, you first need to\n",
        "prepare a test set for evaluation.\n",
        "\n",
        "Let’s create a simple test set based off a random split of the data now (we’ll be using this test set\n",
        "throughout the remainder of the chapter):"
      ]
    },
    {
      "cell_type": "code",
      "execution_count": 8,
      "metadata": {
        "id": "tqqUT485RUi2"
      },
      "outputs": [],
      "source": [
        "train, test = preparedDF.randomSplit([0.7, 0.3])"
      ]
    },
    {
      "cell_type": "markdown",
      "metadata": {
        "id": "0yRxoH7CRUi2"
      },
      "source": [
        "## Estimators\n",
        "Now that we have transformed our data into the correct format and created some valuable\n",
        "features, it’s time to actually fit our model. In this case we will use a classification algorithm\n",
        "called logistic regression. To create our classifier we instantiate an instance of\n",
        "LogisticRegression, using the default configuration or hyperparameters. We then set the label\n",
        "columns and the feature columns; the column names we are setting—label and features—are\n",
        "actually the default labels for all estimators in Spark MLlib, and in later chapters we omit them:"
      ]
    },
    {
      "cell_type": "code",
      "execution_count": 9,
      "metadata": {
        "id": "qdSAeOyCRUi2"
      },
      "outputs": [],
      "source": [
        "from pyspark.ml.classification import LogisticRegression\n",
        "lr = LogisticRegression(labelCol=\"label\",featuresCol=\"features\")"
      ]
    },
    {
      "cell_type": "markdown",
      "metadata": {
        "id": "LRQ4x-7HRUi2"
      },
      "source": [
        "Before we actually go about training this model, let’s inspect the parameters. This is also a great\n",
        "way to remind yourself of the options available for each particular model:"
      ]
    },
    {
      "cell_type": "code",
      "execution_count": 10,
      "metadata": {
        "colab": {
          "base_uri": "https://localhost:8080/"
        },
        "id": "_K-vS7juRUi2",
        "outputId": "6f485b7c-4b98-4ea0-b231-b16af137c199"
      },
      "outputs": [
        {
          "output_type": "stream",
          "name": "stdout",
          "text": [
            "aggregationDepth: suggested depth for treeAggregate (>= 2). (default: 2)\n",
            "elasticNetParam: the ElasticNet mixing parameter, in range [0, 1]. For alpha = 0, the penalty is an L2 penalty. For alpha = 1, it is an L1 penalty. (default: 0.0)\n",
            "family: The name of family which is a description of the label distribution to be used in the model. Supported options: auto, binomial, multinomial (default: auto)\n",
            "featuresCol: features column name. (default: features, current: features)\n",
            "fitIntercept: whether to fit an intercept term. (default: True)\n",
            "labelCol: label column name. (default: label, current: label)\n",
            "lowerBoundsOnCoefficients: The lower bounds on coefficients if fitting under bound constrained optimization. The bound matrix must be compatible with the shape (1, number of features) for binomial regression, or (number of classes, number of features) for multinomial regression. (undefined)\n",
            "lowerBoundsOnIntercepts: The lower bounds on intercepts if fitting under bound constrained optimization. The bounds vector size must beequal with 1 for binomial regression, or the number oflasses for multinomial regression. (undefined)\n",
            "maxBlockSizeInMB: maximum memory in MB for stacking input data into blocks. Data is stacked within partitions. If more than remaining data size in a partition then it is adjusted to the data size. Default 0.0 represents choosing optimal value, depends on specific algorithm. Must be >= 0. (default: 0.0)\n",
            "maxIter: max number of iterations (>= 0). (default: 100)\n",
            "predictionCol: prediction column name. (default: prediction)\n",
            "probabilityCol: Column name for predicted class conditional probabilities. Note: Not all models output well-calibrated probability estimates! These probabilities should be treated as confidences, not precise probabilities. (default: probability)\n",
            "rawPredictionCol: raw prediction (a.k.a. confidence) column name. (default: rawPrediction)\n",
            "regParam: regularization parameter (>= 0). (default: 0.0)\n",
            "standardization: whether to standardize the training features before fitting the model. (default: True)\n",
            "threshold: Threshold in binary classification prediction, in range [0, 1]. If threshold and thresholds are both set, they must match.e.g. if threshold is p, then thresholds must be equal to [1-p, p]. (default: 0.5)\n",
            "thresholds: Thresholds in multi-class classification to adjust the probability of predicting each class. Array must have length equal to the number of classes, with values > 0, excepting that at most one value may be 0. The class with largest value p/t is predicted, where p is the original probability of that class and t is the class's threshold. (undefined)\n",
            "tol: the convergence tolerance for iterative algorithms (>= 0). (default: 1e-06)\n",
            "upperBoundsOnCoefficients: The upper bounds on coefficients if fitting under bound constrained optimization. The bound matrix must be compatible with the shape (1, number of features) for binomial regression, or (number of classes, number of features) for multinomial regression. (undefined)\n",
            "upperBoundsOnIntercepts: The upper bounds on intercepts if fitting under bound constrained optimization. The bound vector size must be equal with 1 for binomial regression, or the number of classes for multinomial regression. (undefined)\n",
            "weightCol: weight column name. If this is not set or empty, we treat all instance weights as 1.0. (undefined)\n"
          ]
        }
      ],
      "source": [
        "print(lr.explainParams())"
      ]
    },
    {
      "cell_type": "markdown",
      "metadata": {
        "id": "eEZSt8qMRUi2"
      },
      "source": [
        "Upon instantiating an untrained algorithm, it becomes time to fit it to data. In this case, this\n",
        "returns a LogisticRegressionModel:"
      ]
    },
    {
      "cell_type": "code",
      "execution_count": 11,
      "metadata": {
        "id": "EagD2Au5RUi2"
      },
      "outputs": [],
      "source": [
        "fittedLR = lr.fit(train)"
      ]
    },
    {
      "cell_type": "markdown",
      "metadata": {
        "id": "HiDSejUWRUi2"
      },
      "source": [
        "This code will kick off a Spark job to train the model. As opposed to the transformations that you\n",
        "saw throughout the book, the fitting of a machine learning model is eager and performed\n",
        "immediately.\n",
        "\n",
        "Once complete, you can use the model to make predictions. Logically this means tranforming\n",
        "features into labels. We make predictions with the transform method. For example, we can\n",
        "transform our training dataset to see what labels our model assigned to the training data and how\n",
        "those compare to the true outputs. This, again, is just another DataFrame we can manipulate.\n",
        "Let’s perform that prediction with the following code snippet:"
      ]
    },
    {
      "cell_type": "code",
      "execution_count": 12,
      "metadata": {
        "colab": {
          "base_uri": "https://localhost:8080/"
        },
        "id": "aYuOkBUwRUi2",
        "outputId": "7289c4b2-a86d-41d5-8197-e3e5befcb2a0"
      },
      "outputs": [
        {
          "output_type": "stream",
          "name": "stdout",
          "text": [
            "+-----+----------+\n",
            "|label|prediction|\n",
            "+-----+----------+\n",
            "|  0.0|       0.0|\n",
            "|  0.0|       0.0|\n",
            "|  0.0|       0.0|\n",
            "|  0.0|       0.0|\n",
            "|  0.0|       0.0|\n",
            "|  0.0|       0.0|\n",
            "|  0.0|       0.0|\n",
            "|  0.0|       0.0|\n",
            "|  0.0|       0.0|\n",
            "|  0.0|       0.0|\n",
            "|  0.0|       0.0|\n",
            "|  0.0|       0.0|\n",
            "|  0.0|       0.0|\n",
            "|  0.0|       0.0|\n",
            "|  0.0|       0.0|\n",
            "|  0.0|       0.0|\n",
            "|  0.0|       0.0|\n",
            "|  0.0|       0.0|\n",
            "|  0.0|       0.0|\n",
            "|  0.0|       0.0|\n",
            "+-----+----------+\n",
            "only showing top 20 rows\n",
            "\n"
          ]
        }
      ],
      "source": [
        "fittedLR.transform(train).select(\"label\", \"prediction\").show()"
      ]
    },
    {
      "cell_type": "markdown",
      "metadata": {
        "id": "mrsCZrSCRUi3"
      },
      "source": [
        "## A REVIEW OF HYPERPARAMETERS\n",
        "Although we mentioned them previously, let’s more formally define hyperparameters.\n",
        "Hyperparameters are configuration parameters that affect the training process, such as model\n",
        "architecture and regularization. They are set prior to starting training. For instance, logistic\n",
        "regression has a hyperparameter that determines how much regularization should be\n",
        "performed on our data through the training phase (regularization is a technique that pushes\n",
        "models against overfitting data). You’ll see in the next couple of pages that we can set up our\n",
        "pipeline to try different hyperparameter values (e.g., different regularization values) in order\n",
        "to compare different variations of the same model against one another.\n",
        "\n",
        "## Pipelining Our Workflow\n",
        "As you probably noticed, if you are performing a lot of transformations, writing all the steps and\n",
        "keeping track of DataFrames ends up being quite tedious. That’s why Spark includes the\n",
        "Pipeline concept. A pipeline allows you to set up a dataflow of the relevant transformations\n",
        "that ends with an estimator that is automatically tuned according to your specifications, resulting\n",
        "in a tuned model ready for use. Figure 24-4 illustrates this process.\n",
        "![image.png](attachment:image.png)\n",
        "\n",
        "Note that it is essential that instances of transformers or models are not reused across different\n",
        "pipelines. Always create a new instance of a model before creating another pipeline.\n",
        "\n",
        "In order to make sure we don’t overfit, we are going to create a holdout test set and tune our\n",
        "hyperparameters based on a validation set (note that we create this validation set based on the\n",
        "original dataset, not the preparedDF used in the previous pages):"
      ]
    },
    {
      "cell_type": "code",
      "execution_count": 13,
      "metadata": {
        "id": "1DG0CWUSRUi3"
      },
      "outputs": [],
      "source": [
        "train, test = df.randomSplit([0.7, 0.3])"
      ]
    },
    {
      "cell_type": "markdown",
      "metadata": {
        "id": "x33hJEyLRUi3"
      },
      "source": [
        "Now that you have a holdout set, let’s create the base stages in our pipeline. A stage simply\n",
        "represents a transformer or an estimator. In our case, we will have two estimators. The RFomula\n",
        "will first analyze our data to understand the types of input features and then transform them to\n",
        "create new features. Subsequently, the LogisticRegression object is the algorithm that we will\n",
        "train to produce a model:"
      ]
    },
    {
      "cell_type": "code",
      "execution_count": 14,
      "metadata": {
        "id": "NjDECevLRUi3"
      },
      "outputs": [],
      "source": [
        "rForm = RFormula()\n",
        "lr = LogisticRegression().setLabelCol(\"label\").setFeaturesCol(\"features\")"
      ]
    },
    {
      "cell_type": "markdown",
      "metadata": {
        "id": "YwuLi_2pRUi3"
      },
      "source": [
        "We will set the potential values for the RFormula in the next section. Now instead of manually\n",
        "using our transformations and then tuning our model we just make them stages in the overall\n",
        "pipeline, as in the following code snippet:"
      ]
    },
    {
      "cell_type": "code",
      "execution_count": 15,
      "metadata": {
        "id": "0DCrhpdSRUi3"
      },
      "outputs": [],
      "source": [
        "from pyspark.ml import Pipeline\n",
        "stages = [rForm, lr]\n",
        "pipeline = Pipeline().setStages(stages)"
      ]
    },
    {
      "cell_type": "markdown",
      "metadata": {
        "id": "cAc08xjORUi3"
      },
      "source": [
        "## Training and Evaluation\n",
        "Now that you arranged the logical pipeline, the next step is training. In our case, we won’t train\n",
        "just one model (like we did previously); we will train several variations of the model by\n",
        "specifying different combinations of hyperparameters that we would like Spark to test. We will\n",
        "then select the best model using an Evaluator that compares their predictions on our validation\n",
        "data. We can test different hyperparameters in the entire pipeline, even in the RFormula that we\n",
        "use to manipulate the raw data. This code shows how we go about doing that:"
      ]
    },
    {
      "cell_type": "code",
      "execution_count": 16,
      "metadata": {
        "id": "NmcqqJKLRUi3"
      },
      "outputs": [],
      "source": [
        "from pyspark.ml.tuning import ParamGridBuilder\n",
        "params = ParamGridBuilder()\\\n",
        ".addGrid(rForm.formula, [\n",
        "\"lab ~ . + color:value1\",\n",
        "\"lab ~ . + color:value1 + color:value2\"])\\\n",
        ".addGrid(lr.elasticNetParam, [0.0, 0.5, 1.0])\\\n",
        ".addGrid(lr.regParam, [0.1, 2.0])\\\n",
        ".build()"
      ]
    },
    {
      "cell_type": "markdown",
      "metadata": {
        "id": "F3bMT6MJRUi3"
      },
      "source": [
        "In our current paramter grid, there are three hyperparameters that will diverge from the defaults:\n",
        "1. Two different versions of the RFormula\n",
        "2. Three different options for the ElasticNet parameter\n",
        "3. Two different options for the regularization parameter\n",
        "\n",
        "This gives us a total of 12 different combinations of these parameters, which means we will be\n",
        "training 12 different versions of logistic regression.\n",
        "\n",
        "Now that the grid is built, it’s time to specify our evaluation process. The evaluator allows us to\n",
        "automatically and objectively compare multiple models to the same evaluation metric. There are\n",
        "evaluators for classification and regression, covered in later chapters, but in this case we will use\n",
        "the BinaryClassificationEvaluator, which has a number of potential evaluation metrics, as\n",
        "we’ll discuss in Chapter 26. In this case we will use areaUnderROC, which is the total area under\n",
        "the receiver operating characteristic, a common measure of classification performance:"
      ]
    },
    {
      "cell_type": "code",
      "execution_count": 17,
      "metadata": {
        "id": "mKk2DblTRUi3"
      },
      "outputs": [],
      "source": [
        "from pyspark.ml.evaluation import BinaryClassificationEvaluator\n",
        "evaluator = BinaryClassificationEvaluator()\\\n",
        ".setMetricName(\"areaUnderROC\")\\\n",
        ".setRawPredictionCol(\"prediction\")\\\n",
        ".setLabelCol(\"label\")"
      ]
    },
    {
      "cell_type": "markdown",
      "metadata": {
        "id": "c73MtygZRUi3"
      },
      "source": [
        "Now that we have a pipeline that specifies how our data should be transformed, we will perform\n",
        "model selection to try out different hyperparameters in our logistic regression model and\n",
        "measure success by comparing their performance using the areaUnderROC metric.\n",
        "\n",
        "As we discussed, it is a best practice in machine learning to fit hyperparameters on a validation\n",
        "set (instead of your test set) to prevent overfitting. For this reason, we cannot use our holdout test\n",
        "set (that we created before) to tune these parameters. Luckily, Spark provides two options for\n",
        "performing hyperparameter tuning automatically. We can use TrainValidationSplit, which\n",
        "will simply perform an arbitrary random split of our data into two different groups, or\n",
        "CrossValidator, which performs K-fold cross-validation by splitting the dataset into k nonoverlapping,\n",
        "randomly partitioned folds:"
      ]
    },
    {
      "cell_type": "code",
      "execution_count": 18,
      "metadata": {
        "id": "HLz04BjGRUi4"
      },
      "outputs": [],
      "source": [
        "from pyspark.ml.tuning import TrainValidationSplit\n",
        "tvs = TrainValidationSplit()\\\n",
        ".setTrainRatio(0.75)\\\n",
        ".setEstimatorParamMaps(params)\\\n",
        ".setEstimator(pipeline)\\\n",
        ".setEvaluator(evaluator)"
      ]
    },
    {
      "cell_type": "markdown",
      "metadata": {
        "id": "OB26SDGwRUi4"
      },
      "source": [
        "Let’s run the entire pipeline we constructed. To review, running this pipeline will test out every\n",
        "version of the model against the validation set. Note the type of tvsFitted is\n",
        "TrainValidationSplitModel. Any time we fit a given model, it outputs a “model” type:"
      ]
    },
    {
      "cell_type": "code",
      "execution_count": 19,
      "metadata": {
        "id": "e7-NCWyTRUi5"
      },
      "outputs": [],
      "source": [
        "tvsFitted = tvs.fit(train)"
      ]
    },
    {
      "cell_type": "markdown",
      "metadata": {
        "id": "vwe68KdZRUi5"
      },
      "source": [
        "And of course evaluate how it performs on the test set!"
      ]
    },
    {
      "cell_type": "code",
      "execution_count": 20,
      "metadata": {
        "colab": {
          "base_uri": "https://localhost:8080/"
        },
        "id": "DeEkvQpNRUi5",
        "outputId": "4b443c11-a035-48d4-d2d8-b3743695c1ee"
      },
      "outputs": [
        {
          "output_type": "execute_result",
          "data": {
            "text/plain": [
              "0.0"
            ]
          },
          "metadata": {},
          "execution_count": 20
        }
      ],
      "source": [
        "evaluator.evaluate(tvsFitted.transform(test)) // 0.9166666666666667"
      ]
    },
    {
      "cell_type": "markdown",
      "metadata": {
        "id": "AJGsc9TgRUi5"
      },
      "source": [
        "## Persisting and Applying Models\n",
        "Now that we trained this model, we can persist it to disk to use it for prediction purposes later on:"
      ]
    },
    {
      "cell_type": "code",
      "execution_count": 21,
      "metadata": {
        "id": "CNdFp5TiRUi5"
      },
      "outputs": [],
      "source": [
        "tvsFitted.bestModel.write().overwrite().save(\"/tmp/modelLocation\")"
      ]
    },
    {
      "cell_type": "markdown",
      "metadata": {
        "id": "_guGDu65RUi6"
      },
      "source": [
        "# Conclusion\n",
        "In this chapter we covered the core concepts behind advanced analytics and MLlib. We also\n",
        "showed you how to use them. The next chapter will discuss preprocessing in depth, including\n",
        "Spark’s tools for feature engineering and data cleaning. Then we’ll move into detailed\n",
        "descriptions of each algorithm available in MLlib along with some tools for graph analytics and\n",
        "deep learning."
      ]
    },
    {
      "cell_type": "code",
      "execution_count": 21,
      "metadata": {
        "id": "0lowBuxCRUi6"
      },
      "outputs": [],
      "source": []
    }
  ],
  "metadata": {
    "kernelspec": {
      "display_name": "Python 3",
      "language": "python",
      "name": "python3"
    },
    "language_info": {
      "codemirror_mode": {
        "name": "ipython",
        "version": 3
      },
      "file_extension": ".py",
      "mimetype": "text/x-python",
      "name": "python",
      "nbconvert_exporter": "python",
      "pygments_lexer": "ipython3",
      "version": "3.8.5"
    },
    "colab": {
      "provenance": []
    }
  },
  "nbformat": 4,
  "nbformat_minor": 0
}